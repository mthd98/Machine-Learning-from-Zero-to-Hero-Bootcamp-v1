{
  "cells": [
    {
      "attachments": {},
      "cell_type": "markdown",
      "metadata": {
        "id": "Gv87PyNy4041"
      },
      "source": [
        "# Nerual Machine Translation\n",
        "\n",
        "<!--<badge>--><a href=\"https://colab.research.google.com/github/mthd98/Machine-Learning-from-Zero-to-Hero-Bootcamp-v1/blob/main/Week 09 - Sequence Modeling Applications/2- Neural_Machine_Translation.ipynb\" target=\"_parent\"><img src=\"https://colab.research.google.com/assets/colab-badge.svg\" alt=\"Open In Colab\"/></a><!--</badge>-->\n",
        "\n",
        "\n",
        "\n",
        "Neural machine translation is an approach to machine translation that uses an artificial neural network to predict the likelihood of a sequence of words, typically modeling entire sentences in a single integrated model.\n"
      ]
    },
    {
      "cell_type": "markdown",
      "metadata": {
        "id": "2-Rq-S8n9z1H"
      },
      "source": [
        "# Donwload the Data\n",
        "\n",
        "The data is provided in the form of a csv file, which contains a pairs  of sentences."
      ]
    },
    {
      "cell_type": "code",
      "execution_count": 1,
      "metadata": {
        "id": "wjOcbdhZPy15"
      },
      "outputs": [],
      "source": [
        "\n",
        "!mkdir ~/.kaggle\n",
        "! cp kaggle.json ~/.kaggle/\n",
        "! chmod 600 ~/.kaggle/kaggle.json\n",
        "\n"
      ]
    },
    {
      "cell_type": "code",
      "execution_count": 2,
      "metadata": {
        "colab": {
          "base_uri": "https://localhost:8080/"
        },
        "id": "jNw8LdCRQLV_",
        "outputId": "2b400815-38f1-42eb-cd7b-6542c683c428"
      },
      "outputs": [
        {
          "name": "stdout",
          "output_type": "stream",
          "text": [
            "Downloading englishspanish-translation-dataset.zip to /content\n",
            "\r  0% 0.00/2.72M [00:00<?, ?B/s]\n",
            "\r100% 2.72M/2.72M [00:00<00:00, 88.2MB/s]\n"
          ]
        }
      ],
      "source": [
        "# download data from kaggle\n",
        "!kaggle datasets download -d lonnieqin/englishspanish-translation-dataset"
      ]
    },
    {
      "cell_type": "code",
      "execution_count": 3,
      "metadata": {
        "colab": {
          "base_uri": "https://localhost:8080/"
        },
        "id": "2XP-hXMqRVor",
        "outputId": "58eb6f98-1ed4-4c2f-d8c2-4e385d63ff55"
      },
      "outputs": [
        {
          "name": "stdout",
          "output_type": "stream",
          "text": [
            "Archive:  /content/englishspanish-translation-dataset.zip\n",
            "  inflating: data.csv                \n"
          ]
        }
      ],
      "source": [
        "# unzip the file\n",
        "!unzip /content/englishspanish-translation-dataset.zip"
      ]
    },
    {
      "cell_type": "markdown",
      "metadata": {
        "id": "aDxPyH-J405B"
      },
      "source": [
        "# Import the Python Libraries"
      ]
    },
    {
      "cell_type": "code",
      "execution_count": 4,
      "metadata": {
        "id": "Ykxsvx7FRiCH"
      },
      "outputs": [],
      "source": [
        "import pandas as pd\n",
        "import numpy as np\n",
        "import tensorflow as tf\n",
        "from sklearn import model_selection\n",
        "import re\n",
        "from tqdm import tqdm"
      ]
    },
    {
      "cell_type": "markdown",
      "metadata": {
        "id": "ghygr1IZ405D"
      },
      "source": [
        "# Read & Prepare the Data\n",
        "\n"
      ]
    },
    {
      "cell_type": "markdown",
      "metadata": {
        "id": "6CGwWXM1405E"
      },
      "source": [
        "## Read the CSV File\n"
      ]
    },
    {
      "cell_type": "code",
      "execution_count": 5,
      "metadata": {
        "id": "mUQCVeEbSHI0"
      },
      "outputs": [],
      "source": [
        "data_df = pd.read_csv(\"/content/data.csv\")"
      ]
    },
    {
      "cell_type": "markdown",
      "metadata": {
        "id": "6qFgJs4q405F"
      },
      "source": [
        "The csv file contains the following columns: english and french.\n",
        "\n",
        "* The English column contains the English sentences. \n",
        "\n",
        "* The French column contains the French sentences."
      ]
    },
    {
      "cell_type": "code",
      "execution_count": 6,
      "metadata": {
        "colab": {
          "base_uri": "https://localhost:8080/",
          "height": 423
        },
        "id": "otNpmQXxSMNV",
        "outputId": "b293bb6e-c395-4b3d-a13a-4d8f8a28bf14"
      },
      "outputs": [
        {
          "data": {
            "text/html": [
              "\n",
              "  <div id=\"df-75661b75-c0b4-4973-84dd-4175d93c1f3b\">\n",
              "    <div class=\"colab-df-container\">\n",
              "      <div>\n",
              "<style scoped>\n",
              "    .dataframe tbody tr th:only-of-type {\n",
              "        vertical-align: middle;\n",
              "    }\n",
              "\n",
              "    .dataframe tbody tr th {\n",
              "        vertical-align: top;\n",
              "    }\n",
              "\n",
              "    .dataframe thead th {\n",
              "        text-align: right;\n",
              "    }\n",
              "</style>\n",
              "<table border=\"1\" class=\"dataframe\">\n",
              "  <thead>\n",
              "    <tr style=\"text-align: right;\">\n",
              "      <th></th>\n",
              "      <th>english</th>\n",
              "      <th>spanish</th>\n",
              "    </tr>\n",
              "  </thead>\n",
              "  <tbody>\n",
              "    <tr>\n",
              "      <th>0</th>\n",
              "      <td>Go.</td>\n",
              "      <td>Ve.</td>\n",
              "    </tr>\n",
              "    <tr>\n",
              "      <th>1</th>\n",
              "      <td>Go.</td>\n",
              "      <td>Vete.</td>\n",
              "    </tr>\n",
              "    <tr>\n",
              "      <th>2</th>\n",
              "      <td>Go.</td>\n",
              "      <td>Vaya.</td>\n",
              "    </tr>\n",
              "    <tr>\n",
              "      <th>3</th>\n",
              "      <td>Go.</td>\n",
              "      <td>V\u00e1yase.</td>\n",
              "    </tr>\n",
              "    <tr>\n",
              "      <th>4</th>\n",
              "      <td>Hi.</td>\n",
              "      <td>Hola.</td>\n",
              "    </tr>\n",
              "    <tr>\n",
              "      <th>...</th>\n",
              "      <td>...</td>\n",
              "      <td>...</td>\n",
              "    </tr>\n",
              "    <tr>\n",
              "      <th>118959</th>\n",
              "      <td>There are four main causes of alcohol-related ...</td>\n",
              "      <td>Hay cuatro causas principales de muertes relac...</td>\n",
              "    </tr>\n",
              "    <tr>\n",
              "      <th>118960</th>\n",
              "      <td>There are mothers and fathers who will lie awa...</td>\n",
              "      <td>Hay madres y padres que se quedan despiertos d...</td>\n",
              "    </tr>\n",
              "    <tr>\n",
              "      <th>118961</th>\n",
              "      <td>A carbon footprint is the amount of carbon dio...</td>\n",
              "      <td>Una huella de carbono es la cantidad de contam...</td>\n",
              "    </tr>\n",
              "    <tr>\n",
              "      <th>118962</th>\n",
              "      <td>Since there are usually multiple websites on a...</td>\n",
              "      <td>Como suele haber varias p\u00e1ginas web sobre cual...</td>\n",
              "    </tr>\n",
              "    <tr>\n",
              "      <th>118963</th>\n",
              "      <td>If you want to sound like a native speaker, yo...</td>\n",
              "      <td>Si quieres sonar como un hablante nativo, debe...</td>\n",
              "    </tr>\n",
              "  </tbody>\n",
              "</table>\n",
              "<p>118964 rows \u00d7 2 columns</p>\n",
              "</div>\n",
              "      <button class=\"colab-df-convert\" onclick=\"convertToInteractive('df-75661b75-c0b4-4973-84dd-4175d93c1f3b')\"\n",
              "              title=\"Convert this dataframe to an interactive table.\"\n",
              "              style=\"display:none;\">\n",
              "        \n",
              "  <svg xmlns=\"http://www.w3.org/2000/svg\" height=\"24px\"viewBox=\"0 0 24 24\"\n",
              "       width=\"24px\">\n",
              "    <path d=\"M0 0h24v24H0V0z\" fill=\"none\"/>\n",
              "    <path d=\"M18.56 5.44l.94 2.06.94-2.06 2.06-.94-2.06-.94-.94-2.06-.94 2.06-2.06.94zm-11 1L8.5 8.5l.94-2.06 2.06-.94-2.06-.94L8.5 2.5l-.94 2.06-2.06.94zm10 10l.94 2.06.94-2.06 2.06-.94-2.06-.94-.94-2.06-.94 2.06-2.06.94z\"/><path d=\"M17.41 7.96l-1.37-1.37c-.4-.4-.92-.59-1.43-.59-.52 0-1.04.2-1.43.59L10.3 9.45l-7.72 7.72c-.78.78-.78 2.05 0 2.83L4 21.41c.39.39.9.59 1.41.59.51 0 1.02-.2 1.41-.59l7.78-7.78 2.81-2.81c.8-.78.8-2.07 0-2.86zM5.41 20L4 18.59l7.72-7.72 1.47 1.35L5.41 20z\"/>\n",
              "  </svg>\n",
              "      </button>\n",
              "      \n",
              "  <style>\n",
              "    .colab-df-container {\n",
              "      display:flex;\n",
              "      flex-wrap:wrap;\n",
              "      gap: 12px;\n",
              "    }\n",
              "\n",
              "    .colab-df-convert {\n",
              "      background-color: #E8F0FE;\n",
              "      border: none;\n",
              "      border-radius: 50%;\n",
              "      cursor: pointer;\n",
              "      display: none;\n",
              "      fill: #1967D2;\n",
              "      height: 32px;\n",
              "      padding: 0 0 0 0;\n",
              "      width: 32px;\n",
              "    }\n",
              "\n",
              "    .colab-df-convert:hover {\n",
              "      background-color: #E2EBFA;\n",
              "      box-shadow: 0px 1px 2px rgba(60, 64, 67, 0.3), 0px 1px 3px 1px rgba(60, 64, 67, 0.15);\n",
              "      fill: #174EA6;\n",
              "    }\n",
              "\n",
              "    [theme=dark] .colab-df-convert {\n",
              "      background-color: #3B4455;\n",
              "      fill: #D2E3FC;\n",
              "    }\n",
              "\n",
              "    [theme=dark] .colab-df-convert:hover {\n",
              "      background-color: #434B5C;\n",
              "      box-shadow: 0px 1px 3px 1px rgba(0, 0, 0, 0.15);\n",
              "      filter: drop-shadow(0px 1px 2px rgba(0, 0, 0, 0.3));\n",
              "      fill: #FFFFFF;\n",
              "    }\n",
              "  </style>\n",
              "\n",
              "      <script>\n",
              "        const buttonEl =\n",
              "          document.querySelector('#df-75661b75-c0b4-4973-84dd-4175d93c1f3b button.colab-df-convert');\n",
              "        buttonEl.style.display =\n",
              "          google.colab.kernel.accessAllowed ? 'block' : 'none';\n",
              "\n",
              "        async function convertToInteractive(key) {\n",
              "          const element = document.querySelector('#df-75661b75-c0b4-4973-84dd-4175d93c1f3b');\n",
              "          const dataTable =\n",
              "            await google.colab.kernel.invokeFunction('convertToInteractive',\n",
              "                                                     [key], {});\n",
              "          if (!dataTable) return;\n",
              "\n",
              "          const docLinkHtml = 'Like what you see? Visit the ' +\n",
              "            '<a target=\"_blank\" href=https://colab.research.google.com/notebooks/data_table.ipynb>data table notebook</a>'\n",
              "            + ' to learn more about interactive tables.';\n",
              "          element.innerHTML = '';\n",
              "          dataTable['output_type'] = 'display_data';\n",
              "          await google.colab.output.renderOutput(dataTable, element);\n",
              "          const docLink = document.createElement('div');\n",
              "          docLink.innerHTML = docLinkHtml;\n",
              "          element.appendChild(docLink);\n",
              "        }\n",
              "      </script>\n",
              "    </div>\n",
              "  </div>\n",
              "  "
            ],
            "text/plain": [
              "                                                  english                                            spanish\n",
              "0                                                     Go.                                                Ve.\n",
              "1                                                     Go.                                              Vete.\n",
              "2                                                     Go.                                              Vaya.\n",
              "3                                                     Go.                                            V\u00e1yase.\n",
              "4                                                     Hi.                                              Hola.\n",
              "...                                                   ...                                                ...\n",
              "118959  There are four main causes of alcohol-related ...  Hay cuatro causas principales de muertes relac...\n",
              "118960  There are mothers and fathers who will lie awa...  Hay madres y padres que se quedan despiertos d...\n",
              "118961  A carbon footprint is the amount of carbon dio...  Una huella de carbono es la cantidad de contam...\n",
              "118962  Since there are usually multiple websites on a...  Como suele haber varias p\u00e1ginas web sobre cual...\n",
              "118963  If you want to sound like a native speaker, yo...  Si quieres sonar como un hablante nativo, debe...\n",
              "\n",
              "[118964 rows x 2 columns]"
            ]
          },
          "execution_count": 6,
          "metadata": {},
          "output_type": "execute_result"
        }
      ],
      "source": [
        "data_df"
      ]
    },
    {
      "cell_type": "markdown",
      "metadata": {
        "id": "Rno3tvrv405G"
      },
      "source": [
        "## Prepare the Data\n",
        "Prepare the data by :\n",
        "* Clean the sentences by removing special characters.\n",
        "* Add a start and end token to each sentence.\n",
        "* Tokenize the sentences.\n",
        "* Pad each sentence to a maximum length.\n",
        "* Split the data into training and testing sets."
      ]
    },
    {
      "cell_type": "code",
      "execution_count": 7,
      "metadata": {
        "id": "hziqT4QNSNFB"
      },
      "outputs": [],
      "source": [
        "def clean_text(text):\n",
        "    \"\"\"Make text lowercase, remove text in square brackets,remove links,remove punctuation\n",
        "    and remove words containing numbers.\"\"\"\n",
        "    text = text.lower()\n",
        "    text = re.sub(\"\\[.*?\\]\", \"\", text)\n",
        "    text = re.sub(\"https?://\\S+|www\\.\\S+\", \"\", text)\n",
        "    text = re.sub(\"<.*?>+\", \"\", text)\n",
        "    text = re.sub(\"\\n\", \"\", text)\n",
        "    text = re.sub(r\"[^\\w]\", \" \", text)\n",
        "    text = re.sub(\"\\w*\\d\\w*\", \"\", text)\n",
        "    text = \" \".join(filter(lambda x: x[0] != \"@\", text.split()))\n",
        "    return text\n",
        "\n",
        "\n",
        "data_df.english = data_df.english.map(clean_text)\n",
        "data_df.spanish = data_df.spanish.map(clean_text)"
      ]
    },
    {
      "cell_type": "code",
      "execution_count": 8,
      "metadata": {
        "colab": {
          "base_uri": "https://localhost:8080/",
          "height": 423
        },
        "id": "iuQLUghXULYr",
        "outputId": "e4f5180c-7d99-4fb3-e8c7-2818a3d5c9da"
      },
      "outputs": [
        {
          "data": {
            "text/html": [
              "\n",
              "  <div id=\"df-41903a06-7388-4430-ab03-5bfd6a52734a\">\n",
              "    <div class=\"colab-df-container\">\n",
              "      <div>\n",
              "<style scoped>\n",
              "    .dataframe tbody tr th:only-of-type {\n",
              "        vertical-align: middle;\n",
              "    }\n",
              "\n",
              "    .dataframe tbody tr th {\n",
              "        vertical-align: top;\n",
              "    }\n",
              "\n",
              "    .dataframe thead th {\n",
              "        text-align: right;\n",
              "    }\n",
              "</style>\n",
              "<table border=\"1\" class=\"dataframe\">\n",
              "  <thead>\n",
              "    <tr style=\"text-align: right;\">\n",
              "      <th></th>\n",
              "      <th>english</th>\n",
              "      <th>spanish</th>\n",
              "    </tr>\n",
              "  </thead>\n",
              "  <tbody>\n",
              "    <tr>\n",
              "      <th>0</th>\n",
              "      <td>go</td>\n",
              "      <td>ve</td>\n",
              "    </tr>\n",
              "    <tr>\n",
              "      <th>1</th>\n",
              "      <td>go</td>\n",
              "      <td>vete</td>\n",
              "    </tr>\n",
              "    <tr>\n",
              "      <th>2</th>\n",
              "      <td>go</td>\n",
              "      <td>vaya</td>\n",
              "    </tr>\n",
              "    <tr>\n",
              "      <th>3</th>\n",
              "      <td>go</td>\n",
              "      <td>v\u00e1yase</td>\n",
              "    </tr>\n",
              "    <tr>\n",
              "      <th>4</th>\n",
              "      <td>hi</td>\n",
              "      <td>hola</td>\n",
              "    </tr>\n",
              "    <tr>\n",
              "      <th>...</th>\n",
              "      <td>...</td>\n",
              "      <td>...</td>\n",
              "    </tr>\n",
              "    <tr>\n",
              "      <th>118959</th>\n",
              "      <td>there are four main causes of alcohol related ...</td>\n",
              "      <td>hay cuatro causas principales de muertes relac...</td>\n",
              "    </tr>\n",
              "    <tr>\n",
              "      <th>118960</th>\n",
              "      <td>there are mothers and fathers who will lie awa...</td>\n",
              "      <td>hay madres y padres que se quedan despiertos d...</td>\n",
              "    </tr>\n",
              "    <tr>\n",
              "      <th>118961</th>\n",
              "      <td>a carbon footprint is the amount of carbon dio...</td>\n",
              "      <td>una huella de carbono es la cantidad de contam...</td>\n",
              "    </tr>\n",
              "    <tr>\n",
              "      <th>118962</th>\n",
              "      <td>since there are usually multiple websites on a...</td>\n",
              "      <td>como suele haber varias p\u00e1ginas web sobre cual...</td>\n",
              "    </tr>\n",
              "    <tr>\n",
              "      <th>118963</th>\n",
              "      <td>if you want to sound like a native speaker you...</td>\n",
              "      <td>si quieres sonar como un hablante nativo debes...</td>\n",
              "    </tr>\n",
              "  </tbody>\n",
              "</table>\n",
              "<p>118964 rows \u00d7 2 columns</p>\n",
              "</div>\n",
              "      <button class=\"colab-df-convert\" onclick=\"convertToInteractive('df-41903a06-7388-4430-ab03-5bfd6a52734a')\"\n",
              "              title=\"Convert this dataframe to an interactive table.\"\n",
              "              style=\"display:none;\">\n",
              "        \n",
              "  <svg xmlns=\"http://www.w3.org/2000/svg\" height=\"24px\"viewBox=\"0 0 24 24\"\n",
              "       width=\"24px\">\n",
              "    <path d=\"M0 0h24v24H0V0z\" fill=\"none\"/>\n",
              "    <path d=\"M18.56 5.44l.94 2.06.94-2.06 2.06-.94-2.06-.94-.94-2.06-.94 2.06-2.06.94zm-11 1L8.5 8.5l.94-2.06 2.06-.94-2.06-.94L8.5 2.5l-.94 2.06-2.06.94zm10 10l.94 2.06.94-2.06 2.06-.94-2.06-.94-.94-2.06-.94 2.06-2.06.94z\"/><path d=\"M17.41 7.96l-1.37-1.37c-.4-.4-.92-.59-1.43-.59-.52 0-1.04.2-1.43.59L10.3 9.45l-7.72 7.72c-.78.78-.78 2.05 0 2.83L4 21.41c.39.39.9.59 1.41.59.51 0 1.02-.2 1.41-.59l7.78-7.78 2.81-2.81c.8-.78.8-2.07 0-2.86zM5.41 20L4 18.59l7.72-7.72 1.47 1.35L5.41 20z\"/>\n",
              "  </svg>\n",
              "      </button>\n",
              "      \n",
              "  <style>\n",
              "    .colab-df-container {\n",
              "      display:flex;\n",
              "      flex-wrap:wrap;\n",
              "      gap: 12px;\n",
              "    }\n",
              "\n",
              "    .colab-df-convert {\n",
              "      background-color: #E8F0FE;\n",
              "      border: none;\n",
              "      border-radius: 50%;\n",
              "      cursor: pointer;\n",
              "      display: none;\n",
              "      fill: #1967D2;\n",
              "      height: 32px;\n",
              "      padding: 0 0 0 0;\n",
              "      width: 32px;\n",
              "    }\n",
              "\n",
              "    .colab-df-convert:hover {\n",
              "      background-color: #E2EBFA;\n",
              "      box-shadow: 0px 1px 2px rgba(60, 64, 67, 0.3), 0px 1px 3px 1px rgba(60, 64, 67, 0.15);\n",
              "      fill: #174EA6;\n",
              "    }\n",
              "\n",
              "    [theme=dark] .colab-df-convert {\n",
              "      background-color: #3B4455;\n",
              "      fill: #D2E3FC;\n",
              "    }\n",
              "\n",
              "    [theme=dark] .colab-df-convert:hover {\n",
              "      background-color: #434B5C;\n",
              "      box-shadow: 0px 1px 3px 1px rgba(0, 0, 0, 0.15);\n",
              "      filter: drop-shadow(0px 1px 2px rgba(0, 0, 0, 0.3));\n",
              "      fill: #FFFFFF;\n",
              "    }\n",
              "  </style>\n",
              "\n",
              "      <script>\n",
              "        const buttonEl =\n",
              "          document.querySelector('#df-41903a06-7388-4430-ab03-5bfd6a52734a button.colab-df-convert');\n",
              "        buttonEl.style.display =\n",
              "          google.colab.kernel.accessAllowed ? 'block' : 'none';\n",
              "\n",
              "        async function convertToInteractive(key) {\n",
              "          const element = document.querySelector('#df-41903a06-7388-4430-ab03-5bfd6a52734a');\n",
              "          const dataTable =\n",
              "            await google.colab.kernel.invokeFunction('convertToInteractive',\n",
              "                                                     [key], {});\n",
              "          if (!dataTable) return;\n",
              "\n",
              "          const docLinkHtml = 'Like what you see? Visit the ' +\n",
              "            '<a target=\"_blank\" href=https://colab.research.google.com/notebooks/data_table.ipynb>data table notebook</a>'\n",
              "            + ' to learn more about interactive tables.';\n",
              "          element.innerHTML = '';\n",
              "          dataTable['output_type'] = 'display_data';\n",
              "          await google.colab.output.renderOutput(dataTable, element);\n",
              "          const docLink = document.createElement('div');\n",
              "          docLink.innerHTML = docLinkHtml;\n",
              "          element.appendChild(docLink);\n",
              "        }\n",
              "      </script>\n",
              "    </div>\n",
              "  </div>\n",
              "  "
            ],
            "text/plain": [
              "                                                  english                                            spanish\n",
              "0                                                      go                                                 ve\n",
              "1                                                      go                                               vete\n",
              "2                                                      go                                               vaya\n",
              "3                                                      go                                             v\u00e1yase\n",
              "4                                                      hi                                               hola\n",
              "...                                                   ...                                                ...\n",
              "118959  there are four main causes of alcohol related ...  hay cuatro causas principales de muertes relac...\n",
              "118960  there are mothers and fathers who will lie awa...  hay madres y padres que se quedan despiertos d...\n",
              "118961  a carbon footprint is the amount of carbon dio...  una huella de carbono es la cantidad de contam...\n",
              "118962  since there are usually multiple websites on a...  como suele haber varias p\u00e1ginas web sobre cual...\n",
              "118963  if you want to sound like a native speaker you...  si quieres sonar como un hablante nativo debes...\n",
              "\n",
              "[118964 rows x 2 columns]"
            ]
          },
          "execution_count": 8,
          "metadata": {},
          "output_type": "execute_result"
        }
      ],
      "source": [
        "data_df"
      ]
    },
    {
      "cell_type": "code",
      "execution_count": 9,
      "metadata": {
        "id": "xHnJbIb-UWYy"
      },
      "outputs": [],
      "source": [
        "# add <start> and <end> tokens to the start and end of each sentence\n",
        "def add_start_end(text):\n",
        "    text = f\"<start> {text} <end>\"\n",
        "    return text\n",
        "\n",
        "\n",
        "data_df.spanish = data_df.spanish.map(add_start_end)\n",
        "data_df.english = data_df.english.map(add_start_end)"
      ]
    },
    {
      "cell_type": "code",
      "execution_count": 10,
      "metadata": {
        "colab": {
          "base_uri": "https://localhost:8080/",
          "height": 423
        },
        "id": "7ui081xYVwxm",
        "outputId": "62c30a79-b246-4d90-9d38-caf367efc6d1"
      },
      "outputs": [
        {
          "data": {
            "text/html": [
              "\n",
              "  <div id=\"df-55f9ac7a-da22-4ebf-bd3e-6e5c4f0a0f5c\">\n",
              "    <div class=\"colab-df-container\">\n",
              "      <div>\n",
              "<style scoped>\n",
              "    .dataframe tbody tr th:only-of-type {\n",
              "        vertical-align: middle;\n",
              "    }\n",
              "\n",
              "    .dataframe tbody tr th {\n",
              "        vertical-align: top;\n",
              "    }\n",
              "\n",
              "    .dataframe thead th {\n",
              "        text-align: right;\n",
              "    }\n",
              "</style>\n",
              "<table border=\"1\" class=\"dataframe\">\n",
              "  <thead>\n",
              "    <tr style=\"text-align: right;\">\n",
              "      <th></th>\n",
              "      <th>english</th>\n",
              "      <th>spanish</th>\n",
              "    </tr>\n",
              "  </thead>\n",
              "  <tbody>\n",
              "    <tr>\n",
              "      <th>0</th>\n",
              "      <td>&lt;start&gt; go &lt;end&gt;</td>\n",
              "      <td>&lt;start&gt; ve &lt;end&gt;</td>\n",
              "    </tr>\n",
              "    <tr>\n",
              "      <th>1</th>\n",
              "      <td>&lt;start&gt; go &lt;end&gt;</td>\n",
              "      <td>&lt;start&gt; vete &lt;end&gt;</td>\n",
              "    </tr>\n",
              "    <tr>\n",
              "      <th>2</th>\n",
              "      <td>&lt;start&gt; go &lt;end&gt;</td>\n",
              "      <td>&lt;start&gt; vaya &lt;end&gt;</td>\n",
              "    </tr>\n",
              "    <tr>\n",
              "      <th>3</th>\n",
              "      <td>&lt;start&gt; go &lt;end&gt;</td>\n",
              "      <td>&lt;start&gt; v\u00e1yase &lt;end&gt;</td>\n",
              "    </tr>\n",
              "    <tr>\n",
              "      <th>4</th>\n",
              "      <td>&lt;start&gt; hi &lt;end&gt;</td>\n",
              "      <td>&lt;start&gt; hola &lt;end&gt;</td>\n",
              "    </tr>\n",
              "    <tr>\n",
              "      <th>...</th>\n",
              "      <td>...</td>\n",
              "      <td>...</td>\n",
              "    </tr>\n",
              "    <tr>\n",
              "      <th>118959</th>\n",
              "      <td>&lt;start&gt; there are four main causes of alcohol ...</td>\n",
              "      <td>&lt;start&gt; hay cuatro causas principales de muert...</td>\n",
              "    </tr>\n",
              "    <tr>\n",
              "      <th>118960</th>\n",
              "      <td>&lt;start&gt; there are mothers and fathers who will...</td>\n",
              "      <td>&lt;start&gt; hay madres y padres que se quedan desp...</td>\n",
              "    </tr>\n",
              "    <tr>\n",
              "      <th>118961</th>\n",
              "      <td>&lt;start&gt; a carbon footprint is the amount of ca...</td>\n",
              "      <td>&lt;start&gt; una huella de carbono es la cantidad d...</td>\n",
              "    </tr>\n",
              "    <tr>\n",
              "      <th>118962</th>\n",
              "      <td>&lt;start&gt; since there are usually multiple websi...</td>\n",
              "      <td>&lt;start&gt; como suele haber varias p\u00e1ginas web so...</td>\n",
              "    </tr>\n",
              "    <tr>\n",
              "      <th>118963</th>\n",
              "      <td>&lt;start&gt; if you want to sound like a native spe...</td>\n",
              "      <td>&lt;start&gt; si quieres sonar como un hablante nati...</td>\n",
              "    </tr>\n",
              "  </tbody>\n",
              "</table>\n",
              "<p>118964 rows \u00d7 2 columns</p>\n",
              "</div>\n",
              "      <button class=\"colab-df-convert\" onclick=\"convertToInteractive('df-55f9ac7a-da22-4ebf-bd3e-6e5c4f0a0f5c')\"\n",
              "              title=\"Convert this dataframe to an interactive table.\"\n",
              "              style=\"display:none;\">\n",
              "        \n",
              "  <svg xmlns=\"http://www.w3.org/2000/svg\" height=\"24px\"viewBox=\"0 0 24 24\"\n",
              "       width=\"24px\">\n",
              "    <path d=\"M0 0h24v24H0V0z\" fill=\"none\"/>\n",
              "    <path d=\"M18.56 5.44l.94 2.06.94-2.06 2.06-.94-2.06-.94-.94-2.06-.94 2.06-2.06.94zm-11 1L8.5 8.5l.94-2.06 2.06-.94-2.06-.94L8.5 2.5l-.94 2.06-2.06.94zm10 10l.94 2.06.94-2.06 2.06-.94-2.06-.94-.94-2.06-.94 2.06-2.06.94z\"/><path d=\"M17.41 7.96l-1.37-1.37c-.4-.4-.92-.59-1.43-.59-.52 0-1.04.2-1.43.59L10.3 9.45l-7.72 7.72c-.78.78-.78 2.05 0 2.83L4 21.41c.39.39.9.59 1.41.59.51 0 1.02-.2 1.41-.59l7.78-7.78 2.81-2.81c.8-.78.8-2.07 0-2.86zM5.41 20L4 18.59l7.72-7.72 1.47 1.35L5.41 20z\"/>\n",
              "  </svg>\n",
              "      </button>\n",
              "      \n",
              "  <style>\n",
              "    .colab-df-container {\n",
              "      display:flex;\n",
              "      flex-wrap:wrap;\n",
              "      gap: 12px;\n",
              "    }\n",
              "\n",
              "    .colab-df-convert {\n",
              "      background-color: #E8F0FE;\n",
              "      border: none;\n",
              "      border-radius: 50%;\n",
              "      cursor: pointer;\n",
              "      display: none;\n",
              "      fill: #1967D2;\n",
              "      height: 32px;\n",
              "      padding: 0 0 0 0;\n",
              "      width: 32px;\n",
              "    }\n",
              "\n",
              "    .colab-df-convert:hover {\n",
              "      background-color: #E2EBFA;\n",
              "      box-shadow: 0px 1px 2px rgba(60, 64, 67, 0.3), 0px 1px 3px 1px rgba(60, 64, 67, 0.15);\n",
              "      fill: #174EA6;\n",
              "    }\n",
              "\n",
              "    [theme=dark] .colab-df-convert {\n",
              "      background-color: #3B4455;\n",
              "      fill: #D2E3FC;\n",
              "    }\n",
              "\n",
              "    [theme=dark] .colab-df-convert:hover {\n",
              "      background-color: #434B5C;\n",
              "      box-shadow: 0px 1px 3px 1px rgba(0, 0, 0, 0.15);\n",
              "      filter: drop-shadow(0px 1px 2px rgba(0, 0, 0, 0.3));\n",
              "      fill: #FFFFFF;\n",
              "    }\n",
              "  </style>\n",
              "\n",
              "      <script>\n",
              "        const buttonEl =\n",
              "          document.querySelector('#df-55f9ac7a-da22-4ebf-bd3e-6e5c4f0a0f5c button.colab-df-convert');\n",
              "        buttonEl.style.display =\n",
              "          google.colab.kernel.accessAllowed ? 'block' : 'none';\n",
              "\n",
              "        async function convertToInteractive(key) {\n",
              "          const element = document.querySelector('#df-55f9ac7a-da22-4ebf-bd3e-6e5c4f0a0f5c');\n",
              "          const dataTable =\n",
              "            await google.colab.kernel.invokeFunction('convertToInteractive',\n",
              "                                                     [key], {});\n",
              "          if (!dataTable) return;\n",
              "\n",
              "          const docLinkHtml = 'Like what you see? Visit the ' +\n",
              "            '<a target=\"_blank\" href=https://colab.research.google.com/notebooks/data_table.ipynb>data table notebook</a>'\n",
              "            + ' to learn more about interactive tables.';\n",
              "          element.innerHTML = '';\n",
              "          dataTable['output_type'] = 'display_data';\n",
              "          await google.colab.output.renderOutput(dataTable, element);\n",
              "          const docLink = document.createElement('div');\n",
              "          docLink.innerHTML = docLinkHtml;\n",
              "          element.appendChild(docLink);\n",
              "        }\n",
              "      </script>\n",
              "    </div>\n",
              "  </div>\n",
              "  "
            ],
            "text/plain": [
              "                                                  english                                            spanish\n",
              "0                                        <start> go <end>                                   <start> ve <end>\n",
              "1                                        <start> go <end>                                 <start> vete <end>\n",
              "2                                        <start> go <end>                                 <start> vaya <end>\n",
              "3                                        <start> go <end>                               <start> v\u00e1yase <end>\n",
              "4                                        <start> hi <end>                                 <start> hola <end>\n",
              "...                                                   ...                                                ...\n",
              "118959  <start> there are four main causes of alcohol ...  <start> hay cuatro causas principales de muert...\n",
              "118960  <start> there are mothers and fathers who will...  <start> hay madres y padres que se quedan desp...\n",
              "118961  <start> a carbon footprint is the amount of ca...  <start> una huella de carbono es la cantidad d...\n",
              "118962  <start> since there are usually multiple websi...  <start> como suele haber varias p\u00e1ginas web so...\n",
              "118963  <start> if you want to sound like a native spe...  <start> si quieres sonar como un hablante nati...\n",
              "\n",
              "[118964 rows x 2 columns]"
            ]
          },
          "execution_count": 10,
          "metadata": {},
          "output_type": "execute_result"
        }
      ],
      "source": [
        "data_df"
      ]
    },
    {
      "cell_type": "markdown",
      "metadata": {
        "id": "5BalU0wV405I"
      },
      "source": [
        "## Tokenize the Sentences"
      ]
    },
    {
      "cell_type": "code",
      "execution_count": 11,
      "metadata": {
        "id": "V00Wvz9hv4J8"
      },
      "outputs": [],
      "source": [
        "# Create the sequence & tokenizer for the data\n",
        "def tokenize(lang):\n",
        "    # create a tokenizer object\n",
        "    lang_tokenizer = tf.keras.preprocessing.text.Tokenizer(\n",
        "        oov_token=\"<OOV>\", filters='!\"#$%&()*+,-./:;=?@[\\\\]^_`{|}~\\t\\n'\n",
        "    )  # remove  < and >  from the filter list\n",
        "    # fit the tokenizer on the texts\n",
        "    lang_tokenizer.fit_on_texts(lang)\n",
        "    # tokenize the texts and create a seqence\n",
        "    tensor = lang_tokenizer.texts_to_sequences(lang)\n",
        "    # pad the sequences\n",
        "    tensor = tf.keras.preprocessing.sequence.pad_sequences(tensor, padding=\"post\")\n",
        "    # return the tokenizer and the sequence\n",
        "\n",
        "    return tensor, lang_tokenizer"
      ]
    },
    {
      "cell_type": "code",
      "execution_count": 12,
      "metadata": {
        "id": "a3VoJ-L2RXQc"
      },
      "outputs": [],
      "source": [
        "# create the tokenizer and the sequence for the english language\n",
        "eng_sequence, eng_tokenizer = tokenize(data_df.english)\n",
        "# create the tokenizer and the sequence for the spanish language\n",
        "spn_sequence, spn_tokenizer = tokenize(data_df.spanish)"
      ]
    },
    {
      "cell_type": "code",
      "execution_count": 13,
      "metadata": {
        "id": "SjgcBK6zVghP"
      },
      "outputs": [],
      "source": [
        "# create nesseary variables\n",
        "# the size of the vocabulary for the english language and the spanish language\n",
        "vocab_inp_size = len(eng_tokenizer.word_index) + 1\n",
        "vocab_tar_size = len(spn_tokenizer.word_index) + 1\n",
        "# set the embedding dimension for the english and spanish language\n",
        "embedding_dim = 256\n",
        "# set the hidden units for the encoder and the decoder\n",
        "units = 1024\n",
        "# set the batch size\n",
        "batch_size = 32"
      ]
    },
    {
      "cell_type": "markdown",
      "metadata": {
        "id": "94Jb-6k_405K"
      },
      "source": [
        "## split the data into train and test"
      ]
    },
    {
      "cell_type": "code",
      "execution_count": 14,
      "metadata": {
        "id": "8yMCWq1oRpT8"
      },
      "outputs": [],
      "source": [
        "x_train, x_test, y_train, y_test = model_selection.train_test_split(\n",
        "    eng_sequence, spn_sequence, test_size=0.1\n",
        ")"
      ]
    },
    {
      "cell_type": "code",
      "execution_count": 15,
      "metadata": {
        "colab": {
          "base_uri": "https://localhost:8080/"
        },
        "id": "9iPdNF4nbgRV",
        "outputId": "f3103da8-8585-4a75-a4cc-79245ffb8133"
      },
      "outputs": [
        {
          "data": {
            "text/plain": [
              "(107067, 49)"
            ]
          },
          "execution_count": 15,
          "metadata": {},
          "output_type": "execute_result"
        }
      ],
      "source": [
        "x_train.shape  # get the shape of the training data"
      ]
    },
    {
      "cell_type": "code",
      "execution_count": 16,
      "metadata": {
        "id": "7zz7hjg6SHms"
      },
      "outputs": [],
      "source": [
        "# create converters for the english and spanish language\n",
        "# the converters are used to convert the index to the word\n",
        "def convert(lang, tensor):\n",
        "    for t in tensor:\n",
        "        if t != 0:\n",
        "            print(\"%d ----> %s\" % (t, lang.index_word[t]))"
      ]
    },
    {
      "cell_type": "code",
      "execution_count": 17,
      "metadata": {
        "colab": {
          "base_uri": "https://localhost:8080/"
        },
        "id": "B8l-uROwSp2n",
        "outputId": "fcfcd227-b8be-4fee-a816-c25471fc2d15"
      },
      "outputs": [
        {
          "name": "stdout",
          "output_type": "stream",
          "text": [
            "Input Language; index to word mapping\n",
            "2 ----> <start>\n",
            "33 ----> your\n",
            "350 ----> wife\n",
            "14 ----> s\n",
            "34 ----> on\n",
            "5 ----> the\n",
            "379 ----> phone\n",
            "3 ----> <end>\n",
            "\n",
            "Target Language; index to word mapping\n",
            "2 ----> <start>\n",
            "36 ----> tu\n",
            "432 ----> esposa\n",
            "22 ----> est\u00e1\n",
            "11 ----> en\n",
            "10 ----> el\n",
            "284 ----> tel\u00e9fono\n",
            "3 ----> <end>\n"
          ]
        }
      ],
      "source": [
        "# convert simple english sentence to word\n",
        "print(\"Input Language; index to word mapping\")\n",
        "convert(eng_tokenizer, x_train[0])\n",
        "print()\n",
        "print(\"Target Language; index to word mapping\")\n",
        "convert(spn_tokenizer, y_train[0])"
      ]
    },
    {
      "cell_type": "markdown",
      "metadata": {
        "id": "SOpxDQvD405M"
      },
      "source": [
        "# Create the Data Pipeline for the Model"
      ]
    },
    {
      "cell_type": "code",
      "execution_count": 64,
      "metadata": {
        "id": "29N5EwtMSzT2"
      },
      "outputs": [],
      "source": [
        "# create the data pipeline for the training data\n",
        "def create_data_pipline(x, y, batch_size=32):\n",
        "    data = tf.data.Dataset.from_tensor_slices((x, y))\n",
        "    # shuffle the data\n",
        "    data = data.shuffle(1028)\n",
        "    # batch the data\n",
        "    # set the drop_remainder to true to drop the last batch if the size of it not equal to 32\n",
        "    data = data.batch(batch_size, drop_remainder=True)\n",
        "    # prefetch the data\n",
        "    data = data.prefetch(tf.data.AUTOTUNE)\n",
        "    # return the data\n",
        "    return data\n",
        "\n",
        "\n",
        "# create the data pipeline for the training data\n",
        "train_dataset = create_data_pipline(x_train, y_train)\n",
        "# create the data pipeline for the testing data\n",
        "test_dataset = create_data_pipline(x_test, y_test)"
      ]
    },
    {
      "cell_type": "code",
      "execution_count": 65,
      "metadata": {
        "colab": {
          "base_uri": "https://localhost:8080/"
        },
        "id": "UNLRx67bV-tr",
        "outputId": "3083ddfd-213e-481d-9fa4-2ed090e49d47"
      },
      "outputs": [
        {
          "name": "stdout",
          "output_type": "stream",
          "text": [
            "English:(32, 49)\n",
            "[[   2    4  335 ...    0    0    0]\n",
            " [   2  430   10 ...    0    0    0]\n",
            " [   2    4  391 ...    0    0    0]\n",
            " ...\n",
            " [   2    4  183 ...    0    0    0]\n",
            " [   2   25  163 ...    0    0    0]\n",
            " [   2   26 1898 ...    0    0    0]]\n",
            "Spanish:(32, 51)\n",
            "[[   2 1648 8104 ...    0    0    0]\n",
            " [   2    9  385 ...    0    0    0]\n",
            " [   2 5178 5623 ...    0    0    0]\n",
            " ...\n",
            " [   2  500  274 ...    0    0    0]\n",
            " [   2   27   26 ...    0    0    0]\n",
            " [   2    7   75 ...    0    0    0]]\n"
          ]
        }
      ],
      "source": [
        "# get the first batch of the training data\n",
        "for eng, spn in train_dataset.take(1):\n",
        "    print(f\"English:{eng.shape}\\n{eng}\")\n",
        "\n",
        "    print(f\"Spanish:{spn.shape}\\n{spn}\")\n",
        "    eng_sample = eng\n",
        "    spn_sample = spn"
      ]
    },
    {
      "cell_type": "markdown",
      "metadata": {
        "id": "Nbvwqbci405N"
      },
      "source": [
        "# Create the Seq2Seq Model Architecture"
      ]
    },
    {
      "cell_type": "markdown",
      "metadata": {
        "id": "qmClOrKj405N"
      },
      "source": [
        "Let\u2019s take a look at a simple neural machine translation model that will translate\n",
        "English sentences to Spanish.\n",
        "In short, the English sentences are fed to the encoder, and the decoder outputs the\n",
        "Spanish translations. Note that the Spanish translations are also used as inputs to the\n",
        "decoder, but shifted back by one step. In other words, the decoder is given as input\n",
        "the word that it should have output at the previous step (regardless of what it actually\n",
        "output). For the very first word, it is given the start-of-sequence (`<START>`) token. The\n",
        "decoder is expected to end the sentence with an end-of-sequence (`<END>`) token.\n",
        "\n",
        "Each word is initially represented by its ID (e.g., 288 for the word \u201cmilk\u201d). Next, an\n",
        "embedding layer returns the word embedding. These word embeddings are what is\n",
        "actually fed to the encoder and the decoder."
      ]
    },
    {
      "cell_type": "markdown",
      "metadata": {
        "id": "On1o8dhb405O"
      },
      "source": [
        "![image.png](data:image/png;base64,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)"
      ]
    },
    {
      "cell_type": "markdown",
      "metadata": {
        "id": "Arqjsm1W405V"
      },
      "source": [
        "## Encoder Model"
      ]
    },
    {
      "cell_type": "markdown",
      "metadata": {
        "id": "uhDKEzJ_405V"
      },
      "source": [
        "The encoder is at the feeding end; it understands the sequence and reduces the dimension of the input sequence. The sequence has a fixed size known as the context vector. This context vector acts like input to the decoder, which generates an output sequence when reaching the end token. Hence, you can call these seq2seq models encoder-decoder models."
      ]
    },
    {
      "cell_type": "code",
      "execution_count": 66,
      "metadata": {
        "id": "drhJgAPZU0GD"
      },
      "outputs": [],
      "source": [
        "# Create the encoder model\n",
        "class Encoder(tf.keras.Model):\n",
        "    def __init__(self, vocab_size, embedding_dim, encoder_units, batch_size):\n",
        "        super(Encoder, self).__init__()\n",
        "        #\n",
        "        self.batch_size = batch_size\n",
        "        self.encoder_units = encoder_units\n",
        "        # create the embedding layer\n",
        "        # mask_zero is set to True to ignore the zero padding\n",
        "        self.embedding = tf.keras.layers.Embedding(\n",
        "            vocab_size, embedding_dim, mask_zero=True\n",
        "        )\n",
        "        # create the GRU layer and return the sequences and the state\n",
        "        self.gru = tf.keras.layers.GRU(\n",
        "            self.encoder_units,\n",
        "            return_sequences=True,\n",
        "            return_state=True,\n",
        "            recurrent_initializer=\"glorot_uniform\",\n",
        "        )\n",
        "\n",
        "    def call(self, x, hidden):\n",
        "        # pass the input through the embedding layer\n",
        "        x = self.embedding(x)\n",
        "        # pass the input through the GRU layer and return the sequences and the state\n",
        "        # for this application there is no need to the ouptut of the GRU layer\n",
        "        # the state shape of the GRU layer is (batch_size, encoder_units)\n",
        "        # the sequences shape of the GRU layer is (batch_size, max_length, encoder_units)\n",
        "        output, state = self.gru(x, initial_state=hidden)\n",
        "\n",
        "        # return the output and the state\n",
        "        return output, state\n",
        "\n",
        "    # initialize the hidden state\n",
        "    def initialize_hidden_state(self):\n",
        "        # create a tensor of zeros of shape [batch_size, encoder_units]\n",
        "        return tf.zeros((self.batch_size, self.encoder_units))"
      ]
    },
    {
      "cell_type": "markdown",
      "metadata": {
        "id": "oe9sPtP5405W"
      },
      "source": [
        "## Decoder Model"
      ]
    },
    {
      "cell_type": "markdown",
      "metadata": {
        "id": "Dpnm8-ym405W"
      },
      "source": [
        "If you use GRU for the encoder, use the same for the decoder. But it's slightly more complex than the encoder network. You can say the decoder is in an \"aware state.\" It knows what words you have generated so far and what the previous hidden state was. \n",
        "\n",
        "The first layer of the decoder is initialized by using the context vector 'C' from the encoder network to generate the output. \n",
        "\n",
        "Then a special token is applied at the start to indicate the output generation. It applies a similar token at the end. The first output word is generated by running the stacked GRU layers. A SoftMax activation function applies to the last layer. \n",
        "\n",
        "Its job is to introduce non-linearity in the network. \n",
        "\n",
        "Now this word is passed through the remaining layers and the generation sequence is repeated.\n",
        "\n"
      ]
    },
    {
      "cell_type": "code",
      "execution_count": 67,
      "metadata": {
        "id": "q3gLCtcbWGO7"
      },
      "outputs": [],
      "source": [
        "# Create the decoder model\n",
        "class Decoder(tf.keras.Model):\n",
        "    def __init__(self, vocab_size, embedding_dim, decoder_units, batch_size):\n",
        "        super(Decoder, self).__init__()\n",
        "        self.batch_size = batch_size\n",
        "        self.decoder_units = decoder_units\n",
        "        # create the embedding layer\n",
        "        # mask_zero is set to True to ignore the zero padding\n",
        "        self.embedding = tf.keras.layers.Embedding(\n",
        "            vocab_size, embedding_dim, mask_zero=True\n",
        "        )\n",
        "        # create the GRU layer and return the sequences and the state\n",
        "        self.gru = tf.keras.layers.GRU(\n",
        "            self.decoder_units,\n",
        "            return_sequences=True,\n",
        "            return_state=True,\n",
        "            recurrent_initializer=\"glorot_uniform\",\n",
        "        )\n",
        "        # create the dense layer to map the output of the GRU layer to the vocabulary size\n",
        "        self.fc = tf.keras.layers.Dense(vocab_size)\n",
        "\n",
        "    def call(self, x, hidden):\n",
        "\n",
        "        # pass the input through the embedding layer\n",
        "        x = self.embedding(x)\n",
        "\n",
        "        # passing the input to the GRU with the previous hidden state as the initial state.\n",
        "        # the shape of the output of the GRU layer is (batch_size, max_length, decoder_units)\n",
        "        # the shape of the state is (batch_size, decoder_units)\n",
        "        # the shape of hidden is (batch_size, decoder_units)\n",
        "        output, hidden = self.gru(x, hidden)\n",
        "\n",
        "        # output shape == (batch_size * 1, hidden_size)\n",
        "        output = tf.reshape(output, (-1, output.shape[2]))\n",
        "\n",
        "        # output shape == (batch_size, vocab)\n",
        "        x = tf.nn.softmax(self.fc(output))\n",
        "\n",
        "        return x, hidden"
      ]
    },
    {
      "cell_type": "markdown",
      "metadata": {
        "id": "Pwvz4Btu405W"
      },
      "source": [
        "## Test the Encoder and Decoder Models"
      ]
    },
    {
      "cell_type": "code",
      "execution_count": 68,
      "metadata": {
        "colab": {
          "base_uri": "https://localhost:8080/"
        },
        "id": "6FUvD-I0VWuy",
        "outputId": "1407f14f-708e-4a28-84c5-4fe601bda601"
      },
      "outputs": [
        {
          "name": "stdout",
          "output_type": "stream",
          "text": [
            "Encoder output shape: (batch size, sequence length, units) (32, 49, 1024)\n",
            "Encoder Hidden state shape: (batch size, units) (32, 1024)\n"
          ]
        }
      ],
      "source": [
        "encoder = Encoder(vocab_inp_size, embedding_dim, units, batch_size)\n",
        "\n",
        "# sample input\n",
        "# inilize the hidden state with zeros\n",
        "# the shape of hidden is (batch_size, units)\n",
        "sample_hidden = encoder.initialize_hidden_state()\n",
        "sample_output, sample_hidden = encoder(eng, sample_hidden)\n",
        "print(\n",
        "    \"Encoder output shape: (batch size, sequence length, units) {}\".format(\n",
        "        sample_output.shape\n",
        "    )\n",
        ")\n",
        "print(\"Encoder Hidden state shape: (batch size, units) {}\".format(sample_hidden.shape))"
      ]
    },
    {
      "cell_type": "code",
      "execution_count": 69,
      "metadata": {
        "colab": {
          "base_uri": "https://localhost:8080/"
        },
        "id": "HD_sHRO1Wj0D",
        "outputId": "4e6824eb-8545-4914-8bc3-828eb68df281"
      },
      "outputs": [
        {
          "name": "stdout",
          "output_type": "stream",
          "text": [
            "Decoder output shape: (batch_size, vocab size) (32, 25768)\n"
          ]
        }
      ],
      "source": [
        "decoder = Decoder(vocab_tar_size, embedding_dim, units, batch_size)\n",
        "# the shape of sample hidden is (batch_size, units)\n",
        "sample_decoder_output, _ = decoder(tf.random.uniform((batch_size, 1)), sample_hidden)\n",
        "\n",
        "print(\n",
        "    \"Decoder output shape: (batch_size, vocab size) {}\".format(\n",
        "        sample_decoder_output.shape\n",
        "    )\n",
        ")"
      ]
    },
    {
      "cell_type": "markdown",
      "metadata": {
        "id": "Q6YKrJYz405Y"
      },
      "source": [
        "# Create the Optimizer and the Loss Function"
      ]
    },
    {
      "cell_type": "code",
      "execution_count": 70,
      "metadata": {
        "id": "rlfT6lw3WsaE"
      },
      "outputs": [],
      "source": [
        "# create the optimizer using the Adam optimizer\n",
        "optimizer = tf.keras.optimizers.Adam()\n",
        "# create the loss function\n",
        "loss_object = tf.keras.losses.SparseCategoricalCrossentropy(\n",
        "    from_logits=False, reduction=\"none\"\n",
        ")\n",
        "\n",
        "# define the loss function for the training\n",
        "def loss_function(real, pred):\n",
        "    # create the mask to ignore the padding tokens\n",
        "    mask = tf.math.logical_not(tf.math.equal(real, 0))\n",
        "    # mask shape == (batch_size, sequence_length)\n",
        "    # calculate the loss\n",
        "    loss_ = loss_object(real, pred)\n",
        "    # mask the loss\n",
        "    # how the mask works:\n",
        "    # if the value is 1, the loss is calculated\n",
        "    # if the value is 0, the loss is ignored\n",
        "    # [1,1,1,1,1,1,0,0,0,0,0] mask\n",
        "    # *\n",
        "    # [2,6,2,1,6,3,2,1,5,7,9] input\n",
        "    # =\n",
        "    # [2,6,2,1,6,3,0,0,0,0,0] output\n",
        "    mask = tf.cast(mask, dtype=loss_.dtype)\n",
        "    # mask shape == (batch_size, sequence_length)\n",
        "\n",
        "    loss_ *= mask\n",
        "    # calculate the average loss per batch\n",
        "    return tf.reduce_mean(loss_)"
      ]
    },
    {
      "cell_type": "code",
      "execution_count": 71,
      "metadata": {
        "id": "882rNCsP405Z"
      },
      "outputs": [],
      "source": [
        "# create the training metric\n",
        "train_loss = tf.metrics.Mean(name=\"train loss\")\n",
        "# create the testing metric\n",
        "test_loss = tf.metrics.Mean(name=\"test loss\")"
      ]
    },
    {
      "cell_type": "markdown",
      "metadata": {
        "id": "39NpAImO405Z"
      },
      "source": [
        "# Create the Training Step "
      ]
    },
    {
      "cell_type": "markdown",
      "metadata": {
        "id": "xOX7TeNN405a"
      },
      "source": [
        "## Computing Gradients Using Autodiff\n",
        "\n"
      ]
    },
    {
      "cell_type": "markdown",
      "metadata": {
        "id": "qR91XUHR405a"
      },
      "source": [
        "[Automatic differentiation](https://en.wikipedia.org/wiki/Automatic_differentiation) is useful for implementing machine learning algorithms such as backpropagation for training neural networks.\n",
        "\n",
        "In this guide, you will explore ways to compute gradients with TensorFlow, especially in eager execution.\n"
      ]
    },
    {
      "cell_type": "markdown",
      "metadata": {
        "id": "4-xO5nzr405a"
      },
      "source": [
        "To in inderstand how to compute gradients with TensorFlow, you need to understand the automatic differentiation process.\n",
        "for example, if you have a function f(x) and you want to compute the gradient of f(x), you can use the following code:\n",
        "\n"
      ]
    },
    {
      "cell_type": "code",
      "execution_count": 72,
      "metadata": {
        "colab": {
          "base_uri": "https://localhost:8080/"
        },
        "id": "Z3WYf37N405a",
        "outputId": "f99a85bb-e2b8-4668-e1f8-36bdf1a1346d"
      },
      "outputs": [
        {
          "name": "stdout",
          "output_type": "stream",
          "text": [
            "105.0\n"
          ]
        }
      ],
      "source": [
        "def f(w1, w2):\n",
        "\n",
        "    return 3.0 * w1**2.0 + 2.0 * w1 * w2\n",
        "\n",
        "\n",
        "z = f(5, 3)\n",
        "print(z)"
      ]
    },
    {
      "cell_type": "markdown",
      "metadata": {
        "id": "ZPiLzYjX405b"
      },
      "source": [
        "\n",
        "If you know calculus, you can analytically find that the partial derivative of this function with regard to `w1` is` 6 * w1 + 2 * w2`. \n",
        "You can also find that its partial derivative with regard to `w2` is `2 * w1`.\n",
        "\n",
        "For example, at the point `(w1, w2) = (5, 3)`, these partial derivatives are equal to `36` and `10`, respectively, so the gradient vector at this point is `(36, 10)`. \n",
        "But if this were a neural network, the function would be much more complex, typically with tens of thousands of parameters, and finding the partial derivatives analytically by hand would be an almost impossible task. \n",
        "\n",
        "TensorFlow provides a way to compute the partial derivatives of a function with regard to its parameters automatically.\n",
        "TensorFlow makes this pretty simple by using the [GradientTape](https://www.tensorflow.org/guide/autodiff) class.\n",
        "\n",
        "Fro example, if you have a function `f(x)` and you want to compute the gradient of `f(x)`, you can use the following code:\n",
        "\n"
      ]
    },
    {
      "cell_type": "code",
      "execution_count": 73,
      "metadata": {
        "id": "OwEpSwry405b"
      },
      "outputs": [],
      "source": [
        "# create two trainble variables using tf.Variable\n",
        "w1, w2 = tf.Variable(5.0), tf.Variable(3.0)\n",
        "with tf.GradientTape() as tape:\n",
        "    z = f(w1, w2)\n",
        "\n",
        "gradients = tape.gradient(z, [w1, w2])"
      ]
    },
    {
      "cell_type": "markdown",
      "metadata": {
        "id": "Y1BLNDN3405b"
      },
      "source": [
        "We first define two variables `w1` and `w2`, then we create a `tf.GradientTape` context\n",
        "that will automatically record every operation that involves a variable, and finally we\n",
        "ask this tape to compute the gradients of the result `z` with regard to both variables\n",
        "`[w1, w2]`. Let\u2019s take a look at the gradients that TensorFlow computed:"
      ]
    },
    {
      "cell_type": "code",
      "execution_count": 74,
      "metadata": {
        "colab": {
          "base_uri": "https://localhost:8080/"
        },
        "id": "9l8bPAg_405c",
        "outputId": "7fa4300c-9f20-4965-bd4a-7109cb16b83e"
      },
      "outputs": [
        {
          "name": "stdout",
          "output_type": "stream",
          "text": [
            "[<tf.Tensor: shape=(), dtype=float32, numpy=36.0>, <tf.Tensor: shape=(), dtype=float32, numpy=10.0>]\n"
          ]
        }
      ],
      "source": [
        "print(gradients)"
      ]
    },
    {
      "cell_type": "markdown",
      "metadata": {
        "id": "m7PGaRUt405c"
      },
      "source": [
        "Perfect! Not only is the result accurate (the precision is only limited by the floating point errors), but the `gradient()` method only goes through the recorded computations once (in reverse order), no matter how many variables there are, so it is\n",
        "incredibly efficient. It\u2019s like magic!"
      ]
    },
    {
      "cell_type": "markdown",
      "metadata": {
        "id": "jTY63DIH405c"
      },
      "source": [
        "The tape is automatically erased immediately after you call its `gradient()` method, so\n",
        "you will get an exception if you try to call `gradient()` twice:"
      ]
    },
    {
      "cell_type": "code",
      "execution_count": 75,
      "metadata": {
        "colab": {
          "base_uri": "https://localhost:8080/",
          "height": 338
        },
        "id": "SYpXWP0I405d",
        "outputId": "5d00c71a-1700-4fae-9637-7708914e5212"
      },
      "outputs": [
        {
          "ename": "RuntimeError",
          "evalue": "ignored",
          "output_type": "error",
          "traceback": [
            "\u001b[0;31m---------------------------------------------------------------------------\u001b[0m",
            "\u001b[0;31mRuntimeError\u001b[0m                              Traceback (most recent call last)",
            "\u001b[0;32m<ipython-input-75-6d7bacb6e769>\u001b[0m in \u001b[0;36m<module>\u001b[0;34m()\u001b[0m\n\u001b[1;32m      2\u001b[0m     \u001b[0mz\u001b[0m \u001b[0;34m=\u001b[0m \u001b[0mf\u001b[0m\u001b[0;34m(\u001b[0m\u001b[0mw1\u001b[0m\u001b[0;34m,\u001b[0m \u001b[0mw2\u001b[0m\u001b[0;34m)\u001b[0m\u001b[0;34m\u001b[0m\u001b[0;34m\u001b[0m\u001b[0m\n\u001b[1;32m      3\u001b[0m \u001b[0mdz_dw1\u001b[0m \u001b[0;34m=\u001b[0m \u001b[0mtape\u001b[0m\u001b[0;34m.\u001b[0m\u001b[0mgradient\u001b[0m\u001b[0;34m(\u001b[0m\u001b[0mz\u001b[0m\u001b[0;34m,\u001b[0m \u001b[0mw1\u001b[0m\u001b[0;34m)\u001b[0m \u001b[0;31m# => tensor 36.0\u001b[0m\u001b[0;34m\u001b[0m\u001b[0;34m\u001b[0m\u001b[0m\n\u001b[0;32m----> 4\u001b[0;31m \u001b[0mdz_dw2\u001b[0m \u001b[0;34m=\u001b[0m \u001b[0mtape\u001b[0m\u001b[0;34m.\u001b[0m\u001b[0mgradient\u001b[0m\u001b[0;34m(\u001b[0m\u001b[0mz\u001b[0m\u001b[0;34m,\u001b[0m \u001b[0mw2\u001b[0m\u001b[0;34m)\u001b[0m \u001b[0;31m# RuntimeError!\u001b[0m\u001b[0;34m\u001b[0m\u001b[0;34m\u001b[0m\u001b[0m\n\u001b[0m",
            "\u001b[0;32m/usr/local/lib/python3.7/dist-packages/tensorflow/python/eager/backprop.py\u001b[0m in \u001b[0;36mgradient\u001b[0;34m(self, target, sources, output_gradients, unconnected_gradients)\u001b[0m\n\u001b[1;32m   1027\u001b[0m     \"\"\"\n\u001b[1;32m   1028\u001b[0m     \u001b[0;32mif\u001b[0m \u001b[0mself\u001b[0m\u001b[0;34m.\u001b[0m\u001b[0m_tape\u001b[0m \u001b[0;32mis\u001b[0m \u001b[0;32mNone\u001b[0m\u001b[0;34m:\u001b[0m\u001b[0;34m\u001b[0m\u001b[0;34m\u001b[0m\u001b[0m\n\u001b[0;32m-> 1029\u001b[0;31m       raise RuntimeError(\"A non-persistent GradientTape can only be used to \"\n\u001b[0m\u001b[1;32m   1030\u001b[0m                          \"compute one set of gradients (or jacobians)\")\n\u001b[1;32m   1031\u001b[0m     \u001b[0;32mif\u001b[0m \u001b[0mself\u001b[0m\u001b[0;34m.\u001b[0m\u001b[0m_recording\u001b[0m\u001b[0;34m:\u001b[0m\u001b[0;34m\u001b[0m\u001b[0;34m\u001b[0m\u001b[0m\n",
            "\u001b[0;31mRuntimeError\u001b[0m: A non-persistent GradientTape can only be used to compute one set of gradients (or jacobians)"
          ]
        }
      ],
      "source": [
        "with tf.GradientTape() as tape:\n",
        "    z = f(w1, w2)\n",
        "dz_dw1 = tape.gradient(z, w1)  # => tensor 36.0\n",
        "dz_dw2 = tape.gradient(z, w2)  # RuntimeError!"
      ]
    },
    {
      "cell_type": "markdown",
      "metadata": {
        "id": "YMZbjD6Z405d"
      },
      "source": [
        "If you need to call `gradient()` more than once, you must make the tape `persistent`\n",
        "and delete it each time you are done with it to free resources:"
      ]
    },
    {
      "cell_type": "code",
      "execution_count": 76,
      "metadata": {
        "colab": {
          "base_uri": "https://localhost:8080/"
        },
        "id": "9N1xd2gO405d",
        "outputId": "9d13292b-ede2-4999-8418-a486b40a8519"
      },
      "outputs": [
        {
          "name": "stdout",
          "output_type": "stream",
          "text": [
            "tf.Tensor(36.0, shape=(), dtype=float32)\n",
            "tf.Tensor(10.0, shape=(), dtype=float32)\n"
          ]
        }
      ],
      "source": [
        "with tf.GradientTape(persistent=True) as tape:\n",
        "    z = f(w1, w2)\n",
        "dz_dw1 = tape.gradient(z, w1)  # => tensor 36.0\n",
        "dz_dw2 = tape.gradient(z, w2)  # => tensor 10.0\n",
        "print(dz_dw1)\n",
        "print(dz_dw2)"
      ]
    },
    {
      "cell_type": "markdown",
      "metadata": {
        "id": "M8py2n_H405e"
      },
      "source": [
        "Most of the time a gradient tape is used to compute the gradients of a single value\n",
        "(usually the loss) with regard to a set of values (usually the model parameters). This is\n",
        "where reverse-mode autodiff shines, as it just needs to do one forward pass and one\n",
        "reverse pass to get all the gradients at once. If you try to compute the gradients of a\n",
        "vector, for example a vector containing multiple losses, then TensorFlow will compute the gradients of the vector\u2019s sum. "
      ]
    },
    {
      "cell_type": "code",
      "execution_count": 77,
      "metadata": {
        "id": "Q8m_MAujXlvK"
      },
      "outputs": [],
      "source": [
        "# create the training step\n",
        "# using the tf.function decorator to speed up the training process by converting the training function to a TensorFlow graph\n",
        "@tf.function\n",
        "# define the training step\n",
        "def train_step(inputs, target, enc_hidden):\n",
        "    # the encoder_hidden is the initial hidden state of the encoder\n",
        "    # enc_hidden shape == (batch_size, hidden_size)\n",
        "\n",
        "    # inilaize the loss to zero\n",
        "    loss = 0\n",
        "    # create the gradient tape to record the gradient of the loss with respect to the weights\n",
        "\n",
        "    with tf.GradientTape() as tape:\n",
        "        # pass the input to the encoder\n",
        "        # enc_output shape == (batch_size, 49, hidden_size)\n",
        "        # enc_hidden shape == (batch_size, hidden_size)\n",
        "        # using the encoder to get the encoder_output and the encoder_hidden\n",
        "        # using the encoder_hidden as the initial hidden state of the decoder\n",
        "        enc_output, enc_hidden = encoder(inputs, enc_hidden)\n",
        "        # set the initial decoder hidden state to the encoder hidden state\n",
        "        dec_hidden = enc_hidden\n",
        "\n",
        "        # create the start token\n",
        "        # start_token shape == (batch_size, 1)\n",
        "        # repeat the start token for the batch size times\n",
        "        dec_input = tf.expand_dims(\n",
        "            [spn_tokenizer.word_index[\"<start>\"]] * inputs.shape[0], 1\n",
        "        )\n",
        "\n",
        "        # Teacher forcing - feeding the target as the next input\n",
        "\n",
        "        for t in range(1, target.shape[1]):\n",
        "            # passing enc_output to the decoder\n",
        "            predictions, dec_hidden = decoder(dec_input, dec_hidden)\n",
        "            # calculate the loss for the current time step using the loss function\n",
        "            loss += loss_function(target[:, t], predictions)\n",
        "\n",
        "            # using teacher forcing\n",
        "            dec_input = tf.expand_dims(target[:, t], 1)\n",
        "    # calculate the loss for the current batch\n",
        "    batch_loss = loss / int(target.shape[1])\n",
        "\n",
        "    # get the trainable variables\n",
        "    variables = encoder.trainable_variables + decoder.trainable_variables\n",
        "    # calculate the gradients using the tape\n",
        "    gradients = tape.gradient(loss, variables)\n",
        "    # update the trainable variables\n",
        "    optimizer.apply_gradients(zip(gradients, variables))\n",
        "    # add the loss to the training loss metric\n",
        "    train_loss(batch_loss)\n",
        "    return batch_loss"
      ]
    },
    {
      "cell_type": "markdown",
      "metadata": {
        "id": "B6VOdD-b405e"
      },
      "source": [
        "## Create the Test Step Function"
      ]
    },
    {
      "cell_type": "code",
      "execution_count": 78,
      "metadata": {
        "id": "nysEplphbxEn"
      },
      "outputs": [],
      "source": [
        "# create the training step\n",
        "# using the tf.function decorator to speed up the training process by converting the training function to a TensorFlow graph\n",
        "@tf.function\n",
        "def test_step(inputs, target, enc_hidden):\n",
        "    # the encoder_hidden is the initial hidden state of the encoder\n",
        "    # enc_hidden shape == (batch_size, hidden_size)\n",
        "    # inilaize the loss to zero\n",
        "    loss = 0\n",
        "    # pass the input to the encoder\n",
        "    # enc_output shape == (batch_size, 49, hidden_size)\n",
        "    # enc_hidden shape == (batch_size, hidden_size)\n",
        "    # using the encoder to get the encoder_output and the encoder_hidden\n",
        "    enc_output, enc_hidden = encoder(inputs, enc_hidden)\n",
        "    # set the initial decoder hidden state to the encoder hidden state\n",
        "    dec_hidden = enc_hidden\n",
        "    # create the start token\n",
        "    # start_token shape == (batch_size, 1)\n",
        "    # repeat the start token for the batch size times\n",
        "    dec_input = tf.expand_dims(\n",
        "        [spn_tokenizer.word_index[\"<start>\"]] * inputs.shape[0], 1\n",
        "    )\n",
        "    for t in range(1, target.shape[1]):\n",
        "        # passing enc_output to the decoder with dec_hidden as the initial hidden state\n",
        "        predictions, dec_hidden = decoder(dec_input, dec_hidden)\n",
        "        # calculate the loss for the current time step using the loss function\n",
        "        loss += loss_function(target[:, t], predictions)\n",
        "\n",
        "        # using teacher forcing\n",
        "        dec_input = tf.expand_dims(target[:, t], 1)\n",
        "    # calculate the loss for the current batch\n",
        "    batch_loss = loss / int(target.shape[1])\n",
        "    # add the batch loss to the test loss metric\n",
        "    test_loss(batch_loss)"
      ]
    },
    {
      "cell_type": "markdown",
      "metadata": {
        "id": "U6ETRZ2l405f"
      },
      "source": [
        "# Create the Training Loop "
      ]
    },
    {
      "cell_type": "code",
      "execution_count": 79,
      "metadata": {
        "colab": {
          "base_uri": "https://localhost:8080/"
        },
        "id": "o6aIcAOlYWcK",
        "outputId": "47d6a485-0240-4cdf-ff64-a92771a9b14a"
      },
      "outputs": [
        {
          "name": "stdout",
          "output_type": "stream",
          "text": [
            "3716/3717 [============================>.] - ETA: 0s"
          ]
        },
        {
          "name": "stderr",
          "output_type": "stream",
          "text": [
            "WARNING:absl:Found untraced functions such as gru_cell_6_layer_call_fn, gru_cell_6_layer_call_and_return_conditional_losses while saving (showing 2 of 2). These functions will not be directly callable after loading.\n"
          ]
        },
        {
          "name": "stdout",
          "output_type": "stream",
          "text": [
            "INFO:tensorflow:Assets written to: /content/models/encoder/assets\n"
          ]
        },
        {
          "name": "stderr",
          "output_type": "stream",
          "text": [
            "INFO:tensorflow:Assets written to: /content/models/encoder/assets\n",
            "WARNING:absl:<keras.layers.recurrent.GRUCell object at 0x7ff3d89b5050> has the same name 'GRUCell' as a built-in Keras object. Consider renaming <class 'keras.layers.recurrent.GRUCell'> to avoid naming conflicts when loading with `tf.keras.models.load_model`. If renaming is not possible, pass the object in the `custom_objects` parameter of the load function.\n",
            "WARNING:absl:Found untraced functions such as gru_cell_7_layer_call_fn, gru_cell_7_layer_call_and_return_conditional_losses while saving (showing 2 of 2). These functions will not be directly callable after loading.\n"
          ]
        },
        {
          "name": "stdout",
          "output_type": "stream",
          "text": [
            "INFO:tensorflow:Assets written to: /content/models/decoder/assets\n"
          ]
        },
        {
          "name": "stderr",
          "output_type": "stream",
          "text": [
            "INFO:tensorflow:Assets written to: /content/models/decoder/assets\n",
            "WARNING:absl:<keras.layers.recurrent.GRUCell object at 0x7ff61bd3b710> has the same name 'GRUCell' as a built-in Keras object. Consider renaming <class 'keras.layers.recurrent.GRUCell'> to avoid naming conflicts when loading with `tf.keras.models.load_model`. If renaming is not possible, pass the object in the `custom_objects` parameter of the load function.\n"
          ]
        },
        {
          "name": "stdout",
          "output_type": "stream",
          "text": [
            "Model is saved\n",
            "##################################################\n",
            "Epoch #1\n",
            "Training Loss 0.5387609004974365\n",
            "Testing Loss 0.3785412311553955\n",
            "##################################################\n",
            "3716/3717 [============================>.] - ETA: 0s"
          ]
        },
        {
          "name": "stderr",
          "output_type": "stream",
          "text": [
            "WARNING:absl:Found untraced functions such as gru_cell_6_layer_call_fn, gru_cell_6_layer_call_and_return_conditional_losses while saving (showing 2 of 2). These functions will not be directly callable after loading.\n"
          ]
        },
        {
          "name": "stdout",
          "output_type": "stream",
          "text": [
            "INFO:tensorflow:Assets written to: /content/models/encoder/assets\n"
          ]
        },
        {
          "name": "stderr",
          "output_type": "stream",
          "text": [
            "INFO:tensorflow:Assets written to: /content/models/encoder/assets\n",
            "WARNING:absl:<keras.layers.recurrent.GRUCell object at 0x7ff3d89b5050> has the same name 'GRUCell' as a built-in Keras object. Consider renaming <class 'keras.layers.recurrent.GRUCell'> to avoid naming conflicts when loading with `tf.keras.models.load_model`. If renaming is not possible, pass the object in the `custom_objects` parameter of the load function.\n",
            "WARNING:absl:Found untraced functions such as gru_cell_7_layer_call_fn, gru_cell_7_layer_call_and_return_conditional_losses while saving (showing 2 of 2). These functions will not be directly callable after loading.\n"
          ]
        },
        {
          "name": "stdout",
          "output_type": "stream",
          "text": [
            "INFO:tensorflow:Assets written to: /content/models/decoder/assets\n"
          ]
        },
        {
          "name": "stderr",
          "output_type": "stream",
          "text": [
            "INFO:tensorflow:Assets written to: /content/models/decoder/assets\n",
            "WARNING:absl:<keras.layers.recurrent.GRUCell object at 0x7ff61bd3b710> has the same name 'GRUCell' as a built-in Keras object. Consider renaming <class 'keras.layers.recurrent.GRUCell'> to avoid naming conflicts when loading with `tf.keras.models.load_model`. If renaming is not possible, pass the object in the `custom_objects` parameter of the load function.\n"
          ]
        },
        {
          "name": "stdout",
          "output_type": "stream",
          "text": [
            "Model is saved\n",
            "##################################################\n",
            "Epoch #2\n",
            "Training Loss 0.2829052805900574\n",
            "Testing Loss 0.32346534729003906\n",
            "##################################################\n",
            "3716/3717 [============================>.] - ETA: 0s"
          ]
        },
        {
          "name": "stderr",
          "output_type": "stream",
          "text": [
            "WARNING:absl:Found untraced functions such as gru_cell_6_layer_call_fn, gru_cell_6_layer_call_and_return_conditional_losses while saving (showing 2 of 2). These functions will not be directly callable after loading.\n"
          ]
        },
        {
          "name": "stdout",
          "output_type": "stream",
          "text": [
            "INFO:tensorflow:Assets written to: /content/models/encoder/assets\n"
          ]
        },
        {
          "name": "stderr",
          "output_type": "stream",
          "text": [
            "INFO:tensorflow:Assets written to: /content/models/encoder/assets\n",
            "WARNING:absl:<keras.layers.recurrent.GRUCell object at 0x7ff3d89b5050> has the same name 'GRUCell' as a built-in Keras object. Consider renaming <class 'keras.layers.recurrent.GRUCell'> to avoid naming conflicts when loading with `tf.keras.models.load_model`. If renaming is not possible, pass the object in the `custom_objects` parameter of the load function.\n",
            "WARNING:absl:Found untraced functions such as gru_cell_7_layer_call_fn, gru_cell_7_layer_call_and_return_conditional_losses while saving (showing 2 of 2). These functions will not be directly callable after loading.\n"
          ]
        },
        {
          "name": "stdout",
          "output_type": "stream",
          "text": [
            "INFO:tensorflow:Assets written to: /content/models/decoder/assets\n"
          ]
        },
        {
          "name": "stderr",
          "output_type": "stream",
          "text": [
            "INFO:tensorflow:Assets written to: /content/models/decoder/assets\n",
            "WARNING:absl:<keras.layers.recurrent.GRUCell object at 0x7ff61bd3b710> has the same name 'GRUCell' as a built-in Keras object. Consider renaming <class 'keras.layers.recurrent.GRUCell'> to avoid naming conflicts when loading with `tf.keras.models.load_model`. If renaming is not possible, pass the object in the `custom_objects` parameter of the load function.\n"
          ]
        },
        {
          "name": "stdout",
          "output_type": "stream",
          "text": [
            "Model is saved\n",
            "##################################################\n",
            "Epoch #3\n",
            "Training Loss 0.17256802320480347\n",
            "Testing Loss 0.3269844055175781\n",
            "##################################################\n"
          ]
        }
      ],
      "source": [
        "# set the epochs to 3\n",
        "EPOCHS = 3\n",
        "# set the old test loss to high number\n",
        "old_test_loss = 1000000\n",
        "# create the training loop\n",
        "for epoch in range(EPOCHS):\n",
        "    # reset the training loss metric\n",
        "    train_loss.reset_states()\n",
        "    # reset the testing loss metric\n",
        "    test_loss.reset_states()\n",
        "\n",
        "    # initalize the hidden state of the encoder to zeros\n",
        "    enc_hidden = encoder.initialize_hidden_state()\n",
        "    # create the training progress bar set the total number of batches to the length of the training dataset and the batch size to the test size\n",
        "    steps_per_epoch = (\n",
        "        eng_sequence.shape[0] // batch_size\n",
        "    )  # => 3717 batch in the dataset\n",
        "    bar = tf.keras.utils.Progbar(target=steps_per_epoch)\n",
        "\n",
        "    count = 0\n",
        "    # iterate over the training dataset\n",
        "    for (batch, (inputs, target)) in enumerate(train_dataset):\n",
        "        # update the progress bar\n",
        "        count += 1\n",
        "        # run the training step\n",
        "        batch_loss = train_step(inputs, target, enc_hidden)\n",
        "        bar.update(count)  # manually update the progress bar\n",
        "\n",
        "    # iterate over the testing dataset\n",
        "    for (batch, (inputs, target)) in enumerate(test_dataset):\n",
        "        count += 1\n",
        "        # run the testing step\n",
        "        batch_loss = test_step(inputs, target, enc_hidden)\n",
        "        bar.update(count)\n",
        "    # save the best performance model on the test dataset\n",
        "\n",
        "    if old_test_loss > test_loss.result():\n",
        "        # set the old test loss to the test loss\n",
        "        old_test_loss = test_loss.result()\n",
        "        encoder.save(filepath=\"/content/models/encoder\")\n",
        "        decoder.save(filepath=\"/content/models/decoder\")\n",
        "        print(\"Model is saved\")\n",
        "    # print the training and testing loss\n",
        "    print(\"#\" * 50)\n",
        "    print(f\"Epoch #{epoch + 1}\")\n",
        "    print(f\"Training Loss {train_loss.result()}\")\n",
        "    print(f\"Testing Loss {test_loss.result()}\")\n",
        "    print(\"#\" * 50)"
      ]
    },
    {
      "cell_type": "markdown",
      "metadata": {
        "id": "5lT-UM2S405g"
      },
      "source": [
        "# Let's Translate Using the Model "
      ]
    },
    {
      "cell_type": "code",
      "execution_count": 147,
      "metadata": {
        "id": "Q3JJgmJFYvrQ"
      },
      "outputs": [],
      "source": [
        "#  create the translate function\n",
        "# the translate function takes in the english as input and translation the sentence to spanish\n",
        "def translate(sentence):\n",
        "\n",
        "    # clean the input english sentence\n",
        "    sentence = clean_text(sentence)\n",
        "    # add the start token to the sentence\n",
        "    sentence = add_start_end(sentence)\n",
        "    # tokenize the sentence\n",
        "    inputs = eng_tokenizer.texts_to_sequences([sentence])\n",
        "    # pad the sentence\n",
        "    inputs = tf.keras.preprocessing.sequence.pad_sequences(\n",
        "        inputs, maxlen=49, padding=\"post\"\n",
        "    )\n",
        "\n",
        "    # initalize the hidden state of the encoder to zeros\n",
        "    hidden = [tf.zeros((1, units))]\n",
        "    # pass the sentence to the encoder with the hidden state as the initial hidden state\n",
        "    enc_out, enc_hidden = encoder(inputs, hidden)\n",
        "    # set the initial decoder hidden state to the encoder hidden state\n",
        "    dec_hidden = enc_hidden\n",
        "    # create the start token\n",
        "    # start_token shape == (batch_size, 1)\n",
        "    # repeat the start token for the batch size times\n",
        "    dec_input = tf.expand_dims([spn_tokenizer.word_index[\"<start>\"]], 0)\n",
        "    # create the result string\n",
        "    result = \"\"\n",
        "    # loop over the length of the sentence (51)\n",
        "\n",
        "    for t in range(51):\n",
        "        # passing the encoder output and the decoder hidden state to the decoder make sure the decoder input is the previous predicted word\n",
        "        predictions, dec_hidden = decoder(dec_input, dec_hidden)\n",
        "\n",
        "        # getting the predicted word index\n",
        "        predicted_id = tf.argmax(predictions[0]).numpy()\n",
        "        # getting the predicted word using the predicted index\n",
        "        # add the predicted word to the result string\n",
        "        result += spn_tokenizer.index_word[predicted_id] + \" \"\n",
        "        # if the predicted word is the <end> token then stop the loop\n",
        "        if spn_tokenizer.index_word[predicted_id] == \"<end>\":\n",
        "            # remove the <start> and <end> tokens from the result string\n",
        "            result = result.replace(\"<start> \", \"\")\n",
        "            result = result.replace(\" <end> \", \"\")\n",
        "            # remove the <start> and <end> tokens from the sentence string\n",
        "            sentence = sentence.replace(\"<start> \", \"\")\n",
        "            sentence = sentence.replace(\" <end>\", \"\")\n",
        "            return sentence, result\n",
        "\n",
        "        # using the predicted word as the next decoder input\n",
        "        dec_input = tf.expand_dims([predicted_id], 0)\n",
        "    # remove the <start> and <end> tokens from the result string\n",
        "    result = result.replace(\"<start> \", \"\")\n",
        "    result = result.replace(\" <end> \", \"\")\n",
        "    # remove the <start> and <end> tokens from the sentence string\n",
        "    sentence = sentence.replace(\"<start> \", \"\")\n",
        "    sentence = sentence.replace(\" <end>\", \"\")\n",
        "\n",
        "    # return the result string and the original sentence\n",
        "    return sentence, result"
      ]
    },
    {
      "cell_type": "code",
      "execution_count": 148,
      "metadata": {
        "colab": {
          "base_uri": "https://localhost:8080/"
        },
        "id": "6Cm8BcTmomFz",
        "outputId": "e86d1dad-f21d-479f-f1ff-744861ecac82"
      },
      "outputs": [
        {
          "data": {
            "text/plain": [
              "('how are you ', 'c\u00f3mo te vas  ')"
            ]
          },
          "execution_count": 148,
          "metadata": {},
          "output_type": "execute_result"
        }
      ],
      "source": [
        "# let's translate the first sentence\n",
        "translate(\"how are you\")"
      ]
    },
    {
      "cell_type": "code",
      "execution_count": null,
      "metadata": {
        "id": "UPSQjfecIfHZ"
      },
      "outputs": [],
      "source": []
    }
  ],
  "metadata": {
    "accelerator": "GPU",
    "colab": {
      "collapsed_sections": [],
      "machine_shape": "hm",
      "name": "1- Neural Machine Translation.ipynb",
      "provenance": []
    },
    "kernelspec": {
      "display_name": "Python 3",
      "name": "python3"
    },
    "language_info": {
      "codemirror_mode": {
        "name": "ipython",
        "version": 3
      },
      "file_extension": ".py",
      "mimetype": "text/x-python",
      "name": "python",
      "nbconvert_exporter": "python",
      "pygments_lexer": "ipython3",
      "version": "3.8.7"
    }
  },
  "nbformat": 4,
  "nbformat_minor": 0
}