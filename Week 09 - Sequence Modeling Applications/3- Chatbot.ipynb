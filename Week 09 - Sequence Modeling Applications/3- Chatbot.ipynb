{
  "cells": [
    {
      "attachments": {},
      "cell_type": "markdown",
      "metadata": {
        "id": "en08g_Qc2xNr"
      },
      "source": [
        "# Chatbot\n",
        "\n",
        "<!--<badge>--><a href=\"https://colab.research.google.com/github/mthd98/Machine-Learning-from-Zero-to-Hero-Bootcamp-v1/blob/main/Week 09 - Sequence Modeling Applications/3- Chatbot.ipynb\" target=\"_parent\"><img src=\"https://colab.research.google.com/assets/colab-badge.svg\" alt=\"Open In Colab\"/></a><!--</badge>-->\n",
        "\n",
        "\n",
        "\n",
        "A chatbot or chatterbot is a software application used to conduct an on-line chat conversation via text or text-to-speech, in lieu of providing direct contact with a live human agent.\u200b"
      ]
    },
    {
      "cell_type": "code",
      "execution_count": 1,
      "metadata": {
        "colab": {
          "base_uri": "https://localhost:8080/"
        },
        "id": "lGsUl4fZMn9A",
        "outputId": "6213f171-5b89-49a4-b319-18a827de1c9b"
      },
      "outputs": [
        {
          "name": "stdout",
          "output_type": "stream",
          "text": [
            "Downloading cleaned-data-for-the-chatbot-collected-from-movies.zip to /content\n",
            "100% 305M/305M [00:11<00:00, 40.6MB/s]\n",
            "\n"
          ]
        }
      ],
      "source": [
        "# download the required dataset from kaggle\n",
        "\n",
        "\n",
        "! mkdir ~/.kaggle\n",
        "! cp kaggle.json ~/.kaggle/\n",
        "! chmod 600 ~/.kaggle/kaggle.json\n",
        "! kaggle datasets download -d hijest/cleaned-data-for-the-chatbot-collected-from-movies"
      ]
    },
    {
      "cell_type": "code",
      "execution_count": 2,
      "metadata": {
        "colab": {
          "base_uri": "https://localhost:8080/"
        },
        "id": "DaMbhIWVt_Dz",
        "outputId": "f7094f0e-ec52-449d-c012-d837ed11b4ad"
      },
      "outputs": [
        {
          "name": "stdout",
          "output_type": "stream",
          "text": [
            "Archive:  /content/cleaned-data-for-the-chatbot-collected-from-movies.zip\n",
            "  inflating: dialogs_expanded.csv    \n",
            "  inflating: input3.csv              \n",
            "  inflating: model_att29iter_expanded.data-00000-of-00001  \n",
            "  inflating: model_att29iter_expanded.index  \n",
            "  inflating: target3.csv             \n"
          ]
        }
      ],
      "source": [
        "!unzip /content/cleaned-data-for-the-chatbot-collected-from-movies.zip"
      ]
    },
    {
      "cell_type": "code",
      "execution_count": 4,
      "metadata": {
        "id": "KZCd2EpEJdse"
      },
      "outputs": [],
      "source": [
        "import re\n",
        "import numpy as np\n",
        "import pandas as pd\n",
        "import tensorflow as tf\n",
        "from sklearn import model_selection"
      ]
    },
    {
      "cell_type": "markdown",
      "metadata": {
        "id": "ghygr1IZ405D"
      },
      "source": [
        "# Read & Prepare the Data\n",
        "\n"
      ]
    },
    {
      "cell_type": "markdown",
      "metadata": {
        "id": "6CGwWXM1405E"
      },
      "source": [
        "## Read the CSV File\n"
      ]
    },
    {
      "cell_type": "code",
      "execution_count": 6,
      "metadata": {
        "id": "mUQCVeEbSHI0"
      },
      "outputs": [],
      "source": [
        "data_df = pd.read_csv(\"/content/dialogs_expanded.csv\", index_col=False)"
      ]
    },
    {
      "cell_type": "markdown",
      "metadata": {
        "id": "6qFgJs4q405F"
      },
      "source": [
        "The csv file contains the following columns: Unnamed: 0,\tquestion,\tanswer,\tquestion_as_int,\tanswer_as_int,\tquestion_len and \tanswer_len.\n",
        "\n",
        "We are interset in the question and\tanswer columns:\n",
        "* The question column contains the questions sentences. \n",
        "\n",
        "* The answer column contains the answers sentences."
      ]
    },
    {
      "cell_type": "code",
      "execution_count": 8,
      "metadata": {
        "colab": {
          "base_uri": "https://localhost:8080/",
          "height": 676
        },
        "id": "otNpmQXxSMNV",
        "outputId": "4dc490df-a7c7-4ec1-b786-f7cb6c6a35c3"
      },
      "outputs": [
        {
          "data": {
            "text/html": [
              "\n",
              "  <div id=\"df-381fed9f-9c84-440a-9636-5063b3c4b6ee\">\n",
              "    <div class=\"colab-df-container\">\n",
              "      <div>\n",
              "<style scoped>\n",
              "    .dataframe tbody tr th:only-of-type {\n",
              "        vertical-align: middle;\n",
              "    }\n",
              "\n",
              "    .dataframe tbody tr th {\n",
              "        vertical-align: top;\n",
              "    }\n",
              "\n",
              "    .dataframe thead th {\n",
              "        text-align: right;\n",
              "    }\n",
              "</style>\n",
              "<table border=\"1\" class=\"dataframe\">\n",
              "  <thead>\n",
              "    <tr style=\"text-align: right;\">\n",
              "      <th></th>\n",
              "      <th>Unnamed: 0</th>\n",
              "      <th>question</th>\n",
              "      <th>answer</th>\n",
              "      <th>question_as_int</th>\n",
              "      <th>answer_as_int</th>\n",
              "      <th>question_len</th>\n",
              "      <th>answer_len</th>\n",
              "    </tr>\n",
              "  </thead>\n",
              "  <tbody>\n",
              "    <tr>\n",
              "      <th>0</th>\n",
              "      <td>1</td>\n",
              "      <td>Well, I thought we'd start with pronunciation,...</td>\n",
              "      <td>Not the hacking and gagging and spitting part....</td>\n",
              "      <td>[54, 67, 74, 74, 12, 1, 40, 1, 82, 70, 77, 83,...</td>\n",
              "      <td>[45, 77, 82, 1, 82, 70, 67, 1, 70, 63, 65, 73,...</td>\n",
              "      <td>71</td>\n",
              "      <td>55</td>\n",
              "    </tr>\n",
              "    <tr>\n",
              "      <th>1</th>\n",
              "      <td>2</td>\n",
              "      <td>Not the hacking and gagging and spitting part....</td>\n",
              "      <td>Okay... then how 'bout we try out some French ...</td>\n",
              "      <td>[45, 77, 82, 1, 82, 70, 67, 1, 70, 63, 65, 73,...</td>\n",
              "      <td>[46, 73, 63, 87, 14, 14, 14, 1, 82, 70, 67, 76...</td>\n",
              "      <td>55</td>\n",
              "      <td>73</td>\n",
              "    </tr>\n",
              "    <tr>\n",
              "      <th>2</th>\n",
              "      <td>3</td>\n",
              "      <td>You're asking me out.  That's so cute. What's ...</td>\n",
              "      <td>Forget it.</td>\n",
              "      <td>[56, 77, 83, 8, 80, 67, 1, 63, 81, 73, 71, 76,...</td>\n",
              "      <td>[37, 77, 80, 69, 67, 82, 1, 71, 82, 14]</td>\n",
              "      <td>62</td>\n",
              "      <td>10</td>\n",
              "    </tr>\n",
              "    <tr>\n",
              "      <th>3</th>\n",
              "      <td>4</td>\n",
              "      <td>No, no, it's my fault -- we didn't have a prop...</td>\n",
              "      <td>Cameron.</td>\n",
              "      <td>[45, 77, 12, 1, 76, 77, 12, 1, 71, 82, 8, 81, ...</td>\n",
              "      <td>[34, 63, 75, 67, 80, 77, 76, 14]</td>\n",
              "      <td>65</td>\n",
              "      <td>8</td>\n",
              "    </tr>\n",
              "    <tr>\n",
              "      <th>4</th>\n",
              "      <td>9</td>\n",
              "      <td>Gosh, if only we could find Kat a boyfriend...</td>\n",
              "      <td>Let me see what I can do.</td>\n",
              "      <td>[38, 77, 81, 70, 12, 1, 71, 68, 1, 77, 76, 74,...</td>\n",
              "      <td>[43, 67, 82, 1, 75, 67, 1, 81, 67, 67, 1, 85, ...</td>\n",
              "      <td>46</td>\n",
              "      <td>25</td>\n",
              "    </tr>\n",
              "    <tr>\n",
              "      <th>...</th>\n",
              "      <td>...</td>\n",
              "      <td>...</td>\n",
              "      <td>...</td>\n",
              "      <td>...</td>\n",
              "      <td>...</td>\n",
              "      <td>...</td>\n",
              "      <td>...</td>\n",
              "    </tr>\n",
              "    <tr>\n",
              "      <th>139404</th>\n",
              "      <td>221608</td>\n",
              "      <td>Well that one. The one who keeps looking at me.</td>\n",
              "      <td>ft could be you flatter yourself CoghilL It's ...</td>\n",
              "      <td>[54, 67, 74, 74, 1, 82, 70, 63, 82, 1, 77, 76,...</td>\n",
              "      <td>[68, 82, 1, 65, 77, 83, 74, 66, 1, 64, 67, 1, ...</td>\n",
              "      <td>47</td>\n",
              "      <td>59</td>\n",
              "    </tr>\n",
              "    <tr>\n",
              "      <th>139405</th>\n",
              "      <td>221609</td>\n",
              "      <td>Choose your targets men. That's right Watch th...</td>\n",
              "      <td>Keep steady. You're the best shots of the Twen...</td>\n",
              "      <td>[34, 70, 77, 77, 81, 67, 1, 87, 77, 83, 80, 1,...</td>\n",
              "      <td>[42, 67, 67, 78, 1, 81, 82, 67, 63, 66, 87, 14...</td>\n",
              "      <td>61</td>\n",
              "      <td>85</td>\n",
              "    </tr>\n",
              "    <tr>\n",
              "      <th>139406</th>\n",
              "      <td>221610</td>\n",
              "      <td>Colonel Durnford... William Vereker. I hear yo...</td>\n",
              "      <td>Good ones, yes, Mr Vereker. Gentlemen who can ...</td>\n",
              "      <td>[34, 77, 74, 77, 76, 67, 74, 1, 35, 83, 80, 76...</td>\n",
              "      <td>[38, 77, 77, 66, 1, 77, 76, 67, 81, 12, 1, 87,...</td>\n",
              "      <td>74</td>\n",
              "      <td>60</td>\n",
              "    </tr>\n",
              "    <tr>\n",
              "      <th>139407</th>\n",
              "      <td>221611</td>\n",
              "      <td>Your orders, Mr Vereker?</td>\n",
              "      <td>I'm to take the Sikali with the main column to...</td>\n",
              "      <td>[56, 77, 83, 80, 1, 77, 80, 66, 67, 80, 81, 12...</td>\n",
              "      <td>[40, 8, 75, 1, 82, 77, 1, 82, 63, 73, 67, 1, 8...</td>\n",
              "      <td>24</td>\n",
              "      <td>56</td>\n",
              "    </tr>\n",
              "    <tr>\n",
              "      <th>139408</th>\n",
              "      <td>221612</td>\n",
              "      <td>I'm to take the Sikali with the main column to...</td>\n",
              "      <td>Lord Chelmsford seems to want me to stay back ...</td>\n",
              "      <td>[40, 8, 75, 1, 82, 77, 1, 82, 63, 73, 67, 1, 8...</td>\n",
              "      <td>[43, 77, 80, 66, 1, 34, 70, 67, 74, 75, 81, 68...</td>\n",
              "      <td>56</td>\n",
              "      <td>62</td>\n",
              "    </tr>\n",
              "  </tbody>\n",
              "</table>\n",
              "<p>139409 rows \u00d7 7 columns</p>\n",
              "</div>\n",
              "      <button class=\"colab-df-convert\" onclick=\"convertToInteractive('df-381fed9f-9c84-440a-9636-5063b3c4b6ee')\"\n",
              "              title=\"Convert this dataframe to an interactive table.\"\n",
              "              style=\"display:none;\">\n",
              "        \n",
              "  <svg xmlns=\"http://www.w3.org/2000/svg\" height=\"24px\"viewBox=\"0 0 24 24\"\n",
              "       width=\"24px\">\n",
              "    <path d=\"M0 0h24v24H0V0z\" fill=\"none\"/>\n",
              "    <path d=\"M18.56 5.44l.94 2.06.94-2.06 2.06-.94-2.06-.94-.94-2.06-.94 2.06-2.06.94zm-11 1L8.5 8.5l.94-2.06 2.06-.94-2.06-.94L8.5 2.5l-.94 2.06-2.06.94zm10 10l.94 2.06.94-2.06 2.06-.94-2.06-.94-.94-2.06-.94 2.06-2.06.94z\"/><path d=\"M17.41 7.96l-1.37-1.37c-.4-.4-.92-.59-1.43-.59-.52 0-1.04.2-1.43.59L10.3 9.45l-7.72 7.72c-.78.78-.78 2.05 0 2.83L4 21.41c.39.39.9.59 1.41.59.51 0 1.02-.2 1.41-.59l7.78-7.78 2.81-2.81c.8-.78.8-2.07 0-2.86zM5.41 20L4 18.59l7.72-7.72 1.47 1.35L5.41 20z\"/>\n",
              "  </svg>\n",
              "      </button>\n",
              "      \n",
              "  <style>\n",
              "    .colab-df-container {\n",
              "      display:flex;\n",
              "      flex-wrap:wrap;\n",
              "      gap: 12px;\n",
              "    }\n",
              "\n",
              "    .colab-df-convert {\n",
              "      background-color: #E8F0FE;\n",
              "      border: none;\n",
              "      border-radius: 50%;\n",
              "      cursor: pointer;\n",
              "      display: none;\n",
              "      fill: #1967D2;\n",
              "      height: 32px;\n",
              "      padding: 0 0 0 0;\n",
              "      width: 32px;\n",
              "    }\n",
              "\n",
              "    .colab-df-convert:hover {\n",
              "      background-color: #E2EBFA;\n",
              "      box-shadow: 0px 1px 2px rgba(60, 64, 67, 0.3), 0px 1px 3px 1px rgba(60, 64, 67, 0.15);\n",
              "      fill: #174EA6;\n",
              "    }\n",
              "\n",
              "    [theme=dark] .colab-df-convert {\n",
              "      background-color: #3B4455;\n",
              "      fill: #D2E3FC;\n",
              "    }\n",
              "\n",
              "    [theme=dark] .colab-df-convert:hover {\n",
              "      background-color: #434B5C;\n",
              "      box-shadow: 0px 1px 3px 1px rgba(0, 0, 0, 0.15);\n",
              "      filter: drop-shadow(0px 1px 2px rgba(0, 0, 0, 0.3));\n",
              "      fill: #FFFFFF;\n",
              "    }\n",
              "  </style>\n",
              "\n",
              "      <script>\n",
              "        const buttonEl =\n",
              "          document.querySelector('#df-381fed9f-9c84-440a-9636-5063b3c4b6ee button.colab-df-convert');\n",
              "        buttonEl.style.display =\n",
              "          google.colab.kernel.accessAllowed ? 'block' : 'none';\n",
              "\n",
              "        async function convertToInteractive(key) {\n",
              "          const element = document.querySelector('#df-381fed9f-9c84-440a-9636-5063b3c4b6ee');\n",
              "          const dataTable =\n",
              "            await google.colab.kernel.invokeFunction('convertToInteractive',\n",
              "                                                     [key], {});\n",
              "          if (!dataTable) return;\n",
              "\n",
              "          const docLinkHtml = 'Like what you see? Visit the ' +\n",
              "            '<a target=\"_blank\" href=https://colab.research.google.com/notebooks/data_table.ipynb>data table notebook</a>'\n",
              "            + ' to learn more about interactive tables.';\n",
              "          element.innerHTML = '';\n",
              "          dataTable['output_type'] = 'display_data';\n",
              "          await google.colab.output.renderOutput(dataTable, element);\n",
              "          const docLink = document.createElement('div');\n",
              "          docLink.innerHTML = docLinkHtml;\n",
              "          element.appendChild(docLink);\n",
              "        }\n",
              "      </script>\n",
              "    </div>\n",
              "  </div>\n",
              "  "
            ],
            "text/plain": [
              "        Unnamed: 0  ... answer_len\n",
              "0                1  ...         55\n",
              "1                2  ...         73\n",
              "2                3  ...         10\n",
              "3                4  ...          8\n",
              "4                9  ...         25\n",
              "...            ...  ...        ...\n",
              "139404      221608  ...         59\n",
              "139405      221609  ...         85\n",
              "139406      221610  ...         60\n",
              "139407      221611  ...         56\n",
              "139408      221612  ...         62\n",
              "\n",
              "[139409 rows x 7 columns]"
            ]
          },
          "execution_count": 8,
          "metadata": {},
          "output_type": "execute_result"
        }
      ],
      "source": [
        "data_df"
      ]
    },
    {
      "cell_type": "markdown",
      "metadata": {
        "id": "Rno3tvrv405G"
      },
      "source": [
        "## Prepare the Data\n",
        "Prepare the data by :\n",
        "* Drop the Unnamed: 0, question_as_int, answer_as_int, question_len and answer_len columns.\n",
        "* Clean the sentences by removing special characters.\n",
        "* Add a start and end token to each sentence.\n",
        "* Tokenize the sentences.\n",
        "* Pad each sentence to a maximum length.\n",
        "* Split the data into training and testing sets."
      ]
    },
    {
      "cell_type": "code",
      "execution_count": 9,
      "metadata": {
        "id": "THjrrJZhlAG1"
      },
      "outputs": [],
      "source": [
        "data_df.drop(\n",
        "    [\"Unnamed: 0\", \"question_as_int\", \"answer_as_int\", \"question_len\", \"answer_len\"],\n",
        "    axis=1,\n",
        "    inplace=True,\n",
        ")"
      ]
    },
    {
      "cell_type": "code",
      "execution_count": 10,
      "metadata": {
        "colab": {
          "base_uri": "https://localhost:8080/"
        },
        "id": "ms47O0xqlWTm",
        "outputId": "ca315eed-0a3b-453a-d74b-c81ec41889e7"
      },
      "outputs": [
        {
          "name": "stdout",
          "output_type": "stream",
          "text": [
            "<class 'pandas.core.frame.DataFrame'>\n",
            "RangeIndex: 139409 entries, 0 to 139408\n",
            "Data columns (total 2 columns):\n",
            " #   Column    Non-Null Count   Dtype \n",
            "---  ------    --------------   ----- \n",
            " 0   question  139409 non-null  object\n",
            " 1   answer    139409 non-null  object\n",
            "dtypes: object(2)\n",
            "memory usage: 2.1+ MB\n"
          ]
        }
      ],
      "source": [
        "data_df.info()"
      ]
    },
    {
      "cell_type": "code",
      "execution_count": 11,
      "metadata": {
        "colab": {
          "base_uri": "https://localhost:8080/",
          "height": 423
        },
        "id": "1tvBdxsLQMGb",
        "outputId": "72ac4919-79dd-4dac-d6ce-bf14ba392542"
      },
      "outputs": [
        {
          "data": {
            "text/html": [
              "\n",
              "  <div id=\"df-f1080a0b-e814-4900-8eff-c97130aec301\">\n",
              "    <div class=\"colab-df-container\">\n",
              "      <div>\n",
              "<style scoped>\n",
              "    .dataframe tbody tr th:only-of-type {\n",
              "        vertical-align: middle;\n",
              "    }\n",
              "\n",
              "    .dataframe tbody tr th {\n",
              "        vertical-align: top;\n",
              "    }\n",
              "\n",
              "    .dataframe thead th {\n",
              "        text-align: right;\n",
              "    }\n",
              "</style>\n",
              "<table border=\"1\" class=\"dataframe\">\n",
              "  <thead>\n",
              "    <tr style=\"text-align: right;\">\n",
              "      <th></th>\n",
              "      <th>question</th>\n",
              "      <th>answer</th>\n",
              "    </tr>\n",
              "  </thead>\n",
              "  <tbody>\n",
              "    <tr>\n",
              "      <th>0</th>\n",
              "      <td>Well, I thought we'd start with pronunciation,...</td>\n",
              "      <td>Not the hacking and gagging and spitting part....</td>\n",
              "    </tr>\n",
              "    <tr>\n",
              "      <th>1</th>\n",
              "      <td>Not the hacking and gagging and spitting part....</td>\n",
              "      <td>Okay... then how 'bout we try out some French ...</td>\n",
              "    </tr>\n",
              "    <tr>\n",
              "      <th>2</th>\n",
              "      <td>You're asking me out.  That's so cute. What's ...</td>\n",
              "      <td>Forget it.</td>\n",
              "    </tr>\n",
              "    <tr>\n",
              "      <th>3</th>\n",
              "      <td>No, no, it's my fault -- we didn't have a prop...</td>\n",
              "      <td>Cameron.</td>\n",
              "    </tr>\n",
              "    <tr>\n",
              "      <th>4</th>\n",
              "      <td>Gosh, if only we could find Kat a boyfriend...</td>\n",
              "      <td>Let me see what I can do.</td>\n",
              "    </tr>\n",
              "    <tr>\n",
              "      <th>...</th>\n",
              "      <td>...</td>\n",
              "      <td>...</td>\n",
              "    </tr>\n",
              "    <tr>\n",
              "      <th>139404</th>\n",
              "      <td>Well that one. The one who keeps looking at me.</td>\n",
              "      <td>ft could be you flatter yourself CoghilL It's ...</td>\n",
              "    </tr>\n",
              "    <tr>\n",
              "      <th>139405</th>\n",
              "      <td>Choose your targets men. That's right Watch th...</td>\n",
              "      <td>Keep steady. You're the best shots of the Twen...</td>\n",
              "    </tr>\n",
              "    <tr>\n",
              "      <th>139406</th>\n",
              "      <td>Colonel Durnford... William Vereker. I hear yo...</td>\n",
              "      <td>Good ones, yes, Mr Vereker. Gentlemen who can ...</td>\n",
              "    </tr>\n",
              "    <tr>\n",
              "      <th>139407</th>\n",
              "      <td>Your orders, Mr Vereker?</td>\n",
              "      <td>I'm to take the Sikali with the main column to...</td>\n",
              "    </tr>\n",
              "    <tr>\n",
              "      <th>139408</th>\n",
              "      <td>I'm to take the Sikali with the main column to...</td>\n",
              "      <td>Lord Chelmsford seems to want me to stay back ...</td>\n",
              "    </tr>\n",
              "  </tbody>\n",
              "</table>\n",
              "<p>139409 rows \u00d7 2 columns</p>\n",
              "</div>\n",
              "      <button class=\"colab-df-convert\" onclick=\"convertToInteractive('df-f1080a0b-e814-4900-8eff-c97130aec301')\"\n",
              "              title=\"Convert this dataframe to an interactive table.\"\n",
              "              style=\"display:none;\">\n",
              "        \n",
              "  <svg xmlns=\"http://www.w3.org/2000/svg\" height=\"24px\"viewBox=\"0 0 24 24\"\n",
              "       width=\"24px\">\n",
              "    <path d=\"M0 0h24v24H0V0z\" fill=\"none\"/>\n",
              "    <path d=\"M18.56 5.44l.94 2.06.94-2.06 2.06-.94-2.06-.94-.94-2.06-.94 2.06-2.06.94zm-11 1L8.5 8.5l.94-2.06 2.06-.94-2.06-.94L8.5 2.5l-.94 2.06-2.06.94zm10 10l.94 2.06.94-2.06 2.06-.94-2.06-.94-.94-2.06-.94 2.06-2.06.94z\"/><path d=\"M17.41 7.96l-1.37-1.37c-.4-.4-.92-.59-1.43-.59-.52 0-1.04.2-1.43.59L10.3 9.45l-7.72 7.72c-.78.78-.78 2.05 0 2.83L4 21.41c.39.39.9.59 1.41.59.51 0 1.02-.2 1.41-.59l7.78-7.78 2.81-2.81c.8-.78.8-2.07 0-2.86zM5.41 20L4 18.59l7.72-7.72 1.47 1.35L5.41 20z\"/>\n",
              "  </svg>\n",
              "      </button>\n",
              "      \n",
              "  <style>\n",
              "    .colab-df-container {\n",
              "      display:flex;\n",
              "      flex-wrap:wrap;\n",
              "      gap: 12px;\n",
              "    }\n",
              "\n",
              "    .colab-df-convert {\n",
              "      background-color: #E8F0FE;\n",
              "      border: none;\n",
              "      border-radius: 50%;\n",
              "      cursor: pointer;\n",
              "      display: none;\n",
              "      fill: #1967D2;\n",
              "      height: 32px;\n",
              "      padding: 0 0 0 0;\n",
              "      width: 32px;\n",
              "    }\n",
              "\n",
              "    .colab-df-convert:hover {\n",
              "      background-color: #E2EBFA;\n",
              "      box-shadow: 0px 1px 2px rgba(60, 64, 67, 0.3), 0px 1px 3px 1px rgba(60, 64, 67, 0.15);\n",
              "      fill: #174EA6;\n",
              "    }\n",
              "\n",
              "    [theme=dark] .colab-df-convert {\n",
              "      background-color: #3B4455;\n",
              "      fill: #D2E3FC;\n",
              "    }\n",
              "\n",
              "    [theme=dark] .colab-df-convert:hover {\n",
              "      background-color: #434B5C;\n",
              "      box-shadow: 0px 1px 3px 1px rgba(0, 0, 0, 0.15);\n",
              "      filter: drop-shadow(0px 1px 2px rgba(0, 0, 0, 0.3));\n",
              "      fill: #FFFFFF;\n",
              "    }\n",
              "  </style>\n",
              "\n",
              "      <script>\n",
              "        const buttonEl =\n",
              "          document.querySelector('#df-f1080a0b-e814-4900-8eff-c97130aec301 button.colab-df-convert');\n",
              "        buttonEl.style.display =\n",
              "          google.colab.kernel.accessAllowed ? 'block' : 'none';\n",
              "\n",
              "        async function convertToInteractive(key) {\n",
              "          const element = document.querySelector('#df-f1080a0b-e814-4900-8eff-c97130aec301');\n",
              "          const dataTable =\n",
              "            await google.colab.kernel.invokeFunction('convertToInteractive',\n",
              "                                                     [key], {});\n",
              "          if (!dataTable) return;\n",
              "\n",
              "          const docLinkHtml = 'Like what you see? Visit the ' +\n",
              "            '<a target=\"_blank\" href=https://colab.research.google.com/notebooks/data_table.ipynb>data table notebook</a>'\n",
              "            + ' to learn more about interactive tables.';\n",
              "          element.innerHTML = '';\n",
              "          dataTable['output_type'] = 'display_data';\n",
              "          await google.colab.output.renderOutput(dataTable, element);\n",
              "          const docLink = document.createElement('div');\n",
              "          docLink.innerHTML = docLinkHtml;\n",
              "          element.appendChild(docLink);\n",
              "        }\n",
              "      </script>\n",
              "    </div>\n",
              "  </div>\n",
              "  "
            ],
            "text/plain": [
              "                                                 question                                             answer\n",
              "0       Well, I thought we'd start with pronunciation,...  Not the hacking and gagging and spitting part....\n",
              "1       Not the hacking and gagging and spitting part....  Okay... then how 'bout we try out some French ...\n",
              "2       You're asking me out.  That's so cute. What's ...                                         Forget it.\n",
              "3       No, no, it's my fault -- we didn't have a prop...                                           Cameron.\n",
              "4          Gosh, if only we could find Kat a boyfriend...                          Let me see what I can do.\n",
              "...                                                   ...                                                ...\n",
              "139404    Well that one. The one who keeps looking at me.  ft could be you flatter yourself CoghilL It's ...\n",
              "139405  Choose your targets men. That's right Watch th...  Keep steady. You're the best shots of the Twen...\n",
              "139406  Colonel Durnford... William Vereker. I hear yo...  Good ones, yes, Mr Vereker. Gentlemen who can ...\n",
              "139407                           Your orders, Mr Vereker?  I'm to take the Sikali with the main column to...\n",
              "139408  I'm to take the Sikali with the main column to...  Lord Chelmsford seems to want me to stay back ...\n",
              "\n",
              "[139409 rows x 2 columns]"
            ]
          },
          "execution_count": 11,
          "metadata": {},
          "output_type": "execute_result"
        }
      ],
      "source": [
        "data_df"
      ]
    },
    {
      "cell_type": "code",
      "execution_count": 14,
      "metadata": {
        "id": "hziqT4QNSNFB"
      },
      "outputs": [],
      "source": [
        "def clean_text(text):\n",
        "    \"\"\"Make text lowercase, remove text in square brackets,remove links,remove punctuation\n",
        "    and remove words containing numbers.\"\"\"\n",
        "    text = text.lower()\n",
        "    text = re.sub(\"\\[.*?\\]\", \"\", text)\n",
        "    text = re.sub(\"https?://\\S+|www\\.\\S+\", \"\", text)\n",
        "    text = re.sub(\"<.*?>+\", \"\", text)\n",
        "    text = re.sub(\"\\n\", \"\", text)\n",
        "    text = re.sub(r\"[^\\w]\", \" \", text)\n",
        "    text = re.sub(\"\\w*\\d\\w*\", \"\", text)\n",
        "    text = \" \".join(filter(lambda x: x[0] != \"@\", text.split()))\n",
        "    return text\n",
        "\n",
        "\n",
        "data_df.question = data_df.question.map(clean_text)\n",
        "data_df.answer = data_df.answer.map(clean_text)"
      ]
    },
    {
      "cell_type": "code",
      "execution_count": 15,
      "metadata": {
        "colab": {
          "base_uri": "https://localhost:8080/",
          "height": 423
        },
        "id": "iuQLUghXULYr",
        "outputId": "1b0e87bb-9f23-4c3f-bdcd-e35a0de6aaac"
      },
      "outputs": [
        {
          "data": {
            "text/html": [
              "\n",
              "  <div id=\"df-782cfaa7-890a-4473-b40e-5f67763e6a49\">\n",
              "    <div class=\"colab-df-container\">\n",
              "      <div>\n",
              "<style scoped>\n",
              "    .dataframe tbody tr th:only-of-type {\n",
              "        vertical-align: middle;\n",
              "    }\n",
              "\n",
              "    .dataframe tbody tr th {\n",
              "        vertical-align: top;\n",
              "    }\n",
              "\n",
              "    .dataframe thead th {\n",
              "        text-align: right;\n",
              "    }\n",
              "</style>\n",
              "<table border=\"1\" class=\"dataframe\">\n",
              "  <thead>\n",
              "    <tr style=\"text-align: right;\">\n",
              "      <th></th>\n",
              "      <th>question</th>\n",
              "      <th>answer</th>\n",
              "    </tr>\n",
              "  </thead>\n",
              "  <tbody>\n",
              "    <tr>\n",
              "      <th>0</th>\n",
              "      <td>well i thought we d start with pronunciation i...</td>\n",
              "      <td>not the hacking and gagging and spitting part ...</td>\n",
              "    </tr>\n",
              "    <tr>\n",
              "      <th>1</th>\n",
              "      <td>not the hacking and gagging and spitting part ...</td>\n",
              "      <td>okay then how bout we try out some french cuis...</td>\n",
              "    </tr>\n",
              "    <tr>\n",
              "      <th>2</th>\n",
              "      <td>you re asking me out that s so cute what s you...</td>\n",
              "      <td>forget it</td>\n",
              "    </tr>\n",
              "    <tr>\n",
              "      <th>3</th>\n",
              "      <td>no no it s my fault we didn t have a proper in...</td>\n",
              "      <td>cameron</td>\n",
              "    </tr>\n",
              "    <tr>\n",
              "      <th>4</th>\n",
              "      <td>gosh if only we could find kat a boyfriend</td>\n",
              "      <td>let me see what i can do</td>\n",
              "    </tr>\n",
              "    <tr>\n",
              "      <th>...</th>\n",
              "      <td>...</td>\n",
              "      <td>...</td>\n",
              "    </tr>\n",
              "    <tr>\n",
              "      <th>139404</th>\n",
              "      <td>well that one the one who keeps looking at me</td>\n",
              "      <td>ft could be you flatter yourself coghill it s ...</td>\n",
              "    </tr>\n",
              "    <tr>\n",
              "      <th>139405</th>\n",
              "      <td>choose your targets men that s right watch tho...</td>\n",
              "      <td>keep steady you re the best shots of the twent...</td>\n",
              "    </tr>\n",
              "    <tr>\n",
              "      <th>139406</th>\n",
              "      <td>colonel durnford william vereker i hear you ve...</td>\n",
              "      <td>good ones yes mr vereker gentlemen who can rid...</td>\n",
              "    </tr>\n",
              "    <tr>\n",
              "      <th>139407</th>\n",
              "      <td>your orders mr vereker</td>\n",
              "      <td>i m to take the sikali with the main column to...</td>\n",
              "    </tr>\n",
              "    <tr>\n",
              "      <th>139408</th>\n",
              "      <td>i m to take the sikali with the main column to...</td>\n",
              "      <td>lord chelmsford seems to want me to stay back ...</td>\n",
              "    </tr>\n",
              "  </tbody>\n",
              "</table>\n",
              "<p>139409 rows \u00d7 2 columns</p>\n",
              "</div>\n",
              "      <button class=\"colab-df-convert\" onclick=\"convertToInteractive('df-782cfaa7-890a-4473-b40e-5f67763e6a49')\"\n",
              "              title=\"Convert this dataframe to an interactive table.\"\n",
              "              style=\"display:none;\">\n",
              "        \n",
              "  <svg xmlns=\"http://www.w3.org/2000/svg\" height=\"24px\"viewBox=\"0 0 24 24\"\n",
              "       width=\"24px\">\n",
              "    <path d=\"M0 0h24v24H0V0z\" fill=\"none\"/>\n",
              "    <path d=\"M18.56 5.44l.94 2.06.94-2.06 2.06-.94-2.06-.94-.94-2.06-.94 2.06-2.06.94zm-11 1L8.5 8.5l.94-2.06 2.06-.94-2.06-.94L8.5 2.5l-.94 2.06-2.06.94zm10 10l.94 2.06.94-2.06 2.06-.94-2.06-.94-.94-2.06-.94 2.06-2.06.94z\"/><path d=\"M17.41 7.96l-1.37-1.37c-.4-.4-.92-.59-1.43-.59-.52 0-1.04.2-1.43.59L10.3 9.45l-7.72 7.72c-.78.78-.78 2.05 0 2.83L4 21.41c.39.39.9.59 1.41.59.51 0 1.02-.2 1.41-.59l7.78-7.78 2.81-2.81c.8-.78.8-2.07 0-2.86zM5.41 20L4 18.59l7.72-7.72 1.47 1.35L5.41 20z\"/>\n",
              "  </svg>\n",
              "      </button>\n",
              "      \n",
              "  <style>\n",
              "    .colab-df-container {\n",
              "      display:flex;\n",
              "      flex-wrap:wrap;\n",
              "      gap: 12px;\n",
              "    }\n",
              "\n",
              "    .colab-df-convert {\n",
              "      background-color: #E8F0FE;\n",
              "      border: none;\n",
              "      border-radius: 50%;\n",
              "      cursor: pointer;\n",
              "      display: none;\n",
              "      fill: #1967D2;\n",
              "      height: 32px;\n",
              "      padding: 0 0 0 0;\n",
              "      width: 32px;\n",
              "    }\n",
              "\n",
              "    .colab-df-convert:hover {\n",
              "      background-color: #E2EBFA;\n",
              "      box-shadow: 0px 1px 2px rgba(60, 64, 67, 0.3), 0px 1px 3px 1px rgba(60, 64, 67, 0.15);\n",
              "      fill: #174EA6;\n",
              "    }\n",
              "\n",
              "    [theme=dark] .colab-df-convert {\n",
              "      background-color: #3B4455;\n",
              "      fill: #D2E3FC;\n",
              "    }\n",
              "\n",
              "    [theme=dark] .colab-df-convert:hover {\n",
              "      background-color: #434B5C;\n",
              "      box-shadow: 0px 1px 3px 1px rgba(0, 0, 0, 0.15);\n",
              "      filter: drop-shadow(0px 1px 2px rgba(0, 0, 0, 0.3));\n",
              "      fill: #FFFFFF;\n",
              "    }\n",
              "  </style>\n",
              "\n",
              "      <script>\n",
              "        const buttonEl =\n",
              "          document.querySelector('#df-782cfaa7-890a-4473-b40e-5f67763e6a49 button.colab-df-convert');\n",
              "        buttonEl.style.display =\n",
              "          google.colab.kernel.accessAllowed ? 'block' : 'none';\n",
              "\n",
              "        async function convertToInteractive(key) {\n",
              "          const element = document.querySelector('#df-782cfaa7-890a-4473-b40e-5f67763e6a49');\n",
              "          const dataTable =\n",
              "            await google.colab.kernel.invokeFunction('convertToInteractive',\n",
              "                                                     [key], {});\n",
              "          if (!dataTable) return;\n",
              "\n",
              "          const docLinkHtml = 'Like what you see? Visit the ' +\n",
              "            '<a target=\"_blank\" href=https://colab.research.google.com/notebooks/data_table.ipynb>data table notebook</a>'\n",
              "            + ' to learn more about interactive tables.';\n",
              "          element.innerHTML = '';\n",
              "          dataTable['output_type'] = 'display_data';\n",
              "          await google.colab.output.renderOutput(dataTable, element);\n",
              "          const docLink = document.createElement('div');\n",
              "          docLink.innerHTML = docLinkHtml;\n",
              "          element.appendChild(docLink);\n",
              "        }\n",
              "      </script>\n",
              "    </div>\n",
              "  </div>\n",
              "  "
            ],
            "text/plain": [
              "                                                 question                                             answer\n",
              "0       well i thought we d start with pronunciation i...  not the hacking and gagging and spitting part ...\n",
              "1       not the hacking and gagging and spitting part ...  okay then how bout we try out some french cuis...\n",
              "2       you re asking me out that s so cute what s you...                                          forget it\n",
              "3       no no it s my fault we didn t have a proper in...                                            cameron\n",
              "4              gosh if only we could find kat a boyfriend                           let me see what i can do\n",
              "...                                                   ...                                                ...\n",
              "139404      well that one the one who keeps looking at me  ft could be you flatter yourself coghill it s ...\n",
              "139405  choose your targets men that s right watch tho...  keep steady you re the best shots of the twent...\n",
              "139406  colonel durnford william vereker i hear you ve...  good ones yes mr vereker gentlemen who can rid...\n",
              "139407                             your orders mr vereker  i m to take the sikali with the main column to...\n",
              "139408  i m to take the sikali with the main column to...  lord chelmsford seems to want me to stay back ...\n",
              "\n",
              "[139409 rows x 2 columns]"
            ]
          },
          "execution_count": 15,
          "metadata": {},
          "output_type": "execute_result"
        }
      ],
      "source": [
        "data_df"
      ]
    },
    {
      "cell_type": "code",
      "execution_count": 16,
      "metadata": {
        "id": "Yb0bhAkNPMSg"
      },
      "outputs": [],
      "source": [
        "# add <start> and <end> tokens to the start and end of each sentence\n",
        "def add_start_end(text):\n",
        "    text = f\"<start> {text} <end>\"\n",
        "    return text\n",
        "\n",
        "\n",
        "data_df.question = data_df.question.map(add_start_end)\n",
        "data_df.answer = data_df.answer.map(add_start_end)"
      ]
    },
    {
      "cell_type": "code",
      "execution_count": 17,
      "metadata": {
        "colab": {
          "base_uri": "https://localhost:8080/",
          "height": 423
        },
        "id": "zwGm_T97PMSg",
        "outputId": "f5da052b-2f78-4582-a930-6072d34bf856"
      },
      "outputs": [
        {
          "data": {
            "text/html": [
              "\n",
              "  <div id=\"df-5439de5a-d1b6-431d-b324-84ad55d8111f\">\n",
              "    <div class=\"colab-df-container\">\n",
              "      <div>\n",
              "<style scoped>\n",
              "    .dataframe tbody tr th:only-of-type {\n",
              "        vertical-align: middle;\n",
              "    }\n",
              "\n",
              "    .dataframe tbody tr th {\n",
              "        vertical-align: top;\n",
              "    }\n",
              "\n",
              "    .dataframe thead th {\n",
              "        text-align: right;\n",
              "    }\n",
              "</style>\n",
              "<table border=\"1\" class=\"dataframe\">\n",
              "  <thead>\n",
              "    <tr style=\"text-align: right;\">\n",
              "      <th></th>\n",
              "      <th>question</th>\n",
              "      <th>answer</th>\n",
              "    </tr>\n",
              "  </thead>\n",
              "  <tbody>\n",
              "    <tr>\n",
              "      <th>0</th>\n",
              "      <td>&lt;start&gt; well i thought we d start with pronunc...</td>\n",
              "      <td>&lt;start&gt; not the hacking and gagging and spitti...</td>\n",
              "    </tr>\n",
              "    <tr>\n",
              "      <th>1</th>\n",
              "      <td>&lt;start&gt; not the hacking and gagging and spitti...</td>\n",
              "      <td>&lt;start&gt; okay then how bout we try out some fre...</td>\n",
              "    </tr>\n",
              "    <tr>\n",
              "      <th>2</th>\n",
              "      <td>&lt;start&gt; you re asking me out that s so cute wh...</td>\n",
              "      <td>&lt;start&gt; forget it &lt;end&gt;</td>\n",
              "    </tr>\n",
              "    <tr>\n",
              "      <th>3</th>\n",
              "      <td>&lt;start&gt; no no it s my fault we didn t have a p...</td>\n",
              "      <td>&lt;start&gt; cameron &lt;end&gt;</td>\n",
              "    </tr>\n",
              "    <tr>\n",
              "      <th>4</th>\n",
              "      <td>&lt;start&gt; gosh if only we could find kat a boyfr...</td>\n",
              "      <td>&lt;start&gt; let me see what i can do &lt;end&gt;</td>\n",
              "    </tr>\n",
              "    <tr>\n",
              "      <th>...</th>\n",
              "      <td>...</td>\n",
              "      <td>...</td>\n",
              "    </tr>\n",
              "    <tr>\n",
              "      <th>139404</th>\n",
              "      <td>&lt;start&gt; well that one the one who keeps lookin...</td>\n",
              "      <td>&lt;start&gt; ft could be you flatter yourself coghi...</td>\n",
              "    </tr>\n",
              "    <tr>\n",
              "      <th>139405</th>\n",
              "      <td>&lt;start&gt; choose your targets men that s right w...</td>\n",
              "      <td>&lt;start&gt; keep steady you re the best shots of t...</td>\n",
              "    </tr>\n",
              "    <tr>\n",
              "      <th>139406</th>\n",
              "      <td>&lt;start&gt; colonel durnford william vereker i hea...</td>\n",
              "      <td>&lt;start&gt; good ones yes mr vereker gentlemen who...</td>\n",
              "    </tr>\n",
              "    <tr>\n",
              "      <th>139407</th>\n",
              "      <td>&lt;start&gt; your orders mr vereker &lt;end&gt;</td>\n",
              "      <td>&lt;start&gt; i m to take the sikali with the main c...</td>\n",
              "    </tr>\n",
              "    <tr>\n",
              "      <th>139408</th>\n",
              "      <td>&lt;start&gt; i m to take the sikali with the main c...</td>\n",
              "      <td>&lt;start&gt; lord chelmsford seems to want me to st...</td>\n",
              "    </tr>\n",
              "  </tbody>\n",
              "</table>\n",
              "<p>139409 rows \u00d7 2 columns</p>\n",
              "</div>\n",
              "      <button class=\"colab-df-convert\" onclick=\"convertToInteractive('df-5439de5a-d1b6-431d-b324-84ad55d8111f')\"\n",
              "              title=\"Convert this dataframe to an interactive table.\"\n",
              "              style=\"display:none;\">\n",
              "        \n",
              "  <svg xmlns=\"http://www.w3.org/2000/svg\" height=\"24px\"viewBox=\"0 0 24 24\"\n",
              "       width=\"24px\">\n",
              "    <path d=\"M0 0h24v24H0V0z\" fill=\"none\"/>\n",
              "    <path d=\"M18.56 5.44l.94 2.06.94-2.06 2.06-.94-2.06-.94-.94-2.06-.94 2.06-2.06.94zm-11 1L8.5 8.5l.94-2.06 2.06-.94-2.06-.94L8.5 2.5l-.94 2.06-2.06.94zm10 10l.94 2.06.94-2.06 2.06-.94-2.06-.94-.94-2.06-.94 2.06-2.06.94z\"/><path d=\"M17.41 7.96l-1.37-1.37c-.4-.4-.92-.59-1.43-.59-.52 0-1.04.2-1.43.59L10.3 9.45l-7.72 7.72c-.78.78-.78 2.05 0 2.83L4 21.41c.39.39.9.59 1.41.59.51 0 1.02-.2 1.41-.59l7.78-7.78 2.81-2.81c.8-.78.8-2.07 0-2.86zM5.41 20L4 18.59l7.72-7.72 1.47 1.35L5.41 20z\"/>\n",
              "  </svg>\n",
              "      </button>\n",
              "      \n",
              "  <style>\n",
              "    .colab-df-container {\n",
              "      display:flex;\n",
              "      flex-wrap:wrap;\n",
              "      gap: 12px;\n",
              "    }\n",
              "\n",
              "    .colab-df-convert {\n",
              "      background-color: #E8F0FE;\n",
              "      border: none;\n",
              "      border-radius: 50%;\n",
              "      cursor: pointer;\n",
              "      display: none;\n",
              "      fill: #1967D2;\n",
              "      height: 32px;\n",
              "      padding: 0 0 0 0;\n",
              "      width: 32px;\n",
              "    }\n",
              "\n",
              "    .colab-df-convert:hover {\n",
              "      background-color: #E2EBFA;\n",
              "      box-shadow: 0px 1px 2px rgba(60, 64, 67, 0.3), 0px 1px 3px 1px rgba(60, 64, 67, 0.15);\n",
              "      fill: #174EA6;\n",
              "    }\n",
              "\n",
              "    [theme=dark] .colab-df-convert {\n",
              "      background-color: #3B4455;\n",
              "      fill: #D2E3FC;\n",
              "    }\n",
              "\n",
              "    [theme=dark] .colab-df-convert:hover {\n",
              "      background-color: #434B5C;\n",
              "      box-shadow: 0px 1px 3px 1px rgba(0, 0, 0, 0.15);\n",
              "      filter: drop-shadow(0px 1px 2px rgba(0, 0, 0, 0.3));\n",
              "      fill: #FFFFFF;\n",
              "    }\n",
              "  </style>\n",
              "\n",
              "      <script>\n",
              "        const buttonEl =\n",
              "          document.querySelector('#df-5439de5a-d1b6-431d-b324-84ad55d8111f button.colab-df-convert');\n",
              "        buttonEl.style.display =\n",
              "          google.colab.kernel.accessAllowed ? 'block' : 'none';\n",
              "\n",
              "        async function convertToInteractive(key) {\n",
              "          const element = document.querySelector('#df-5439de5a-d1b6-431d-b324-84ad55d8111f');\n",
              "          const dataTable =\n",
              "            await google.colab.kernel.invokeFunction('convertToInteractive',\n",
              "                                                     [key], {});\n",
              "          if (!dataTable) return;\n",
              "\n",
              "          const docLinkHtml = 'Like what you see? Visit the ' +\n",
              "            '<a target=\"_blank\" href=https://colab.research.google.com/notebooks/data_table.ipynb>data table notebook</a>'\n",
              "            + ' to learn more about interactive tables.';\n",
              "          element.innerHTML = '';\n",
              "          dataTable['output_type'] = 'display_data';\n",
              "          await google.colab.output.renderOutput(dataTable, element);\n",
              "          const docLink = document.createElement('div');\n",
              "          docLink.innerHTML = docLinkHtml;\n",
              "          element.appendChild(docLink);\n",
              "        }\n",
              "      </script>\n",
              "    </div>\n",
              "  </div>\n",
              "  "
            ],
            "text/plain": [
              "                                                 question                                             answer\n",
              "0       <start> well i thought we d start with pronunc...  <start> not the hacking and gagging and spitti...\n",
              "1       <start> not the hacking and gagging and spitti...  <start> okay then how bout we try out some fre...\n",
              "2       <start> you re asking me out that s so cute wh...                            <start> forget it <end>\n",
              "3       <start> no no it s my fault we didn t have a p...                              <start> cameron <end>\n",
              "4       <start> gosh if only we could find kat a boyfr...             <start> let me see what i can do <end>\n",
              "...                                                   ...                                                ...\n",
              "139404  <start> well that one the one who keeps lookin...  <start> ft could be you flatter yourself coghi...\n",
              "139405  <start> choose your targets men that s right w...  <start> keep steady you re the best shots of t...\n",
              "139406  <start> colonel durnford william vereker i hea...  <start> good ones yes mr vereker gentlemen who...\n",
              "139407               <start> your orders mr vereker <end>  <start> i m to take the sikali with the main c...\n",
              "139408  <start> i m to take the sikali with the main c...  <start> lord chelmsford seems to want me to st...\n",
              "\n",
              "[139409 rows x 2 columns]"
            ]
          },
          "execution_count": 17,
          "metadata": {},
          "output_type": "execute_result"
        }
      ],
      "source": [
        "data_df"
      ]
    },
    {
      "cell_type": "markdown",
      "metadata": {
        "id": "5BalU0wV405I"
      },
      "source": [
        "## Tokenize the Sentences"
      ]
    },
    {
      "cell_type": "code",
      "execution_count": 18,
      "metadata": {
        "id": "CdcDxUTWPMSh"
      },
      "outputs": [],
      "source": [
        "# Create the sequence & tokenizer for the data\n",
        "def tokenize(lang):\n",
        "    # create a tokenizer object\n",
        "    lang_tokenizer = tf.keras.preprocessing.text.Tokenizer(\n",
        "        oov_token=\"<OOV>\", filters='!\"#$%&()*+,-./:;=?@[\\\\]^_`{|}~\\t\\n'\n",
        "    )  # remove  < and >  from the filter list\n",
        "    # fit the tokenizer on the texts\n",
        "    lang_tokenizer.fit_on_texts(lang)\n",
        "    # tokenize the texts and create a seqence\n",
        "    tensor = lang_tokenizer.texts_to_sequences(lang)\n",
        "    # pad the sequences\n",
        "    tensor = tf.keras.preprocessing.sequence.pad_sequences(tensor, padding=\"post\")\n",
        "    # return the tokenizer and the sequence\n",
        "\n",
        "    return tensor, lang_tokenizer"
      ]
    },
    {
      "cell_type": "code",
      "execution_count": 19,
      "metadata": {
        "id": "JgvPLMfHPMSh"
      },
      "outputs": [],
      "source": [
        "# create the tokenizer and the sequence for the questions\n",
        "question_sequence, question_tokenizer = tokenize(data_df.question)\n",
        "# create the tokenizer and the sequence for the answers\n",
        "answer_sequence, answer_tokenizer = tokenize(data_df.answer)"
      ]
    },
    {
      "cell_type": "code",
      "execution_count": 20,
      "metadata": {
        "id": "SjgcBK6zVghP"
      },
      "outputs": [],
      "source": [
        "# create nesseary variables\n",
        "# the size of the vocabulary for the question and the answer\n",
        "vocab_inp_size = len(question_tokenizer.word_index) + 1\n",
        "vocab_tar_size = len(answer_tokenizer.word_index) + 1\n",
        "# set the embedding dimension for the question and answer\n",
        "embedding_dim = 256\n",
        "# set the hidden units for the encoder and the decoder\n",
        "units = 1024\n",
        "# set the batch size\n",
        "batch_size = 32"
      ]
    },
    {
      "cell_type": "markdown",
      "metadata": {
        "id": "94Jb-6k_405K"
      },
      "source": [
        "## split the data into train and test"
      ]
    },
    {
      "cell_type": "code",
      "execution_count": 21,
      "metadata": {
        "id": "8yMCWq1oRpT8"
      },
      "outputs": [],
      "source": [
        "x_train, x_test, y_train, y_test = model_selection.train_test_split(\n",
        "    question_sequence, answer_sequence, test_size=0.1\n",
        ")"
      ]
    },
    {
      "cell_type": "code",
      "execution_count": 22,
      "metadata": {
        "colab": {
          "base_uri": "https://localhost:8080/"
        },
        "id": "9iPdNF4nbgRV",
        "outputId": "29398a3c-b6b8-41b3-f682-82ef0dce9ce1"
      },
      "outputs": [
        {
          "data": {
            "text/plain": [
              "(125468, 29)"
            ]
          },
          "execution_count": 22,
          "metadata": {},
          "output_type": "execute_result"
        }
      ],
      "source": [
        "x_train.shape  # get the shape of the training data"
      ]
    },
    {
      "cell_type": "code",
      "execution_count": 23,
      "metadata": {
        "id": "qckvhqepPMSj"
      },
      "outputs": [],
      "source": [
        "# create converters for the question and answer\n",
        "# the converters are used to convert the index to the word\n",
        "def convert(token, tensor):\n",
        "    for t in tensor:\n",
        "        if t != 0:\n",
        "            print(\"%d ----> %s\" % (t, token.index_word[t]))"
      ]
    },
    {
      "cell_type": "code",
      "execution_count": 24,
      "metadata": {
        "colab": {
          "base_uri": "https://localhost:8080/"
        },
        "id": "XoCJiZvkPMSj",
        "outputId": "829e9f2b-75d7-44a4-f748-a628e1952f74"
      },
      "outputs": [
        {
          "name": "stdout",
          "output_type": "stream",
          "text": [
            "question ; index to word mapping\n",
            "2 ----> <start>\n",
            "32 ----> my\n",
            "1331 ----> gift\n",
            "7 ----> to\n",
            "4 ----> you\n",
            "3 ----> <end>\n",
            "\n",
            "answar; index to word mapping\n",
            "2 ----> <start>\n",
            "452 ----> under\n",
            "6 ----> the\n",
            "891 ----> table\n",
            "3 ----> <end>\n"
          ]
        }
      ],
      "source": [
        "# convert simple question sentence to word\n",
        "print(\"question ; index to word mapping\")\n",
        "convert(question_tokenizer, x_train[0])\n",
        "print()\n",
        "print(\"answar; index to word mapping\")\n",
        "convert(answer_tokenizer, y_train[0])"
      ]
    },
    {
      "cell_type": "markdown",
      "metadata": {
        "id": "SOpxDQvD405M"
      },
      "source": [
        "# Create the Data Pipeline for the Model"
      ]
    },
    {
      "cell_type": "code",
      "execution_count": 26,
      "metadata": {
        "id": "29N5EwtMSzT2"
      },
      "outputs": [],
      "source": [
        "# create the data pipeline for the training data\n",
        "def create_data_pipline(x, y, batch_size=32):\n",
        "    data = tf.data.Dataset.from_tensor_slices((x, y))\n",
        "    # shuffle the data\n",
        "    data = data.shuffle(1028)\n",
        "    # batch the data\n",
        "    # set the drop_remainder to true to drop the last batch if the size of it not equal to 32\n",
        "    data = data.batch(batch_size, drop_remainder=True)\n",
        "    # prefetch the data\n",
        "    data = data.prefetch(tf.data.AUTOTUNE)\n",
        "    # return the data\n",
        "    return data\n",
        "\n",
        "\n",
        "# create the data pipeline for the training data\n",
        "train_dataset = create_data_pipline(x_train, y_train)\n",
        "# create the data pipeline for the testing data\n",
        "test_dataset = create_data_pipline(x_test, y_test)"
      ]
    },
    {
      "cell_type": "code",
      "execution_count": 27,
      "metadata": {
        "colab": {
          "base_uri": "https://localhost:8080/"
        },
        "id": "UNLRx67bV-tr",
        "outputId": "aa972d68-0184-44ae-d1a6-b02b3f70704f"
      },
      "outputs": [
        {
          "name": "stdout",
          "output_type": "stream",
          "text": [
            "question:(32, 29)\n",
            "[[    2  9480  7877 26838  1324  2148   376    12  6658    54     4   290\n",
            "      3     0     0     0     0     0     0     0     0     0     0     0\n",
            "      0     0     0     0     0]\n",
            " [    2   125    49    47     8    86  3209  1271    10  7572    13   755\n",
            "   1280   190  3430     3     0     0     0     0     0     0     0     0\n",
            "      0     0     0     0     0]\n",
            " [    2   681     4    21    11    28     7    59   118    47     3     0\n",
            "      0     0     0     0     0     0     0     0     0     0     0     0\n",
            "      0     0     0     0     0]\n",
            " [    2  1281    24     3     0     0     0     0     0     0     0     0\n",
            "      0     0     0     0     0     0     0     0     0     0     0     0\n",
            "      0     0     0     0     0]\n",
            " [    2   179   215    61     3     0     0     0     0     0     0     0\n",
            "      0     0     0     0     0     0     0     0     0     0     0     0\n",
            "      0     0     0     0     0]\n",
            " [    2    51     8  1244    10   203  5049     3     0     0     0     0\n",
            "      0     0     0     0     0     0     0     0     0     0     0     0\n",
            "      0     0     0     0     0]\n",
            " [    2    12     8     6   267    41     4    20     5    88  1539     7\n",
            "      4     3     0     0     0     0     0     0     0     0     0     0\n",
            "      0     0     0     0     0]\n",
            " [    2     5    26     9     8   343     7   170    49     9     8   374\n",
            "      3     0     0     0     0     0     0     0     0     0     0     0\n",
            "      0     0     0     0     0]\n",
            " [    2     9     8  5595     3     0     0     0     0     0     0     0\n",
            "      0     0     0     0     0     0     0     0     0     0     0     0\n",
            "      0     0     0     0     0]\n",
            " [    2    22   724     7     4     3     0     0     0     0     0     0\n",
            "      0     0     0     0     0     0     0     0     0     0     0     0\n",
            "      0     0     0     0     0]\n",
            " [    2    47     8    33   112    19   159     4    34   527     7    73\n",
            "     18     3     0     0     0     0     0     0     0     0     0     0\n",
            "      0     0     0     0     0]\n",
            " [    2    18    12   582    91     4   565     3     0     0     0     0\n",
            "      0     0     0     0     0     0     0     0     0     0     0     0\n",
            "      0     0     0     0     0]\n",
            " [    2     4   108     3     0     0     0     0     0     0     0     0\n",
            "      0     0     0     0     0     0     0     0     0     0     0     0\n",
            "      0     0     0     0     0]\n",
            " [    2   227    27    31  8385    14     3     0     0     0     0     0\n",
            "      0     0     0     0     0     0     0     0     0     0     0     0\n",
            "      0     0     0     0     0]\n",
            " [    2    12     5    93    15     4    56    58   179    20     4    56\n",
            "     58     5   259    87    20     4    56     4    95   967    14     3\n",
            "      0     0     0     0     0]\n",
            " [    2    20     4   141    14     3     0     0     0     0     0     0\n",
            "      0     0     0     0     0     0     0     0     0     0     0     0\n",
            "      0     0     0     0     0]\n",
            " [    2    22   386     9    36     6   112    60     3     0     0     0\n",
            "      0     0     0     0     0     0     0     0     0     0     0     0\n",
            "      0     0     0     0     0]\n",
            " [    2    18    12    29     4    10   694     3     0     0     0     0\n",
            "      0     0     0     0     0     0     0     0     0     0     0     0\n",
            "      0     0     0     0     0]\n",
            " [    2    49     9  4224  1344     6 18437  1271    16     6  4384    47\n",
            "      8    33   112   118     3     0     0     0     0     0     0     0\n",
            "      0     0     0     0     0]\n",
            " [    2   545  9802     3     0     0     0     0     0     0     0     0\n",
            "      0     0     0     0     0     0     0     0     0     0     0     0\n",
            "      0     0     0     0     0]\n",
            " [    2   105    70     6   162    84     4   251    30   300    35    91\n",
            "      3     0     0     0     0     0     0     0     0     0     0     0\n",
            "      0     0     0     0     0]\n",
            " [    2   762     3     0     0     0     0     0     0     0     0     0\n",
            "      0     0     0     0     0     0     0     0     0     0     0     0\n",
            "      0     0     0     0     0]\n",
            " [    2     5    85    28 26913   792   175    14     3     0     0     0\n",
            "      0     0     0     0     0     0     0     0     0     0     0     0\n",
            "      0     0     0     0     0]\n",
            " [    2     5    23    10  5110     3     0     0     0     0     0     0\n",
            "      0     0     0     0     0     0     0     0     0     0     0     0\n",
            "      0     0     0     0     0]\n",
            " [    2     4    25   592    16   171     3     0     0     0     0     0\n",
            "      0     0     0     0     0     0     0     0     0     0     0     0\n",
            "      0     0     0     0     0]\n",
            " [    2  2329    53    65    51    15     3     0     0     0     0     0\n",
            "      0     0     0     0     0     0     0     0     0     0     0     0\n",
            "      0     0     0     0     0]\n",
            " [    2     5   109    33   135    16 10528     4  5546     3     0     0\n",
            "      0     0     0     0     0     0     0     0     0     0     0     0\n",
            "      0     0     0     0     0]\n",
            " [    2    12     4    52   288    27     3     0     0     0     0     0\n",
            "      0     0     0     0     0     0     0     0     0     0     0     0\n",
            "      0     0     0     0     0]\n",
            " [    2     4    63   104    83     3     0     0     0     0     0     0\n",
            "      0     0     0     0     0     0     0     0     0     0     0     0\n",
            "      0     0     0     0     0]\n",
            " [    2   263     5    81     4   976   232   615     3     0     0     0\n",
            "      0     0     0     0     0     0     0     0     0     0     0     0\n",
            "      0     0     0     0     0]\n",
            " [    2   125    24    15     6   155    65   222   903   515    66    27\n",
            "     10   444     3     0     0     0     0     0     0     0     0     0\n",
            "      0     0     0     0     0]\n",
            " [    2     9     8   224   320    18   369   481    39   100     9     3\n",
            "      0     0     0     0     0     0     0     0     0     0     0     0\n",
            "      0     0     0     0     0]]\n",
            "answer:(32, 32)\n",
            "[[    2   184 26647 ...     0     0     0]\n",
            " [    2   554   136 ...     0     0     0]\n",
            " [    2     4    55 ...     0     0     0]\n",
            " ...\n",
            " [    2     9   151 ...     0     0     0]\n",
            " [    2     4   310 ...     0     0     0]\n",
            " [    2    13    23 ...     0     0     0]]\n"
          ]
        }
      ],
      "source": [
        "# get the first batch of the training data\n",
        "for question, answer in train_dataset.take(1):\n",
        "    print(f\"question:{question.shape}\\n{question}\")\n",
        "\n",
        "    print(f\"answer:{answer.shape}\\n{answer}\")\n",
        "    question_sample = question\n",
        "    answer_sample = answer"
      ]
    },
    {
      "cell_type": "markdown",
      "metadata": {
        "id": "Nbvwqbci405N"
      },
      "source": [
        "# Create the Seq2Seq Model Architecture"
      ]
    },
    {
      "cell_type": "markdown",
      "metadata": {
        "id": "qmClOrKj405N"
      },
      "source": [
        "Let\u2019s take a look at a simple neural machine translation model that will translate\n",
        "English sentences to Spanish.\n",
        "In short, the English sentences are fed to the encoder, and the decoder outputs the\n",
        "Spanish translations. Note that the Spanish translations are also used as inputs to the\n",
        "decoder, but shifted back by one step. In other words, the decoder is given as input\n",
        "the word that it should have output at the previous step (regardless of what it actually\n",
        "output). For the very first word, it is given the start-of-sequence (`<START>`) token. The\n",
        "decoder is expected to end the sentence with an end-of-sequence (`<END>`) token.\n",
        "\n",
        "Each word is initially represented by its ID (e.g., 288 for the word \u201cmilk\u201d). Next, an\n",
        "embedding layer returns the word embedding. These word embeddings are what is\n",
        "actually fed to the encoder and the decoder."
      ]
    },
    {
      "cell_type": "markdown",
      "metadata": {
        "id": "Arqjsm1W405V"
      },
      "source": [
        "## Encoder Model"
      ]
    },
    {
      "cell_type": "markdown",
      "metadata": {
        "id": "uhDKEzJ_405V"
      },
      "source": [
        "The encoder is at the feeding end; it understands the sequence and reduces the dimension of the input sequence. The sequence has a fixed size known as the context vector. This context vector acts like input to the decoder, which generates an output sequence when reaching the end token. Hence, you can call these seq2seq models encoder-decoder models."
      ]
    },
    {
      "cell_type": "markdown",
      "metadata": {
        "id": "RjWCOlOx2BGn"
      },
      "source": [
        "![image.png](data:image/png;base64,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)"
      ]
    },
    {
      "cell_type": "code",
      "execution_count": 49,
      "metadata": {
        "id": "drhJgAPZU0GD"
      },
      "outputs": [],
      "source": [
        "# Create the encoder model\n",
        "class Encoder(tf.keras.Model):\n",
        "    def __init__(self, vocab_size, embedding_dim, encoder_units, batch_size):\n",
        "        super(Encoder, self).__init__()\n",
        "        #\n",
        "        self.batch_size = batch_size\n",
        "        self.encoder_units = encoder_units\n",
        "        # create the embedding layer\n",
        "        # mask_zero is set to True to ignore the zero padding\n",
        "        self.embedding = tf.keras.layers.Embedding(\n",
        "            vocab_size, embedding_dim, mask_zero=True\n",
        "        )\n",
        "        # create the GRU layer and return the sequences and the state\n",
        "        self.gru = tf.keras.layers.GRU(\n",
        "            self.encoder_units,\n",
        "            return_sequences=True,\n",
        "            return_state=True,\n",
        "            recurrent_initializer=\"glorot_uniform\",\n",
        "        )\n",
        "\n",
        "    def call(self, x, hidden):\n",
        "        # pass the input through the embedding layer\n",
        "        x = self.embedding(x)\n",
        "        # pass the input through the GRU layer and return the sequences and the state\n",
        "        # for this application there is no need to the ouptut of the GRU layer\n",
        "        # the state shape of the GRU layer is (batch_size, encoder_units)\n",
        "        # the sequences shape of the GRU layer is (batch_size, max_length, encoder_units)\n",
        "        output, state = self.gru(x, initial_state=hidden)\n",
        "\n",
        "        # return the output and the state\n",
        "        return output, state\n",
        "\n",
        "    # initialize the hidden state\n",
        "    def initialize_hidden_state(self):\n",
        "        # create a tensor of zeros of shape [batch_size, encoder_units]\n",
        "        return tf.zeros((self.batch_size, self.encoder_units))"
      ]
    },
    {
      "cell_type": "markdown",
      "metadata": {
        "id": "oe9sPtP5405W"
      },
      "source": [
        "## Decoder Model"
      ]
    },
    {
      "cell_type": "markdown",
      "metadata": {
        "id": "Dpnm8-ym405W"
      },
      "source": [
        "If you use GRU for the encoder, use the same for the decoder. But it's slightly more complex than the encoder network. You can say the decoder is in an \"aware state.\" It knows what words you have generated so far and what the previous hidden state was. \n",
        "\n",
        "The first layer of the decoder is initialized by using the context vector 'C' from the encoder network to generate the output. \n",
        "\n",
        "Then a special token is applied at the start to indicate the output generation. It applies a similar token at the end. The first output word is generated by running the stacked GRU layers. A SoftMax activation function applies to the last layer. \n",
        "\n",
        "Its job is to introduce non-linearity in the network. \n",
        "\n",
        "Now this word is passed through the remaining layers and the generation sequence is repeated.\n",
        "\n"
      ]
    },
    {
      "cell_type": "code",
      "execution_count": 50,
      "metadata": {
        "id": "q3gLCtcbWGO7"
      },
      "outputs": [],
      "source": [
        "# Create the decoder model\n",
        "class Decoder(tf.keras.Model):\n",
        "    def __init__(self, vocab_size, embedding_dim, decoder_units, batch_size):\n",
        "        super(Decoder, self).__init__()\n",
        "        self.batch_size = batch_size\n",
        "        self.decoder_units = decoder_units\n",
        "        # create the embedding layer\n",
        "        # mask_zero is set to True to ignore the zero padding\n",
        "        self.embedding = tf.keras.layers.Embedding(\n",
        "            vocab_size, embedding_dim, mask_zero=True\n",
        "        )\n",
        "        # create the GRU layer and return the sequences and the state\n",
        "        self.gru = tf.keras.layers.GRU(\n",
        "            self.decoder_units,\n",
        "            return_sequences=True,\n",
        "            return_state=True,\n",
        "            recurrent_initializer=\"glorot_uniform\",\n",
        "        )\n",
        "        # create the dense layer to map the output of the GRU layer to the vocabulary size\n",
        "        self.fc = tf.keras.layers.Dense(vocab_size)\n",
        "\n",
        "    def call(self, x, hidden):\n",
        "\n",
        "        # pass the input through the embedding layer\n",
        "        x = self.embedding(x)\n",
        "\n",
        "        # passing the input to the GRU with the previous hidden state as the initial state.\n",
        "        # the shape of the output of the GRU layer is (batch_size, max_length, decoder_units)\n",
        "        # the shape of the state is (batch_size, decoder_units)\n",
        "        # the shape of hidden is (batch_size, decoder_units)\n",
        "        output, hidden = self.gru(x, hidden)\n",
        "\n",
        "        # output shape == (batch_size * 1, hidden_size)\n",
        "        output = tf.reshape(output, (-1, output.shape[2]))\n",
        "\n",
        "        # output shape == (batch_size, vocab)\n",
        "        x = tf.nn.softmax(self.fc(output))\n",
        "\n",
        "        return x, hidden"
      ]
    },
    {
      "cell_type": "markdown",
      "metadata": {
        "id": "Pwvz4Btu405W"
      },
      "source": [
        "## Test the Encoder and Decoder Models"
      ]
    },
    {
      "cell_type": "code",
      "execution_count": 51,
      "metadata": {
        "colab": {
          "base_uri": "https://localhost:8080/"
        },
        "id": "6FUvD-I0VWuy",
        "outputId": "6ed26aa3-7e96-4a29-fcfe-516a53294caf"
      },
      "outputs": [
        {
          "name": "stdout",
          "output_type": "stream",
          "text": [
            "Encoder output shape: (batch size, sequence length, units) (32, 29, 1024)\n",
            "Encoder Hidden state shape: (batch size, units) (32, 1024)\n"
          ]
        }
      ],
      "source": [
        "encoder = Encoder(vocab_inp_size, embedding_dim, units, batch_size)\n",
        "\n",
        "# sample input\n",
        "# inilize the hidden state with zeros\n",
        "# the shape of hidden is (batch_size, units)\n",
        "sample_hidden = encoder.initialize_hidden_state()\n",
        "sample_output, sample_hidden = encoder(question, sample_hidden)\n",
        "print(\n",
        "    \"Encoder output shape: (batch size, sequence length, units) {}\".format(\n",
        "        sample_output.shape\n",
        "    )\n",
        ")\n",
        "print(\"Encoder Hidden state shape: (batch size, units) {}\".format(sample_hidden.shape))"
      ]
    },
    {
      "cell_type": "code",
      "execution_count": 52,
      "metadata": {
        "colab": {
          "base_uri": "https://localhost:8080/"
        },
        "id": "HD_sHRO1Wj0D",
        "outputId": "6d9b8d06-2f5d-4d3e-ca96-afc60c651cfc"
      },
      "outputs": [
        {
          "name": "stdout",
          "output_type": "stream",
          "text": [
            "Decoder output shape: (batch_size, vocab size) (32, 27849)\n"
          ]
        }
      ],
      "source": [
        "decoder = Decoder(vocab_tar_size, embedding_dim, units, batch_size)\n",
        "# the shape of sample hidden is (batch_size, units)\n",
        "sample_decoder_output, _ = decoder(tf.random.uniform((batch_size, 1)), sample_hidden)\n",
        "\n",
        "print(\n",
        "    \"Decoder output shape: (batch_size, vocab size) {}\".format(\n",
        "        sample_decoder_output.shape\n",
        "    )\n",
        ")"
      ]
    },
    {
      "cell_type": "markdown",
      "metadata": {
        "id": "Q6YKrJYz405Y"
      },
      "source": [
        "# Create the Optimizer and the Loss Function"
      ]
    },
    {
      "cell_type": "code",
      "execution_count": 53,
      "metadata": {
        "id": "rlfT6lw3WsaE"
      },
      "outputs": [],
      "source": [
        "# create the optimizer using the Adam optimizer\n",
        "optimizer = tf.keras.optimizers.Adam()\n",
        "# create the loss function\n",
        "loss_object = tf.keras.losses.SparseCategoricalCrossentropy(\n",
        "    from_logits=False, reduction=\"none\"\n",
        ")\n",
        "\n",
        "# define the loss function for the training\n",
        "def loss_function(real, pred):\n",
        "    # create the mask to ignore the padding tokens\n",
        "    mask = tf.math.logical_not(tf.math.equal(real, 0))\n",
        "    # mask shape == (batch_size, sequence_length)\n",
        "    # calculate the loss\n",
        "    loss_ = loss_object(real, pred)\n",
        "    # mask the loss\n",
        "    # how the mask works:\n",
        "    # if the value is 1, the loss is calculated\n",
        "    # if the value is 0, the loss is ignored\n",
        "    # [1,1,1,1,1,1,0,0,0,0,0] mask\n",
        "    # *\n",
        "    # [2,6,2,1,6,3,2,1,5,7,9] input\n",
        "    # =\n",
        "    # [2,6,2,1,6,3,0,0,0,0,0] output\n",
        "    mask = tf.cast(mask, dtype=loss_.dtype)\n",
        "    # mask shape == (batch_size, sequence_length)\n",
        "\n",
        "    loss_ *= mask\n",
        "    # calculate the average loss per batch\n",
        "    return tf.reduce_mean(loss_)"
      ]
    },
    {
      "cell_type": "code",
      "execution_count": 54,
      "metadata": {
        "id": "882rNCsP405Z"
      },
      "outputs": [],
      "source": [
        "# create the training metric\n",
        "train_loss = tf.metrics.Mean(name=\"train loss\")\n",
        "# create the testing metric\n",
        "test_loss = tf.metrics.Mean(name=\"test loss\")"
      ]
    },
    {
      "cell_type": "markdown",
      "metadata": {
        "id": "39NpAImO405Z"
      },
      "source": [
        "# Create the Training Step "
      ]
    },
    {
      "cell_type": "markdown",
      "metadata": {
        "id": "xOX7TeNN405a"
      },
      "source": [
        "## Computing Gradients Using Autodiff\n",
        "\n"
      ]
    },
    {
      "cell_type": "markdown",
      "metadata": {
        "id": "qR91XUHR405a"
      },
      "source": [
        "[Automatic differentiation](https://en.wikipedia.org/wiki/Automatic_differentiation) is useful for implementing machine learning algorithms such as backpropagation for training neural networks.\n",
        "\n",
        "In this guide, you will explore ways to compute gradients with TensorFlow, especially in eager execution.\n"
      ]
    },
    {
      "cell_type": "markdown",
      "metadata": {
        "id": "4-xO5nzr405a"
      },
      "source": [
        "To in inderstand how to compute gradients with TensorFlow, you need to understand the automatic differentiation process.\n",
        "for example, if you have a function f(x) and you want to compute the gradient of f(x), you can use the following code:\n",
        "\n"
      ]
    },
    {
      "cell_type": "code",
      "execution_count": 55,
      "metadata": {
        "colab": {
          "base_uri": "https://localhost:8080/"
        },
        "id": "Z3WYf37N405a",
        "outputId": "7c522dc7-797c-44b9-c015-cc43baff91c7"
      },
      "outputs": [
        {
          "name": "stdout",
          "output_type": "stream",
          "text": [
            "105.0\n"
          ]
        }
      ],
      "source": [
        "def f(w1, w2):\n",
        "\n",
        "    return 3.0 * w1**2.0 + 2.0 * w1 * w2\n",
        "\n",
        "\n",
        "z = f(5, 3)\n",
        "print(z)"
      ]
    },
    {
      "cell_type": "markdown",
      "metadata": {
        "id": "ZPiLzYjX405b"
      },
      "source": [
        "\n",
        "If you know calculus, you can analytically find that the partial derivative of this function with regard to `w1` is` 6 * w1 + 2 * w2`. \n",
        "You can also find that its partial derivative with regard to `w2` is `2 * w1`.\n",
        "\n",
        "For example, at the point `(w1, w2) = (5, 3)`, these partial derivatives are equal to `36` and `10`, respectively, so the gradient vector at this point is `(36, 10)`. \n",
        "But if this were a neural network, the function would be much more complex, typically with tens of thousands of parameters, and finding the partial derivatives analytically by hand would be an almost impossible task. \n",
        "\n",
        "TensorFlow provides a way to compute the partial derivatives of a function with regard to its parameters automatically.\n",
        "TensorFlow makes this pretty simple by using the [GradientTape](https://www.tensorflow.org/guide/autodiff) class.\n",
        "\n",
        "Fro example, if you have a function `f(x)` and you want to compute the gradient of `f(x)`, you can use the following code:\n",
        "\n"
      ]
    },
    {
      "cell_type": "code",
      "execution_count": 56,
      "metadata": {
        "id": "OwEpSwry405b"
      },
      "outputs": [],
      "source": [
        "# create two trainble variables using tf.Variable\n",
        "w1, w2 = tf.Variable(5.0), tf.Variable(3.0)\n",
        "with tf.GradientTape() as tape:\n",
        "    z = f(w1, w2)\n",
        "\n",
        "gradients = tape.gradient(z, [w1, w2])"
      ]
    },
    {
      "cell_type": "markdown",
      "metadata": {
        "id": "Y1BLNDN3405b"
      },
      "source": [
        "We first define two variables `w1` and `w2`, then we create a `tf.GradientTape` context\n",
        "that will automatically record every operation that involves a variable, and finally we\n",
        "ask this tape to compute the gradients of the result `z` with regard to both variables\n",
        "`[w1, w2]`. Let\u2019s take a look at the gradients that TensorFlow computed:"
      ]
    },
    {
      "cell_type": "code",
      "execution_count": 57,
      "metadata": {
        "colab": {
          "base_uri": "https://localhost:8080/"
        },
        "id": "9l8bPAg_405c",
        "outputId": "ee4c797e-5a46-4d01-fa2a-5edb036301c2"
      },
      "outputs": [
        {
          "name": "stdout",
          "output_type": "stream",
          "text": [
            "[<tf.Tensor: shape=(), dtype=float32, numpy=36.0>, <tf.Tensor: shape=(), dtype=float32, numpy=10.0>]\n"
          ]
        }
      ],
      "source": [
        "print(gradients)"
      ]
    },
    {
      "cell_type": "markdown",
      "metadata": {
        "id": "m7PGaRUt405c"
      },
      "source": [
        "Perfect! Not only is the result accurate (the precision is only limited by the floating point errors), but the `gradient()` method only goes through the recorded computations once (in reverse order), no matter how many variables there are, so it is\n",
        "incredibly efficient. It\u2019s like magic!"
      ]
    },
    {
      "cell_type": "markdown",
      "metadata": {
        "id": "jTY63DIH405c"
      },
      "source": [
        "The tape is automatically erased immediately after you call its `gradient()` method, so\n",
        "you will get an exception if you try to call `gradient()` twice:"
      ]
    },
    {
      "cell_type": "code",
      "execution_count": 58,
      "metadata": {
        "colab": {
          "base_uri": "https://localhost:8080/",
          "height": 338
        },
        "id": "SYpXWP0I405d",
        "outputId": "dd2a3a83-e648-4e2b-a754-78a57df9f9e1"
      },
      "outputs": [
        {
          "ename": "RuntimeError",
          "evalue": "ignored",
          "output_type": "error",
          "traceback": [
            "\u001b[0;31m---------------------------------------------------------------------------\u001b[0m",
            "\u001b[0;31mRuntimeError\u001b[0m                              Traceback (most recent call last)",
            "\u001b[0;32m<ipython-input-58-6d7bacb6e769>\u001b[0m in \u001b[0;36m<module>\u001b[0;34m()\u001b[0m\n\u001b[1;32m      2\u001b[0m     \u001b[0mz\u001b[0m \u001b[0;34m=\u001b[0m \u001b[0mf\u001b[0m\u001b[0;34m(\u001b[0m\u001b[0mw1\u001b[0m\u001b[0;34m,\u001b[0m \u001b[0mw2\u001b[0m\u001b[0;34m)\u001b[0m\u001b[0;34m\u001b[0m\u001b[0;34m\u001b[0m\u001b[0m\n\u001b[1;32m      3\u001b[0m \u001b[0mdz_dw1\u001b[0m \u001b[0;34m=\u001b[0m \u001b[0mtape\u001b[0m\u001b[0;34m.\u001b[0m\u001b[0mgradient\u001b[0m\u001b[0;34m(\u001b[0m\u001b[0mz\u001b[0m\u001b[0;34m,\u001b[0m \u001b[0mw1\u001b[0m\u001b[0;34m)\u001b[0m \u001b[0;31m# => tensor 36.0\u001b[0m\u001b[0;34m\u001b[0m\u001b[0;34m\u001b[0m\u001b[0m\n\u001b[0;32m----> 4\u001b[0;31m \u001b[0mdz_dw2\u001b[0m \u001b[0;34m=\u001b[0m \u001b[0mtape\u001b[0m\u001b[0;34m.\u001b[0m\u001b[0mgradient\u001b[0m\u001b[0;34m(\u001b[0m\u001b[0mz\u001b[0m\u001b[0;34m,\u001b[0m \u001b[0mw2\u001b[0m\u001b[0;34m)\u001b[0m \u001b[0;31m# RuntimeError!\u001b[0m\u001b[0;34m\u001b[0m\u001b[0;34m\u001b[0m\u001b[0m\n\u001b[0m",
            "\u001b[0;32m/usr/local/lib/python3.7/dist-packages/tensorflow/python/eager/backprop.py\u001b[0m in \u001b[0;36mgradient\u001b[0;34m(self, target, sources, output_gradients, unconnected_gradients)\u001b[0m\n\u001b[1;32m   1027\u001b[0m     \"\"\"\n\u001b[1;32m   1028\u001b[0m     \u001b[0;32mif\u001b[0m \u001b[0mself\u001b[0m\u001b[0;34m.\u001b[0m\u001b[0m_tape\u001b[0m \u001b[0;32mis\u001b[0m \u001b[0;32mNone\u001b[0m\u001b[0;34m:\u001b[0m\u001b[0;34m\u001b[0m\u001b[0;34m\u001b[0m\u001b[0m\n\u001b[0;32m-> 1029\u001b[0;31m       raise RuntimeError(\"A non-persistent GradientTape can only be used to \"\n\u001b[0m\u001b[1;32m   1030\u001b[0m                          \"compute one set of gradients (or jacobians)\")\n\u001b[1;32m   1031\u001b[0m     \u001b[0;32mif\u001b[0m \u001b[0mself\u001b[0m\u001b[0;34m.\u001b[0m\u001b[0m_recording\u001b[0m\u001b[0;34m:\u001b[0m\u001b[0;34m\u001b[0m\u001b[0;34m\u001b[0m\u001b[0m\n",
            "\u001b[0;31mRuntimeError\u001b[0m: A non-persistent GradientTape can only be used to compute one set of gradients (or jacobians)"
          ]
        }
      ],
      "source": [
        "with tf.GradientTape() as tape:\n",
        "    z = f(w1, w2)\n",
        "dz_dw1 = tape.gradient(z, w1)  # => tensor 36.0\n",
        "dz_dw2 = tape.gradient(z, w2)  # RuntimeError!"
      ]
    },
    {
      "cell_type": "markdown",
      "metadata": {
        "id": "YMZbjD6Z405d"
      },
      "source": [
        "If you need to call `gradient()` more than once, you must make the tape `persistent`\n",
        "and delete it each time you are done with it to free resources:"
      ]
    },
    {
      "cell_type": "code",
      "execution_count": 59,
      "metadata": {
        "colab": {
          "base_uri": "https://localhost:8080/"
        },
        "id": "9N1xd2gO405d",
        "outputId": "5f6c5eae-588c-48d2-fe9c-5e9b7b16288e"
      },
      "outputs": [
        {
          "name": "stdout",
          "output_type": "stream",
          "text": [
            "tf.Tensor(36.0, shape=(), dtype=float32)\n",
            "tf.Tensor(10.0, shape=(), dtype=float32)\n"
          ]
        }
      ],
      "source": [
        "with tf.GradientTape(persistent=True) as tape:\n",
        "    z = f(w1, w2)\n",
        "dz_dw1 = tape.gradient(z, w1)  # => tensor 36.0\n",
        "dz_dw2 = tape.gradient(z, w2)  # => tensor 10.0\n",
        "print(dz_dw1)\n",
        "print(dz_dw2)"
      ]
    },
    {
      "cell_type": "markdown",
      "metadata": {
        "id": "M8py2n_H405e"
      },
      "source": [
        "Most of the time a gradient tape is used to compute the gradients of a single value\n",
        "(usually the loss) with regard to a set of values (usually the model parameters). This is\n",
        "where reverse-mode autodiff shines, as it just needs to do one forward pass and one\n",
        "reverse pass to get all the gradients at once. If you try to compute the gradients of a\n",
        "vector, for example a vector containing multiple losses, then TensorFlow will compute the gradients of the vector\u2019s sum. "
      ]
    },
    {
      "cell_type": "code",
      "execution_count": 60,
      "metadata": {
        "id": "Q8m_MAujXlvK"
      },
      "outputs": [],
      "source": [
        "# create the training step\n",
        "# using the tf.function decorator to speed up the training process by converting the training function to a TensorFlow graph\n",
        "@tf.function\n",
        "# define the training step\n",
        "def train_step(inputs, target, enc_hidden):\n",
        "    # the encoder_hidden is the initial hidden state of the encoder\n",
        "    # enc_hidden shape == (batch_size, hidden_size)\n",
        "\n",
        "    # inilaize the loss to zero\n",
        "    loss = 0\n",
        "    # create the gradient tape to record the gradient of the loss with respect to the weights\n",
        "\n",
        "    with tf.GradientTape() as tape:\n",
        "        # pass the input to the encoder\n",
        "        # enc_output shape == (batch_size, 49, hidden_size)\n",
        "        # enc_hidden shape == (batch_size, hidden_size)\n",
        "        # using the encoder to get the encoder_output and the encoder_hidden\n",
        "        # using the encoder_hidden as the initial hidden state of the decoder\n",
        "        enc_output, enc_hidden = encoder(inputs, enc_hidden)\n",
        "        # set the initial decoder hidden state to the encoder hidden state\n",
        "        dec_hidden = enc_hidden\n",
        "\n",
        "        # create the start token\n",
        "        # start_token shape == (batch_size, 1)\n",
        "        # repeat the start token for the batch size times\n",
        "        dec_input = tf.expand_dims(\n",
        "            [answer_tokenizer.word_index[\"<start>\"]] * inputs.shape[0], 1\n",
        "        )\n",
        "\n",
        "        # Teacher forcing - feeding the target as the next input\n",
        "\n",
        "        for t in range(1, target.shape[1]):\n",
        "            # passing enc_output to the decoder\n",
        "            predictions, dec_hidden = decoder(dec_input, dec_hidden)\n",
        "            # calculate the loss for the current time step using the loss function\n",
        "            loss += loss_function(target[:, t], predictions)\n",
        "\n",
        "            # using teacher forcing\n",
        "            dec_input = tf.expand_dims(target[:, t], 1)\n",
        "    # calculate the loss for the current batch\n",
        "    batch_loss = loss / int(target.shape[1])\n",
        "\n",
        "    # get the trainable variables\n",
        "    variables = encoder.trainable_variables + decoder.trainable_variables\n",
        "    # calculate the gradients using the tape\n",
        "    gradients = tape.gradient(loss, variables)\n",
        "    # update the trainable variables\n",
        "    optimizer.apply_gradients(zip(gradients, variables))\n",
        "    # add the loss to the training loss metric\n",
        "    train_loss(batch_loss)\n",
        "    return batch_loss"
      ]
    },
    {
      "cell_type": "markdown",
      "metadata": {
        "id": "B6VOdD-b405e"
      },
      "source": [
        "## Create the Test Step Function"
      ]
    },
    {
      "cell_type": "code",
      "execution_count": 61,
      "metadata": {
        "id": "nysEplphbxEn"
      },
      "outputs": [],
      "source": [
        "# create the training step\n",
        "# using the tf.function decorator to speed up the training process by converting the training function to a TensorFlow graph\n",
        "@tf.function\n",
        "def test_step(inputs, target, enc_hidden):\n",
        "    # the encoder_hidden is the initial hidden state of the encoder\n",
        "    # enc_hidden shape == (batch_size, hidden_size)\n",
        "    # inilaize the loss to zero\n",
        "    loss = 0\n",
        "    # pass the input to the encoder\n",
        "    # enc_output shape == (batch_size, 49, hidden_size)\n",
        "    # enc_hidden shape == (batch_size, hidden_size)\n",
        "    # using the encoder to get the encoder_output and the encoder_hidden\n",
        "    enc_output, enc_hidden = encoder(inputs, enc_hidden)\n",
        "    # set the initial decoder hidden state to the encoder hidden state\n",
        "    dec_hidden = enc_hidden\n",
        "    # create the start token\n",
        "    # start_token shape == (batch_size, 1)\n",
        "    # repeat the start token for the batch size times\n",
        "    dec_input = tf.expand_dims(\n",
        "        [answer_tokenizer.word_index[\"<start>\"]] * inputs.shape[0], 1\n",
        "    )\n",
        "    for t in range(1, target.shape[1]):\n",
        "        # passing enc_output to the decoder with dec_hidden as the initial hidden state\n",
        "        predictions, dec_hidden = decoder(dec_input, dec_hidden)\n",
        "        # calculate the loss for the current time step using the loss function\n",
        "        loss += loss_function(target[:, t], predictions)\n",
        "\n",
        "        # using teacher forcing\n",
        "        dec_input = tf.expand_dims(target[:, t], 1)\n",
        "    # calculate the loss for the current batch\n",
        "    batch_loss = loss / int(target.shape[1])\n",
        "    # add the batch loss to the test loss metric\n",
        "    test_loss(batch_loss)"
      ]
    },
    {
      "cell_type": "markdown",
      "metadata": {
        "id": "U6ETRZ2l405f"
      },
      "source": [
        "# Create the Training Loop "
      ]
    },
    {
      "cell_type": "code",
      "execution_count": 62,
      "metadata": {
        "colab": {
          "base_uri": "https://localhost:8080/"
        },
        "id": "o6aIcAOlYWcK",
        "outputId": "d2251d3a-c647-4c32-ef97-c8240135a07c"
      },
      "outputs": [
        {
          "name": "stdout",
          "output_type": "stream",
          "text": [
            "4355/4356 [============================>.] - ETA: 0s"
          ]
        },
        {
          "name": "stderr",
          "output_type": "stream",
          "text": [
            "WARNING:absl:Found untraced functions such as gru_cell_2_layer_call_fn, gru_cell_2_layer_call_and_return_conditional_losses while saving (showing 2 of 2). These functions will not be directly callable after loading.\n"
          ]
        },
        {
          "name": "stdout",
          "output_type": "stream",
          "text": [
            "INFO:tensorflow:Assets written to: /content/models/encoder/assets\n"
          ]
        },
        {
          "name": "stderr",
          "output_type": "stream",
          "text": [
            "INFO:tensorflow:Assets written to: /content/models/encoder/assets\n",
            "WARNING:absl:<keras.layers.recurrent.GRUCell object at 0x7f0216464390> has the same name 'GRUCell' as a built-in Keras object. Consider renaming <class 'keras.layers.recurrent.GRUCell'> to avoid naming conflicts when loading with `tf.keras.models.load_model`. If renaming is not possible, pass the object in the `custom_objects` parameter of the load function.\n",
            "WARNING:absl:Found untraced functions such as gru_cell_3_layer_call_fn, gru_cell_3_layer_call_and_return_conditional_losses while saving (showing 2 of 2). These functions will not be directly callable after loading.\n"
          ]
        },
        {
          "name": "stdout",
          "output_type": "stream",
          "text": [
            "INFO:tensorflow:Assets written to: /content/models/decoder/assets\n"
          ]
        },
        {
          "name": "stderr",
          "output_type": "stream",
          "text": [
            "INFO:tensorflow:Assets written to: /content/models/decoder/assets\n",
            "WARNING:absl:<keras.layers.recurrent.GRUCell object at 0x7f0216671a10> has the same name 'GRUCell' as a built-in Keras object. Consider renaming <class 'keras.layers.recurrent.GRUCell'> to avoid naming conflicts when loading with `tf.keras.models.load_model`. If renaming is not possible, pass the object in the `custom_objects` parameter of the load function.\n"
          ]
        },
        {
          "name": "stdout",
          "output_type": "stream",
          "text": [
            "Model is saved\n",
            "##################################################\n",
            "Epoch #1\n",
            "Training Loss 1.3890328407287598\n",
            "Testing Loss 1.2819832563400269\n",
            "##################################################\n",
            "4354/4356 [============================>.] - ETA: 0s##################################################\n",
            "Epoch #2\n",
            "Training Loss 1.1918753385543823\n",
            "Testing Loss 1.2825216054916382\n",
            "##################################################\n",
            "4355/4356 [============================>.] - ETA: 0s##################################################\n",
            "Epoch #3\n",
            "Training Loss 1.0440216064453125\n",
            "Testing Loss 1.3288350105285645\n",
            "##################################################\n",
            "4355/4356 [============================>.] - ETA: 0s##################################################\n",
            "Epoch #4\n",
            "Training Loss 0.9154393076896667\n",
            "Testing Loss 1.378799557685852\n",
            "##################################################\n",
            "4355/4356 [============================>.] - ETA: 0s##################################################\n",
            "Epoch #5\n",
            "Training Loss 0.826094388961792\n",
            "Testing Loss 1.4333149194717407\n",
            "##################################################\n",
            "4355/4356 [============================>.] - ETA: 0s##################################################\n",
            "Epoch #6\n",
            "Training Loss 0.7624228596687317\n",
            "Testing Loss 1.479364037513733\n",
            "##################################################\n",
            "4355/4356 [============================>.] - ETA: 0s##################################################\n",
            "Epoch #7\n",
            "Training Loss 0.7147419452667236\n",
            "Testing Loss 1.5267118215560913\n",
            "##################################################\n",
            "4355/4356 [============================>.] - ETA: 0s##################################################\n",
            "Epoch #8\n",
            "Training Loss 0.6783014535903931\n",
            "Testing Loss 1.570082426071167\n",
            "##################################################\n",
            "4355/4356 [============================>.] - ETA: 0s##################################################\n",
            "Epoch #9\n",
            "Training Loss 0.651322066783905\n",
            "Testing Loss 1.6122866868972778\n",
            "##################################################\n",
            "4355/4356 [============================>.] - ETA: 0s##################################################\n",
            "Epoch #10\n",
            "Training Loss 0.6311172842979431\n",
            "Testing Loss 1.6435446739196777\n",
            "##################################################\n"
          ]
        }
      ],
      "source": [
        "# set the epochs to 3\n",
        "EPOCHS = 10\n",
        "# set the old test loss to high number\n",
        "\n",
        "old_test_loss = 1000000\n",
        "# create the training loop\n",
        "for epoch in range(EPOCHS):\n",
        "    # reset the training loss metric\n",
        "    train_loss.reset_states()\n",
        "    # reset the testing loss metric\n",
        "    test_loss.reset_states()\n",
        "\n",
        "    # initalize the hidden state of the encoder to zeros\n",
        "    enc_hidden = encoder.initialize_hidden_state()\n",
        "    # create the training progress bar set the total number of batches to the length of the training dataset and the batch size to the test size\n",
        "    steps_per_epoch = (\n",
        "        answer_sequence.shape[0] // batch_size\n",
        "    )  # => 4356 batch in the dataset\n",
        "    bar = tf.keras.utils.Progbar(target=steps_per_epoch)\n",
        "\n",
        "    count = 0\n",
        "    # iterate over the training dataset\n",
        "    for (batch, (inputs, target)) in enumerate(train_dataset):\n",
        "        # update the progress bar\n",
        "        count += 1\n",
        "        # run the training step\n",
        "        batch_loss = train_step(inputs, target, enc_hidden)\n",
        "        bar.update(count)  # manually update the progress bar\n",
        "\n",
        "    # iterate over the testing dataset\n",
        "    for (batch, (inputs, target)) in enumerate(test_dataset):\n",
        "        count += 1\n",
        "        # run the testing step\n",
        "        batch_loss = test_step(inputs, target, enc_hidden)\n",
        "        bar.update(count)\n",
        "    # save the best performance model on the test dataset\n",
        "\n",
        "    if old_test_loss > test_loss.result():\n",
        "        # set the old test loss to the test loss\n",
        "        old_test_loss = test_loss.result()\n",
        "        encoder.save(filepath=\"/content/models/encoder\")\n",
        "        decoder.save(filepath=\"/content/models/decoder\")\n",
        "        print(\"Model is saved\")\n",
        "    # print the training and testing loss\n",
        "    print(\"#\" * 50)\n",
        "    print(f\"Epoch #{epoch + 1}\")\n",
        "    print(f\"Training Loss {train_loss.result()}\")\n",
        "    print(f\"Testing Loss {test_loss.result()}\")\n",
        "    print(\"#\" * 50)"
      ]
    },
    {
      "cell_type": "markdown",
      "metadata": {
        "id": "5lT-UM2S405g"
      },
      "source": [
        "# Let's Play with the ChatBot"
      ]
    },
    {
      "cell_type": "code",
      "execution_count": 70,
      "metadata": {
        "id": "Q3JJgmJFYvrQ"
      },
      "outputs": [],
      "source": [
        "# create the chatbot function\n",
        "# the chatbot function takes in the question as input and answers the input sentence\n",
        "def chatbot(sentence):\n",
        "\n",
        "    # clean the input question sentence\n",
        "    sentence = clean_text(sentence)\n",
        "    # add the start token to the sentence\n",
        "    sentence = add_start_end(sentence)\n",
        "    # tokenize the sentence\n",
        "    inputs = question_tokenizer.texts_to_sequences([sentence])\n",
        "    # pad the sentence\n",
        "    inputs = tf.keras.preprocessing.sequence.pad_sequences(\n",
        "        inputs, maxlen=29, padding=\"post\"\n",
        "    )\n",
        "\n",
        "    # initalize the hidden state of the encoder to zeros\n",
        "    hidden = [tf.zeros((1, units))]\n",
        "    # pass the sentence to the encoder with the hidden state as the initial hidden state\n",
        "    enc_out, enc_hidden = encoder(inputs, hidden)\n",
        "    # set the initial decoder hidden state to the encoder hidden state\n",
        "    dec_hidden = enc_hidden\n",
        "    # create the start token\n",
        "    # start_token shape == (batch_size, 1)\n",
        "    # repeat the start token for the batch size times\n",
        "    dec_input = tf.expand_dims([answer_tokenizer.word_index[\"<start>\"]], 0)\n",
        "    # create the result string\n",
        "    result = \"\"\n",
        "    # loop over the length of the sentence (32)\n",
        "\n",
        "    for t in range(32):\n",
        "        # passing the encoder output and the decoder hidden state to the decoder make sure the decoder input is the previous predicted word\n",
        "        predictions, dec_hidden = decoder(dec_input, dec_hidden)\n",
        "\n",
        "        # getting the predicted word index\n",
        "        predicted_id = tf.argmax(predictions[0]).numpy()\n",
        "        # getting the predicted word using the predicted index\n",
        "        # add the predicted word to the result string\n",
        "        result += answer_tokenizer.index_word[predicted_id] + \" \"\n",
        "        # if the predicted word is the <end> token then stop the loop\n",
        "        if answer_tokenizer.index_word[predicted_id] == \"<end>\":\n",
        "            # remove the <start> and <end> tokens from the result string\n",
        "            result = result.replace(\"<start> \", \"\")\n",
        "            result = result.replace(\" <end> \", \"\")\n",
        "            # remove the <start> and <end> tokens from the sentence string\n",
        "            sentence = sentence.replace(\"<start> \", \"\")\n",
        "            sentence = sentence.replace(\" <end>\", \"\")\n",
        "            return sentence, result\n",
        "\n",
        "        # using the predicted word as the next decoder input\n",
        "        dec_input = tf.expand_dims([predicted_id], 0)\n",
        "    # remove the <start> and <end> tokens from the result string\n",
        "    result = result.replace(\"<start> \", \"\")\n",
        "    result = result.replace(\"<end>\", \"\")\n",
        "    # remove the <start> and <end> tokens from the sentence string\n",
        "    sentence = sentence.replace(\"<start> \", \"\")\n",
        "    sentence = sentence.replace(\"<end>\", \"\")\n",
        "\n",
        "    # return the result string and the original sentence\n",
        "    return sentence, result"
      ]
    },
    {
      "cell_type": "code",
      "execution_count": 89,
      "metadata": {
        "colab": {
          "base_uri": "https://localhost:8080/"
        },
        "id": "6Cm8BcTmomFz",
        "outputId": "f3bc61d3-1534-4ff3-ac3a-c6156c9b5d6b"
      },
      "outputs": [
        {
          "data": {
            "text/plain": [
              "('how are you today', 'i m fine')"
            ]
          },
          "execution_count": 89,
          "metadata": {},
          "output_type": "execute_result"
        }
      ],
      "source": [
        "chatbot(\"how are you today\")"
      ]
    },
    {
      "cell_type": "code",
      "execution_count": 90,
      "metadata": {
        "colab": {
          "base_uri": "https://localhost:8080/"
        },
        "id": "UPSQjfecIfHZ",
        "outputId": "d99dbf32-efa0-4afa-94e9-717433667df2"
      },
      "outputs": [
        {
          "data": {
            "text/plain": [
              "('what is the weather outside', 'i don t know')"
            ]
          },
          "execution_count": 90,
          "metadata": {},
          "output_type": "execute_result"
        }
      ],
      "source": [
        "chatbot(\"what is the weather outside\")"
      ]
    },
    {
      "cell_type": "code",
      "execution_count": 103,
      "metadata": {
        "colab": {
          "base_uri": "https://localhost:8080/"
        },
        "id": "9fDKXLq28pQZ",
        "outputId": "c0308317-c891-4bf4-ec44-6a4bf8805d94"
      },
      "outputs": [
        {
          "data": {
            "text/plain": [
              "('can you run', 'yeah sure')"
            ]
          },
          "execution_count": 103,
          "metadata": {},
          "output_type": "execute_result"
        }
      ],
      "source": [
        "chatbot(\"can you run\")"
      ]
    },
    {
      "cell_type": "code",
      "execution_count": 106,
      "metadata": {
        "id": "ygD-VfHm8vb9"
      },
      "outputs": [],
      "source": []
    },
    {
      "cell_type": "code",
      "execution_count": null,
      "metadata": {
        "id": "8_g5Bvk29WOF"
      },
      "outputs": [],
      "source": []
    }
  ],
  "metadata": {
    "accelerator": "GPU",
    "colab": {
      "collapsed_sections": [
        "94Jb-6k_405K"
      ],
      "name": "Chatbot",
      "provenance": []
    },
    "kernelspec": {
      "display_name": "Python 3.9.13 64-bit",
      "language": "python",
      "name": "python3"
    },
    "language_info": {
      "name": "python",
      "version": "3.9.13"
    },
    "vscode": {
      "interpreter": {
        "hash": "b667cebad148e7b094a58ee81f940c685de1dd70a003a9ccdca4a5792431bee5"
      }
    }
  },
  "nbformat": 4,
  "nbformat_minor": 0
}