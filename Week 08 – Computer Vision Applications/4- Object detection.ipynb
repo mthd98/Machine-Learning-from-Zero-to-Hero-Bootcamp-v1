{
  "cells": [
    {
      "attachments": {},
      "cell_type": "markdown",
      "metadata": {
        "id": "6AjamESpaBpT"
      },
      "source": [
        "# Object Detection \n",
        "\n",
        "{{ badge }}\n",
        "\n",
        "\n",
        "\n",
        "\n",
        "Object detection is a computer vision technique for locating instances of objects in images or videos. Object detection algorithms typically leverage machine learning or deep learning to produce meaningful results. The goal of object detection is to replicate this intelligence using a computer."
      ]
    },
    {
      "cell_type": "markdown",
      "metadata": {
        "id": "vPs64QA1Zdov"
      },
      "source": [
        "## Imports and Setup\n",
        "\n",
        "Let's start with our basic imports"
      ]
    },
    {
      "cell_type": "markdown",
      "metadata": {
        "id": "14bNk1gzh0TN"
      },
      "source": [
        "## Visualization tools\n",
        "\n",
        "To visualize the images with the proper detected boxes, keypoints and segmentation, we will use the TensorFlow Object Detection API. To install it we will clone the repo."
      ]
    },
    {
      "cell_type": "markdown",
      "metadata": {
        "id": "3yDNgIx-kV7X"
      },
      "source": [
        "Now we can import the dependencies we will need later"
      ]
    },
    {
      "cell_type": "code",
      "execution_count": 1,
      "metadata": {
        "executionInfo": {
          "elapsed": 2861,
          "status": "ok",
          "timestamp": 1644932165755,
          "user": {
            "displayName": "muntadher alkaabi",
            "photoUrl": "https://lh3.googleusercontent.com/a-/AOh14Gj1adaCWpR-cnwQQK4viQZvo0gyRf1A0y9AkvnPMt0=s64",
            "userId": "00221067971932357642"
          },
          "user_tz": -180
        },
        "id": "yn5_uV1HLvaz"
      },
      "outputs": [],
      "source": [
        "import os\n",
        "import pathlib\n",
        "\n",
        "import matplotlib\n",
        "import matplotlib.pyplot as plt\n",
        "\n",
        "import io\n",
        "import scipy.misc\n",
        "import numpy as np\n",
        "from six import BytesIO\n",
        "from PIL import Image, ImageDraw, ImageFont\n",
        "from six.moves.urllib.request import urlopen\n",
        "\n",
        "import tensorflow as tf\n",
        "import tensorflow_hub as hub"
      ]
    },
    {
      "cell_type": "code",
      "execution_count": 2,
      "metadata": {
        "colab": {
          "base_uri": "https://localhost:8080/"
        },
        "executionInfo": {
          "elapsed": 4760,
          "status": "ok",
          "timestamp": 1644932175828,
          "user": {
            "displayName": "muntadher alkaabi",
            "photoUrl": "https://lh3.googleusercontent.com/a-/AOh14Gj1adaCWpR-cnwQQK4viQZvo0gyRf1A0y9AkvnPMt0=s64",
            "userId": "00221067971932357642"
          },
          "user_tz": -180
        },
        "id": "oi28cqGGFWnY",
        "outputId": "d26c693b-4092-40ed-940e-a986dac3f05f"
      },
      "outputs": [
        {
          "name": "stdout",
          "output_type": "stream",
          "text": [
            "Cloning into 'models'...\n",
            "remote: Enumerating objects: 3251, done.\u001b[K\n",
            "remote: Counting objects: 100% (3251/3251), done.\u001b[K\n",
            "remote: Compressing objects: 100% (2553/2553), done.\u001b[K\n",
            "remote: Total 3251 (delta 886), reused 1551 (delta 650), pack-reused 0\u001b[K\n",
            "Receiving objects: 100% (3251/3251), 33.44 MiB | 18.68 MiB/s, done.\n",
            "Resolving deltas: 100% (886/886), done.\n"
          ]
        }
      ],
      "source": [
        "# Clone the tensorflow models repository\n",
        "!git clone --depth 1 https://github.com/tensorflow/models"
      ]
    },
    {
      "cell_type": "markdown",
      "metadata": {
        "id": "yX3pb_pXDjYA"
      },
      "source": [
        "Intalling the Object Detection API"
      ]
    },
    {
      "cell_type": "code",
      "execution_count": 3,
      "metadata": {
        "colab": {
          "base_uri": "https://localhost:8080/"
        },
        "executionInfo": {
          "elapsed": 95994,
          "status": "ok",
          "timestamp": 1644932271820,
          "user": {
            "displayName": "muntadher alkaabi",
            "photoUrl": "https://lh3.googleusercontent.com/a-/AOh14Gj1adaCWpR-cnwQQK4viQZvo0gyRf1A0y9AkvnPMt0=s64",
            "userId": "00221067971932357642"
          },
          "user_tz": -180
        },
        "id": "NwdsBdGhFanc",
        "outputId": "bb66450c-e569-4911-8e68-0ddefa47e0d4"
      },
      "outputs": [
        {
          "name": "stdout",
          "output_type": "stream",
          "text": [
            "Reading package lists...\n",
            "Building dependency tree...\n",
            "Reading state information...\n",
            "protobuf-compiler is already the newest version (3.0.0-9.1ubuntu1).\n",
            "The following packages were automatically installed and are no longer required:\n",
            "  cuda-command-line-tools-10-0 cuda-command-line-tools-10-1\n",
            "  cuda-command-line-tools-11-0 cuda-compiler-10-0 cuda-compiler-10-1\n",
            "  cuda-compiler-11-0 cuda-cuobjdump-10-0 cuda-cuobjdump-10-1\n",
            "  cuda-cuobjdump-11-0 cuda-cupti-10-0 cuda-cupti-10-1 cuda-cupti-11-0\n",
            "  cuda-cupti-dev-11-0 cuda-documentation-10-0 cuda-documentation-10-1\n",
            "  cuda-documentation-11-0 cuda-documentation-11-1 cuda-gdb-10-0 cuda-gdb-10-1\n",
            "  cuda-gdb-11-0 cuda-gpu-library-advisor-10-0 cuda-gpu-library-advisor-10-1\n",
            "  cuda-libraries-10-0 cuda-libraries-10-1 cuda-libraries-11-0\n",
            "  cuda-memcheck-10-0 cuda-memcheck-10-1 cuda-memcheck-11-0 cuda-nsight-10-0\n",
            "  cuda-nsight-10-1 cuda-nsight-11-0 cuda-nsight-11-1 cuda-nsight-compute-10-0\n",
            "  cuda-nsight-compute-10-1 cuda-nsight-compute-11-0 cuda-nsight-compute-11-1\n",
            "  cuda-nsight-systems-10-1 cuda-nsight-systems-11-0 cuda-nsight-systems-11-1\n",
            "  cuda-nvcc-10-0 cuda-nvcc-10-1 cuda-nvcc-11-0 cuda-nvdisasm-10-0\n",
            "  cuda-nvdisasm-10-1 cuda-nvdisasm-11-0 cuda-nvml-dev-10-0 cuda-nvml-dev-10-1\n",
            "  cuda-nvml-dev-11-0 cuda-nvprof-10-0 cuda-nvprof-10-1 cuda-nvprof-11-0\n",
            "  cuda-nvprune-10-0 cuda-nvprune-10-1 cuda-nvprune-11-0 cuda-nvtx-10-0\n",
            "  cuda-nvtx-10-1 cuda-nvtx-11-0 cuda-nvvp-10-0 cuda-nvvp-10-1 cuda-nvvp-11-0\n",
            "  cuda-nvvp-11-1 cuda-samples-10-0 cuda-samples-10-1 cuda-samples-11-0\n",
            "  cuda-samples-11-1 cuda-sanitizer-11-0 cuda-sanitizer-api-10-1\n",
            "  cuda-toolkit-10-0 cuda-toolkit-10-1 cuda-toolkit-11-0 cuda-toolkit-11-1\n",
            "  cuda-tools-10-0 cuda-tools-10-1 cuda-tools-11-0 cuda-tools-11-1\n",
            "  cuda-visual-tools-10-0 cuda-visual-tools-10-1 cuda-visual-tools-11-0\n",
            "  cuda-visual-tools-11-1 default-jre dkms freeglut3 freeglut3-dev\n",
            "  keyboard-configuration libargon2-0 libcap2 libcryptsetup12\n",
            "  libdevmapper1.02.1 libfontenc1 libidn11 libip4tc0 libjansson4\n",
            "  libnvidia-cfg1-510 libnvidia-common-460 libnvidia-common-510\n",
            "  libnvidia-extra-510 libnvidia-fbc1-510 libnvidia-gl-510 libpam-systemd\n",
            "  libpolkit-agent-1-0 libpolkit-backend-1-0 libpolkit-gobject-1-0 libxfont2\n",
            "  libxi-dev libxkbfile1 libxmu-dev libxmu-headers libxnvctrl0 libxtst6\n",
            "  nsight-compute-2020.2.1 nsight-compute-2022.1.0 nsight-systems-2020.3.2\n",
            "  nsight-systems-2020.3.4 nsight-systems-2021.5.2 nvidia-dkms-510\n",
            "  nvidia-kernel-common-510 nvidia-kernel-source-510 nvidia-modprobe\n",
            "  nvidia-settings openjdk-11-jre policykit-1 policykit-1-gnome python3-xkit\n",
            "  screen-resolution-extra systemd systemd-sysv udev x11-xkb-utils\n",
            "  xserver-common xserver-xorg-core-hwe-18.04 xserver-xorg-video-nvidia-510\n",
            "Use 'sudo apt autoremove' to remove them.\n",
            "0 upgraded, 0 newly installed, 0 to remove and 39 not upgraded.\n",
            "Processing /content/models/research\n",
            "Collecting avro-python3\n",
            "  Downloading avro-python3-1.10.2.tar.gz (38 kB)\n",
            "Collecting apache-beam\n",
            "  Downloading apache_beam-2.36.0-cp37-cp37m-manylinux2010_x86_64.whl (10.1 MB)\n",
            "Requirement already satisfied: pillow in /usr/local/lib/python3.7/dist-packages (from object-detection==0.1) (7.1.2)\n",
            "Requirement already satisfied: lxml in /usr/local/lib/python3.7/dist-packages (from object-detection==0.1) (4.2.6)\n",
            "Requirement already satisfied: matplotlib in /usr/local/lib/python3.7/dist-packages (from object-detection==0.1) (3.2.2)\n",
            "Requirement already satisfied: Cython in /usr/local/lib/python3.7/dist-packages (from object-detection==0.1) (0.29.27)\n",
            "Requirement already satisfied: contextlib2 in /usr/local/lib/python3.7/dist-packages (from object-detection==0.1) (0.5.5)\n",
            "Collecting tf-slim\n",
            "  Downloading tf_slim-1.1.0-py2.py3-none-any.whl (352 kB)\n",
            "Requirement already satisfied: six in /usr/local/lib/python3.7/dist-packages (from object-detection==0.1) (1.15.0)\n",
            "Requirement already satisfied: pycocotools in /usr/local/lib/python3.7/dist-packages (from object-detection==0.1) (2.0.4)\n",
            "Collecting lvis\n",
            "  Downloading lvis-0.5.3-py3-none-any.whl (14 kB)\n",
            "Requirement already satisfied: scipy in /usr/local/lib/python3.7/dist-packages (from object-detection==0.1) (1.4.1)\n",
            "Requirement already satisfied: pandas in /usr/local/lib/python3.7/dist-packages (from object-detection==0.1) (1.3.5)\n",
            "Collecting tf-models-official>=2.5.1\n",
            "  Downloading tf_models_official-2.8.0-py2.py3-none-any.whl (2.2 MB)\n",
            "Collecting tensorflow_io\n",
            "  Downloading tensorflow_io-0.24.0-cp37-cp37m-manylinux_2_12_x86_64.manylinux2010_x86_64.whl (23.4 MB)\n",
            "Requirement already satisfied: keras in /usr/local/lib/python3.7/dist-packages (from object-detection==0.1) (2.7.0)\n",
            "Collecting tensorflow-model-optimization>=0.4.1\n",
            "  Downloading tensorflow_model_optimization-0.7.1-py2.py3-none-any.whl (234 kB)\n",
            "Collecting sentencepiece\n",
            "  Downloading sentencepiece-0.1.96-cp37-cp37m-manylinux_2_17_x86_64.manylinux2014_x86_64.whl (1.2 MB)\n",
            "Collecting opencv-python-headless\n",
            "  Downloading opencv_python_headless-4.5.5.62-cp36-abi3-manylinux_2_17_x86_64.manylinux2014_x86_64.whl (47.7 MB)\n",
            "Requirement already satisfied: google-api-python-client>=1.6.7 in /usr/local/lib/python3.7/dist-packages (from tf-models-official>=2.5.1->object-detection==0.1) (1.12.10)\n",
            "Collecting seqeval\n",
            "  Downloading seqeval-1.2.2.tar.gz (43 kB)\n",
            "Collecting py-cpuinfo>=3.3.0\n",
            "  Downloading py-cpuinfo-8.0.0.tar.gz (99 kB)\n",
            "Collecting pyyaml<6.0,>=5.1\n",
            "  Downloading PyYAML-5.4.1-cp37-cp37m-manylinux1_x86_64.whl (636 kB)\n",
            "Requirement already satisfied: oauth2client in /usr/local/lib/python3.7/dist-packages (from tf-models-official>=2.5.1->object-detection==0.1) (4.1.3)\n",
            "Collecting tensorflow-text~=2.8.0\n",
            "  Downloading tensorflow_text-2.8.1-cp37-cp37m-manylinux_2_12_x86_64.manylinux2010_x86_64.whl (4.9 MB)\n",
            "Collecting tensorflow~=2.8.0\n",
            "  Downloading tensorflow-2.8.0-cp37-cp37m-manylinux2010_x86_64.whl (497.5 MB)\n",
            "Requirement already satisfied: kaggle>=1.3.9 in /usr/local/lib/python3.7/dist-packages (from tf-models-official>=2.5.1->object-detection==0.1) (1.5.12)\n",
            "Requirement already satisfied: numpy>=1.15.4 in /usr/local/lib/python3.7/dist-packages (from tf-models-official>=2.5.1->object-detection==0.1) (1.19.5)\n",
            "Requirement already satisfied: tensorflow-datasets in /usr/local/lib/python3.7/dist-packages (from tf-models-official>=2.5.1->object-detection==0.1) (4.0.1)\n",
            "Collecting tensorflow-addons\n",
            "  Downloading tensorflow_addons-0.15.0-cp37-cp37m-manylinux_2_12_x86_64.manylinux2010_x86_64.whl (1.1 MB)\n",
            "Collecting sacrebleu\n",
            "  Downloading sacrebleu-2.0.0-py3-none-any.whl (90 kB)\n",
            "Requirement already satisfied: tensorflow-hub>=0.6.0 in /usr/local/lib/python3.7/dist-packages (from tf-models-official>=2.5.1->object-detection==0.1) (0.12.0)\n",
            "Requirement already satisfied: gin-config in /usr/local/lib/python3.7/dist-packages (from tf-models-official>=2.5.1->object-detection==0.1) (0.5.0)\n",
            "Requirement already satisfied: psutil>=5.4.3 in /usr/local/lib/python3.7/dist-packages (from tf-models-official>=2.5.1->object-detection==0.1) (5.4.8)\n",
            "Requirement already satisfied: google-auth-httplib2>=0.0.3 in /usr/local/lib/python3.7/dist-packages (from google-api-python-client>=1.6.7->tf-models-official>=2.5.1->object-detection==0.1) (0.0.4)\n",
            "Requirement already satisfied: google-api-core<3dev,>=1.21.0 in /usr/local/lib/python3.7/dist-packages (from google-api-python-client>=1.6.7->tf-models-official>=2.5.1->object-detection==0.1) (1.26.3)\n",
            "Requirement already satisfied: google-auth<3dev,>=1.16.0 in /usr/local/lib/python3.7/dist-packages (from google-api-python-client>=1.6.7->tf-models-official>=2.5.1->object-detection==0.1) (1.35.0)\n",
            "Requirement already satisfied: httplib2<1dev,>=0.15.0 in /usr/local/lib/python3.7/dist-packages (from google-api-python-client>=1.6.7->tf-models-official>=2.5.1->object-detection==0.1) (0.17.4)\n",
            "Requirement already satisfied: uritemplate<4dev,>=3.0.0 in /usr/local/lib/python3.7/dist-packages (from google-api-python-client>=1.6.7->tf-models-official>=2.5.1->object-detection==0.1) (3.0.1)\n",
            "Requirement already satisfied: googleapis-common-protos<2.0dev,>=1.6.0 in /usr/local/lib/python3.7/dist-packages (from google-api-core<3dev,>=1.21.0->google-api-python-client>=1.6.7->tf-models-official>=2.5.1->object-detection==0.1) (1.54.0)\n",
            "Requirement already satisfied: requests<3.0.0dev,>=2.18.0 in /usr/local/lib/python3.7/dist-packages (from google-api-core<3dev,>=1.21.0->google-api-python-client>=1.6.7->tf-models-official>=2.5.1->object-detection==0.1) (2.23.0)\n",
            "Requirement already satisfied: pytz in /usr/local/lib/python3.7/dist-packages (from google-api-core<3dev,>=1.21.0->google-api-python-client>=1.6.7->tf-models-official>=2.5.1->object-detection==0.1) (2018.9)\n",
            "Requirement already satisfied: setuptools>=40.3.0 in /usr/local/lib/python3.7/dist-packages (from google-api-core<3dev,>=1.21.0->google-api-python-client>=1.6.7->tf-models-official>=2.5.1->object-detection==0.1) (57.4.0)\n",
            "Requirement already satisfied: protobuf>=3.12.0 in /usr/local/lib/python3.7/dist-packages (from google-api-core<3dev,>=1.21.0->google-api-python-client>=1.6.7->tf-models-official>=2.5.1->object-detection==0.1) (3.17.3)\n",
            "Requirement already satisfied: packaging>=14.3 in /usr/local/lib/python3.7/dist-packages (from google-api-core<3dev,>=1.21.0->google-api-python-client>=1.6.7->tf-models-official>=2.5.1->object-detection==0.1) (21.3)\n",
            "Requirement already satisfied: rsa<5,>=3.1.4 in /usr/local/lib/python3.7/dist-packages (from google-auth<3dev,>=1.16.0->google-api-python-client>=1.6.7->tf-models-official>=2.5.1->object-detection==0.1) (4.8)\n",
            "Requirement already satisfied: cachetools<5.0,>=2.0.0 in /usr/local/lib/python3.7/dist-packages (from google-auth<3dev,>=1.16.0->google-api-python-client>=1.6.7->tf-models-official>=2.5.1->object-detection==0.1) (4.2.4)\n",
            "Requirement already satisfied: pyasn1-modules>=0.2.1 in /usr/local/lib/python3.7/dist-packages (from google-auth<3dev,>=1.16.0->google-api-python-client>=1.6.7->tf-models-official>=2.5.1->object-detection==0.1) (0.2.8)\n",
            "Requirement already satisfied: certifi in /usr/local/lib/python3.7/dist-packages (from kaggle>=1.3.9->tf-models-official>=2.5.1->object-detection==0.1) (2021.10.8)\n",
            "Requirement already satisfied: tqdm in /usr/local/lib/python3.7/dist-packages (from kaggle>=1.3.9->tf-models-official>=2.5.1->object-detection==0.1) (4.62.3)\n",
            "Requirement already satisfied: python-dateutil in /usr/local/lib/python3.7/dist-packages (from kaggle>=1.3.9->tf-models-official>=2.5.1->object-detection==0.1) (2.8.2)\n",
            "Requirement already satisfied: urllib3 in /usr/local/lib/python3.7/dist-packages (from kaggle>=1.3.9->tf-models-official>=2.5.1->object-detection==0.1) (1.24.3)\n",
            "Requirement already satisfied: python-slugify in /usr/local/lib/python3.7/dist-packages (from kaggle>=1.3.9->tf-models-official>=2.5.1->object-detection==0.1) (5.0.2)\n",
            "Requirement already satisfied: pyparsing!=3.0.5,>=2.0.2 in /usr/local/lib/python3.7/dist-packages (from packaging>=14.3->google-api-core<3dev,>=1.21.0->google-api-python-client>=1.6.7->tf-models-official>=2.5.1->object-detection==0.1) (3.0.7)\n",
            "Requirement already satisfied: pyasn1<0.5.0,>=0.4.6 in /usr/local/lib/python3.7/dist-packages (from pyasn1-modules>=0.2.1->google-auth<3dev,>=1.16.0->google-api-python-client>=1.6.7->tf-models-official>=2.5.1->object-detection==0.1) (0.4.8)\n",
            "Requirement already satisfied: chardet<4,>=3.0.2 in /usr/local/lib/python3.7/dist-packages (from requests<3.0.0dev,>=2.18.0->google-api-core<3dev,>=1.21.0->google-api-python-client>=1.6.7->tf-models-official>=2.5.1->object-detection==0.1) (3.0.4)\n",
            "Requirement already satisfied: idna<3,>=2.5 in /usr/local/lib/python3.7/dist-packages (from requests<3.0.0dev,>=2.18.0->google-api-core<3dev,>=1.21.0->google-api-python-client>=1.6.7->tf-models-official>=2.5.1->object-detection==0.1) (2.10)\n",
            "Requirement already satisfied: h5py>=2.9.0 in /usr/local/lib/python3.7/dist-packages (from tensorflow~=2.8.0->tf-models-official>=2.5.1->object-detection==0.1) (3.1.0)\n",
            "Requirement already satisfied: gast>=0.2.1 in /usr/local/lib/python3.7/dist-packages (from tensorflow~=2.8.0->tf-models-official>=2.5.1->object-detection==0.1) (0.4.0)\n",
            "Requirement already satisfied: keras-preprocessing>=1.1.1 in /usr/local/lib/python3.7/dist-packages (from tensorflow~=2.8.0->tf-models-official>=2.5.1->object-detection==0.1) (1.1.2)\n",
            "Requirement already satisfied: typing-extensions>=3.6.6 in /usr/local/lib/python3.7/dist-packages (from tensorflow~=2.8.0->tf-models-official>=2.5.1->object-detection==0.1) (3.10.0.2)\n",
            "Requirement already satisfied: termcolor>=1.1.0 in /usr/local/lib/python3.7/dist-packages (from tensorflow~=2.8.0->tf-models-official>=2.5.1->object-detection==0.1) (1.1.0)\n",
            "Collecting keras\n",
            "  Downloading keras-2.8.0-py2.py3-none-any.whl (1.4 MB)\n",
            "Collecting tf-estimator-nightly==2.8.0.dev2021122109\n",
            "  Downloading tf_estimator_nightly-2.8.0.dev2021122109-py2.py3-none-any.whl (462 kB)\n",
            "Requirement already satisfied: libclang>=9.0.1 in /usr/local/lib/python3.7/dist-packages (from tensorflow~=2.8.0->tf-models-official>=2.5.1->object-detection==0.1) (13.0.0)\n",
            "Requirement already satisfied: flatbuffers>=1.12 in /usr/local/lib/python3.7/dist-packages (from tensorflow~=2.8.0->tf-models-official>=2.5.1->object-detection==0.1) (2.0)\n",
            "Requirement already satisfied: astunparse>=1.6.0 in /usr/local/lib/python3.7/dist-packages (from tensorflow~=2.8.0->tf-models-official>=2.5.1->object-detection==0.1) (1.6.3)\n",
            "Requirement already satisfied: wrapt>=1.11.0 in /usr/local/lib/python3.7/dist-packages (from tensorflow~=2.8.0->tf-models-official>=2.5.1->object-detection==0.1) (1.13.3)\n",
            "Requirement already satisfied: opt-einsum>=2.3.2 in /usr/local/lib/python3.7/dist-packages (from tensorflow~=2.8.0->tf-models-official>=2.5.1->object-detection==0.1) (3.3.0)\n",
            "Requirement already satisfied: google-pasta>=0.1.1 in /usr/local/lib/python3.7/dist-packages (from tensorflow~=2.8.0->tf-models-official>=2.5.1->object-detection==0.1) (0.2.0)\n",
            "Requirement already satisfied: absl-py>=0.4.0 in /usr/local/lib/python3.7/dist-packages (from tensorflow~=2.8.0->tf-models-official>=2.5.1->object-detection==0.1) (1.0.0)\n",
            "Collecting tensorboard<2.9,>=2.8\n",
            "  Downloading tensorboard-2.8.0-py3-none-any.whl (5.8 MB)\n",
            "Requirement already satisfied: grpcio<2.0,>=1.24.3 in /usr/local/lib/python3.7/dist-packages (from tensorflow~=2.8.0->tf-models-official>=2.5.1->object-detection==0.1) (1.43.0)\n",
            "Collecting numpy>=1.15.4\n",
            "  Downloading numpy-1.21.5-cp37-cp37m-manylinux_2_12_x86_64.manylinux2010_x86_64.whl (15.7 MB)\n",
            "Requirement already satisfied: tensorflow-io-gcs-filesystem>=0.23.1 in /usr/local/lib/python3.7/dist-packages (from tensorflow~=2.8.0->tf-models-official>=2.5.1->object-detection==0.1) (0.24.0)\n",
            "Requirement already satisfied: wheel<1.0,>=0.23.0 in /usr/local/lib/python3.7/dist-packages (from astunparse>=1.6.0->tensorflow~=2.8.0->tf-models-official>=2.5.1->object-detection==0.1) (0.37.1)\n",
            "Requirement already satisfied: cached-property in /usr/local/lib/python3.7/dist-packages (from h5py>=2.9.0->tensorflow~=2.8.0->tf-models-official>=2.5.1->object-detection==0.1) (1.5.2)\n",
            "Requirement already satisfied: tensorboard-plugin-wit>=1.6.0 in /usr/local/lib/python3.7/dist-packages (from tensorboard<2.9,>=2.8->tensorflow~=2.8.0->tf-models-official>=2.5.1->object-detection==0.1) (1.8.1)\n",
            "Requirement already satisfied: tensorboard-data-server<0.7.0,>=0.6.0 in /usr/local/lib/python3.7/dist-packages (from tensorboard<2.9,>=2.8->tensorflow~=2.8.0->tf-models-official>=2.5.1->object-detection==0.1) (0.6.1)\n",
            "Requirement already satisfied: google-auth-oauthlib<0.5,>=0.4.1 in /usr/local/lib/python3.7/dist-packages (from tensorboard<2.9,>=2.8->tensorflow~=2.8.0->tf-models-official>=2.5.1->object-detection==0.1) (0.4.6)\n",
            "Requirement already satisfied: markdown>=2.6.8 in /usr/local/lib/python3.7/dist-packages (from tensorboard<2.9,>=2.8->tensorflow~=2.8.0->tf-models-official>=2.5.1->object-detection==0.1) (3.3.6)\n",
            "Requirement already satisfied: werkzeug>=0.11.15 in /usr/local/lib/python3.7/dist-packages (from tensorboard<2.9,>=2.8->tensorflow~=2.8.0->tf-models-official>=2.5.1->object-detection==0.1) (1.0.1)\n",
            "Requirement already satisfied: requests-oauthlib>=0.7.0 in /usr/local/lib/python3.7/dist-packages (from google-auth-oauthlib<0.5,>=0.4.1->tensorboard<2.9,>=2.8->tensorflow~=2.8.0->tf-models-official>=2.5.1->object-detection==0.1) (1.3.1)\n",
            "Requirement already satisfied: importlib-metadata>=4.4 in /usr/local/lib/python3.7/dist-packages (from markdown>=2.6.8->tensorboard<2.9,>=2.8->tensorflow~=2.8.0->tf-models-official>=2.5.1->object-detection==0.1) (4.10.1)\n",
            "Requirement already satisfied: zipp>=0.5 in /usr/local/lib/python3.7/dist-packages (from importlib-metadata>=4.4->markdown>=2.6.8->tensorboard<2.9,>=2.8->tensorflow~=2.8.0->tf-models-official>=2.5.1->object-detection==0.1) (3.7.0)\n",
            "Requirement already satisfied: oauthlib>=3.0.0 in /usr/local/lib/python3.7/dist-packages (from requests-oauthlib>=0.7.0->google-auth-oauthlib<0.5,>=0.4.1->tensorboard<2.9,>=2.8->tensorflow~=2.8.0->tf-models-official>=2.5.1->object-detection==0.1) (3.2.0)\n",
            "Requirement already satisfied: dm-tree~=0.1.1 in /usr/local/lib/python3.7/dist-packages (from tensorflow-model-optimization>=0.4.1->tf-models-official>=2.5.1->object-detection==0.1) (0.1.6)\n",
            "Collecting hdfs<3.0.0,>=2.1.0\n",
            "  Downloading hdfs-2.6.0-py3-none-any.whl (33 kB)\n",
            "Collecting cloudpickle<3,>=2.0.0\n",
            "  Downloading cloudpickle-2.0.0-py3-none-any.whl (25 kB)\n",
            "Collecting requests<3.0.0dev,>=2.18.0\n",
            "  Downloading requests-2.27.1-py2.py3-none-any.whl (63 kB)\n",
            "Collecting proto-plus<2,>=1.7.1\n",
            "  Downloading proto_plus-1.20.1-py3-none-any.whl (45 kB)\n",
            "Requirement already satisfied: pydot<2,>=1.2.0 in /usr/local/lib/python3.7/dist-packages (from apache-beam->object-detection==0.1) (1.3.0)\n",
            "Requirement already satisfied: pyarrow<7.0.0,>=0.15.1 in /usr/local/lib/python3.7/dist-packages (from apache-beam->object-detection==0.1) (6.0.1)\n",
            "Collecting dill<0.3.2,>=0.3.1.1\n",
            "  Downloading dill-0.3.1.1.tar.gz (151 kB)\n",
            "Collecting fastavro<2,>=0.21.4\n",
            "  Downloading fastavro-1.4.9-cp37-cp37m-manylinux_2_17_x86_64.manylinux2014_x86_64.whl (2.3 MB)\n",
            "Collecting pymongo<4.0.0,>=3.8.0\n",
            "  Downloading pymongo-3.12.3-cp37-cp37m-manylinux_2_17_x86_64.manylinux2014_x86_64.whl (508 kB)\n",
            "Collecting orjson<4.0\n",
            "  Downloading orjson-3.6.7-cp37-cp37m-manylinux_2_24_x86_64.whl (255 kB)\n",
            "Requirement already satisfied: crcmod<2.0,>=1.7 in /usr/local/lib/python3.7/dist-packages (from apache-beam->object-detection==0.1) (1.7)\n",
            "Requirement already satisfied: docopt in /usr/local/lib/python3.7/dist-packages (from hdfs<3.0.0,>=2.1.0->apache-beam->object-detection==0.1) (0.6.2)\n",
            "Collecting protobuf>=3.12.0\n",
            "  Downloading protobuf-3.19.4-cp37-cp37m-manylinux_2_17_x86_64.manylinux2014_x86_64.whl (1.1 MB)\n",
            "Requirement already satisfied: charset-normalizer~=2.0.0 in /usr/local/lib/python3.7/dist-packages (from requests<3.0.0dev,>=2.18.0->google-api-core<3dev,>=1.21.0->google-api-python-client>=1.6.7->tf-models-official>=2.5.1->object-detection==0.1) (2.0.11)\n",
            "Requirement already satisfied: kiwisolver>=1.1.0 in /usr/local/lib/python3.7/dist-packages (from lvis->object-detection==0.1) (1.3.2)\n",
            "Requirement already satisfied: opencv-python>=4.1.0.25 in /usr/local/lib/python3.7/dist-packages (from lvis->object-detection==0.1) (4.1.2.30)\n",
            "Requirement already satisfied: cycler>=0.10.0 in /usr/local/lib/python3.7/dist-packages (from lvis->object-detection==0.1) (0.11.0)\n",
            "Requirement already satisfied: text-unidecode>=1.3 in /usr/local/lib/python3.7/dist-packages (from python-slugify->kaggle>=1.3.9->tf-models-official>=2.5.1->object-detection==0.1) (1.3)\n",
            "Collecting colorama\n",
            "  Downloading colorama-0.4.4-py2.py3-none-any.whl (16 kB)\n",
            "Collecting portalocker\n",
            "  Downloading portalocker-2.3.2-py2.py3-none-any.whl (15 kB)\n",
            "Requirement already satisfied: regex in /usr/local/lib/python3.7/dist-packages (from sacrebleu->tf-models-official>=2.5.1->object-detection==0.1) (2019.12.20)\n",
            "Requirement already satisfied: tabulate>=0.8.9 in /usr/local/lib/python3.7/dist-packages (from sacrebleu->tf-models-official>=2.5.1->object-detection==0.1) (0.8.9)\n",
            "Requirement already satisfied: scikit-learn>=0.21.3 in /usr/local/lib/python3.7/dist-packages (from seqeval->tf-models-official>=2.5.1->object-detection==0.1) (1.0.2)\n",
            "Requirement already satisfied: joblib>=0.11 in /usr/local/lib/python3.7/dist-packages (from scikit-learn>=0.21.3->seqeval->tf-models-official>=2.5.1->object-detection==0.1) (1.1.0)\n",
            "Requirement already satisfied: threadpoolctl>=2.0.0 in /usr/local/lib/python3.7/dist-packages (from scikit-learn>=0.21.3->seqeval->tf-models-official>=2.5.1->object-detection==0.1) (3.1.0)\n",
            "Requirement already satisfied: typeguard>=2.7 in /usr/local/lib/python3.7/dist-packages (from tensorflow-addons->tf-models-official>=2.5.1->object-detection==0.1) (2.7.1)\n",
            "Requirement already satisfied: attrs>=18.1.0 in /usr/local/lib/python3.7/dist-packages (from tensorflow-datasets->tf-models-official>=2.5.1->object-detection==0.1) (21.4.0)\n",
            "Requirement already satisfied: importlib-resources in /usr/local/lib/python3.7/dist-packages (from tensorflow-datasets->tf-models-official>=2.5.1->object-detection==0.1) (5.4.0)\n",
            "Requirement already satisfied: tensorflow-metadata in /usr/local/lib/python3.7/dist-packages (from tensorflow-datasets->tf-models-official>=2.5.1->object-detection==0.1) (1.6.0)\n",
            "Requirement already satisfied: future in /usr/local/lib/python3.7/dist-packages (from tensorflow-datasets->tf-models-official>=2.5.1->object-detection==0.1) (0.16.0)\n",
            "Requirement already satisfied: promise in /usr/local/lib/python3.7/dist-packages (from tensorflow-datasets->tf-models-official>=2.5.1->object-detection==0.1) (2.3)\n",
            "Building wheels for collected packages: object-detection, py-cpuinfo, dill, avro-python3, seqeval\n",
            "  Building wheel for object-detection (setup.py): started\n",
            "  Building wheel for object-detection (setup.py): finished with status 'done'\n",
            "  Created wheel for object-detection: filename=object_detection-0.1-py3-none-any.whl size=1686356 sha256=5fd1458dcbbaca7c5412774f61796ef908a4baf206b0e3a43647d36103f853e1\n",
            "  Stored in directory: /tmp/pip-ephem-wheel-cache-6eh7rttm/wheels/fa/a4/d2/e9a5057e414fd46c8e543d2706cd836d64e1fcd9eccceb2329\n",
            "  Building wheel for py-cpuinfo (setup.py): started\n",
            "  Building wheel for py-cpuinfo (setup.py): finished with status 'done'\n",
            "  Created wheel for py-cpuinfo: filename=py_cpuinfo-8.0.0-py3-none-any.whl size=22257 sha256=0e316ea353ca5e5d6ebcd85d530a08cb4a2dd28be51de18b465fb106f1556a95\n",
            "  Stored in directory: /root/.cache/pip/wheels/d2/f1/1f/041add21dc9c4220157f1bd2bd6afe1f1a49524c3396b94401\n",
            "  Building wheel for dill (setup.py): started\n",
            "  Building wheel for dill (setup.py): finished with status 'done'\n",
            "  Created wheel for dill: filename=dill-0.3.1.1-py3-none-any.whl size=78544 sha256=fd3968fd0972ee56d59df40a54da7d4f2a86666cfe5a608776d4458151136395\n",
            "  Stored in directory: /root/.cache/pip/wheels/a4/61/fd/c57e374e580aa78a45ed78d5859b3a44436af17e22ca53284f\n",
            "  Building wheel for avro-python3 (setup.py): started\n",
            "  Building wheel for avro-python3 (setup.py): finished with status 'done'\n",
            "  Created wheel for avro-python3: filename=avro_python3-1.10.2-py3-none-any.whl size=44010 sha256=c8b6717bcdf92ecd9672dfa5e69374ebe035047c429ad1559f413389d1f69832\n",
            "  Stored in directory: /root/.cache/pip/wheels/d6/e5/b1/6b151d9b535ee50aaa6ab27d145a0104b6df02e5636f0376da\n",
            "  Building wheel for seqeval (setup.py): started\n",
            "  Building wheel for seqeval (setup.py): finished with status 'done'\n",
            "  Created wheel for seqeval: filename=seqeval-1.2.2-py3-none-any.whl size=16180 sha256=6404a2baf1396675914bf355a62606a585093e5aa719558e2005f4c7f0069fc0\n",
            "  Stored in directory: /root/.cache/pip/wheels/05/96/ee/7cac4e74f3b19e3158dce26a20a1c86b3533c43ec72a549fd7\n",
            "Successfully built object-detection py-cpuinfo dill avro-python3 seqeval\n",
            "Installing collected packages: requests, protobuf, numpy, tf-estimator-nightly, tensorboard, keras, tensorflow, portalocker, dill, colorama, tf-slim, tensorflow-text, tensorflow-model-optimization, tensorflow-addons, seqeval, sentencepiece, sacrebleu, pyyaml, pymongo, py-cpuinfo, proto-plus, orjson, opencv-python-headless, hdfs, fastavro, cloudpickle, tf-models-official, tensorflow-io, lvis, avro-python3, apache-beam, object-detection\n",
            "  Attempting uninstall: requests\n",
            "    Found existing installation: requests 2.23.0\n",
            "    Uninstalling requests-2.23.0:\n",
            "      Successfully uninstalled requests-2.23.0\n",
            "  Attempting uninstall: protobuf\n",
            "    Found existing installation: protobuf 3.17.3\n",
            "    Uninstalling protobuf-3.17.3:\n",
            "      Successfully uninstalled protobuf-3.17.3\n",
            "  Attempting uninstall: numpy\n",
            "    Found existing installation: numpy 1.19.5\n",
            "    Uninstalling numpy-1.19.5:\n",
            "      Successfully uninstalled numpy-1.19.5\n",
            "  Attempting uninstall: tensorboard\n",
            "    Found existing installation: tensorboard 2.7.0\n",
            "    Uninstalling tensorboard-2.7.0:\n",
            "      Successfully uninstalled tensorboard-2.7.0\n",
            "  Attempting uninstall: keras\n",
            "    Found existing installation: keras 2.7.0\n",
            "    Uninstalling keras-2.7.0:\n",
            "      Successfully uninstalled keras-2.7.0\n",
            "  Attempting uninstall: tensorflow\n",
            "    Found existing installation: tensorflow 2.7.0\n",
            "    Uninstalling tensorflow-2.7.0:\n",
            "      Successfully uninstalled tensorflow-2.7.0\n",
            "  Attempting uninstall: dill\n",
            "    Found existing installation: dill 0.3.4\n",
            "    Uninstalling dill-0.3.4:\n",
            "      Successfully uninstalled dill-0.3.4\n",
            "  Attempting uninstall: pyyaml\n",
            "    Found existing installation: PyYAML 3.13\n",
            "    Uninstalling PyYAML-3.13:\n",
            "      Successfully uninstalled PyYAML-3.13\n",
            "  Attempting uninstall: pymongo\n",
            "    Found existing installation: pymongo 4.0.1\n",
            "    Uninstalling pymongo-4.0.1:\n",
            "      Successfully uninstalled pymongo-4.0.1\n",
            "  Attempting uninstall: cloudpickle\n",
            "    Found existing installation: cloudpickle 1.3.0\n",
            "    Uninstalling cloudpickle-1.3.0:\n",
            "      Successfully uninstalled cloudpickle-1.3.0\n",
            "Successfully installed apache-beam-2.36.0 avro-python3-1.10.2 cloudpickle-2.0.0 colorama-0.4.4 dill-0.3.1.1 fastavro-1.4.9 hdfs-2.6.0 keras-2.8.0 lvis-0.5.3 numpy-1.21.5 object-detection-0.1 opencv-python-headless-4.5.5.62 orjson-3.6.7 portalocker-2.3.2 proto-plus-1.20.1 protobuf-3.19.4 py-cpuinfo-8.0.0 pymongo-3.12.3 pyyaml-5.4.1 requests-2.27.1 sacrebleu-2.0.0 sentencepiece-0.1.96 seqeval-1.2.2 tensorboard-2.8.0 tensorflow-2.8.0 tensorflow-addons-0.15.0 tensorflow-io-0.24.0 tensorflow-model-optimization-0.7.1 tensorflow-text-2.8.1 tf-estimator-nightly-2.8.0.dev2021122109 tf-models-official-2.8.0 tf-slim-1.1.0\n"
          ]
        },
        {
          "name": "stderr",
          "output_type": "stream",
          "text": [
            "\n",
            "WARNING: apt does not have a stable CLI interface. Use with caution in scripts.\n",
            "\n",
            "  DEPRECATION: A future pip version will change local packages to be built in-place without first copying to a temporary directory. We recommend you use --use-feature=in-tree-build to test your packages with this new behavior before it becomes the default.\n",
            "   pip 21.3 will remove support for this functionality. You can find discussion regarding this at https://github.com/pypa/pip/issues/7555.\n",
            "ERROR: pip's dependency resolver does not currently take into account all the packages that are installed. This behaviour is the source of the following dependency conflicts.\n",
            "yellowbrick 1.3.post1 requires numpy<1.20,>=1.16.0, but you have numpy 1.21.5 which is incompatible.\n",
            "multiprocess 0.70.12.2 requires dill>=0.3.4, but you have dill 0.3.1.1 which is incompatible.\n",
            "gym 0.17.3 requires cloudpickle<1.7.0,>=1.2.0, but you have cloudpickle 2.0.0 which is incompatible.\n",
            "google-colab 1.0.0 requires requests~=2.23.0, but you have requests 2.27.1 which is incompatible.\n",
            "datascience 0.10.6 requires folium==0.2.1, but you have folium 0.8.3 which is incompatible.\n",
            "albumentations 0.1.12 requires imgaug<0.2.7,>=0.2.5, but you have imgaug 0.2.9 which is incompatible.\n"
          ]
        }
      ],
      "source": [
        "%%bash\n",
        "sudo apt install -y protobuf-compiler\n",
        "cd models/research/\n",
        "protoc object_detection/protos/*.proto --python_out=.\n",
        "cp object_detection/packages/tf2/setup.py .\n",
        "python -m pip install .\n"
      ]
    },
    {
      "cell_type": "code",
      "execution_count": 4,
      "metadata": {
        "executionInfo": {
          "elapsed": 4,
          "status": "ok",
          "timestamp": 1644932394364,
          "user": {
            "displayName": "muntadher alkaabi",
            "photoUrl": "https://lh3.googleusercontent.com/a-/AOh14Gj1adaCWpR-cnwQQK4viQZvo0gyRf1A0y9AkvnPMt0=s64",
            "userId": "00221067971932357642"
          },
          "user_tz": -180
        },
        "id": "2JCeQU3fkayh"
      },
      "outputs": [],
      "source": [
        "from object_detection.utils import label_map_util\n",
        "from object_detection.utils import visualization_utils as viz_utils\n",
        "from object_detection.utils import ops as utils_ops\n",
        "\n",
        "%matplotlib inline"
      ]
    },
    {
      "cell_type": "markdown",
      "metadata": {
        "id": "IogyryF2lFBL"
      },
      "source": [
        "## Utilities\n",
        "\n",
        "Run the below cell to create some utils that will be needed later:\n",
        "\n",
        "- Helper method to load an image\n",
        "- Map of Model Name to TF Hub handle\n",
        "- List of tuples with Human Keypoints for the COCO 2017 dataset. This is needed for models with keypoints."
      ]
    },
    {
      "cell_type": "code",
      "execution_count": 5,
      "metadata": {
        "executionInfo": {
          "elapsed": 304,
          "status": "ok",
          "timestamp": 1644932913846,
          "user": {
            "displayName": "muntadher alkaabi",
            "photoUrl": "https://lh3.googleusercontent.com/a-/AOh14Gj1adaCWpR-cnwQQK4viQZvo0gyRf1A0y9AkvnPMt0=s64",
            "userId": "00221067971932357642"
          },
          "user_tz": -180
        },
        "id": "-y9R0Xllefec"
      },
      "outputs": [],
      "source": [
        "def load_image_into_numpy_array(path):\n",
        "    \"\"\"Load an image from file into a numpy array.\n",
        "\n",
        "    Puts image into numpy array to feed into tensorflow graph.\n",
        "    Note that by convention we put it into a numpy array with shape\n",
        "    (height, width, channels), where channels=3 for RGB.\n",
        "\n",
        "    Args:\n",
        "      path: the file path to the image\n",
        "\n",
        "    Returns:\n",
        "      uint8 numpy array with shape (img_height, img_width, 3)\n",
        "    \"\"\"\n",
        "    image = None\n",
        "    if path.startswith(\"http\"):\n",
        "        response = urlopen(path)\n",
        "        image_data = response.read()\n",
        "        image_data = BytesIO(image_data)\n",
        "        image = Image.open(image_data)\n",
        "    else:\n",
        "        image_data = tf.io.gfile.GFile(path, \"rb\").read()\n",
        "        image = Image.open(BytesIO(image_data))\n",
        "\n",
        "    (im_width, im_height) = image.size\n",
        "    return (\n",
        "        np.array(image.getdata()).reshape((1, im_height, im_width, 3)).astype(np.uint8)\n",
        "    )\n",
        "\n",
        "\n",
        "ALL_MODELS = {\n",
        "    \"CenterNet HourGlass104 512x512\": \"https://tfhub.dev/tensorflow/centernet/hourglass_512x512/1\",\n",
        "    \"CenterNet HourGlass104 Keypoints 512x512\": \"https://tfhub.dev/tensorflow/centernet/hourglass_512x512_kpts/1\",\n",
        "    \"CenterNet HourGlass104 1024x1024\": \"https://tfhub.dev/tensorflow/centernet/hourglass_1024x1024/1\",\n",
        "    \"CenterNet HourGlass104 Keypoints 1024x1024\": \"https://tfhub.dev/tensorflow/centernet/hourglass_1024x1024_kpts/1\",\n",
        "    \"CenterNet Resnet50 V1 FPN 512x512\": \"https://tfhub.dev/tensorflow/centernet/resnet50v1_fpn_512x512/1\",\n",
        "    \"CenterNet Resnet50 V1 FPN Keypoints 512x512\": \"https://tfhub.dev/tensorflow/centernet/resnet50v1_fpn_512x512_kpts/1\",\n",
        "    \"CenterNet Resnet101 V1 FPN 512x512\": \"https://tfhub.dev/tensorflow/centernet/resnet101v1_fpn_512x512/1\",\n",
        "    \"CenterNet Resnet50 V2 512x512\": \"https://tfhub.dev/tensorflow/centernet/resnet50v2_512x512/1\",\n",
        "    \"CenterNet Resnet50 V2 Keypoints 512x512\": \"https://tfhub.dev/tensorflow/centernet/resnet50v2_512x512_kpts/1\",\n",
        "    \"EfficientDet D0 512x512\": \"https://tfhub.dev/tensorflow/efficientdet/d0/1\",\n",
        "    \"EfficientDet D1 640x640\": \"https://tfhub.dev/tensorflow/efficientdet/d1/1\",\n",
        "    \"EfficientDet D2 768x768\": \"https://tfhub.dev/tensorflow/efficientdet/d2/1\",\n",
        "    \"EfficientDet D3 896x896\": \"https://tfhub.dev/tensorflow/efficientdet/d3/1\",\n",
        "    \"EfficientDet D4 1024x1024\": \"https://tfhub.dev/tensorflow/efficientdet/d4/1\",\n",
        "    \"EfficientDet D5 1280x1280\": \"https://tfhub.dev/tensorflow/efficientdet/d5/1\",\n",
        "    \"EfficientDet D6 1280x1280\": \"https://tfhub.dev/tensorflow/efficientdet/d6/1\",\n",
        "    \"EfficientDet D7 1536x1536\": \"https://tfhub.dev/tensorflow/efficientdet/d7/1\",\n",
        "    \"SSD MobileNet v2 320x320\": \"https://tfhub.dev/tensorflow/ssd_mobilenet_v2/2\",\n",
        "    \"SSD MobileNet V1 FPN 640x640\": \"https://tfhub.dev/tensorflow/ssd_mobilenet_v1/fpn_640x640/1\",\n",
        "    \"SSD MobileNet V2 FPNLite 320x320\": \"https://tfhub.dev/tensorflow/ssd_mobilenet_v2/fpnlite_320x320/1\",\n",
        "    \"SSD MobileNet V2 FPNLite 640x640\": \"https://tfhub.dev/tensorflow/ssd_mobilenet_v2/fpnlite_640x640/1\",\n",
        "    \"SSD ResNet50 V1 FPN 640x640 (RetinaNet50)\": \"https://tfhub.dev/tensorflow/retinanet/resnet50_v1_fpn_640x640/1\",\n",
        "    \"SSD ResNet50 V1 FPN 1024x1024 (RetinaNet50)\": \"https://tfhub.dev/tensorflow/retinanet/resnet50_v1_fpn_1024x1024/1\",\n",
        "    \"SSD ResNet101 V1 FPN 640x640 (RetinaNet101)\": \"https://tfhub.dev/tensorflow/retinanet/resnet101_v1_fpn_640x640/1\",\n",
        "    \"SSD ResNet101 V1 FPN 1024x1024 (RetinaNet101)\": \"https://tfhub.dev/tensorflow/retinanet/resnet101_v1_fpn_1024x1024/1\",\n",
        "    \"SSD ResNet152 V1 FPN 640x640 (RetinaNet152)\": \"https://tfhub.dev/tensorflow/retinanet/resnet152_v1_fpn_640x640/1\",\n",
        "    \"SSD ResNet152 V1 FPN 1024x1024 (RetinaNet152)\": \"https://tfhub.dev/tensorflow/retinanet/resnet152_v1_fpn_1024x1024/1\",\n",
        "    \"Faster R-CNN ResNet50 V1 640x640\": \"https://tfhub.dev/tensorflow/faster_rcnn/resnet50_v1_640x640/1\",\n",
        "    \"Faster R-CNN ResNet50 V1 1024x1024\": \"https://tfhub.dev/tensorflow/faster_rcnn/resnet50_v1_1024x1024/1\",\n",
        "    \"Faster R-CNN ResNet50 V1 800x1333\": \"https://tfhub.dev/tensorflow/faster_rcnn/resnet50_v1_800x1333/1\",\n",
        "    \"Faster R-CNN ResNet101 V1 640x640\": \"https://tfhub.dev/tensorflow/faster_rcnn/resnet101_v1_640x640/1\",\n",
        "    \"Faster R-CNN ResNet101 V1 1024x1024\": \"https://tfhub.dev/tensorflow/faster_rcnn/resnet101_v1_1024x1024/1\",\n",
        "    \"Faster R-CNN ResNet101 V1 800x1333\": \"https://tfhub.dev/tensorflow/faster_rcnn/resnet101_v1_800x1333/1\",\n",
        "    \"Faster R-CNN ResNet152 V1 640x640\": \"https://tfhub.dev/tensorflow/faster_rcnn/resnet152_v1_640x640/1\",\n",
        "    \"Faster R-CNN ResNet152 V1 1024x1024\": \"https://tfhub.dev/tensorflow/faster_rcnn/resnet152_v1_1024x1024/1\",\n",
        "    \"Faster R-CNN ResNet152 V1 800x1333\": \"https://tfhub.dev/tensorflow/faster_rcnn/resnet152_v1_800x1333/1\",\n",
        "    \"Faster R-CNN Inception ResNet V2 640x640\": \"https://tfhub.dev/tensorflow/faster_rcnn/inception_resnet_v2_640x640/1\",\n",
        "    \"Faster R-CNN Inception ResNet V2 1024x1024\": \"https://tfhub.dev/tensorflow/faster_rcnn/inception_resnet_v2_1024x1024/1\",\n",
        "    \"Mask R-CNN Inception ResNet V2 1024x1024\": \"https://tfhub.dev/tensorflow/mask_rcnn/inception_resnet_v2_1024x1024/1\",\n",
        "    \"Yolo\": \"https://tfhub.dev/rishit-dagli/yolo-cppe5/1\",\n",
        "}\n",
        "\n",
        "IMAGES_FOR_TEST = {\n",
        "    \"Beach\": \"models/research/object_detection/test_images/image2.jpg\",\n",
        "    \"Dogs\": \"models/research/object_detection/test_images/image1.jpg\",\n",
        "    # By Heiko Gorski, Source: https://commons.wikimedia.org/wiki/File:Naxos_Taverna.jpg\n",
        "    \"Naxos Taverna\": \"https://upload.wikimedia.org/wikipedia/commons/6/60/Naxos_Taverna.jpg\",\n",
        "    # Source: https://commons.wikimedia.org/wiki/File:The_Coleoptera_of_the_British_islands_(Plate_125)_(8592917784).jpg\n",
        "    \"Beatles\": \"https://upload.wikimedia.org/wikipedia/commons/1/1b/The_Coleoptera_of_the_British_islands_%28Plate_125%29_%288592917784%29.jpg\",\n",
        "    # By Américo Toledano, Source: https://commons.wikimedia.org/wiki/File:Biblioteca_Maim%C3%B3nides,_Campus_Universitario_de_Rabanales_007.jpg\n",
        "    \"Phones\": \"https://upload.wikimedia.org/wikipedia/commons/thumb/0/0d/Biblioteca_Maim%C3%B3nides%2C_Campus_Universitario_de_Rabanales_007.jpg/1024px-Biblioteca_Maim%C3%B3nides%2C_Campus_Universitario_de_Rabanales_007.jpg\",\n",
        "    # Source: https://commons.wikimedia.org/wiki/File:The_smaller_British_birds_(8053836633).jpg\n",
        "    \"Birds\": \"https://upload.wikimedia.org/wikipedia/commons/0/09/The_smaller_British_birds_%288053836633%29.jpg\",\n",
        "}"
      ]
    },
    {
      "cell_type": "markdown",
      "metadata": {
        "id": "NKtD0IeclbL5"
      },
      "source": [
        "### Load label map data (for plotting).\n",
        "\n",
        "Label maps correspond index numbers to category names, so that when our convolution network predicts `5`, we know that this corresponds to `airplane`.  Here we use internal utility functions, but anything that returns a dictionary mapping integers to appropriate string labels would be fine.\n",
        "\n",
        "We are going, for simplicity, to load from the repository that we loaded the Object Detection API code"
      ]
    },
    {
      "cell_type": "code",
      "execution_count": 6,
      "metadata": {
        "executionInfo": {
          "elapsed": 2,
          "status": "ok",
          "timestamp": 1644932914863,
          "user": {
            "displayName": "muntadher alkaabi",
            "photoUrl": "https://lh3.googleusercontent.com/a-/AOh14Gj1adaCWpR-cnwQQK4viQZvo0gyRf1A0y9AkvnPMt0=s64",
            "userId": "00221067971932357642"
          },
          "user_tz": -180
        },
        "id": "5mucYUS6exUJ"
      },
      "outputs": [],
      "source": [
        "PATH_TO_LABELS = \"./models/research/object_detection/data/mscoco_label_map.pbtxt\"\n",
        "category_index = label_map_util.create_category_index_from_labelmap(\n",
        "    PATH_TO_LABELS, use_display_name=True\n",
        ")"
      ]
    },
    {
      "cell_type": "markdown",
      "metadata": {
        "id": "6917xnUSlp9x"
      },
      "source": [
        "## Build a detection model and load pre-trained model weights\n",
        "\n",
        "Here we will choose which Object Detection model we will use.\n",
        "Select the architecture and it will be loaded automatically.\n",
        "If you want to change the model to try other architectures later, just change the below cell and execute following ones.\n",
        "\n",
        "**Tip:** if you want to read more details about the selected model, you can follow the link (model handle) and read additional documentation on TF Hub. After you select a model, we will print the handle to make it easier."
      ]
    },
    {
      "cell_type": "code",
      "execution_count": 12,
      "metadata": {
        "colab": {
          "base_uri": "https://localhost:8080/"
        },
        "executionInfo": {
          "elapsed": 8,
          "status": "ok",
          "timestamp": 1644933736969,
          "user": {
            "displayName": "muntadher alkaabi",
            "photoUrl": "https://lh3.googleusercontent.com/a-/AOh14Gj1adaCWpR-cnwQQK4viQZvo0gyRf1A0y9AkvnPMt0=s64",
            "userId": "00221067971932357642"
          },
          "user_tz": -180
        },
        "id": "HtwrSqvakTNn",
        "outputId": "f3149ff6-cbd8-4a16-82c5-f5d2b3fa4ee8"
      },
      "outputs": [
        {
          "name": "stdout",
          "output_type": "stream",
          "text": [
            "Selected model:Faster R-CNN Inception ResNet V2 1024x1024\n",
            "Model Handle at TensorFlow Hub: https://tfhub.dev/tensorflow/faster_rcnn/inception_resnet_v2_1024x1024/1\n"
          ]
        }
      ],
      "source": [
        "model_display_name = [\n",
        "    \"CenterNet HourGlass104 512x512\",\n",
        "    \"CenterNet HourGlass104 Keypoints 512x512\",\n",
        "    \"CenterNet HourGlass104 1024x1024\",\n",
        "    \"CenterNet HourGlass104 Keypoints 1024x1024\",\n",
        "    \"CenterNet Resnet50 V1 FPN 512x512\",\n",
        "    \"CenterNet Resnet50 V1 FPN Keypoints 512x512\",\n",
        "    \"CenterNet Resnet101 V1 FPN 512x512\",\n",
        "    \"CenterNet Resnet50 V2 512x512\",\n",
        "    \"CenterNet Resnet50 V2 Keypoints 512x512\",\n",
        "    \"EfficientDet D0 512x512\",\n",
        "    \"EfficientDet D1 640x640\",\n",
        "    \"EfficientDet D2 768x768\",\n",
        "    \"EfficientDet D3 896x896\",\n",
        "    \"EfficientDet D4 1024x1024\",\n",
        "    \"EfficientDet D5 1280x1280\",\n",
        "    \"EfficientDet D6 1280x1280\",\n",
        "    \"EfficientDet D7 1536x1536\",\n",
        "    \"SSD MobileNet v2 320x320\",\n",
        "    \"SSD MobileNet V1 FPN 640x640\",\n",
        "    \"SSD MobileNet V2 FPNLite 320x320\",\n",
        "    \"SSD MobileNet V2 FPNLite 640x640\",\n",
        "    \"SSD ResNet50 V1 FPN 640x640 (RetinaNet50)\",\n",
        "    \"SSD ResNet50 V1 FPN 1024x1024 (RetinaNet50)\",\n",
        "    \"SSD ResNet101 V1 FPN 640x640 (RetinaNet101)\",\n",
        "    \"SSD ResNet101 V1 FPN 1024x1024 (RetinaNet101)\",\n",
        "    \"SSD ResNet152 V1 FPN 640x640 (RetinaNet152)\",\n",
        "    \"SSD ResNet152 V1 FPN 1024x1024 (RetinaNet152)\",\n",
        "    \"Faster R-CNN ResNet50 V1 640x640\",\n",
        "    \"Faster R-CNN ResNet50 V1 1024x1024\",\n",
        "    \"Faster R-CNN ResNet50 V1 800x1333\",\n",
        "    \"Faster R-CNN ResNet101 V1 640x640\",\n",
        "    \"Faster R-CNN ResNet101 V1 1024x1024\",\n",
        "    \"Faster R-CNN ResNet101 V1 800x1333\",\n",
        "    \"Faster R-CNN ResNet152 V1 640x640\",\n",
        "    \"Faster R-CNN ResNet152 V1 1024x1024\",\n",
        "    \"Faster R-CNN ResNet152 V1 800x1333\",\n",
        "    \"Faster R-CNN Inception ResNet V2 640x640\",\n",
        "    \"Faster R-CNN Inception ResNet V2 1024x1024\",\n",
        "    \"Mask R-CNN Inception ResNet V2 1024x1024\",\n",
        "]\n",
        "model_handle = ALL_MODELS[\"Faster R-CNN Inception ResNet V2 1024x1024\"]\n",
        "\n",
        "print(\"Selected model:\" + \"Faster R-CNN Inception ResNet V2 1024x1024\")\n",
        "print(\"Model Handle at TensorFlow Hub: {}\".format(model_handle))"
      ]
    },
    {
      "cell_type": "markdown",
      "metadata": {
        "id": "muhUt-wWL582"
      },
      "source": [
        "## Loading the selected model from TensorFlow Hub\n",
        "\n",
        "Here we just need the model handle that was selected and use the Tensorflow Hub library to load it to memory.\n"
      ]
    },
    {
      "cell_type": "code",
      "execution_count": 13,
      "metadata": {
        "colab": {
          "base_uri": "https://localhost:8080/"
        },
        "executionInfo": {
          "elapsed": 48341,
          "status": "ok",
          "timestamp": 1644933787198,
          "user": {
            "displayName": "muntadher alkaabi",
            "photoUrl": "https://lh3.googleusercontent.com/a-/AOh14Gj1adaCWpR-cnwQQK4viQZvo0gyRf1A0y9AkvnPMt0=s64",
            "userId": "00221067971932357642"
          },
          "user_tz": -180
        },
        "id": "rBuD07fLlcEO",
        "outputId": "89dcb6b5-b544-448e-b26c-91ce60634936"
      },
      "outputs": [
        {
          "name": "stdout",
          "output_type": "stream",
          "text": [
            "loading model...\n",
            "model loaded!\n"
          ]
        }
      ],
      "source": [
        "print(\"loading model...\")\n",
        "hub_model = hub.load(model_handle)\n",
        "print(\"model loaded!\")"
      ]
    },
    {
      "cell_type": "markdown",
      "metadata": {
        "id": "GIawRDKPPnd4"
      },
      "source": [
        "## Loading an image\n",
        "\n",
        "Let's try the model on a simple image. To help with this, we provide a list of test images.\n",
        "\n",
        "Here are some simple things to try out if you are curious:\n",
        "* Try running inference on your own images, just upload them to colab and load them in the same way it's done in the cell below.\n",
        "* Modify some of the input images and see if detection still works.  Some simple things to try out here include flipping the image horizontally, or converting to grayscale (note that we still expect the input image to have 3 channels).\n",
        "\n",
        "**Be careful:** when using images with an alpha channel, the model expect 3 channels images and the alpha will count as a 4th.\n",
        "\n"
      ]
    },
    {
      "cell_type": "code",
      "execution_count": 14,
      "metadata": {
        "colab": {
          "base_uri": "https://localhost:8080/",
          "height": 795,
          "output_embedded_package_id": "1gzQMFvfHFhrKBiSOMtO9UFkpvXv3QGui"
        },
        "executionInfo": {
          "elapsed": 6485,
          "status": "ok",
          "timestamp": 1644933793679,
          "user": {
            "displayName": "muntadher alkaabi",
            "photoUrl": "https://lh3.googleusercontent.com/a-/AOh14Gj1adaCWpR-cnwQQK4viQZvo0gyRf1A0y9AkvnPMt0=s64",
            "userId": "00221067971932357642"
          },
          "user_tz": -180
        },
        "id": "hX-AWUQ1wIEr",
        "outputId": "b3967c05-5f0d-4e34-dcda-a699ca6444d1"
      },
      "outputs": [
        {
          "data": {
            "text/plain": [
              "Output hidden; open in https://colab.research.google.com to view."
            ]
          },
          "metadata": {},
          "output_type": "display_data"
        }
      ],
      "source": [
        "selected_image = [\"Beach\", \"Dogs\", \"Naxos Taverna\", \"Beatles\", \"Phones\", \"Birds\"]\n",
        "flip_image_horizontally = False\n",
        "convert_image_to_grayscale = False\n",
        "\n",
        "image_path = IMAGES_FOR_TEST[selected_image[0]]\n",
        "image_np = load_image_into_numpy_array(image_path)\n",
        "\n",
        "# Flip horizontally\n",
        "if flip_image_horizontally:\n",
        "    image_np[0] = np.fliplr(image_np[0]).copy()\n",
        "\n",
        "# Convert image to grayscale\n",
        "if convert_image_to_grayscale:\n",
        "    image_np[0] = np.tile(np.mean(image_np[0], 2, keepdims=True), (1, 1, 3)).astype(\n",
        "        np.uint8\n",
        "    )\n",
        "\n",
        "plt.figure(figsize=(24, 32))\n",
        "plt.imshow(image_np[0])\n",
        "plt.show()"
      ]
    },
    {
      "cell_type": "markdown",
      "metadata": {
        "id": "FTHsFjR6HNwb"
      },
      "source": [
        "## Implementing the inference\n",
        "\n",
        "To implementing the inference, we just need to call our TF Hub loaded model.\n",
        "\n",
        "Things you can try:\n",
        "* Print out `result['detection_boxes']` and try to match the box locations to the boxes in the image.  Notice that coordinates are given in normalized form (i.e., in the interval [0, 1]).\n",
        "* inspect other output keys present in the result. A full documentation can be seen on the models documentation page (pointing your browser to the model handle printed earlier)"
      ]
    },
    {
      "cell_type": "code",
      "execution_count": 15,
      "metadata": {
        "colab": {
          "base_uri": "https://localhost:8080/"
        },
        "executionInfo": {
          "elapsed": 35529,
          "status": "ok",
          "timestamp": 1644933829196,
          "user": {
            "displayName": "muntadher alkaabi",
            "photoUrl": "https://lh3.googleusercontent.com/a-/AOh14Gj1adaCWpR-cnwQQK4viQZvo0gyRf1A0y9AkvnPMt0=s64",
            "userId": "00221067971932357642"
          },
          "user_tz": -180
        },
        "id": "Gb_siXKcnnGC",
        "outputId": "0801a09a-e9f4-4730-d7ac-5761a8ce2fec"
      },
      "outputs": [
        {
          "name": "stdout",
          "output_type": "stream",
          "text": [
            "{'detection_classes': array([[ 1.,  1., 38., 38., 38., 38., 38.,  1.,  1., 38.,  1.,  1.,  1.,\n",
            "         1.,  1.,  1.,  1., 38.,  1.,  1.,  1., 16.,  1., 16.,  1., 38.,\n",
            "         1., 38.,  1.,  1., 16.,  1.,  1., 16.,  1.,  1.,  1., 42.,  1.,\n",
            "        38.,  1., 16., 38., 42., 16.,  1.,  1.,  1.,  1.,  1.,  1., 16.,\n",
            "        16., 42.,  1., 42.,  1.,  1.,  1.,  1.,  1.,  1.,  1., 38.,  1.,\n",
            "        42.,  9., 42., 38., 20.,  1., 16., 18.,  1.,  1., 42., 42., 38.,\n",
            "         1.,  1., 16., 16., 16., 16.,  1., 37., 38., 42., 21.,  1., 41.,\n",
            "        16.,  1., 38., 16.,  1., 42., 10., 38., 27.]], dtype=float32), 'raw_detection_scores': array([[[8.1177830e-04, 1.2964295e-05, 3.9066081e-06, ...,\n",
            "         2.6630867e-06, 8.1472774e-07, 9.4400173e-07],\n",
            "        [6.2566715e-01, 3.7213042e-01, 1.5195325e-04, ...,\n",
            "         5.2963505e-06, 1.1403456e-06, 2.4184349e-06],\n",
            "        [3.7567262e-02, 9.6172601e-01, 1.3892446e-05, ...,\n",
            "         1.4677748e-06, 3.9479991e-07, 3.2718205e-07],\n",
            "        ...,\n",
            "        [9.9424171e-01, 3.0195974e-03, 4.8714708e-05, ...,\n",
            "         4.9519849e-07, 2.4754792e-07, 6.9862762e-07],\n",
            "        [9.9820733e-01, 1.2591432e-03, 3.6821163e-07, ...,\n",
            "         1.4211143e-07, 2.3562407e-08, 5.6890041e-08],\n",
            "        [9.9960691e-01, 2.1794226e-04, 1.8426392e-06, ...,\n",
            "         1.3788082e-07, 1.2087353e-08, 1.4588721e-07]]], dtype=float32), 'detection_multiclass_scores': array([[[7.25752732e-04, 9.99220967e-01, 5.46202102e-07, ...,\n",
            "         1.02518629e-06, 3.63652859e-08, 7.68312844e-08],\n",
            "        [1.14237668e-03, 9.98833835e-01, 3.09135771e-07, ...,\n",
            "         3.46227864e-07, 2.15328502e-08, 3.58156207e-08],\n",
            "        [8.11778300e-04, 1.29642949e-05, 3.90660807e-06, ...,\n",
            "         2.66308666e-06, 8.14727741e-07, 9.44001727e-07],\n",
            "        ...,\n",
            "        [5.01616836e-01, 4.57641378e-04, 1.38500773e-05, ...,\n",
            "         2.18627265e-05, 5.77518404e-06, 1.38217865e-05],\n",
            "        [9.93925393e-01, 2.22778854e-05, 1.34347329e-06, ...,\n",
            "         7.08671962e-07, 2.99772267e-07, 4.05424004e-07],\n",
            "        [9.55992341e-01, 3.15553620e-02, 1.82067743e-05, ...,\n",
            "         5.97500275e-06, 4.83351141e-06, 2.39194492e-06]]], dtype=float32), 'detection_scores': array([[0.99922097, 0.99883384, 0.9987282 , 0.9956623 , 0.99251723,\n",
            "        0.9721184 , 0.9715916 , 0.9709371 , 0.961726  , 0.9474371 ,\n",
            "        0.9319797 , 0.7920703 , 0.7676424 , 0.63507503, 0.61177677,\n",
            "        0.54485273, 0.4509018 , 0.4497013 , 0.44951874, 0.37213042,\n",
            "        0.35354474, 0.21394707, 0.1907809 , 0.1596258 , 0.10622874,\n",
            "        0.07933142, 0.07903911, 0.07726406, 0.07517222, 0.06897086,\n",
            "        0.06816665, 0.06684925, 0.05891888, 0.05853509, 0.05286312,\n",
            "        0.0524847 , 0.05235797, 0.05219577, 0.0518663 , 0.04861473,\n",
            "        0.04412868, 0.0435372 , 0.04115763, 0.03784102, 0.03528162,\n",
            "        0.03520717, 0.03506964, 0.03155536, 0.03035457, 0.03029145,\n",
            "        0.02945596, 0.02908426, 0.02872631, 0.02822673, 0.02565905,\n",
            "        0.02280794, 0.02137617, 0.02089396, 0.02084551, 0.02062099,\n",
            "        0.02044353, 0.01865197, 0.01822958, 0.01614798, 0.01545449,\n",
            "        0.01383455, 0.01357423, 0.0127376 , 0.01207118, 0.01194257,\n",
            "        0.011907  , 0.01127962, 0.01110547, 0.01083679, 0.01074695,\n",
            "        0.01065793, 0.01063545, 0.010582  , 0.01017393, 0.0100918 ,\n",
            "        0.00912556, 0.00890137, 0.0084671 , 0.00763872, 0.00723067,\n",
            "        0.00717473, 0.00674074, 0.00671407, 0.00645327, 0.006195  ,\n",
            "        0.00617414, 0.00615784, 0.0061293 , 0.00600764, 0.00577167,\n",
            "        0.00572948, 0.00559042, 0.00556026, 0.00536575, 0.00533059]],\n",
            "      dtype=float32), 'detection_boxes': array([[[0.7768823 , 0.15977445, 0.95431   , 0.20054741],\n",
            "        [0.6825852 , 0.08254898, 0.8453933 , 0.12275934],\n",
            "        [0.08954865, 0.43926752, 0.16922748, 0.49603885],\n",
            "        [0.43799224, 0.8026744 , 0.46908575, 0.8165934 ],\n",
            "        [0.26219073, 0.2061658 , 0.31175524, 0.22592063],\n",
            "        [0.3809921 , 0.42735448, 0.40853623, 0.44445854],\n",
            "        [0.37850824, 0.34678662, 0.39966983, 0.35853446],\n",
            "        [0.6006415 , 0.13110329, 0.63577384, 0.14184757],\n",
            "        [0.56838375, 0.06142656, 0.62778544, 0.07767569],\n",
            "        [0.41701084, 0.22540283, 0.4439403 , 0.24084498],\n",
            "        [0.54106134, 0.25643626, 0.56113255, 0.263279  ],\n",
            "        [0.5728225 , 0.39824378, 0.59381264, 0.41019407],\n",
            "        [0.5028597 , 0.8938065 , 0.5152333 , 0.8991122 ],\n",
            "        [0.56931096, 0.02831019, 0.6217217 , 0.04201533],\n",
            "        [0.5622972 , 0.38457343, 0.58987737, 0.3964905 ],\n",
            "        [0.58636886, 0.01708619, 0.6187576 , 0.02623364],\n",
            "        [0.5880636 , 0.01611963, 0.61690027, 0.02254023],\n",
            "        [0.42004547, 0.56445676, 0.43304116, 0.57067466],\n",
            "        [0.5699154 , 0.39179793, 0.59311587, 0.40482157],\n",
            "        [0.57691467, 0.01951992, 0.619375  , 0.03190469],\n",
            "        [0.51319045, 0.5151416 , 0.5226138 , 0.5199146 ],\n",
            "        [0.503048  , 0.8932298 , 0.51591283, 0.9002719 ],\n",
            "        [0.5807032 , 0.026451  , 0.61845505, 0.03177854],\n",
            "        [0.5660385 , 0.6488661 , 0.58059967, 0.67400616],\n",
            "        [0.55781966, 0.38380447, 0.5834808 , 0.3929141 ],\n",
            "        [0.4722255 , 0.4371139 , 0.48651657, 0.44767168],\n",
            "        [0.5757988 , 0.03230877, 0.61862725, 0.03989687],\n",
            "        [0.41790614, 0.22296126, 0.4560513 , 0.23938718],\n",
            "        [0.59008557, 0.02563315, 0.6193247 , 0.0308148 ],\n",
            "        [0.5027685 , 0.8915328 , 0.51535875, 0.8982712 ],\n",
            "        [0.47921687, 0.8510516 , 0.4892615 , 0.8617254 ],\n",
            "        [0.57492536, 0.4008038 , 0.5948637 , 0.41231507],\n",
            "        [0.57810575, 0.01871387, 0.6153029 , 0.0242008 ],\n",
            "        [0.5130432 , 0.51515275, 0.5225758 , 0.5200124 ],\n",
            "        [0.52657986, 0.34007263, 0.53626764, 0.3445452 ],\n",
            "        [0.51375544, 0.5178546 , 0.5225138 , 0.52166575],\n",
            "        [0.5144819 , 0.5156987 , 0.5252624 , 0.5214978 ],\n",
            "        [0.5801133 , 0.3962994 , 0.59489524, 0.4114783 ],\n",
            "        [0.56510866, 0.3913168 , 0.5888948 , 0.40045753],\n",
            "        [0.38027626, 0.42977664, 0.4003315 , 0.44514483],\n",
            "        [0.5811899 , 0.01943976, 0.61392295, 0.02861089],\n",
            "        [0.52895504, 0.7868312 , 0.53595614, 0.79207534],\n",
            "        [0.4790545 , 0.85136324, 0.48943064, 0.86131716],\n",
            "        [0.57519543, 0.38965335, 0.59283066, 0.4033409 ],\n",
            "        [0.5424854 , 0.46490893, 0.55484307, 0.487711  ],\n",
            "        [0.5702257 , 0.03486349, 0.58876103, 0.04158946],\n",
            "        [0.5833673 , 0.0670208 , 0.62274384, 0.07819108],\n",
            "        [0.568751  , 0.06010282, 0.610368  , 0.07330935],\n",
            "        [0.59368503, 0.06839723, 0.62696224, 0.08144335],\n",
            "        [0.5275813 , 0.3416334 , 0.5357286 , 0.3458405 ],\n",
            "        [0.46333495, 0.01879134, 0.90821606, 0.63331866],\n",
            "        [0.5266316 , 0.7869584 , 0.5354879 , 0.7928916 ],\n",
            "        [0.4210426 , 0.56462467, 0.43335214, 0.5705992 ],\n",
            "        [0.5724538 , 0.3823702 , 0.5898248 , 0.39562044],\n",
            "        [0.57425493, 0.03327028, 0.61722994, 0.04387524],\n",
            "        [0.5771976 , 0.3933702 , 0.5927818 , 0.4103331 ],\n",
            "        [0.5255688 , 0.34092963, 0.53372854, 0.3446993 ],\n",
            "        [0.5818329 , 0.03080598, 0.6091649 , 0.03317737],\n",
            "        [0.58487934, 0.01078871, 0.62136096, 0.02389729],\n",
            "        [0.5870976 , 0.06265557, 0.6251658 , 0.08003038],\n",
            "        [0.56676066, 0.3827384 , 0.5896578 , 0.39089355],\n",
            "        [0.4072132 , 0.01472575, 0.7555505 , 0.7871612 ],\n",
            "        [0.575368  , 0.02644057, 0.60171914, 0.03588894],\n",
            "        [0.42409167, 0.5645529 , 0.43537617, 0.57040584],\n",
            "        [0.54326993, 0.25875124, 0.56220746, 0.26555094],\n",
            "        [0.57339364, 0.38249105, 0.58916074, 0.39103726],\n",
            "        [0.47925285, 0.8515418 , 0.48893583, 0.8614709 ],\n",
            "        [0.9363006 , 0.16397405, 0.95947045, 0.19319327],\n",
            "        [0.38362488, 0.42565873, 0.41024125, 0.4396556 ],\n",
            "        [0.56612885, 0.64929307, 0.5795982 , 0.6736484 ],\n",
            "        [0.5153987 , 0.5182831 , 0.52425504, 0.5224318 ],\n",
            "        [0.51450133, 0.5157899 , 0.525139  , 0.52158725],\n",
            "        [0.56615645, 0.64815646, 0.580395  , 0.6749653 ],\n",
            "        [0.18748702, 0.03710686, 0.8033039 , 0.6036826 ],\n",
            "        [0.5809599 , 0.05736113, 0.6244463 , 0.06735398],\n",
            "        [0.5846976 , 0.38792863, 0.59704465, 0.40395588],\n",
            "        [0.5688856 , 0.3852119 , 0.59009236, 0.39711463],\n",
            "        [0.07681997, 0.12278458, 0.52226824, 0.934982  ],\n",
            "        [0.6074204 , 0.05831986, 0.62804264, 0.07945055],\n",
            "        [0.26376653, 0.02221395, 0.6974317 , 0.738929  ],\n",
            "        [0.5406691 , 0.46529308, 0.5500015 , 0.4803211 ],\n",
            "        [0.5016037 , 0.89042777, 0.51636416, 0.89961916],\n",
            "        [0.48103583, 0.851713  , 0.4911177 , 0.8601655 ],\n",
            "        [0.51357347, 0.51778203, 0.5222767 , 0.521746  ],\n",
            "        [0.54435223, 0.25307924, 0.56058866, 0.2579795 ],\n",
            "        [0.42071128, 0.5650275 , 0.43177488, 0.57035387],\n",
            "        [0.4808331 , 0.8519973 , 0.49138695, 0.8599085 ],\n",
            "        [0.603854  , 0.0673919 , 0.624922  , 0.08105316],\n",
            "        [0.5662903 , 0.64751583, 0.5791721 , 0.67459154],\n",
            "        [0.56925815, 0.03554225, 0.60253495, 0.04936294],\n",
            "        [0.6134119 , 0.05877484, 0.627724  , 0.07902344],\n",
            "        [0.48368308, 0.8507002 , 0.49202675, 0.8614517 ],\n",
            "        [0.55517507, 0.38646543, 0.56949675, 0.39383432],\n",
            "        [0.09780622, 0.04730557, 0.54793656, 0.70034164],\n",
            "        [0.6298629 , 0.6043681 , 0.64363647, 0.62443733],\n",
            "        [0.56693906, 0.06376991, 0.59063256, 0.0732362 ],\n",
            "        [0.5819531 , 0.37942418, 0.59464264, 0.39086127],\n",
            "        [0.42034057, 0.56491786, 0.43389174, 0.57075614],\n",
            "        [0.47757748, 0.43810683, 0.49447918, 0.44802052],\n",
            "        [0.5751607 , 0.0604168 , 0.5996739 , 0.07201742]]], dtype=float32), 'raw_detection_boxes': array([[[0.08954865, 0.43926752, 0.16922748, 0.49603885],\n",
            "        [0.57691467, 0.01951992, 0.619375  , 0.03190469],\n",
            "        [0.56838375, 0.06142656, 0.62778544, 0.07767569],\n",
            "        ...,\n",
            "        [0.58911455, 0.05896481, 0.62056065, 0.06694413],\n",
            "        [0.5357892 , 0.4184    , 0.54600877, 0.42366964],\n",
            "        [0.6104021 , 0.1358175 , 0.63961715, 0.14601304]]], dtype=float32), 'num_detections': array([100.], dtype=float32), 'detection_anchor_indices': array([[ 12.,   6.,   0.,  20.,   7.,  44.,  13.,   8.,   2.,  38.,   5.,\n",
            "        180.,  77.,  30.,  10.,  45.,  15.,  62.,  32.,   1.,  18.,  92.,\n",
            "         25., 174., 196.,  49.,  67., 190., 224.,  47.,  87.,  99.,  28.,\n",
            "         18.,  68.,  50., 127., 292.,  61., 150., 125., 146.,  87.,  11.,\n",
            "        239.,  55., 142., 288., 206.,  94., 120., 217.,  62.,  17., 152.,\n",
            "        237.,  76., 185.,  23., 234.,  70., 159., 230., 284.,  88.,  70.,\n",
            "         87., 296., 229., 174., 117., 127., 174., 220.,  35., 277.,  10.,\n",
            "        213., 141., 241., 193., 157.,  58.,  50., 128.,  62.,  58.,  81.,\n",
            "        174., 168., 141., 123.,  21., 172.,  41.,  93., 181.,  62., 197.,\n",
            "        288.]], dtype=float32)}\n"
          ]
        }
      ],
      "source": [
        "# implement inference\n",
        "results = hub_model(image_np)\n",
        "\n",
        "# different object detection models have additional results\n",
        "# all of them are explained in the documentation\n",
        "result = {key: value.numpy() for key, value in results.items()}\n",
        "print(result)"
      ]
    },
    {
      "cell_type": "markdown",
      "metadata": {
        "id": "IZ5VYaBoeeFM"
      },
      "source": [
        "## Visualizing the results\n",
        "\n",
        "Here is where we will need the TensorFlow Object Detection API to show the squares from the inference step (and the keypoints when available).\n",
        "\n",
        "the full documentation of this method can be seen [here](https://github.com/tensorflow/models/blob/master/research/object_detection/utils/visualization_utils.py)\n",
        "\n",
        "Here you can, for example, set `min_score_thresh` to other values (between 0 and 1) to allow more detections in or to filter out more detections."
      ]
    },
    {
      "cell_type": "code",
      "execution_count": 16,
      "metadata": {
        "colab": {
          "base_uri": "https://localhost:8080/",
          "height": 795,
          "output_embedded_package_id": "1_ewSG1Zu92shMnsstzzo6idP54dAF-FJ"
        },
        "executionInfo": {
          "elapsed": 3702,
          "status": "ok",
          "timestamp": 1644933832888,
          "user": {
            "displayName": "muntadher alkaabi",
            "photoUrl": "https://lh3.googleusercontent.com/a-/AOh14Gj1adaCWpR-cnwQQK4viQZvo0gyRf1A0y9AkvnPMt0=s64",
            "userId": "00221067971932357642"
          },
          "user_tz": -180
        },
        "id": "2O7rV8g9s8Bz",
        "outputId": "80836f2b-eb1a-4518-a129-461062d14a33"
      },
      "outputs": [
        {
          "data": {
            "text/plain": [
              "Output hidden; open in https://colab.research.google.com to view."
            ]
          },
          "metadata": {},
          "output_type": "display_data"
        }
      ],
      "source": [
        "label_id_offset = 0\n",
        "image_np_with_detections = image_np.copy()\n",
        "\n",
        "\n",
        "viz_utils.visualize_boxes_and_labels_on_image_array(\n",
        "    image_np_with_detections[0],\n",
        "    result[\"detection_boxes\"][0],\n",
        "    (result[\"detection_classes\"][0] + label_id_offset).astype(int),\n",
        "    result[\"detection_scores\"][0],\n",
        "    category_index,\n",
        "    use_normalized_coordinates=True,\n",
        "    max_boxes_to_draw=200,\n",
        "    min_score_thresh=0.30,\n",
        "    agnostic_mode=False,\n",
        ")\n",
        "\n",
        "plt.figure(figsize=(24, 32))\n",
        "plt.imshow(image_np_with_detections[0])\n",
        "plt.show()"
      ]
    },
    {
      "cell_type": "code",
      "execution_count": 16,
      "metadata": {
        "executionInfo": {
          "elapsed": 10,
          "status": "ok",
          "timestamp": 1644933832889,
          "user": {
            "displayName": "muntadher alkaabi",
            "photoUrl": "https://lh3.googleusercontent.com/a-/AOh14Gj1adaCWpR-cnwQQK4viQZvo0gyRf1A0y9AkvnPMt0=s64",
            "userId": "00221067971932357642"
          },
          "user_tz": -180
        },
        "id": "YkYPuXbVr5i6"
      },
      "outputs": [],
      "source": []
    }
  ],
  "metadata": {
    "colab": {
      "collapsed_sections": [],
      "name": "object detection.ipynb",
      "provenance": []
    },
    "kernelspec": {
      "display_name": "Python 3",
      "language": "python",
      "name": "python3"
    },
    "language_info": {
      "name": "python",
      "version": "3.9.13"
    },
    "vscode": {
      "interpreter": {
        "hash": "b667cebad148e7b094a58ee81f940c685de1dd70a003a9ccdca4a5792431bee5"
      }
    }
  },
  "nbformat": 4,
  "nbformat_minor": 0
}
