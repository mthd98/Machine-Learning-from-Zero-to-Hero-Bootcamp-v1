{
  "cells": [
    {
      "attachments": {},
      "cell_type": "markdown",
      "metadata": {
        "id": "tSnpF-DBPsvW"
      },
      "source": [
        "# Python I\n",
        "{{ badge }}\n",
        "\n",
        "Python is an interpreted high-level general-purpose programming language. Its design philosophy emphasizes code readability with its use of significant indentation. Its language constructs as well as its object-oriented approach aim to help programmers write clear, logical code for small and large-scale projects.\n",
        "\n",
        "* [Cheatsheet](https://perso.limsi.fr/pointal/_media/python:cours:mementopython3-english.pdf)"
      ]
    },
    {
      "cell_type": "markdown",
      "metadata": {
        "id": "vlUfZR5I5mPb"
      },
      "source": [
        "## The Python Interpreter\n",
        "<a id='interpreter'></a>\n",
        "\n",
        "Excecution of Python programs is often performed by an **interpreter**, meaning that program statements are converted to machine executable code at **runtime** (i.e., when the program is actually run) as opposed to **compiled** into executable code before it is run by the end user. This is one of the primary ways we'll interact with Python, especially at first. We'll type some Python code and then hit the `Enter` key. This causes the code to be translated and executed. \n",
        "\n",
        "Interpretation allows great flexibility (interpreted programs can modify their source code at run time), but it's often the case that interpreted programs run much more slowly than their compiled counterparts. It's also often more difficult to find errors in interpreted programs. \n",
        "\n",
        "We can interact with the Python interpreter via a prompt, which looks something like the following:\n",
        "\n",
        "    (base) C:\\Users\\nimda>python\n",
        "    Python 3.6.4 |Anaconda, Inc.| (default, Jan 16 2018, 10:22:32) [MSC v.190064 bit (AMD64)] on win32\n",
        "    Type \"help\", \"copyright\", \"credits\" or \"license\" for more information.\n",
        "    >>> print(\"Hello World\") # note: this will print something to the screen. \n",
        "    Hello World\n",
        "    >>>\n",
        "\n",
        "Above, the `print` function prints out a string representation of the argument. The `#` denotes a comment, and the interpreter skips anything on the line after it (that is, it won't try to interpret anything after the `#`). \n",
        "\n",
        "Of course, we can save Python code into a program file and execute it later, too. \n",
        "\n",
        "\n",
        "### Jupyter Notebooks\n",
        "\n",
        "We'll also interact with Python using Jupyter Notebooks (like this one). When we hit `Run` in the menu bar, we are performing an action analogous to hitting enter from a command prompt. The code in the active cell will be executed. Users should be aware that though we are intereacting with a Web page, there is a Web server and Python enviroment running behind the scenes. This adds a later of complexity, but the ability to mix well-formatted documentation and code makes using Jupyter Notebook worthwhile.\n",
        "\n",
        "\n",
        "<a id='variables'></a>\n",
        "## Python Identifiers and Variables\n",
        "\n",
        "### Identifiers\n",
        "\n",
        "An **identifier** in Python is a word (a string) used to identify a variable, function, class, etc. in a Python program. It can be thought of as a proper name. Identifiers start with a letter (A-Z) or an underscore `_`; this first character is followed by a sequence of letters numbers, and underscores.\n",
        "\n",
        "Certain identifiers, such as `class` or `if` are builtin keywords and cannot be redefined by users. \n",
        "\n",
        "### Variables\n",
        "\n",
        "As in most programming languages, **variables** play a central role in Python. We need a way to store and refer to data in our programs, and variables are the primary way to do this.  Specifically, we assign data values variables using the `=`. After the assignment has been made, we may use the variable to access the data as many times as we like. \n",
        "\n",
        "In general, the righthand side of an assignment is evaluated first (e.g., 1+1 is evaluated to 2), and afterwards the result is stored in the variable specified on the left. That explains why the last line below results in a value of 6 being printed. On evaluation of the righthand side, the current value of `blue_fish` (3) is added to itself, and the resulting value is assigned to `blue_fish`, overwriting the 3."
      ]
    },
    {
      "cell_type": "code",
      "execution_count": null,
      "metadata": {
        "colab": {
          "base_uri": "https://localhost:8080/"
        },
        "executionInfo": {
          "elapsed": 1661,
          "status": "ok",
          "timestamp": 1621106763980,
          "user": {
            "displayName": "muntadher alkaabi",
            "photoUrl": "https://lh3.googleusercontent.com/a-/AOh14Gj1adaCWpR-cnwQQK4viQZvo0gyRf1A0y9AkvnPMt0=s64",
            "userId": "00221067971932357642"
          },
          "user_tz": -180
        },
        "id": "GSijsPFT5mPg",
        "outputId": "9626ff80-90bd-46a4-d578-013b3c5fa8db",
        "pycharm": {
          "is_executing": false
        }
      },
      "outputs": [
        {
          "name": "stdout",
          "output_type": "stream",
          "text": [
            "1\n",
            "2\n",
            "3\n",
            "6\n"
          ]
        }
      ],
      "source": [
        "one_fish = 1\n",
        "two_fish = one_fish + 1\n",
        "blue_fish = one_fish + two_fish\n",
        "print(one_fish)\n",
        "print(two_fish)\n",
        "print(blue_fish)\n",
        "blue_fish = blue_fish + blue_fish\n",
        "print(blue_fish)"
      ]
    },
    {
      "cell_type": "markdown",
      "metadata": {
        "id": "OF_xwiDK5mPo"
      },
      "source": [
        "### Dynamic Typing\n",
        "\n",
        "Note that no data type (e.g., integer, string) is specified in an assignment, even the first time a variable is used. In general, variables and types are *not* declared in Python before a value is assigned. Python is said to be a **dynamically typed** language. \n",
        "\n",
        "The below code is perfectly fine in Python, but assigning a number and then a string in another lanauge such as Java would cause an error."
      ]
    },
    {
      "cell_type": "code",
      "execution_count": null,
      "metadata": {
        "colab": {
          "base_uri": "https://localhost:8080/"
        },
        "executionInfo": {
          "elapsed": 2613,
          "status": "ok",
          "timestamp": 1621106765124,
          "user": {
            "displayName": "muntadher alkaabi",
            "photoUrl": "https://lh3.googleusercontent.com/a-/AOh14Gj1adaCWpR-cnwQQK4viQZvo0gyRf1A0y9AkvnPMt0=s64",
            "userId": "00221067971932357642"
          },
          "user_tz": -180
        },
        "id": "pCLOdJea5mPp",
        "outputId": "71e027a1-a087-4d7a-90e9-876774cc3705",
        "pycharm": {
          "is_executing": false
        }
      },
      "outputs": [
        {
          "name": "stdout",
          "output_type": "stream",
          "text": [
            "1\n",
            "hello\n"
          ]
        }
      ],
      "source": [
        "a = 1\n",
        "print(a)\n",
        "a = \"hello\"\n",
        "print(a)"
      ]
    },
    {
      "cell_type": "markdown",
      "metadata": {
        "id": "cawiwz685mPw"
      },
      "source": [
        "## Data Types\n",
        "<a id='datatypes'></a>\n",
        "\n",
        "As in most programming languages, each data value in a Python program has a **data type** (even though we typically don't specify it). We'll discuss some of the datatypes here. \n",
        "\n",
        "For a given data value, we can get its type using the `type` function, which takes an argument. The below print expressions show several of the built-in data types (and how literal values are parsed by default). "
      ]
    },
    {
      "cell_type": "code",
      "execution_count": null,
      "metadata": {
        "colab": {
          "base_uri": "https://localhost:8080/"
        },
        "executionInfo": {
          "elapsed": 2602,
          "status": "ok",
          "timestamp": 1621106765125,
          "user": {
            "displayName": "muntadher alkaabi",
            "photoUrl": "https://lh3.googleusercontent.com/a-/AOh14Gj1adaCWpR-cnwQQK4viQZvo0gyRf1A0y9AkvnPMt0=s64",
            "userId": "00221067971932357642"
          },
          "user_tz": -180
        },
        "id": "4RUfCH9A5mPw",
        "outputId": "55785984-b4ba-4854-e39b-a1efb25fb3a0",
        "pycharm": {
          "is_executing": false
        }
      },
      "outputs": [
        {
          "name": "stdout",
          "output_type": "stream",
          "text": [
            "<class 'int'>\n",
            "<class 'float'>\n",
            "<class 'str'>\n",
            "<class 'bool'>\n",
            "<class 'list'>\n",
            "<class 'tuple'>\n",
            "<class 'dict'>\n"
          ]
        }
      ],
      "source": [
        "print(type(1))  # an integer\n",
        "print(type(2.0))  # a float\n",
        "print(type(\"hi!\"))  # a string\n",
        "print(type(True))  # a boolean value\n",
        "print(type([1, 2, 3, 4, 5]))  # a list (a mutable collection)\n",
        "print(type((1, 2, 3, 4, 5)))  # a tuple (an immutable collection)\n",
        "print(type({\"fname\": \"john\", \"lname\": \"doe\"}))  # a dictionary (a collection of key-value pairs)"
      ]
    },
    {
      "cell_type": "markdown",
      "metadata": {
        "id": "MU1GP1vi5mP3"
      },
      "source": [
        "<a id='numbers'></a>\n",
        "### Numbers\n",
        "\n",
        "The basic numerical data types of python are:\n",
        "*  `int` (integer values), \n",
        "*  `float` (floating point numbers), and \n",
        "*  `complex` (complex numbers). "
      ]
    },
    {
      "cell_type": "code",
      "execution_count": null,
      "metadata": {
        "colab": {
          "base_uri": "https://localhost:8080/"
        },
        "executionInfo": {
          "elapsed": 2591,
          "status": "ok",
          "timestamp": 1621106765127,
          "user": {
            "displayName": "muntadher alkaabi",
            "photoUrl": "https://lh3.googleusercontent.com/a-/AOh14Gj1adaCWpR-cnwQQK4viQZvo0gyRf1A0y9AkvnPMt0=s64",
            "userId": "00221067971932357642"
          },
          "user_tz": -180
        },
        "id": "s7nIy4hq5mP4",
        "outputId": "2a0de420-ca4e-4a03-cc1c-8bfe88accbc8",
        "pycharm": {
          "is_executing": false
        }
      },
      "outputs": [
        {
          "name": "stdout",
          "output_type": "stream",
          "text": [
            "<class 'int'> :  1\n",
            "<class 'float'> :  1.0\n",
            "<class 'complex'> :  (1+2j)\n",
            "<class 'float'> :  10000000000.0\n",
            "<class 'complex'> :  1.0\n",
            "<class 'complex'> :  2j\n"
          ]
        }
      ],
      "source": [
        "x = 1 # \n",
        "y = 1.0\n",
        "z = 1 + 2j\n",
        "w = 1e10\n",
        "v = 1.0\n",
        "u = 2j\n",
        "print(type(x), \": \", x)\n",
        "print(type(y), \": \", y)\n",
        "print(type(z), \": \", z)\n",
        "print(type(w), \": \", w)\n",
        "print(type(u), \": \", v)\n",
        "print(type(u), \": \", u)"
      ]
    },
    {
      "cell_type": "markdown",
      "metadata": {
        "id": "UeKvxBCX5mP_"
      },
      "source": [
        "In general, a number written as a simply integer will, unsurprisingly, be interpreted in Python as an `int`.\n",
        "\n",
        "Numbers written using a `.` or scientific notation are interpreted as floats. Numbers written using `j` are interpreted as complex numbers.\n",
        "\n",
        "**NOTE**: Unlike some other languages, Python 3 does not have minimum or maxium integer values (Python 2 does, however). \n",
        "\n",
        "<a id='arithmetic'></a>\n",
        "### Arithmetic\n",
        "\n",
        "The arithmetic operations available in most languages are also present in Python (with a default precedence on operations). "
      ]
    },
    {
      "cell_type": "code",
      "execution_count": null,
      "metadata": {
        "colab": {
          "base_uri": "https://localhost:8080/"
        },
        "executionInfo": {
          "elapsed": 2580,
          "status": "ok",
          "timestamp": 1621106765128,
          "user": {
            "displayName": "muntadher alkaabi",
            "photoUrl": "https://lh3.googleusercontent.com/a-/AOh14Gj1adaCWpR-cnwQQK4viQZvo0gyRf1A0y9AkvnPMt0=s64",
            "userId": "00221067971932357642"
          },
          "user_tz": -180
        },
        "id": "ytoO_HRO5mQA",
        "outputId": "33791168-8c3b-4c14-c240-51173664dc5f",
        "pycharm": {
          "is_executing": false
        }
      },
      "outputs": [
        {
          "data": {
            "text/plain": [
              "3"
            ]
          },
          "execution_count": 5,
          "metadata": {
            "tags": []
          },
          "output_type": "execute_result"
        }
      ],
      "source": [
        "1 + 3 - (3 - 2)  # simple addition and subtraction"
      ]
    },
    {
      "cell_type": "code",
      "execution_count": null,
      "metadata": {
        "colab": {
          "base_uri": "https://localhost:8080/"
        },
        "executionInfo": {
          "elapsed": 2569,
          "status": "ok",
          "timestamp": 1621106765129,
          "user": {
            "displayName": "muntadher alkaabi",
            "photoUrl": "https://lh3.googleusercontent.com/a-/AOh14Gj1adaCWpR-cnwQQK4viQZvo0gyRf1A0y9AkvnPMt0=s64",
            "userId": "00221067971932357642"
          },
          "user_tz": -180
        },
        "id": "JTqqhkAN5mQF",
        "outputId": "b8d69404-a708-422a-cde4-72bb612985fb",
        "pycharm": {
          "is_executing": false
        },
        "scrolled": false
      },
      "outputs": [
        {
          "data": {
            "text/plain": [
              "8.0"
            ]
          },
          "execution_count": 6,
          "metadata": {
            "tags": []
          },
          "output_type": "execute_result"
        }
      ],
      "source": [
        "4 * 2.0  # multiplication of an int and a float (yields a float)"
      ]
    },
    {
      "cell_type": "code",
      "execution_count": null,
      "metadata": {
        "colab": {
          "base_uri": "https://localhost:8080/"
        },
        "executionInfo": {
          "elapsed": 2559,
          "status": "ok",
          "timestamp": 1621106765130,
          "user": {
            "displayName": "muntadher alkaabi",
            "photoUrl": "https://lh3.googleusercontent.com/a-/AOh14Gj1adaCWpR-cnwQQK4viQZvo0gyRf1A0y9AkvnPMt0=s64",
            "userId": "00221067971932357642"
          },
          "user_tz": -180
        },
        "id": "X4ZAefJz5mQL",
        "outputId": "024f3404-b748-4838-e2f5-3ea524d53163",
        "pycharm": {
          "is_executing": false
        }
      },
      "outputs": [
        {
          "data": {
            "text/plain": [
              "2.5"
            ]
          },
          "execution_count": 7,
          "metadata": {
            "tags": []
          },
          "output_type": "execute_result"
        }
      ],
      "source": [
        "5 / 2  # floating point division"
      ]
    },
    {
      "cell_type": "code",
      "execution_count": null,
      "metadata": {
        "colab": {
          "base_uri": "https://localhost:8080/"
        },
        "executionInfo": {
          "elapsed": 2548,
          "status": "ok",
          "timestamp": 1621106765131,
          "user": {
            "displayName": "muntadher alkaabi",
            "photoUrl": "https://lh3.googleusercontent.com/a-/AOh14Gj1adaCWpR-cnwQQK4viQZvo0gyRf1A0y9AkvnPMt0=s64",
            "userId": "00221067971932357642"
          },
          "user_tz": -180
        },
        "id": "kkqR6pyv5mQQ",
        "outputId": "30b5dcef-d6a0-43fb-89bf-0033b3be2eb5",
        "pycharm": {
          "is_executing": false
        }
      },
      "outputs": [
        {
          "name": "stdout",
          "output_type": "stream",
          "text": [
            "2.0\n",
            "<class 'float'>\n"
          ]
        }
      ],
      "source": [
        "print(5.6 // 2)  # integer division\n",
        "print(type(5.6 // 2))"
      ]
    },
    {
      "cell_type": "code",
      "execution_count": null,
      "metadata": {
        "colab": {
          "base_uri": "https://localhost:8080/"
        },
        "executionInfo": {
          "elapsed": 2538,
          "status": "ok",
          "timestamp": 1621106765132,
          "user": {
            "displayName": "muntadher alkaabi",
            "photoUrl": "https://lh3.googleusercontent.com/a-/AOh14Gj1adaCWpR-cnwQQK4viQZvo0gyRf1A0y9AkvnPMt0=s64",
            "userId": "00221067971932357642"
          },
          "user_tz": -180
        },
        "id": "MI5Ylv_u5mQV",
        "outputId": "20728af7-bd40-4071-8a14-6b16d54e2cb1",
        "pycharm": {
          "is_executing": false
        }
      },
      "outputs": [
        {
          "data": {
            "text/plain": [
              "1"
            ]
          },
          "execution_count": 9,
          "metadata": {
            "tags": []
          },
          "output_type": "execute_result"
        }
      ],
      "source": [
        "5 % 2  # modulo operator (straightforwardly, the integer remainder of 5/2)"
      ]
    },
    {
      "cell_type": "code",
      "execution_count": null,
      "metadata": {
        "colab": {
          "base_uri": "https://localhost:8080/"
        },
        "executionInfo": {
          "elapsed": 2528,
          "status": "ok",
          "timestamp": 1621106765133,
          "user": {
            "displayName": "muntadher alkaabi",
            "photoUrl": "https://lh3.googleusercontent.com/a-/AOh14Gj1adaCWpR-cnwQQK4viQZvo0gyRf1A0y9AkvnPMt0=s64",
            "userId": "00221067971932357642"
          },
          "user_tz": -180
        },
        "id": "on5weYPq5mQa",
        "outputId": "2897e76c-3e36-4801-80e1-eaa5e30656ea",
        "pycharm": {
          "is_executing": false
        }
      },
      "outputs": [
        {
          "data": {
            "text/plain": [
              "-3"
            ]
          },
          "execution_count": 10,
          "metadata": {
            "tags": []
          },
          "output_type": "execute_result"
        }
      ],
      "source": [
        "2 % -5  # (not so intuitive if negative numbers are involved)"
      ]
    },
    {
      "cell_type": "code",
      "execution_count": null,
      "metadata": {
        "colab": {
          "base_uri": "https://localhost:8080/"
        },
        "executionInfo": {
          "elapsed": 2518,
          "status": "ok",
          "timestamp": 1621106765134,
          "user": {
            "displayName": "muntadher alkaabi",
            "photoUrl": "https://lh3.googleusercontent.com/a-/AOh14Gj1adaCWpR-cnwQQK4viQZvo0gyRf1A0y9AkvnPMt0=s64",
            "userId": "00221067971932357642"
          },
          "user_tz": -180
        },
        "id": "mFAqQRpu5mQg",
        "outputId": "39b5e581-dd09-401e-efd8-3a49312c2892",
        "pycharm": {
          "is_executing": false
        }
      },
      "outputs": [
        {
          "data": {
            "text/plain": [
              "16"
            ]
          },
          "execution_count": 11,
          "metadata": {
            "tags": []
          },
          "output_type": "execute_result"
        }
      ],
      "source": [
        "2**4  # exponentiation"
      ]
    },
    {
      "cell_type": "markdown",
      "metadata": {
        "id": "9EeC0NMT5mQm"
      },
      "source": [
        "### Data Type of results\n",
        "\n",
        "When two numbers of different types are used in an arithmetic operation, the data type is usually what one would expect, but there are some cases where it's different than either operand. For instance, though 5 and 2 are both integers, the result of `5/2` is a `float`, and the result of `5.2//2` (integer division) is a float. "
      ]
    },
    {
      "cell_type": "markdown",
      "metadata": {
        "id": "085YrXK45mQn"
      },
      "source": [
        "### Strings\n",
        "<a id='strings'></a>\n",
        "Strings in Python (datatype `str`) can be enclosed in single (`'`) or double (`\"`) quotes. It doesn't matter which is used, but the opening and closing marks must be of the same type. The backslash `\\` is used to escape quotes in a string as well as to indicate other escape characters (e.g., `\\n` indicates a new line). Upon printing, the string is formatted appropriately. "
      ]
    },
    {
      "cell_type": "code",
      "execution_count": null,
      "metadata": {
        "colab": {
          "base_uri": "https://localhost:8080/"
        },
        "executionInfo": {
          "elapsed": 2506,
          "status": "ok",
          "timestamp": 1621106765135,
          "user": {
            "displayName": "muntadher alkaabi",
            "photoUrl": "https://lh3.googleusercontent.com/a-/AOh14Gj1adaCWpR-cnwQQK4viQZvo0gyRf1A0y9AkvnPMt0=s64",
            "userId": "00221067971932357642"
          },
          "user_tz": -180
        },
        "id": "cBcNDZT_5mQo",
        "outputId": "43840669-9a03-493c-e829-ebdd9a5d4a24",
        "pycharm": {
          "is_executing": false
        }
      },
      "outputs": [
        {
          "name": "stdout",
          "output_type": "stream",
          "text": [
            "This is a string\n",
            "this is a string containing \"quotes\"\n",
            "this is another string containing \"quotes\"\n",
            "this is string\n",
            "has two lines\n"
          ]
        }
      ],
      "source": [
        "print(\"This is a string\")\n",
        "print('this is a string containing \"quotes\"')\n",
        "print('this is another string containing \"quotes\"')\n",
        "print(\"this is string\\nhas two lines\")"
      ]
    },
    {
      "cell_type": "markdown",
      "metadata": {
        "id": "nGOg3lIX5mQt"
      },
      "source": [
        "To prevent processing of escape characters, you can use indicate a *raw* string by putting an `r` before the string. "
      ]
    },
    {
      "cell_type": "code",
      "execution_count": null,
      "metadata": {
        "colab": {
          "base_uri": "https://localhost:8080/"
        },
        "executionInfo": {
          "elapsed": 2500,
          "status": "ok",
          "timestamp": 1621106765140,
          "user": {
            "displayName": "muntadher alkaabi",
            "photoUrl": "https://lh3.googleusercontent.com/a-/AOh14Gj1adaCWpR-cnwQQK4viQZvo0gyRf1A0y9AkvnPMt0=s64",
            "userId": "00221067971932357642"
          },
          "user_tz": -180
        },
        "id": "gLeRn9c75mQu",
        "outputId": "76ce34dc-3b8a-4d86-9167-353b1b0ef048",
        "pycharm": {
          "is_executing": false
        }
      },
      "outputs": [
        {
          "name": "stdout",
          "output_type": "stream",
          "text": [
            "this is string \\n has only one line\n"
          ]
        }
      ],
      "source": [
        "print(r\"this is string \\n has only one line\")"
      ]
    },
    {
      "cell_type": "markdown",
      "metadata": {
        "id": "x0pJwehS5mQy"
      },
      "source": [
        "#### Multiline Strings\n",
        "Multiline strings can be delineated using 3 quotes. If you do not wish to include a line end in the output, you can end the line with `\\`."
      ]
    },
    {
      "cell_type": "code",
      "execution_count": null,
      "metadata": {
        "colab": {
          "base_uri": "https://localhost:8080/"
        },
        "executionInfo": {
          "elapsed": 2490,
          "status": "ok",
          "timestamp": 1621106765141,
          "user": {
            "displayName": "muntadher alkaabi",
            "photoUrl": "https://lh3.googleusercontent.com/a-/AOh14Gj1adaCWpR-cnwQQK4viQZvo0gyRf1A0y9AkvnPMt0=s64",
            "userId": "00221067971932357642"
          },
          "user_tz": -180
        },
        "id": "JSJmAq_n5mQz",
        "outputId": "f41da3df-8315-495f-d9a0-c1983ecdae12",
        "pycharm": {
          "is_executing": false
        }
      },
      "outputs": [
        {
          "name": "stdout",
          "output_type": "stream",
          "text": [
            "Line 1\n",
            "Line 2\n",
            "Line 3Line 3 continued\n"
          ]
        }
      ],
      "source": [
        "print(\n",
        "    \"\"\"Line 1\n",
        "Line 2\n",
        "Line 3\\\n",
        "Line 3 continued\"\"\"\n",
        ")"
      ]
    },
    {
      "cell_type": "markdown",
      "metadata": {
        "id": "EFg25iKI5mQ3"
      },
      "source": [
        "#### String Concatenation \n",
        "Strings can be concatenated. You must be careful when trying to concatenate other types to a string, however. They must be \n",
        "converted to strings first using `str()`. "
      ]
    },
    {
      "cell_type": "code",
      "execution_count": null,
      "metadata": {
        "colab": {
          "base_uri": "https://localhost:8080/"
        },
        "executionInfo": {
          "elapsed": 2479,
          "status": "ok",
          "timestamp": 1621106765142,
          "user": {
            "displayName": "muntadher alkaabi",
            "photoUrl": "https://lh3.googleusercontent.com/a-/AOh14Gj1adaCWpR-cnwQQK4viQZvo0gyRf1A0y9AkvnPMt0=s64",
            "userId": "00221067971932357642"
          },
          "user_tz": -180
        },
        "id": "rUTCbY-D5mQ4",
        "outputId": "ffa9783e-949b-422a-c264-7e893776b16e",
        "pycharm": {
          "is_executing": false
        }
      },
      "outputs": [
        {
          "name": "stdout",
          "output_type": "stream",
          "text": [
            "This line contains 4 components\n",
            "Here are some things converted to strings: 2.3, True, (1, 2)\n"
          ]
        }
      ],
      "source": [
        "print(\"This\" + \" line contains \" + str(4) + \" components\")\n",
        "print(\n",
        "    \"Here are some things converted to strings: \"\n",
        "    + str(2.3)\n",
        "    + \", \"\n",
        "    + str(True)\n",
        "    + \", \"\n",
        "    + str((1, 2))\n",
        ")"
      ]
    },
    {
      "cell_type": "markdown",
      "metadata": {
        "id": "59xM_wtn5mQ8"
      },
      "source": [
        "`print` can take an arbitrary number of arguments. Leveraging this eliminates the need to explicitly convert data values to strings (because we're no longer attempting to concatenate strings)."
      ]
    },
    {
      "cell_type": "code",
      "execution_count": null,
      "metadata": {
        "colab": {
          "base_uri": "https://localhost:8080/"
        },
        "executionInfo": {
          "elapsed": 2473,
          "status": "ok",
          "timestamp": 1621106765143,
          "user": {
            "displayName": "muntadher alkaabi",
            "photoUrl": "https://lh3.googleusercontent.com/a-/AOh14Gj1adaCWpR-cnwQQK4viQZvo0gyRf1A0y9AkvnPMt0=s64",
            "userId": "00221067971932357642"
          },
          "user_tz": -180
        },
        "id": "RtMCkSM35mQ9",
        "outputId": "4e922a9d-3a61-410f-e6ce-5e1d8a60821b",
        "pycharm": {
          "is_executing": false
        }
      },
      "outputs": [
        {
          "name": "stdout",
          "output_type": "stream",
          "text": [
            "This line contains 4 components\n",
            "Here are some things converted to strings: 2.3 , True , (1, 2)\n"
          ]
        }
      ],
      "source": [
        "print(\"This\", \"line contains\", 4, \"components\")\n",
        "print(\"Here are some things converted to strings:\", 2.3, \",\", True, \",\", (1, 2))"
      ]
    },
    {
      "cell_type": "markdown",
      "metadata": {
        "id": "hKx6NZhE5mRB"
      },
      "source": [
        "Note, however, that `print` will by default insert a space between elements. If you wish to change the separator between items (e.g. to `,`) , add `sep=\",\"` as an argument. "
      ]
    },
    {
      "cell_type": "code",
      "execution_count": null,
      "metadata": {
        "colab": {
          "base_uri": "https://localhost:8080/"
        },
        "executionInfo": {
          "elapsed": 2467,
          "status": "ok",
          "timestamp": 1621106765144,
          "user": {
            "displayName": "muntadher alkaabi",
            "photoUrl": "https://lh3.googleusercontent.com/a-/AOh14Gj1adaCWpR-cnwQQK4viQZvo0gyRf1A0y9AkvnPMt0=s64",
            "userId": "00221067971932357642"
          },
          "user_tz": -180
        },
        "id": "CK3MnJ_k5mRB",
        "outputId": "4d9326f5-5a9b-4a60-908a-7f27c642c797",
        "pycharm": {
          "is_executing": false
        }
      },
      "outputs": [
        {
          "name": "stdout",
          "output_type": "stream",
          "text": [
            "This---line contains---4---components\n",
            "Here are some things converted to strings:---2.3---,---True---,---(1, 2)\n"
          ]
        }
      ],
      "source": [
        "print(\"This\", \"line contains\", 4, \"components\", sep=\"---\")\n",
        "print(\n",
        "    \"Here are some things converted to strings:\", 2.3, \",\", True, \",\", (1, 2), sep=\"---\"\n",
        ")"
      ]
    },
    {
      "cell_type": "markdown",
      "metadata": {
        "id": "f47-8VYu5mRG"
      },
      "source": [
        "You can also create a string from another string by *multiplying* it with a number"
      ]
    },
    {
      "cell_type": "code",
      "execution_count": null,
      "metadata": {
        "colab": {
          "base_uri": "https://localhost:8080/"
        },
        "executionInfo": {
          "elapsed": 2460,
          "status": "ok",
          "timestamp": 1621106765144,
          "user": {
            "displayName": "muntadher alkaabi",
            "photoUrl": "https://lh3.googleusercontent.com/a-/AOh14Gj1adaCWpR-cnwQQK4viQZvo0gyRf1A0y9AkvnPMt0=s64",
            "userId": "00221067971932357642"
          },
          "user_tz": -180
        },
        "id": "zrtiQnD45mRG",
        "outputId": "dd02c0a9-f676-4ebc-b012-09b202a9aca0",
        "pycharm": {
          "is_executing": false
        }
      },
      "outputs": [
        {
          "name": "stdout",
          "output_type": "stream",
          "text": [
            "abbaabbaabba\n"
          ]
        }
      ],
      "source": [
        "word1 = \"abba\"\n",
        "word2 = 3 * word1\n",
        "print(word2)"
      ]
    },
    {
      "cell_type": "markdown",
      "metadata": {
        "id": "R1fkdiDo5mRL"
      },
      "source": [
        "Also, if multiple **string literals** (as opposed to variables or string expressions) appear consecutively, they will be combined into one string.  "
      ]
    },
    {
      "cell_type": "code",
      "execution_count": null,
      "metadata": {
        "colab": {
          "base_uri": "https://localhost:8080/"
        },
        "executionInfo": {
          "elapsed": 14,
          "status": "ok",
          "timestamp": 1653977482344,
          "user": {
            "displayName": "Zahra Dafer",
            "userId": "13379319153431271957"
          },
          "user_tz": -180
        },
        "id": "m-iFgnrj5mRL",
        "outputId": "5fa3d658-ce17-407a-da0b-9ffd878117f8",
        "pycharm": {
          "is_executing": false
        }
      },
      "outputs": [
        {
          "name": "stdout",
          "output_type": "stream",
          "text": [
            "this is the way the world ends.\n",
            "<class 'str'>\n",
            "('this ', 'is ', 'the ', 'way ', 'the ', 'world ', 'ends.')\n",
            "<class 'tuple'>\n"
          ]
        }
      ],
      "source": [
        "a = \"this \" \"is \" \"the \" \"way \" \"the \" \"world \" \"ends.\"\n",
        "print(a)\n",
        "print(type(a))\n",
        "a = \"this \", \"is \", \"the \", \"way \", \"the \", \"world \", \"ends.\"\n",
        "print(a)\n",
        "print(type(a))"
      ]
    },
    {
      "cell_type": "markdown",
      "metadata": {
        "id": "R458fAKX5mRQ"
      },
      "source": [
        "#### Substrings: Indexing and Slicing\n",
        "\n",
        "A character of a string can be extracted using an index (starting at 0), and a substring can be extracted using **slices**. Slices indicate a range of indexes. The notation is similar to that used for arrays in other languages.\n",
        "\n",
        "It also happens that indexing from the right (staring at -1) is possible. "
      ]
    },
    {
      "cell_type": "code",
      "execution_count": null,
      "metadata": {
        "colab": {
          "base_uri": "https://localhost:8080/"
        },
        "executionInfo": {
          "elapsed": 2449,
          "status": "ok",
          "timestamp": 1621106765146,
          "user": {
            "displayName": "muntadher alkaabi",
            "photoUrl": "https://lh3.googleusercontent.com/a-/AOh14Gj1adaCWpR-cnwQQK4viQZvo0gyRf1A0y9AkvnPMt0=s64",
            "userId": "00221067971932357642"
          },
          "user_tz": -180
        },
        "id": "gKf3Zxlp5mRQ",
        "outputId": "11a7af61-746e-4e2a-9350-044124af8607",
        "pycharm": {
          "is_executing": false
        }
      },
      "outputs": [
        {
          "name": "stdout",
          "output_type": "stream",
          "text": [
            "w\n",
            "this\n",
            "is the way the world ends.\n",
            "this\n",
            ".\n",
            "ends\n",
            "ends.\n"
          ]
        }
      ],
      "source": [
        "string1 = \"this is the way the world ends.\"\n",
        "print(string1[12])  # the substring at index 12 (1 character)\n",
        "print(string1[0:4])  # from the start of the string to index 4 (but 4 is excluded)\n",
        "print(string1[5:])  # from index 5 to the end of the string\n",
        "print(string1[:4])  # from the start of the string to index 4 (4 is excluded)\n",
        "print(string1[-1])  # The last character of the string\n",
        "print(string1[-5:-1])  # from index -5 to -1 (but excluding -1)\n",
        "print(string1[-5:])  # from index -5 to the end of the string"
      ]
    },
    {
      "cell_type": "markdown",
      "metadata": {
        "id": "rqdIy7sd5mRX"
      },
      "source": [
        "**NOTE**: Strings are **immutable**. We cannot reassign a character or sequence in a string as we might assign values to an array in some other programming languages. When the below code is executed, an exception (error) will be raised. "
      ]
    },
    {
      "cell_type": "code",
      "execution_count": null,
      "metadata": {
        "id": "aDs9bxzX5mRY",
        "pycharm": {
          "is_executing": false
        }
      },
      "outputs": [],
      "source": [
        "a = \"abc\""
      ]
    },
    {
      "cell_type": "code",
      "execution_count": null,
      "metadata": {
        "colab": {
          "base_uri": "https://localhost:8080/",
          "height": 162
        },
        "executionInfo": {
          "elapsed": 2895,
          "status": "error",
          "timestamp": 1621106765605,
          "user": {
            "displayName": "muntadher alkaabi",
            "photoUrl": "https://lh3.googleusercontent.com/a-/AOh14Gj1adaCWpR-cnwQQK4viQZvo0gyRf1A0y9AkvnPMt0=s64",
            "userId": "00221067971932357642"
          },
          "user_tz": -180
        },
        "id": "hiOzpINo5mRb",
        "outputId": "72baaa87-c8cf-4c99-ff9e-aed565fd3b16",
        "pycharm": {
          "is_executing": false
        }
      },
      "outputs": [
        {
          "ename": "TypeError",
          "evalue": "ignored",
          "output_type": "error",
          "traceback": [
            "\u001b[0;31m---------------------------------------------------------------------------\u001b[0m",
            "\u001b[0;31mTypeError\u001b[0m                                 Traceback (most recent call last)",
            "\u001b[0;32m<ipython-input-22-4da7dae318af>\u001b[0m in \u001b[0;36m<module>\u001b[0;34m()\u001b[0m\n\u001b[0;32m----> 1\u001b[0;31m \u001b[0ma\u001b[0m\u001b[0;34m[\u001b[0m\u001b[0;36m0\u001b[0m\u001b[0;34m]\u001b[0m \u001b[0;34m=\u001b[0m \u001b[0;34m\"b\"\u001b[0m \u001b[0;31m# this will raise an exception.\u001b[0m\u001b[0;34m\u001b[0m\u001b[0;34m\u001b[0m\u001b[0m\n\u001b[0m",
            "\u001b[0;31mTypeError\u001b[0m: 'str' object does not support item assignment"
          ]
        }
      ],
      "source": [
        "a[0] = \"b\"  # this will raise an exception"
      ]
    },
    {
      "cell_type": "markdown",
      "metadata": {
        "id": "IPJ2uPbp5mRf"
      },
      "source": [
        "#### Splitting and Joining Strings\n",
        "\n",
        "It's often the case that we want to split strings into multiple substrings, e.g., when reading a comma-delimited list of values. The `split` method of a string does just that. It retuns a list object (lists are covered later). \n",
        "\n",
        "To combine strings using a delimeter (e.g., to create a comma-delimited list), we can use `join`. "
      ]
    },
    {
      "cell_type": "code",
      "execution_count": null,
      "metadata": {
        "colab": {
          "base_uri": "https://localhost:8080/"
        },
        "executionInfo": {
          "elapsed": 779,
          "status": "ok",
          "timestamp": 1621106786814,
          "user": {
            "displayName": "muntadher alkaabi",
            "photoUrl": "https://lh3.googleusercontent.com/a-/AOh14Gj1adaCWpR-cnwQQK4viQZvo0gyRf1A0y9AkvnPMt0=s64",
            "userId": "00221067971932357642"
          },
          "user_tz": -180
        },
        "id": "2oNgBBMi5mRg",
        "outputId": "390df685-1da3-47a2-a430-618aa7446f1f",
        "pycharm": {
          "is_executing": false
        }
      },
      "outputs": [
        {
          "name": "stdout",
          "output_type": "stream",
          "text": [
            "['The', 'quick', 'brown', 'fox', 'jumped', 'over', 'the', 'lazy', 'dog']\n",
            "The,quick,brown,fox,jumped,over,the,lazy,dog\n",
            "['The', 'quick', 'brown', 'fox', 'jumped', 'over', 'the', 'lazy', 'dog']\n",
            "The-quick-brown-fox-jumped-over-the-lazy-dog\n"
          ]
        }
      ],
      "source": [
        "text = \"The quick brown fox jumped over the lazy dog\"\n",
        "spl = text.split()  # This returns a list of strings (lists are covered later)\n",
        "print(spl)\n",
        "joined = \",\".join(spl)\n",
        "print(joined)  # and this re-joins them, separating words with commas\n",
        "spl = joined.split(\",\")  # and this re-splits them, again based on commas\n",
        "print(spl)\n",
        "joined = \"-\".join(spl)  # and this re-joins them, separating words with dashes\n",
        "print(joined)"
      ]
    },
    {
      "cell_type": "markdown",
      "metadata": {
        "id": "6ZE6Ecsi5mRj"
      },
      "source": [
        "Similarly, to split a multiline string into a list of lines (each a string), we can use `splitlines`. "
      ]
    },
    {
      "cell_type": "code",
      "execution_count": null,
      "metadata": {
        "colab": {
          "base_uri": "https://localhost:8080/"
        },
        "executionInfo": {
          "elapsed": 552,
          "status": "ok",
          "timestamp": 1621106787313,
          "user": {
            "displayName": "muntadher alkaabi",
            "photoUrl": "https://lh3.googleusercontent.com/a-/AOh14Gj1adaCWpR-cnwQQK4viQZvo0gyRf1A0y9AkvnPMt0=s64",
            "userId": "00221067971932357642"
          },
          "user_tz": -180
        },
        "id": "Y7lMLwRn5mRj",
        "outputId": "e0789b3f-fd38-4893-b4e0-ed744925f03a",
        "pycharm": {
          "is_executing": false
        }
      },
      "outputs": [
        {
          "name": "stdout",
          "output_type": "stream",
          "text": [
            "['one', 'two', 'three']\n"
          ]
        }
      ],
      "source": [
        "lines = \"\"\"one\n",
        "two\n",
        "three\"\"\"\n",
        "li = lines.splitlines() # Split the multiple line string  \n",
        "print(li)"
      ]
    },
    {
      "cell_type": "markdown",
      "metadata": {
        "id": "lbmPxz1Y5mRm"
      },
      "source": [
        "To join strings into multiple lines, we can again use `join`. "
      ]
    },
    {
      "cell_type": "code",
      "execution_count": null,
      "metadata": {
        "colab": {
          "base_uri": "https://localhost:8080/"
        },
        "executionInfo": {
          "elapsed": 703,
          "status": "ok",
          "timestamp": 1621106788314,
          "user": {
            "displayName": "muntadher alkaabi",
            "photoUrl": "https://lh3.googleusercontent.com/a-/AOh14Gj1adaCWpR-cnwQQK4viQZvo0gyRf1A0y9AkvnPMt0=s64",
            "userId": "00221067971932357642"
          },
          "user_tz": -180
        },
        "id": "_OyseUqx5mRn",
        "outputId": "9585ce82-b07a-4554-f919-072477271fbe",
        "pycharm": {
          "is_executing": false
        }
      },
      "outputs": [
        {
          "name": "stdout",
          "output_type": "stream",
          "text": [
            "one\n",
            "two\n",
            "three\n"
          ]
        }
      ],
      "source": [
        "lines = [\"one\", \"two\", \"three\"]\n",
        "data = \"\\n\".join(lines)# join list of strings to multiple line string \n",
        "print(data)"
      ]
    },
    {
      "cell_type": "markdown",
      "metadata": {
        "id": "Y-ctZsPD5mRr"
      },
      "source": [
        "<a id='boolean'></a>\n",
        "### Boolean Values, and None\n",
        "\n",
        "Python has two Boolean values, `True` and `False`. The normal logical operations (`and`, `or`, `not`) are present. "
      ]
    },
    {
      "cell_type": "code",
      "execution_count": null,
      "metadata": {
        "colab": {
          "base_uri": "https://localhost:8080/"
        },
        "executionInfo": {
          "elapsed": 916,
          "status": "ok",
          "timestamp": 1621106789324,
          "user": {
            "displayName": "muntadher alkaabi",
            "photoUrl": "https://lh3.googleusercontent.com/a-/AOh14Gj1adaCWpR-cnwQQK4viQZvo0gyRf1A0y9AkvnPMt0=s64",
            "userId": "00221067971932357642"
          },
          "user_tz": -180
        },
        "id": "sO_e9UBP5mRr",
        "outputId": "e15bc4d4-2d42-4ced-b649-9d1fda00187f",
        "pycharm": {
          "is_executing": false
        }
      },
      "outputs": [
        {
          "name": "stdout",
          "output_type": "stream",
          "text": [
            "False\n",
            "True\n",
            "False\n"
          ]
        }
      ],
      "source": [
        "print(True and False)\n",
        "print(True or False)\n",
        "print(not True)"
      ]
    },
    {
      "cell_type": "markdown",
      "metadata": {
        "id": "AeUtrc6E5mRv"
      },
      "source": [
        "There is also the value `None` (the only value of the `NoneType` data type). `None` is used to stand for the absence of a value. However, it can be used in place of False, as can zero numerical values (of any numerical type), empty sequences/collections (`[]`,`()`, `{}`, etc.).  \n",
        "\n",
        "Other values are treated as `True`. Note that Boolean expressions are short-circuited. As soon as the interpreter knows enough to compute the appropriate Boolean value of the expression, it stops further evaluation. Also, the retun value of the Boolean expression need not be a Boolean value, as indicated below. The value of the last item evaluated is returned. "
      ]
    },
    {
      "cell_type": "code",
      "execution_count": null,
      "metadata": {
        "colab": {
          "base_uri": "https://localhost:8080/"
        },
        "executionInfo": {
          "elapsed": 592,
          "status": "ok",
          "timestamp": 1621106789792,
          "user": {
            "displayName": "muntadher alkaabi",
            "photoUrl": "https://lh3.googleusercontent.com/a-/AOh14Gj1adaCWpR-cnwQQK4viQZvo0gyRf1A0y9AkvnPMt0=s64",
            "userId": "00221067971932357642"
          },
          "user_tz": -180
        },
        "id": "-oRQuUp-5mRv",
        "outputId": "2ba15bbf-b508-4d5e-eb24-1809bb2ad880",
        "pycharm": {
          "is_executing": false
        }
      },
      "outputs": [
        {
          "name": "stdout",
          "output_type": "stream",
          "text": [
            "True\n",
            "66\n",
            "aa\n",
            "False\n",
            "True\n",
            "True\n",
            "()\n"
          ]
        }
      ],
      "source": [
        "print(1 and True)\n",
        "print(True and 66)\n",
        "print(True and \"aa\")\n",
        "print(False and \"aa\")\n",
        "print(True or {})\n",
        "print(not [])\n",
        "print(True and ())"
      ]
    },
    {
      "cell_type": "markdown",
      "metadata": {
        "id": "BvkHes5x5mRx"
      },
      "source": [
        "<a id='comparisons'></a>\n",
        "#### Boolean Comparisons"
      ]
    },
    {
      "cell_type": "markdown",
      "metadata": {
        "id": "xci_UG7I5mRz"
      },
      "source": [
        "There are 8 basic comparison operations in Python.\n",
        "\n",
        "\n",
        "|  Symbol | Note | \n",
        "| --- | --- |\n",
        "| `<` |  less than | \n",
        "| `<=` | less than or equal to | \n",
        "| `>` | greater than | \n",
        "| `>=` | greater than or equal to | \n",
        "| `==` | equal to | \n",
        "| `!=` | not equal to | \n",
        "| `is` | identical to (for objects) | \n",
        "| `is not` | not identical to (for objects) | \n",
        "\n",
        "\n",
        "Regarding the first 6, these will work as expected for numerical values. Note, however, that they can be applied to other datatypes as well. Strings are compared on a character-by-character basis, based on a lexicographic ordering. Sequences such as lists are compared on an element by element basis."
      ]
    },
    {
      "cell_type": "code",
      "execution_count": null,
      "metadata": {
        "colab": {
          "base_uri": "https://localhost:8080/"
        },
        "executionInfo": {
          "elapsed": 750,
          "status": "ok",
          "timestamp": 1621106791456,
          "user": {
            "displayName": "muntadher alkaabi",
            "photoUrl": "https://lh3.googleusercontent.com/a-/AOh14Gj1adaCWpR-cnwQQK4viQZvo0gyRf1A0y9AkvnPMt0=s64",
            "userId": "00221067971932357642"
          },
          "user_tz": -180
        },
        "id": "27NTwjrZ5mRz",
        "outputId": "68fe3f7a-af7e-482e-bca0-b5165ead4888",
        "pycharm": {
          "is_executing": false
        }
      },
      "outputs": [
        {
          "name": "stdout",
          "output_type": "stream",
          "text": [
            "False\n",
            "False\n",
            "True\n",
            "True\n"
          ]
        }
      ],
      "source": [
        "print(\"abc\" > \"ac\")\n",
        "print(\"a\" < \"1\")\n",
        "print(\"A\" < \"a\")\n",
        "print((1, 1, 2) < (1, 1, 3))"
      ]
    },
    {
      "cell_type": "markdown",
      "metadata": {
        "id": "Ha1WJefw5mR2"
      },
      "source": [
        "Note that `is` is true only if the two items compared are the *same* object, whereas `==` only checks for eqaulity in a weaker sense. Below, the elements of the two lists `x` and `y` have elements that evaluate as being equal, but the two lists are nevertheless distinct in memory. As such, the first `print` statement should yield `True`, while the second should yield `False`."
      ]
    },
    {
      "cell_type": "code",
      "execution_count": null,
      "metadata": {
        "colab": {
          "base_uri": "https://localhost:8080/"
        },
        "executionInfo": {
          "elapsed": 928,
          "status": "ok",
          "timestamp": 1621106792592,
          "user": {
            "displayName": "muntadher alkaabi",
            "photoUrl": "https://lh3.googleusercontent.com/a-/AOh14Gj1adaCWpR-cnwQQK4viQZvo0gyRf1A0y9AkvnPMt0=s64",
            "userId": "00221067971932357642"
          },
          "user_tz": -180
        },
        "id": "jDpzoBIR5mR2",
        "outputId": "a45ac2af-c032-48da-d9bf-fefa564176fa",
        "pycharm": {
          "is_executing": false
        }
      },
      "outputs": [
        {
          "name": "stdout",
          "output_type": "stream",
          "text": [
            "True\n",
            "False\n"
          ]
        }
      ],
      "source": [
        "x = (1, 1, 2)\n",
        "y = (1, 1, 2)\n",
        "print(x == y)\n",
        "print(x is y)"
      ]
    },
    {
      "cell_type": "code",
      "execution_count": null,
      "metadata": {
        "colab": {
          "base_uri": "https://localhost:8080/"
        },
        "executionInfo": {
          "elapsed": 1047,
          "status": "ok",
          "timestamp": 1621106793148,
          "user": {
            "displayName": "muntadher alkaabi",
            "photoUrl": "https://lh3.googleusercontent.com/a-/AOh14Gj1adaCWpR-cnwQQK4viQZvo0gyRf1A0y9AkvnPMt0=s64",
            "userId": "00221067971932357642"
          },
          "user_tz": -180
        },
        "id": "fD8yRl0c5mR7",
        "outputId": "059f045a-7c15-4efc-d110-9bdf8093c71e",
        "pycharm": {
          "is_executing": false
        }
      },
      "outputs": [
        {
          "name": "stdout",
          "output_type": "stream",
          "text": [
            "hello\n",
            "hello\n",
            "hello\n",
            "x==y:  True\n",
            "x==z:  True\n",
            "x is y:  True\n",
            "x is z:  False\n",
            "x is w:  True\n"
          ]
        }
      ],
      "source": [
        "x = \"hello\"\n",
        "y = x\n",
        "a = \"hel\"\n",
        "b = \"lo\"\n",
        "z = a + b\n",
        "w = x[:]\n",
        "print(x)\n",
        "print(y)\n",
        "print(z)\n",
        "print(\"x==y: \", x == y)\n",
        "print(\"x==z: \", x == z)\n",
        "print(\"x is y: \", x is y)\n",
        "print(\"x is z: \", x is z)\n",
        "print(\"x is w: \", x is w)"
      ]
    },
    {
      "cell_type": "markdown",
      "metadata": {
        "id": "7gc7lEz45mSA"
      },
      "source": [
        "<a id=\"conversions\"></a>\n",
        "### Converting between Types\n",
        "\n",
        "Values of certain data types can be converted to values of other datatypes (actually, a new value of the desired data type is produced). If the conversion cannot take place (becuase the datatypes are incompatible), an exception will be raised."
      ]
    },
    {
      "cell_type": "code",
      "execution_count": null,
      "metadata": {
        "colab": {
          "base_uri": "https://localhost:8080/"
        },
        "executionInfo": {
          "elapsed": 473,
          "status": "ok",
          "timestamp": 1621106794364,
          "user": {
            "displayName": "muntadher alkaabi",
            "photoUrl": "https://lh3.googleusercontent.com/a-/AOh14Gj1adaCWpR-cnwQQK4viQZvo0gyRf1A0y9AkvnPMt0=s64",
            "userId": "00221067971932357642"
          },
          "user_tz": -180
        },
        "id": "qdRO7ryn5mSB",
        "outputId": "9ae46061-29bf-4959-830b-21723a7abe27",
        "pycharm": {
          "is_executing": false
        }
      },
      "outputs": [
        {
          "name": "stdout",
          "output_type": "stream",
          "text": [
            "1\n",
            "1\n",
            "1.0\n",
            "(1+0j)\n",
            "1.0\n",
            "93926537898496\n",
            "140538951529264\n",
            "93926537898496\n",
            "140538952028656\n",
            "140538952028464\n",
            "93926537898496\n"
          ]
        }
      ],
      "source": [
        "x = 1\n",
        "s = str(x)  # convert x to a string\n",
        "s_int = int(s)\n",
        "s_float = float(s)\n",
        "s_comp = complex(s)\n",
        "x_float = float(x)\n",
        "\n",
        "print(s)\n",
        "print(s_int)  # convert to an integer\n",
        "print(s_float)  # convert to a floating point number\n",
        "print(s_comp)  # convert to a complext number\n",
        "print(x_float)\n",
        "\n",
        "# Let's check their IDs\n",
        "print(id(x))\n",
        "print(id(s))\n",
        "print(id(s_int))\n",
        "print(id(s_float))\n",
        "print(id(x_float))\n",
        "print(id(int(x_float)))"
      ]
    },
    {
      "cell_type": "markdown",
      "metadata": {
        "id": "C4o8c6fY5mR-"
      },
      "source": [
        "## The `id()` function\n",
        "\n",
        "The `id()` function can be used to identify an object in memory. It returns an integer value that is guaranteed to uniquely identify an object for the duration of its existence. "
      ]
    },
    {
      "cell_type": "code",
      "execution_count": null,
      "metadata": {
        "colab": {
          "base_uri": "https://localhost:8080/"
        },
        "executionInfo": {
          "elapsed": 1031,
          "status": "ok",
          "timestamp": 1621106793951,
          "user": {
            "displayName": "muntadher alkaabi",
            "photoUrl": "https://lh3.googleusercontent.com/a-/AOh14Gj1adaCWpR-cnwQQK4viQZvo0gyRf1A0y9AkvnPMt0=s64",
            "userId": "00221067971932357642"
          },
          "user_tz": -180
        },
        "id": "mB5Mhnep5mR-",
        "outputId": "55f0ba33-e03c-4b96-f9c2-630254cc89c9",
        "pycharm": {
          "is_executing": false
        }
      },
      "outputs": [
        {
          "name": "stdout",
          "output_type": "stream",
          "text": [
            "id(x):  140539018862384\n",
            "id(y):  140539018862384\n",
            "id(z):  140538951488880\n",
            "id(w):  140539018862384\n"
          ]
        }
      ],
      "source": [
        "print(\"id(x): \", id(x))\n",
        "print(\"id(y): \", id(y))\n",
        "print(\"id(z): \", id(z))\n",
        "print(\"id(w): \", id(w))"
      ]
    },
    {
      "cell_type": "markdown",
      "metadata": {
        "id": "k5Z8nEadkb9d"
      },
      "source": [
        "## Lists,Tuples, Sets, and Dictionaries\n"
      ]
    },
    {
      "cell_type": "markdown",
      "metadata": {
        "id": "wcSsrn1Ckb9e"
      },
      "source": [
        "<a id='lists'></a>\n",
        "### Lists \n",
        "\n",
        "Many languages (e.g., Java) have what are often called **arrays**. In Python the object most like them are called **lists**. Like arrays in other languages, Python lists are represented syntactically using `[...]` blocks. Their elements can be referenced via indexes, and just like arrays in other languages, Python lists are **mutable** objects. That is, it is possible to change the value of an individual cell in a list.  In this way, Python lists are unlike Python strings (which are immutable). "
      ]
    },
    {
      "cell_type": "code",
      "execution_count": null,
      "metadata": {
        "colab": {
          "base_uri": "https://localhost:8080/"
        },
        "executionInfo": {
          "elapsed": 571,
          "status": "ok",
          "timestamp": 1621106795879,
          "user": {
            "displayName": "muntadher alkaabi",
            "photoUrl": "https://lh3.googleusercontent.com/a-/AOh14Gj1adaCWpR-cnwQQK4viQZvo0gyRf1A0y9AkvnPMt0=s64",
            "userId": "00221067971932357642"
          },
          "user_tz": -180
        },
        "id": "qpnmbfIdkb9f",
        "outputId": "eb510433-9e1c-4f18-8b61-9ab9d385f3de"
      },
      "outputs": [
        {
          "name": "stdout",
          "output_type": "stream",
          "text": [
            "[0, 1, 2, 3]\n",
            "[3, 1, 2, 3]\n",
            "[3, 4, 5, 3]\n"
          ]
        }
      ],
      "source": [
        "a = [0, 1, 2, 3]  #  a list of integers\n",
        "print(a)\n",
        "a[0] = 3  # overwrite the first element of the list\n",
        "print(a)\n",
        "a[1:3] = [4, 5]\n",
        "# overwrite the last two elements of the list (using values from a new list)\n",
        "print(a)"
      ]
    },
    {
      "cell_type": "markdown",
      "metadata": {
        "id": "o2purc_jkb9f"
      },
      "source": [
        "Note that some operations on lists return other lists. "
      ]
    },
    {
      "cell_type": "code",
      "execution_count": null,
      "metadata": {
        "colab": {
          "base_uri": "https://localhost:8080/"
        },
        "executionInfo": {
          "elapsed": 932,
          "status": "ok",
          "timestamp": 1621106797270,
          "user": {
            "displayName": "muntadher alkaabi",
            "photoUrl": "https://lh3.googleusercontent.com/a-/AOh14Gj1adaCWpR-cnwQQK4viQZvo0gyRf1A0y9AkvnPMt0=s64",
            "userId": "00221067971932357642"
          },
          "user_tz": -180
        },
        "id": "dICizTkNkb9g",
        "outputId": "ab3dbe5d-b52c-424f-fe5d-434d509acc97"
      },
      "outputs": [
        {
          "name": "stdout",
          "output_type": "stream",
          "text": [
            "[1, 2, 3]\n",
            "[4, 5, 6]\n",
            "[1, 2, 3, 4, 5, 6]\n",
            "-------------------------\n",
            "[1, 2, 3]\n",
            "[40, 5, 6]\n",
            "[10, 2, 3, 4, 5, 6]\n"
          ]
        }
      ],
      "source": [
        "a = [1, 2, 3]\n",
        "b = [4, 5, 6]\n",
        "c = a + b\n",
        "print(a)\n",
        "print(b)\n",
        "print(c)\n",
        "print(\"-\" * 25)\n",
        "c[0] = 10\n",
        "b[0] = 40\n",
        "print(a)\n",
        "print(b)\n",
        "print(c)"
      ]
    },
    {
      "cell_type": "markdown",
      "metadata": {
        "id": "9eWWXkVfkb9g"
      },
      "source": [
        "Above, `c` is a new list containing elements copied from `a` and `b`. Subsequent changes to `a` or `b` do not affect `c`, and changes to `c` do not affect `a` or `b`. \n",
        "\n",
        "The length of a list can be obtained using `len()`, and a single element can be added to a list using `append()`. Note the syntax used for each. "
      ]
    },
    {
      "cell_type": "code",
      "execution_count": null,
      "metadata": {
        "colab": {
          "base_uri": "https://localhost:8080/"
        },
        "executionInfo": {
          "elapsed": 1964,
          "status": "ok",
          "timestamp": 1621106799645,
          "user": {
            "displayName": "muntadher alkaabi",
            "photoUrl": "https://lh3.googleusercontent.com/a-/AOh14Gj1adaCWpR-cnwQQK4viQZvo0gyRf1A0y9AkvnPMt0=s64",
            "userId": "00221067971932357642"
          },
          "user_tz": -180
        },
        "id": "dmbAQjgpkb9g",
        "outputId": "b665ce37-8bce-4241-c63f-cf459c8c7f9e"
      },
      "outputs": [
        {
          "name": "stdout",
          "output_type": "stream",
          "text": [
            "[1, 2, [3, 4]]\n",
            "length of 'a':  3\n"
          ]
        }
      ],
      "source": [
        "a = []\n",
        "a.append(1)  # add an element to the end of the list\n",
        "a.append(2)\n",
        "a.append([3, 4])\n",
        "print(a)\n",
        "print(\"length of 'a': \", len(a))"
      ]
    },
    {
      "cell_type": "markdown",
      "metadata": {
        "id": "3_orbl3hkb9h"
      },
      "source": [
        "Some additional list operations are shown below. Pay careful attention to how `a` and `b` are related."
      ]
    },
    {
      "cell_type": "code",
      "execution_count": null,
      "metadata": {
        "colab": {
          "base_uri": "https://localhost:8080/"
        },
        "executionInfo": {
          "elapsed": 568,
          "status": "ok",
          "timestamp": 1621106800161,
          "user": {
            "displayName": "muntadher alkaabi",
            "photoUrl": "https://lh3.googleusercontent.com/a-/AOh14Gj1adaCWpR-cnwQQK4viQZvo0gyRf1A0y9AkvnPMt0=s64",
            "userId": "00221067971932357642"
          },
          "user_tz": -180
        },
        "id": "x9D0_q3ikb9h",
        "outputId": "dad0c16e-fc32-4a8e-c54e-1f1d5cda1c7e"
      },
      "outputs": [
        {
          "name": "stdout",
          "output_type": "stream",
          "text": [
            "a: [20, 11, 12]\n",
            "b: [20, 11, 12]\n",
            "c: [30, 11, 12]\n"
          ]
        }
      ],
      "source": [
        "a = [10]\n",
        "a.extend([11, 12])  # append elements of one list to the end of another one\n",
        "b = a\n",
        "c = a.copy()  # copy the elements of a to a new list, and then assign it to c\n",
        "b[0] = 20\n",
        "c[0] = 30\n",
        "print(\"a:\", a)\n",
        "print(\"b:\", b)\n",
        "print(\"c:\", c)"
      ]
    },
    {
      "cell_type": "code",
      "execution_count": null,
      "metadata": {
        "colab": {
          "base_uri": "https://localhost:8080/"
        },
        "executionInfo": {
          "elapsed": 745,
          "status": "ok",
          "timestamp": 1621106801753,
          "user": {
            "displayName": "muntadher alkaabi",
            "photoUrl": "https://lh3.googleusercontent.com/a-/AOh14Gj1adaCWpR-cnwQQK4viQZvo0gyRf1A0y9AkvnPMt0=s64",
            "userId": "00221067971932357642"
          },
          "user_tz": -180
        },
        "id": "Hkxo12APkb9i",
        "outputId": "6b8020f8-5318-4469-f2eb-34bef02bc2db"
      },
      "outputs": [
        {
          "name": "stdout",
          "output_type": "stream",
          "text": [
            "a reversed: [12, 11, 20]\n",
            "a sorted: [11, 12, 20]\n",
            "b is  []  having length  0\n"
          ]
        }
      ],
      "source": [
        "b.reverse()  # reverse the elements of the list in place\n",
        "print(\"a reversed:\", a)\n",
        "b.sort()\n",
        "print(\"a sorted:\", a)\n",
        "a.clear()  # empty the list\n",
        "print(\"b is \", b, \" having length \", len(b))"
      ]
    },
    {
      "cell_type": "code",
      "execution_count": null,
      "metadata": {
        "colab": {
          "base_uri": "https://localhost:8080/"
        },
        "executionInfo": {
          "elapsed": 651,
          "status": "ok",
          "timestamp": 1621106802169,
          "user": {
            "displayName": "muntadher alkaabi",
            "photoUrl": "https://lh3.googleusercontent.com/a-/AOh14Gj1adaCWpR-cnwQQK4viQZvo0gyRf1A0y9AkvnPMt0=s64",
            "userId": "00221067971932357642"
          },
          "user_tz": -180
        },
        "id": "EdwHnx1Nkb9j",
        "outputId": "dcc118c5-5dc7-4c24-8539-91e0924ab296"
      },
      "outputs": [
        {
          "name": "stdout",
          "output_type": "stream",
          "text": [
            "['a', 'b', 'c', 'd', 'e']\n",
            "popped:  e ['a', 'b', 'c', 'd']\n",
            "new list, sorted: ['a', 'b', 'b', 'c', 'd', 'd', 'd']\n",
            "count of 'd':  3\n",
            "first index of 'd':  4\n",
            "['a', 'b', 'b', 'c', 'd', 'd', 'd']\n",
            "ele at index 2 removed: ['a', 'b', 'c', 'd', 'd', 'd']\n",
            "elements at index 2-4 removed: ['a', 'b', 'd', 'd']\n"
          ]
        }
      ],
      "source": [
        "list1 = [\"a\", \"b\", \"d\", \"e\"]\n",
        "list1.insert(2, \"c\")  # insert element \"c\" at position 2, increasing the length by 1\n",
        "print(list1)\n",
        "e = list1.pop()  # remove the last element of the list\n",
        "print(\"popped: \", e, list1)\n",
        "list1 = [\"d\", \"b\", \"b\", \"c\", \"d\", \"d\", \"a\"]\n",
        "list1.sort()  # sort the list\n",
        "print(\"new list, sorted:\", list1)\n",
        "print(\"count of 'd': \", list1.count(\"d\"))  # count the number of times \"d\" occurs\n",
        "print(\"first index of 'd': \", list1.index(\"d\"))  # return the index of the first occurrence of \"d\"\n",
        "print(list1)\n",
        "\n",
        "del list1[2]  # remove the element at index 2\n",
        "print(\"element at index 2 removed:\", list1)\n",
        "\n",
        "del list1[2:4]  # remove the elements from index 2 to 4\n",
        "print(\"elements at index 2-4 removed:\", list1)"
      ]
    },
    {
      "cell_type": "markdown",
      "metadata": {
        "id": "zvtGlP3ekb9k"
      },
      "source": [
        "<a id='tuples'></a>\n",
        "### Tuples\n",
        "\n",
        "There also exists an immutable counterpart to a list, the **tuple**.  Elements can also be referenced by index, but (as with Python strings) new values cannot be assigned. Unlike a list, Tuples are created using either `(...)` or simply by using a comma-delimeted sequence of 1 or more elements.   "
      ]
    },
    {
      "cell_type": "code",
      "execution_count": null,
      "metadata": {
        "colab": {
          "base_uri": "https://localhost:8080/"
        },
        "executionInfo": {
          "elapsed": 608,
          "status": "ok",
          "timestamp": 1621106803305,
          "user": {
            "displayName": "muntadher alkaabi",
            "photoUrl": "https://lh3.googleusercontent.com/a-/AOh14Gj1adaCWpR-cnwQQK4viQZvo0gyRf1A0y9AkvnPMt0=s64",
            "userId": "00221067971932357642"
          },
          "user_tz": -180
        },
        "id": "9dFd9r4Ckb9k",
        "outputId": "da520e2d-6a60-4eaf-d539-90d3552faecd"
      },
      "outputs": [
        {
          "name": "stdout",
          "output_type": "stream",
          "text": [
            "()\n",
            "(1, 2)\n",
            "(3, 4, 5)\n",
            "(6,)\n",
            "1\n",
            "(7,)\n",
            "2\n"
          ]
        }
      ],
      "source": [
        "a = ()  # the empty tuple\n",
        "b = (1, 2)  # a tuple of 2 elements\n",
        "c = 3, 4, 5  # another way of creating a tuple\n",
        "d = (6,)  # a singleton tuple\n",
        "e = (7,)  # another singleton tuple\n",
        "print(a)\n",
        "print(b)\n",
        "print(c)\n",
        "print(d)\n",
        "print(len(d))\n",
        "print(e)\n",
        "print(b[1])"
      ]
    },
    {
      "cell_type": "markdown",
      "metadata": {
        "id": "rN-8ilbGkb9l"
      },
      "source": [
        "As with lists, we can combine tuples to form new tuples"
      ]
    },
    {
      "cell_type": "code",
      "execution_count": null,
      "metadata": {
        "colab": {
          "base_uri": "https://localhost:8080/"
        },
        "executionInfo": {
          "elapsed": 727,
          "status": "ok",
          "timestamp": 1621106804586,
          "user": {
            "displayName": "muntadher alkaabi",
            "photoUrl": "https://lh3.googleusercontent.com/a-/AOh14Gj1adaCWpR-cnwQQK4viQZvo0gyRf1A0y9AkvnPMt0=s64",
            "userId": "00221067971932357642"
          },
          "user_tz": -180
        },
        "id": "70s6Qu4rkb9l",
        "outputId": "507b565e-2fdb-4feb-eeef-cfcc7b6b9d5a"
      },
      "outputs": [
        {
          "name": "stdout",
          "output_type": "stream",
          "text": [
            "(1, 2, 3, 'x', 'y', 'z')\n"
          ]
        }
      ],
      "source": [
        "a = (1, 2, 3, 4) # Create python tuple\n",
        "b = \"x\", \"y\", \"z\" # Another way to create python tuple\n",
        "c = a[0:3] + b # Concatenate two python tuples\n",
        "print(c)"
      ]
    },
    {
      "cell_type": "markdown",
      "metadata": {
        "id": "tp5Q-11Fkb9m"
      },
      "source": [
        "<a id='sets'></a>\n",
        "### Sets\n",
        "\n",
        "Sets, created using `{...}` or `set(...)` in Python, are unordered collections without duplicate elements. If the same element is added again, the set will not change. \n"
      ]
    },
    {
      "cell_type": "code",
      "execution_count": null,
      "metadata": {
        "colab": {
          "base_uri": "https://localhost:8080/"
        },
        "executionInfo": {
          "elapsed": 726,
          "status": "ok",
          "timestamp": 1621106805840,
          "user": {
            "displayName": "muntadher alkaabi",
            "photoUrl": "https://lh3.googleusercontent.com/a-/AOh14Gj1adaCWpR-cnwQQK4viQZvo0gyRf1A0y9AkvnPMt0=s64",
            "userId": "00221067971932357642"
          },
          "user_tz": -180
        },
        "id": "6uz-ey-Fkb9m",
        "outputId": "d74d0eca-4bc7-4356-b8ab-401df428a7f5"
      },
      "outputs": [
        {
          "name": "stdout",
          "output_type": "stream",
          "text": [
            "{'a', 'd', 'c', 'b'}\n",
            "{'l', 'r', 'w', 'e', 'd', 'h', ' ', 'o'}\n",
            "{'l', 'b', 'c', 'r', 'w', 'e', 'd', 'h', ' ', 'a', 'o'}\n",
            "{'d'}\n",
            "{'a', 'c', 'b'}\n",
            "{'l', 'r', 'w', 'e', 'h', ' ', 'o'}\n",
            "{'l', 'b', 'c', 'r', 'w', 'e', 'h', ' ', 'a', 'o'}\n"
          ]
        }
      ],
      "source": [
        "a = {\"a\", \"b\", \"c\", \"d\"}  # create a new set containing these elements\n",
        "b = set(\n",
        "    \"hello world\"\n",
        ")  # create a set containing the distinct characters of 'hello world'\n",
        "print(a)\n",
        "print(b)\n",
        "print(a | b)  # print the union of a and b\n",
        "print(a & b)  # print the intersection of a and b\n",
        "print(a - b)  # print elements of a not in b\n",
        "print(b - a)  # print elements of b not in a\n",
        "print(b ^ a)  # print elements in either but not both"
      ]
    },
    {
      "cell_type": "markdown",
      "metadata": {
        "id": "eHjsWZt8kb9n"
      },
      "source": [
        "Given the below, it appears that `==` is used to evaluate membership. "
      ]
    },
    {
      "cell_type": "code",
      "execution_count": null,
      "metadata": {
        "colab": {
          "base_uri": "https://localhost:8080/"
        },
        "executionInfo": {
          "elapsed": 460,
          "status": "ok",
          "timestamp": 1621106806785,
          "user": {
            "displayName": "muntadher alkaabi",
            "photoUrl": "https://lh3.googleusercontent.com/a-/AOh14Gj1adaCWpR-cnwQQK4viQZvo0gyRf1A0y9AkvnPMt0=s64",
            "userId": "00221067971932357642"
          },
          "user_tz": -180
        },
        "id": "YzzOzVEckb9n",
        "outputId": "1f8c0183-25d4-464e-bcf8-a16c68a1f086"
      },
      "outputs": [
        {
          "name": "stdout",
          "output_type": "stream",
          "text": [
            "id(a): hello\n",
            "id(d): hello\n",
            "{'lo', 'hel', 'hello'}\n"
          ]
        }
      ],
      "source": [
        "a = \"hello\"\n",
        "b = \"hel\"\n",
        "c = \"lo\"\n",
        "d = b + c # Concatenate string \n",
        "s = {a, b, c, d}\n",
        "print(\"id(a):\", a)\n",
        "print(\"id(d):\", d)\n",
        "print(s)"
      ]
    },
    {
      "cell_type": "markdown",
      "metadata": {
        "id": "z4Ed9ETAkb9o"
      },
      "source": [
        "<a id='dictionaries'></a>\n",
        "### Dictionaries\n",
        "\n",
        "Dictionaries are collections of key-value pairs. A dictionary can be created using `d = {key1:value1, key2:value2, ...}` syntax, or else from 2-ary tuples using `dictionary()`. New key value pairs can be assigned, and old values referenced, using `d[key]`. "
      ]
    },
    {
      "cell_type": "code",
      "execution_count": null,
      "metadata": {
        "colab": {
          "base_uri": "https://localhost:8080/"
        },
        "executionInfo": {
          "elapsed": 625,
          "status": "ok",
          "timestamp": 1621106808020,
          "user": {
            "displayName": "muntadher alkaabi",
            "photoUrl": "https://lh3.googleusercontent.com/a-/AOh14Gj1adaCWpR-cnwQQK4viQZvo0gyRf1A0y9AkvnPMt0=s64",
            "userId": "00221067971932357642"
          },
          "user_tz": -180
        },
        "id": "io8EijEXkb9p",
        "outputId": "31aaadd1-337d-4bf5-f817-6589a0cc8c03"
      },
      "outputs": [
        {
          "name": "stdout",
          "output_type": "stream",
          "text": [
            "{'last': 'smith', 'first': 'joe', 'middle': 'william', 'address': {'number': 1234, 'street': 'Elm St', 'city': 'Athens', 'state': 'GA', 'zip': '30602'}}\n",
            "keys: ['address', 'first', 'last', 'middle']\n",
            "True\n",
            "False\n",
            "{'last': 'smith', 'first': 'joe', 'middle': 'william', 'address': {'number': 1234, 'street': 'beech', 'city': 'Athens', 'state': 'GA', 'zip': '30602'}}\n",
            "{'last': 'jones', 'first': 'joe', 'middle': 'william', 'address': {'number': 1234, 'street': 'beech', 'city': 'Athens', 'state': 'GA', 'zip': '30602'}}\n"
          ]
        }
      ],
      "source": [
        "employee = {\"last\": \"smth\", \"first\": \"joe\"} # Create dictionary \n",
        "employee[\"middle\"] = \"william\" # Add new key and value to the dictionary \n",
        "employee[\"last\"] = \"smith\"\n",
        "addr = {}  # an empty dictionary\n",
        "addr[\"number\"] = 1234\n",
        "addr[\"street\"] = \"Elm St\" # Add new key and value to the dictionary \n",
        "addr[\"city\"] = \"Athens\" # Add new key and value to the dictionary \n",
        "addr[\"state\"] = \"GA\" # Add new key and value to the dictionary \n",
        "addr[\"zip\"] = \"30602\" # Add new key and value to the dictionary \n",
        "employee[\"address\"] = addr\n",
        "print(employee)\n",
        "keys = list(employee.keys())  # list the keys of 'employee'\n",
        "print(\"keys: \" + str(sorted(keys)))\n",
        "print(\"last\" in keys)  # Print whether 'last' is in keys or not (prints True or False)\n",
        "print(\"lastt\" in keys)  # Print whether 'lastt' is in keys or not (prints True or False)\n",
        "\n",
        "employee2 = employee.copy()  # create a shallow copy of the employee\n",
        "employee2[\"last\"] = \"jones\"\n",
        "employee2[\"address\"][\n",
        "    \"street\"\n",
        "] = \"beech\"  # reassign the street name of the employee's address\n",
        "print(employee)\n",
        "print(employee2)"
      ]
    },
    {
      "cell_type": "markdown",
      "metadata": {
        "id": "aHw6g8tekb9q"
      },
      "source": [
        "<a id=\"conversions\"></a>\n",
        "### Conversion Between Types"
      ]
    },
    {
      "cell_type": "code",
      "execution_count": null,
      "metadata": {
        "colab": {
          "base_uri": "https://localhost:8080/"
        },
        "executionInfo": {
          "elapsed": 821,
          "status": "ok",
          "timestamp": 1621106809726,
          "user": {
            "displayName": "muntadher alkaabi",
            "photoUrl": "https://lh3.googleusercontent.com/a-/AOh14Gj1adaCWpR-cnwQQK4viQZvo0gyRf1A0y9AkvnPMt0=s64",
            "userId": "00221067971932357642"
          },
          "user_tz": -180
        },
        "id": "OThtYfdEkb9q",
        "outputId": "9fb769d0-0f87-45e6-95f7-12977e595b80"
      },
      "outputs": [
        {
          "name": "stdout",
          "output_type": "stream",
          "text": [
            "(1, 2, 3, 1, 1)\n",
            "[1, 2, 3, 1, 1]\n",
            "(1, 2, 3, 1, 1)\n",
            "{1, 2, 3}\n",
            "{'one': 1, 'two': 2, 'three': 3}\n",
            "('one', 'two', 'three')\n",
            "('one', 'two', 'three')\n",
            "(1, 2, 3)\n"
          ]
        }
      ],
      "source": [
        "y = (1, 2, 3, 1, 1) # Create tuple \n",
        "z = list(y)  # convert tuple to a list\n",
        "print(y)\n",
        "print(z)\n",
        "print(tuple(z))  # convert z to a tuple\n",
        "print(set(z))  # convert z to a set\n",
        "\n",
        "w = ((\"one\", 1), (\"two\", 2), (\"three\", 3)) # Create special tuple to convert it to dictionary \n",
        "v = dict(w) # Convert the tuple to dictionary \n",
        "print(v)\n",
        "print(tuple(v)) # Convert the dictionary to tuple\n",
        "print(tuple(v.keys())) # Get the keys of the dictionary \n",
        "print(tuple(v.values())) # Get the values of the keys in the dictionary "
      ]
    },
    {
      "cell_type": "markdown",
      "metadata": {
        "id": "ZLce-CdjkzL8"
      },
      "source": [
        "## Controlling the Flow of Program Execution\n",
        "\n",
        "As in most programing languages, Python allows program execution to branch when certain conditions are met, and it also allows arbitrary execution loops. Without such features, Python would not be very useful (or Turing complete). \n"
      ]
    },
    {
      "cell_type": "markdown",
      "metadata": {
        "id": "9zJOA_A0kzL9"
      },
      "source": [
        "### If Statements\n",
        "\n",
        "In Python, *if-then-else* statements are specified using the keywords `if`, `elif` (else if), and `else` (else).  The general form is given below: \n",
        "\n",
        "    if condition1:\n",
        "        do_something\n",
        "    elif condition2:\n",
        "        do_something_else\n",
        "    ...\n",
        "    elif condition_n:\n",
        "        do_something_else\n",
        "    else:\n",
        "        if_all_else_fails_do_this\n",
        "\n",
        "The `elif` and  `else` clauses are optional. There can be many `elif` clauses, but there can be only 1 `else` clause in the `if`-`elif`-`else` sequence."
      ]
    },
    {
      "cell_type": "code",
      "execution_count": null,
      "metadata": {
        "colab": {
          "base_uri": "https://localhost:8080/"
        },
        "executionInfo": {
          "elapsed": 6,
          "status": "ok",
          "timestamp": 1654281010168,
          "user": {
            "displayName": "Muntadher Al-kaabi",
            "userId": "00221067971932357642"
          },
          "user_tz": -180
        },
        "id": "Kt_3GVxZ1qBW",
        "outputId": "a7b2d765-a7a8-49c2-86ec-aa1af0a468e5"
      },
      "outputs": [
        {
          "name": "stdout",
          "output_type": "stream",
          "text": [
            "value 3 is less than 5\n"
          ]
        }
      ],
      "source": [
        "x = 3\n",
        "\n",
        "# Test the number if it bigger than 10\n",
        "if x > 10:\n",
        "    print(\"value \" + str(x) + \" is greater than 10\")\n",
        "# Test the number if it bigger than or equal to 7 and less than 10\n",
        "elif x >= 7 and x < 10:\n",
        "    print(\"value \" + str(x) + \" is in range [7,10)\")\n",
        "# Test the number if it bigger than or equal to 5 and less than 7\n",
        "elif x >= 5 and x < 7:\n",
        "    print(\"value \" + str(x) + \" is in range [5,7)\")\n",
        "# Test the number if it's less than 5\n",
        "else:\n",
        "    print(\"value \" + str(x) + \" is less than 5\")\n"
      ]
    },
    {
      "cell_type": "markdown",
      "metadata": {
        "id": "QWDUUF9zkzL_"
      },
      "source": [
        "### While Loops\n",
        "\n",
        "Python provides both `while` loops and `for` loops. The former are arguably lower-level but not as natural-looking to a human eye. \n",
        "\n",
        "Below is a simple `while` loop. So long as the condition specified evaluates to a value comparable to `True`, the code in the body of the loop will be executed. As such, without the statement incrementing `i`, the loop would halt. "
      ]
    },
    {
      "cell_type": "markdown",
      "metadata": {
        "id": "3PTwzrs11Ymx"
      },
      "source": [
        "\n",
        "\n",
        "```\n",
        "while condition:\n",
        "    do_something\n",
        "```\n",
        "\n"
      ]
    },
    {
      "cell_type": "code",
      "execution_count": null,
      "metadata": {
        "colab": {
          "base_uri": "https://localhost:8080/"
        },
        "executionInfo": {
          "elapsed": 445,
          "status": "ok",
          "timestamp": 1654281429361,
          "user": {
            "displayName": "Muntadher Al-kaabi",
            "userId": "00221067971932357642"
          },
          "user_tz": -180
        },
        "id": "8DkzWw_ukzL_",
        "outputId": "99682d07-dc6d-42a6-a1aa-60267aee4b0d"
      },
      "outputs": [
        {
          "name": "stdout",
          "output_type": "stream",
          "text": [
            "h\n",
            "e\n",
            "l\n",
            "l\n",
            "o\n",
            " \n",
            "w\n",
            "o\n",
            "r\n",
            "l\n",
            "d\n"
          ]
        }
      ],
      "source": [
        "string = \"hello world\"\n",
        "length = len(string)# get the length of the string\n",
        "i = 0\n",
        "while i < length:\n",
        "    print(string[i])\n",
        "    i = i + 1"
      ]
    },
    {
      "cell_type": "markdown",
      "metadata": {
        "id": "J7pRXVe81Mi4"
      },
      "source": [
        "Loops, including while loops, can contain break statements (which aborts execution of the loop) and continue statements (which tell the loop to proceed to the next cycle).\n",
        "\n",
        "![image.png](data:image/png;base64,iVBORw0KGgoAAAANSUhEUgAAAYIAAAGtCAYAAAAbAHNqAAAgAElEQVR4nOzdd5xcZb348c+p08v2mt5DeoGE3lFEsF1BsOC1oiKCgqg/EBWxXLFce0MFKQr32q8onVASElp6723b7PR6yu+P2czuZGY3u8luNmGe9+vFi51znnbObM73nKeclRqbW2wEQRCEiiWPdgMEQRCE0SUCgSAIQoUTgUAQBKHCiUAgCIJQ4UQgEARBqHAiEAiCIFQ4EQgEQRAqnAgEgiAIFU4EAkEQhAqnjnYDKkFsxrUkJl4BUm/crX/sWuRM91GXaWse2i55AAA53UX94/95xDzxadeQmPQObLn0a2/8+xVH3RZBEE5u4ongODC8rSBJo90MDE8ztvTG/sotZzW54FQsPTDaTTkhWLqfXHAKpqtutJsinMAk8a6h4yc54a1ET/kwcOxPBMOh8+zvY/gnACf/E4Eta8SnXEVi0ttAVlFju6h95tOj3axRF1ryNbK1c8C28Gz9X7xbHkSyjNFulnCCOem6hiyvhpw0wBLxS8hLjruU+PT3YmmewjYplxzFFp1Iep4AJZnElHeRGv9mPFv+gGf7X0a3WcIJ5aQLBHI8R/dVE1E70nifPoBkioBQqdKNS4hPfy+Gd0xhm2Tl8G5+CNfuf49iy04cwVe+RXLC5SQmXoGt6Fiah9jM/yQ15kK8mx/CeeD50W6icAI46QIBgOu1EOErJ5JaWIt7RTueF9uRstaI1dd96m1k6hcVbZNzcaqW344W2VbYFl50K+mG04oGheVsjJplN6Gk2ovyZ6umkW49j2z1TCzdD7aJGt+He9c/ce1+DMnKlbQj1XI20dnXYavukn3Vy29H73z9WA/1iHL+SSQnXka2egamuwkAORtFje3BtedxXHufHPE2ZKtmEJ92NdmaWUXn2rXvGTxb/oga31s2n626SY05n1TrefnxEtWNZBnIqXYc7a/g3vV/qPF9xXkUJ11nfxfD09Jno4XetZbq5beRqV9MZO71WI7eMQnJzOJb90tyNbNItZxTVF7w5f/CdNWSGnMBhm8sAHKmGz20EffOf6B3rSlpd3jBzaSbzyzapkW2UbPsJtKNS0hOuIxccBq2JKOHN+Pd+Hv00Lp82dko3k2/x7XnMeJTr8q3R1IwfGMJL/gcjs6L8Wx9pGy9/Qkv+ByZxiVg5fDs+BveTQ8MOq9wYjopA4FzYxjtQJJck5v4uc0kzmjE+9R+XKtDyInh7/+0FWfpNkkBSSnaZqkuoHhQ2JbVoovVIeFFXyje0POPMzrrYxieZvzrflXaEMVRUudxI8nEJ72DxNSrsGWtaJel+8nWnEK25hSS4y8luOobKOmuYW+C6WkiPvlKUq3n9J5T20QPbcC76X700PoB83Yv+gKGb1zRdltWMT3NJCc0k5xwGcFX78a579neBBLYsl5cmCTngzdgOQJYuvew2mxs1VmaD4id8kFMZ23RNstRRbppKenGU/Fu/R+8mx8Eu/fGxlZdJeXYsk5k7qdIjbmoaHu2eibdS75C7VMfR0l1FrYryTYCr/0A965/EZ/6HjK1s0FSyNTNI1M3D+eBF/Buur/fINpXpn5R/ndA1ki1XiACwRuA4vX57xjtRhwNJZolPbu654NEdpKf5Kl1SIaJ2pVBMoavy8i190m0yHbSLWcD4N14P9UvfQU5G8X0tmI5Atiyimfn/+Hd+giJCZeBoqOk2vODwrk4ALmqaWTqFwAgmRmcbSvwr/0Fgdd/gBbekr+r073kqqahhzagJNuK2qFFtuPd+jDezQ/h3fwQtuIiVz29p41PlaQ/kuS4N2E5qvLHtPmhAdPGp15JfNrVIClIloGzbQXBV+7Gv/ZnSJaB4R+PrTiwnDVk6+bj3v0vYHi+A0v3EZ96NeEFN2MEJuRnYNk2avIAgVe/h2/T/Sipjv7zax5CZ34H09PzBJMO4dt4H1UvfRU9tAHTVYvpbgAg3XQ6WvdG1ORBACTLwLPjr8jZGNnauYUA5DzwIo6OVwHINJ+FreiAjd65ltpnb0APrcd54Dm8mx/CdDdh+McD+acSyczg2fkPap6/teeiD0ZgIrbiIFszMx/cunuDmmvfM4XvPDHhclB0LEcAIzAJACWxn8Dan6F3riFTvxBkBTXRhhbZUnIulHQnrn1Po4fWkauaXghohm8MyfFvwZY0tNgOJDPb7/nMNJ2RfwKyTRydr+E88MKgvkfhxHVSPhEAOLZEUQ+mMBp775ZsVSZ28RhiF7bifWY/3mVtw3UtQkkeKPycaViAd+sfSTefRWTeDUD+8b7+sWvJ1MzG7hm0zN+hlm9A3ZMfK5o15Gh/mbqOT3Dw0kdAkskFJh2Xrp7BMLwtxKe+p/DZv/onuPY+Ufjs2fowzn1P03XWd7F0P4ZvLJmGRTgOvnTMdafGXEh09sdLnkKCr3wH54HnBlVGZN5nMJ01QP5CWPf4hwr79M7Xqe58negpHyM54VIAYjM+iKPjhqIy3Dv/gWRmicz9FADJ8W/G1pykG5YU7tj10AaqV9xedDdfTtWKO4qeXrxbHsJ58Hm6zrwbW3EQn3YNzv3Poyb2DVBKb7v8a39R+Gw5q0m1nF30/ZSjd62l9ulPkG45i/C8mwoBLjHlXSQnXYF3w+/w7Phb2bw1y26k98lXjNG9EZzUk8r9j+4pv0OWiJ/XQvvn5hC7sBlbOfY5/GpsT+GxORechqX7SLWeX9hv6QEsZxXZ2lmFbXrHUC/kNpKd79oq1x0wWrJ18ws/613rce5/piSNkurAu/H3hc/heTcNS92mswb7sO42ORMGafAXoFxwWv4H2yS48htl0/g23Qs90yoN/3jSjUtK0rj2PEbwle8UPqdazit8T859z1C1/MhBwLvpgbJdWGpsD4HXvl/4nG4+e8ByJCNF9fLbi4JAvvz7qXvyY0hmesD8hXJyCeRcrGibjYTlrC7bpdk3lQgCbxwj9kRgNDjJNbix3CqWW8V2K9j68PZv28rAccxyqyTOaCQ1twbXa114nzlwTF1GWvfmnsVhMrmqaYVuGaCnD/1dGIGJ+Y9m5rgMnB4P2erZhZ9tWSU6t/z8fEvt+3TmwnTWoqQ7y6YdLO+WP+Dc/xzJiZeTHPemfD2OIOH5n0Uffxm+9b9BC28esAxL9wEgmTmSEy/vN52SCWO68v33hn8CHFxeksa5fxle31jiU95d2KbGdhN89buDOh4tsr3ffWpsV+HnXHDSgOWoif3H9MSYrZlFfMq7891dfbj2PIFn2/+UDJoLb2zDFggst0p6dhWZCT5yrV4sz4nT62R5NVLzapByFp4X25ByRxcMXHufJDUm/xQQm/be3u4KywBZJTX2QiQzAzAig6Wjp/cuN1c1lVzV1MFlK/Mqi6OhJvbhX/NTXHueIDbtvWR7Bjqz1TPpOuObuPYtw739L2jR/i6y+e/bVp0ls3j603dNQl/p5jNJTHp70TbDN5bwoi8SXHXXEcst93qPgj4TAQ79Hg03wzuGxKR3kG45q6i7Te9a0+/TivDGd8z/Us2gTnJBLcml9diKjBLLooQyuFaH0HbHUOIGciKHnDCGfYqn6dfouHH2gGnkWA7Xa514nzl4zGsO5Gyk8POhFblyJox75/8Rn3Y1tuIszDBSY7uPqa4Tida9kXTT6QCo0Z2Dvssf7ouZFt5M9YrbSTcsITH1KnL+8SAppFrPJdV6Lp7tf8az7c8lK7blXBxLDyCZafSutYOqS42Vdjumm88kMu8zhQuoa8+TpJuWYqsu0o2n0X3al6l66WsDdg8lJ7wFR/vLSFbxYKwtqyQmvLXw+dBA9HAxnTUkJ16RHxAuBCMbNbYb38bf42g79vEc4eR19IFAgmyLh+73TcZWZdRQBt+/9uHYGjly3mGSXNT/+1OktIlnRRveZw/2vaE9JkqyHWyz6M5N71yNa9/T+Rk1fWjdG4en0hOAo20VsRnX5vuMZYXgK99BMlKj1h5n23KcbctJtZ5P7JQPYWn56ZuJiW8jOe5SfOvvwbX3icLMF617C5mGRdiKE9e+Z4qnhw5SumkpkXk35i+ito1r7xMEXv8hzgMvEF54C7aik6lbQGjJ16hefnv+96SMbM1swou+QOC17yFnowBYmpf49PeRGnsxAJKRHrYLsy1rpMZcSGzmB7EVR2G7nAnj3fxH3Lv+MeQyExOvID71arBNAmt+inP/smFpqzB6jvpdQ7HzW0ic2QAS1PxqE9r+JNjHb/DIDOp0fPqU0pe5mTa+J/biXtk5rFNIDwktuTPfNdGj+sXb0LvW9Ly3Z3xhe82ymwqLzUxXA92n3obpbuiZZpgf7FNjOwm+cjdKqoPonE+Qaj6rsFhMsnIoyTaqXroTJXmAXHAykXk3YTqrehsja4W7U8lMF92JatGdBFd9s/AUk2o5l9jMa4suBrbiLAwISkbxKxmcB1cSeK233zs++Uri0/PBTsolcO17Jj+tNpyfophqPR/D00quajK54BT07g0EV31zwGmIw8GWNRKT/4P41CuLtmvdG6h5/taeNCodF/6mZ+GehRbZhmv347h3PwpAtmomhn8cueAkstWzQNbwv/5DHJ2vkQtMJrzwZkxXfe+5sgy8mx7Es+0RTGcNoTO+XRhbgPx369r7NP61PwMgMu9GUq3nFjfcMnqfCoq+xwx1T3wIOZsfwDU8LYQX3Voo3z60VsW2SgaElWQ7VSvvLJpK233q7fkppX14N92PZ9ufyi5aHIz2S+4vBF8l1UHdEx8+qnKEE8dRPREkT6sncVYD+u44wUd2IMeO7hfqWCQX1RUFASln4Xt8L8614fy7iEaI88CyQiDQIlvRu1YDEHz5W3Se+2OQZOR0qGjFcarlXAzfmKJybNVFrmoGhrcVJdVBcuwlxftlDcPbSjY4FVfyANna+RjeFvpz+KK3bPVMsjWzCq8QSI29qLBmoGz+w1Yrp1rPwbPlD4UpjN5tD4OsEp/yLmzNQ3L8pSTHX9pveZm6hViaD8Uc2bGS/CslHsC1+18kJr8zP6AsKSA7+qQxqFrxlfwF3d1ILjiFXHAK0TnX9Vturmoajs7XiM76MKa7sWifLavEpl+DZ9sjpFvOKQoCkP9uk+PfjHvXP0q6mLyb7id9aGXzYeMFzv3L8K/7dSEIQH5+/6EVyMUHLpd8Z4Z/POmmM/Bs/3NvWw79Xtgmrj1P4d384DEP4NMngMjp0LGVJZwQhvxEkB3rJfSBKaihDLU/3TAqL38z/RqdnzoFW5ORMibeZw7geq0LOVX+cXw42YqjMG1Ui2xHC2/K75BkUmMuwJZU5GwY54EXe/OobtKNp5VcrOVcLN9fbKTI1s7F8DQX7ZfMNM62l5ByCSxHkEzdgqI7+oHI2SiO9lWFfnrD20q2+pQjTAnspSTbcHS8UrI9F5hCctybyNXMKHrtgpLuQspGURP7cbS/jBbeWjQL5njJ+SdgBCejda0vmYdvaV7STaeTGnMhprelcFebn0IZR0m1o4W3onetRe9ag2RmsBxB0o2nUTzT2kILb0GLbMdWnKQbl5RM91WSBwv9/H2fCKpe+hp61xqy1acUFrHJ2ShqdAdqYn/J8Vial0zD4rKr2w8nGSmcbSuKuu1MTxPZ6lNQozvRIluPWMZgGN5WctUzwLbRO18fcDGfcHIYUiCwFYnOT87EdirU/GIjSnhkH/v7E31TK+mZVbhf68Tz7MER6QIShOFyeCBwtK8a5RYJQrEhdQ2l51RjVjnwPb531IKArUgosSx1P1gr3jwqCIIwDIb0RND10emYPo36uwf/pkJBqFTxadcULTzrS7KyBF/+LzFtUzghDPoVE2a1g1yjG/erb6SFUoIwcjI1c/rdZ8s66YbS11gIwmgYdNdQ6pQgSKDviI5kewThDSPw+g8wD5sA0MtCC2/rZ58gHF+DDgSZaUEwbbR94k8ACsJgqIn9ZWcCCcKJZvBdQ34dfV98RP8SmCAIgnD8Df411KqM2jEyL8ISBEEQRs+gA4GtgHQcFmwJgiAIx9fgnwgUGTl5/F8lIQiCIIyswT8RyNKIvsNHEARBGB2DfyKQQBLjxIIgCG84J/XfLBYEQRCOnQgEgiAIFU4EAkEQhAonAoEgCEKFE4FAEAShwolAIAiCUOFEIBAEQahwIhAIgiBUOBEIBEEQKpwIBIIgCBVOBAJBEIQKJwKBIAhChROBQBAEocKJQCAIglDhRCAQBEGocCIQCIIgVDgRCARBECqcCASCIAgVTgQCQRCECicCgSAIQoUTgUAQBKHCiUAgHHfppqUkx148KnXbqpPonE9gad5Rqf9kZisOInM+iaX7R7spwjATgUAokQtMIjLnUxje1hEpP9VyHqkxF45I2UdiaX6SYy/B1n2jUv/JzNK8pMZejOUIDilf9JSPkG4+c4RaJQwHEQiEAkv3E5v+XkJnfAtbdSIbyZGpSNZAUkam7CORpEM/jE79J7WjO3dq8gDRUz5KaMnXMD1Nw98s4Zipo90A4QQgKWTqFxFecBNKqpOGf74bbGu0WyW8Qbh3/B33jr8TmX8Tnef8ENfeJ/Gt+zWSmRntpgk9pMbmFnswCQ9+eQHB/92Jc01opNskHEemu5HuU2/D0v341/wcR9tyJMs4Yr5M/UKS499Mzj8JAC22E9fux5HTXcSnv4/qF/8f0PurlfNPpPvU2wB6umUkpGy0pFzJMgi+ejda98YB649PuYpMw0JMZy1yLobz4HI8Wx5GsnJl03cv/hK5wGSQZCxHEDkTAdssSaeFt1C16q6Bj73xNJLj3kzONw4APbQO965/oXetKUkbm/EBUi3nAlC16hsYvjEkJr0DW1LwbfwdzgMvYjmqiM76KNmq6ehdqwm8/qN+jwMgPvk/yDSdjukIIhsp9M7VeLf8ATnTXTZ9dM4nSNcvRsKm+vlbUFKdxKdcRbrlTGzVjRLbg3fzQ+jdG8rmDy+8lWzVtN5zl42AVebcRbZRtfLOAc6chOmup3vRFzHdDfjX34Nr978HSC8cLyIQVChL8xKdfR2ZxtPwbH0E946/I+fig8obOv2b5HxjcR5cjnP/MgAyDYvINJyGrTgBm/rHri260NqqO38xAeLT3outuvGt+0VJ2ZJto0a2lm2L6aojtPTrWM4alMR+HB2voHe8Rq56Bqnms0DWqX7xSyjJgyV5c8GpWJoHy1FFZN4NBF7/IXK6qySdnEughTeXPW7T00T3ws9jeppx7l+Gs+0lTEc1mfqFZOoXoHdvygfAPsdt+MZgupsIL7gZOdONrXlw7/gblrOa5JgLCaz+CbHp70NN7Me98+9EZ34EORen5vmbkYxUUf3phiVE51yHZCRx7X8OLbSebO1sMnULMN2NuHf+Hd/G35e02/BPIOcfT2TeDQRfuZv41KsAcO15HDWxn1TreaTrF+PbfD+erf9b5txNwdK8WLqfyPyb8K/5KUqybUjn7nDppjOJzfwgciaEb8Pv0LvWDiqfMDJE11CFsVU3yXGXkJh4OVp4K9XP34wW2THo/NFZH8N01VLz/C2o8b2F7Y6OV7E2PUB4wecxAhNK8klGEkfHqwAkJ1yO1ZNnKCQjiXvnP9C7NxU9MTg6XsW76QG6zvgWsRkfIPjyt0ryHrpAme4GAPTQepTE/kHXbbpqCZ16B1p0G9UvfRU53XtD5N71T3KBSYQX3EzX6d+iesVthYu4GtuTv2jaFpbmo2rlneihdSDJ5HzjiMy9HveuR/GtvwfJzKBGdtB57o8w3Q2o0Z2FOjJ184ksvBnfht/i2v3vQreKo+NVfBvuJTXmQqIzPwRQEgzU6A6kXAKQiMy7Aee+ZfjW/wo5l8iXcXAFyQlvJTbjAzgOvlT0vebP3Zb8OXDW9py7DaixXYM+d+U4DzyH3rWa5Pi3EF70RRztq/BuuBcl3XlM5QpHRwwWV5Bs7Ry6zvgmqdbz8K/5JVUrvz6kIABgeFtQI9tLLhaQvyP0b+h53B+BMQY5l8Cz/S/9dhs52l8lF5w87PUCxGZ+CDkXJfjyt4uCwCFaZBs1z30Owz+GTMPismX4N9yTDwIAtoUa24uUS+DddH/hwi5no0i2haV6CvkszUt40RfwbnoA946/le1bd+15HP+6X5Ecfxm26u73OLTwFvxrf1oIAoe4d/wNOR0iU7/wiOdiuMjZKN7ND1LzzPVYmpfO836cn9E1QPuFkSECQYXINJxG98JbwYaqFV/BefCFoypHD60jWz+f1JgLMZ3VJfvV6E58G++j7/jAcLMcQQxPC7nAJHKBSRj+8RieZmzVOWJ1ZmtOwbvl4QHTyLk4zgMvkJj4trL7lfi+0m2ZbuQyYyW9s5vA9LRgSwqu3Y8OWL9r7xPIRpLEhCv6SWETeO17SGa27F7JMkZlNpeS7iLw6t04D7xEbNZHiE275ri3odKJrqEK4WhbQcO/rqb71NvoPP/nuLf9Bd/m+4d85+7d/AcM33gicz5VuFgpyXa0yPZ8v/nBF0ZwxpFEZN6NpFrOJh9o7KJ9SBJKqmNEarb0AN2LvzQiZR9JunEpyCrtlzwwqPTZmhmwZYQbNWwkDP94uk7/BpJtUvv0J8uOPwgjSwSCClO18i5ygYlE5n6a1NgL8a3/Na59zw6pjOAr38FyBDCd1WTqFmN4WzH8YwkvvBk5G8G37re49j057G0PLbmDbM1sgq/ejd65GslI9NzFyliah8Tk/yDdtHTY6z0k+Mq3UaPH1jd+tCQrR82yz5ad6VSS1kwfhxYdO8PTTGTeZzB8Y/Cv/RnO/S8gWeWfVoSRJQJBpbFNtPAWapbdRKZ+IdE5nyI19mL8a36OGt8z6DLkdAg5HUILby1sNjzNJKZeSXTOx3AeWDbgFMihytQvJlc1ndpnPl06PmFbyNkYUm6EFsCR7/axJbXs2MhIc3SsIjHpcuT+upFOQpG515NpOA3XnscJvvJtlJQYJB5NYoygQklWDufB5dQ+fR1qbA+hpV8vzAjqj+Ftpe3ND2O6GsruVxP78a37FbbiJFM3wKCjfeR1CoczXTXI6fDAF2J5EP3b9tGNXaixXSTHX3ZUeY+VkjgAkkJqzEWjUn+vYxv3sWWN5NhLaL/wN5juRqpWfg3fht+KIHACEIGgwsnZGP61P6d6+e0YvnF0nfV9MvWLsGWtJG0uOA1b0TH84/stz9ID+Rkx8d39plETB8qWXyAphamKhU2WAXI/D7CSTLZ6JomJl/df5qGkPd0mprOm3zSW5sVWXUXbvBvvw/CPIz71PQOWbzprhn3mjZLuwrPlj8Smv49szawB0+b8E8hVTR3W+g85NFtpqOcO8msRQqd/g8Skt+Pb/ADVL34JrXvTiLRTGDoRCAQA1NhOql/8Iv7VPyQy7wY6z/kRhqe5OFHPIHB4/k2km88ueoOnrbox/BPoXvwl1ORB1DKLug5xtK3E8LWSmHh5YaqgrehYup9szSmElnyVrrPuxu5z4dfCW7AcAWIz/hNLy0+ttGUtv0Bs9nWEln4dJdmRDyKeJkx3fdm65WwUvWsN4Z6FYYfqsHsWmyUmvZ3O839OaswFRfn00AY8Wx4mMfmdROZ+GssRLAQzW3VhOapITngLHRf8iuisjxbyWXoA090IkoTlrCl54rIlFdPTVHLxNJ01mK66wmff5gfRwpvoPvV2Uq3nY2m9L82zNA+mq5bwvJvoOuu7pFrPLy7L3VA4H6arPt+ePufWVt35Nsgqlu4vrLUoOXe5OHrnaiILbsrP0iocf8+5m3gFnef/jOTYNxXlC8+/idDSO9G6N1D31Mdx7X6sbPnC6BEri4VSkkKq6QwcHa8Ur/CVZNov+h2uPY+TmPQOsE2knlcN2JIMkoIeWk/18tuOOKiZaj2PyLwbwDKRbAskqacMGcfBlwi+8l8lYwyGfwKdZ3+/J4/Zk0dByXQTXHkXmfrFxKflV83Kme786uYybFml66zvYXhb8+XYdqFuOZfAs/WPeHb8vczsJ4lcYCLdp92BpXkLeZFkbElGsk28G+7Ds/NvhbzR2Z8gOe6SQglqdAe1z34GgMic60mNzb+FNfDq3bj2PYuleem46LfYsoYa203tM9f3qV4iMf6txGe8P1/foXMvK4CMmtiHf/WP0EPFr4pov/C3WM6q3mLMDLXP3pDvcgKSYy4mOuc6kPL3hXI2Qv2/31/+i5NkOs/6LoZvXOm5MxJ4tj6CZ/tfi85dqvkc9NAalDLrL4QTgwgEwlGxdD+Wowpb0YH8mIOUSwxp+qblCGDpwd4yjBRyJoKciw2QJ4ilB/J5bAvZSCKnOo9qYNr0NGGpbpBkJMtAMpL5/uojzcyRFAx3A7bmBqT84HkuiZwOHZdZL5bmw3JWYSuOfHPMLJKROK597X3PHZaBPNhzJ5yQxKwh4ajI2egxz2CRM5H8y9+GlCeMnAkfU72HKIkDHNXyKdtEHcLrKYabnIsNGCyPh6M+d8IJSYwRCIIgVDgRCARBECqcCASCIAgVTgQCQRCECicCgSAIQoUTgUAQBKHCiUAgCIJQ4UQgEARBqHAiEAiCIFQ4EQgEQRAqnAgEgiAIFU4EAkEQhAonAoEgCEKFE4FAEAShwolAIAiCUOFEIBCOu+SEy4hNf++o1G1rHrrO/A6WIzAq9Z/MbNVF11l3D/g3i4WTkwgEQolM/UJCp32VXGDSyJRfO49szdwRKftILNVDLjil8LeShcGzVDe5wGTsnr8ZPVjhhbeSmPi2EWqVMBxEIBAKTE8T4fk3EV54C3p4I0qqfWQqkpTC38c97iTp0A+jU/9J7ejOnXPf06TGXkLXWd8jWzt7+JslHDPxpyoFLM1LuvU8YtOuRg9toOHR95T5w+2CcHScB5fjPLic2PT3El7wefTQOnzrf4OSPDjaTRN6iD9eX+FywWl0L/4SkpEk8PqP0ENrj5jHlnXSLWeRHP+WQveRGt2Je/djKKk2YjOupfaZT4Hd+6uVC06h68zvHLFsycpRteIO9K7y7bBVF7aiE3bWNpIAACAASURBVJ9yDZmGhZiuWuRsDEfbi/g2/B45W/5vIIfO+CbZqhlHrF8PbaD6hVv73W8rDlKt55EcfymGb1xPnnW4d/4Tx8HlSFauKH109idIjrsEgOrlXyYbnExi8jtBUvBt+A3unY9ieMcQmfNJctXT0TtXE3zlv/r9e9CW5iE+7RrSTWdgOYJIRgpH52q8m+5Hje8pG8DDC28h3XQGYFP35EeRszFiMz5IqvlMbNWNGt+Nd9ODONtWlM0fWvp1sjWzjnjutO5N1Dx/y4BpbNVFeOHnydTOxbv5QTzb/oxkZY9YtjCyRCCoUJYeILT0TgxvK4HXf4Rz/zNIljGovB0X/ApbdeLa+S88O/8KQKr1fJJjL8Fy1SEZSeofuxZsszeTpGDpXgDC8z+HrfmoeunLpYXbIBmJsm0xPM10nf19bFlHi2zBte9pnPufI1O/kMSEKzA9zdQ891nU2O7S49W8ICuYzjq6zrqbmudvKX9HapnIuXjZ4zb84wkt+Sq2rOPZ8Tdcex7HdNeTajmP1JjzUVJd1D71saK226oLS/PSee6PwbaQLAPf+l9juuqJT3sPvg33EZ/6bvTONfg2/JbuU7+MrejUPv0J5FyiqP7k2EuIzfoISnwvnh3/wNH+EunGpaRbziVbNRXXvmcJvPb90lOqujE8TXSddTf+NT8lPvUalFQnnq1/QIvuJDH5HSTHXIRnx9/xrb+nzLnzgKxiOarpPPv7VL/4pXzQGcK5O1wuMInwwluwFQeBNT/FcXDFoPIJI0N0DVUYS/MRn3Y16Zazce5/jqoVd6CkuwadPzLvBiQzQ81zn0POhAvbPdv+hHvnP4jMu4lszSmlGW0TOZO/W5csA7vP58FS0l1UrbwTJdmGkmwrbHfteRLXnifpPu0OYjM/SNWKr5TkPXSBshVn/nM2NqT6DW8zodO+gnP/Mnyb7kfKJfNtSrahd67Bu/kBwou/ROe5P6Vm2Y2F+iQjhWybYNtIVo7qF/8famwXSBK56hnEZrwf75aH8Wx5CMkyqH7hC3Se/3NMdwNyZHuh/lTreURnf5zgy9/C0b6qEGzcux7FvetRsrVzCS+4hcicTxFY/aOitktGEjkbAySisz6GZ9uf8W75A5KZAcC/+qfonWsJz78R5/7n0MKbDzt3+YBkS9pRnbtytMg2ap+9gXTjUiJzP40yaR+B136Amth3TOUKR0cMFleQ1NiL6Dr7uxi+MVS99DX8a346pCAAYDprUBIHioLAIZKZxbf+nvxd5QiMMUhmBr1zdVEQ6EsLbcTwtg57vQCxmR9Bje3Ev/aXhSDQl5LqpPqFL2JpHtIt55Qtw7/2F/kgAGDbyKku5EwYz7b/LVzYJTMN2NiKq5DPcgSIzvkkgdd+gPPg8rJPS3rn6/hX/5B0yzlYerDf43AeXI538wOFIFDYvn8ZSrKDbPXMI52KYSMZaVx7n6L2yY+jRXfQdfb3iM34AJaj//YLI0MEggqRrZpJfMqVYFn4Nt6L1r3xqMpxtK8iWzeP+NSryQUnl+xXUu249j4FDKrH8ShIGL7xZBoWkxpzYf6/lnPI1C8c0QtILjgFz7a/DtwyI4Vr3zMkx72p7H65TNCVc3EkozSw9M5uAsM7BpBwtr00YP3Og8uR010kJl7RTwob34bf9tsFKNnmqMzmknMxPNv+Bz20nuS4N5FqveC4t6HSia6hCqF3r6fuiQ8Tnf1xuhffjuPgCnybfo+c6R5SOZ7tf8V01ZGccCnxqVcCIKdDqPF9ODpeyd9ZpjpG4hCwNC+ReTeRqZ+HnI0iZyL5wVlJxtIDWI7AkI9n0HXrPrpPu31Eyj6STN0ibFml7U0PDip9Ljgy6z9Ggq04yNQvJDL306jxvdQ+/akhP6UKx04EggrjX/MzPFseJrzo87RfeA++Dffg2fGPIXXl+Nf9Gv+6X2OrblJNZ2L4x5MLTCI2/b3Epr0X38b78Gz/0/A2XJIILb0T09NCzQtfLPtEE59yFamxI3c3WfPczSX958eHhWRlqX/0PYMe0D/xSeQCE+le/CWQdapWfg29a91oN6piiUBQgZR0FzXP34rhbiR0+l0kx7+V4CvfGfJFTjKSuPf8u/DZ0jwkpvwH8WlX497595KplMci3bAU091A3eMfHPTMlOEkZ2MY3tZRCQTOthUkJr0NW/MgHeMg7YkitPTr5AIT8W38Pa69jyMZ6dFuUkUTYwSVyrZQE/upe/LjuHf9k+7FX6J78W0DDrbmqqbTdun/YHiay+6Xcwm8mx/CVvSeeev9OIp545bDj5yJDhgEbHkQ9zX20Y1daJEto/aaBCXZBpJCYuI7RqX+Xsc2AcBWHMRmvJ/2Sx5AToeoXfaZ/A2DCAKjTgSCCieZaTzb/kTNc7cg52J0nflfJCa9A1t1lqQ1PC3YskouOLXf8kx3E9gWeqj/x3w1sR9bdfW735Y1DP+Ew9qZxVb0fg5CITXmApKT+hsk7ZPUSAGQ61kMVo7pqsXS/UXbfOt/g+WqITr7ugHLN3xjSUx65xHbMRRyJox/7S9JTLx84AALZBpOJd1y9rDWX2hHz0wjY6Bz56wp+0K/dNOZdJ39PbLVswi8+h2Cr34HJSFWFp8oFK/Pf8dgEsbPbcK5IYzanhrpNgmjQDYSOA8uR+/eSGLSO0lOfDuOzleLVrgavnFkmpaSrV+Yz5ONFvab7kayNbOJzPsMWnQXnp1/p7+ZQ3I2TnLiW7F1L2riIHIujqX7MTzNZBtOJTr7E6TGXIBn5/8VypCNFMnxb8Hwj0eN7ULOxbA0H0ZgItFZHyUx4XK0yHYsRxAl2Y7paURN7C+pW7KyPRfrt6GHtyLnYkhWDtPThOEbQ2LSO4jO+SRKqhMtsq1PmyPI2RiJiVeQq56BmjyIZGaQrCymqxbTN5bkxMuJzLsBJLln5lR+4VS2+hQyTUtQUp3Yiobas5At03Aapm8MSqoTyUwjG0lsRSc56W0o6U5suTetFtmK4W0lMfkdIGs95z7fTWR4mnvOw3UkJr8dLbIVvc8YSqZhMbnAZDINi1ETB/JTgNOdhfEG091AtnYe6cbTkK0skm2Wnc8vWbl8GyZejhbZVnruJr6N6NxPoWTCaOEthXzdi79EeswFuHf8jcDqH6MmDgzwmyiMBrGyWCgrUzsfPbypZGpj1xnfwrn/ORKT34mtebHl/CIjLAPZTONoW1l2dWtJ+Q2LiMy5vqeMfJeOZGaQcgmcB17Av+6XJXlMdyNdZ3wLW/Pk67VtJDONGt1F4PUfkK2dT3LCpUA+SFW/8IXylUsy3Yu+QLZmdn6BmSSBbSIZGdTEPtw7/oZr3zNls5qeZsLzb8LwjcFWHEBPXjODkg7h2fIwrn1PF9LHp76HdPOZhc9KfB9Vq+7q2fde0s1LAfBt+A2OtlXYqpuu078BsoqSOEDVyjuL6k+1nEN82jVYzipsOf+EJFk5JDON1r0J34Z7e9cq9Aid/o3iJxwrS9XKuwqzu9KNZxCfdlVh6qiUi1Pz/OfLnzsgvOhWMrXzypy7/bh3/r0QBA/J1C1AC28elbEdYXBEIBCOjiRR2rNoD20hWbkybIsB1yCU5BlinUVlyRS/SXMIZZXNazNy6yeKKi8z3/8YzsNRNeEYzp1wwhGzhoSjY9uAecRkw17GcNRbKOsYLlyjetGzi9/jNCpNEBf9NxIxWCwIglDhRCAQBEGocCIQCIIgVDgRCARBECqcCASCIAgVTgQCQRCECicCgSAIQoUTgUAQBKHCiUAgCIJQ4UQgEARBqHAiEAiCIFQ4EQgEQRAqnAgEgiAIFU4EAkEQhAonAoEgCEKFE4FAEAShwolAIAiCUOFEIBAEQahwIhAIgiBUOBEIBEEQKpwIBIIgCBVOBAJBEIQKp452A4QT1/RslmtiUTS7d9uvAgG2atroNeo4ctk2H4+EaTDMwrbtmsYvAoFRbJUgDD8RCIR+vTmZYH4mU7TNa1mj1Jrjr9kwuCCZLNpmS6PUGEEYQSIQCP36k8dLUpJoNE0Wp9Oj3Zzjbq+qcr/PT41pckEqiWbbR84kCCchEQiEfu3UNH4eCDI/k6nIQJCRJB70+QA4M50SgUB4wxKDxYIgCBVOPBEIQ9ZgmlwejzMvk8FpW+zUNJ5wu3nB6SqbfnIux43d3Tjt3vGFTkXh87V1ACzIZHhHPEaTYfCox8PDXl+/dZ+RSrE0nWZGNj928brDwWNuDxt0/YjtXphJMzuTYULOoNXIAbBZ13nM7eYVh3PQx3/IWxIJrkjEUQ57UvhWdTWbtSO3RxBOFCIQCENyfThMrWmg9NnWYJqclk5zQFX5SSDIqw5HUZ43JxKM67nw9tVoGnwhFGJSrnffB6JRzkumuLW2lqjc+8C6NJ3ig9EozYZRVMbFySQXJZPs0jR+6Q/w+mF1A8zPZLi1O4SnzEB3QyrFmakU2zSNm+rqGexQuAS8PxYtW+Zb4wnurhKBQDh5KF6f/47BJIyf24RzQxi1PTXSbRJOME2myfmp/OwZr20hA/tVlWUuFy+6XGQkiQbTJGBZLEmn2K5pHFB77zG2aRohRWG97mBaLosKKOQv4o1mfmrmS04n63WdSbkcAcvCbdusdObv0t+SSPDpcJhAz0V3re7gSbebLbqO27YJWhZBy+LsdIoNuk6bWnx/E7Aszk2lMMk/AazTHTzncvG604EENJom1ZbF4nSaf3s8lBsJeFc8jm7btKsqT7ndnJlKcU4qyaFJRHtUlb94vbzucPAXr5ekLHpdhZOHeCIQhuwJt5ufBYKkpN65lKem09wU7sZrWdwS7uaahkaMnv1disKfvF5U2+aKRByHbeOybbBtOhWF7wereK3nTt4GzkmlWKPnP9ebJh+KRlCxMYF7AgH+5vEW7tzvtW2uj4Q5P5mf1fPRaITP1taR6dO2TbrOVY1NZY/lj14fXw51sTidZnIuR8Ay6ZaVsmkBNNvmA9EI74zHC9tecLr4flUVSUnMLRVOTuK2RRiSTkXhp4cFAcjf0T/U07fvsSwuTSYGLMcGVjscXNvQWAgCAP8drOKdTc0868qPN3wsEkbv6YN/2enkL32CAEBOkvhhIEis5w58fC7HWanyT62qbVNjmowxDMYZOcYZOZoMg06l98KvHGFi0PRsthAEcpLEvX4/d1VXiyAgnNTEE4EwJA97faT7ueg95nbz4WgEyHf7/NXj7becdkXhizW1R6yvtc+YwA+DwbJpcpLE7TW1fK+jHYAl6RSPu91FaU5Np7mlO4RzGKeA3uP387cBjlEQThYiEAhDsk/t/1cmIcvsU1VaDIPxudLB4aPh6HPhvu/gwUHlqTpsAPfm7hBnplL03+FzdD4SieCzbB7w9T/LaThcE4uytGcdhwT0HcToDcn2YZ/LpSn/edBp7MPTlAbVI5Vz1G0pOuah1zuYbf0fc3F9R8xzFG059NkGTMCQJAwgK0kcVFWec7p40eUcsNvyWIhAIAxJlWX2u89h29T3DP4OFDCGIinJ5P9pDF7ff2TnppKFINChKPwoGGSbphOWZVy2TdA0uSoeK3mVRH+2axp/9ni5KdyNDFwdi1JnGvwgWDWkNg5FjWkxpiew2lLvZfBQuLOhzzYJpN5tpWmlwmsyrD77e9NLPfUUlw9gSXDoMmz3/ZnD65N60pa241AdVj5Zmfp78vfZX7b8Q/nKltF7jg4/jpL8ZcuQitpceizSYeUVp7EOS9O3nUXfE5Qch8eyUW0bv2Xhsy1acwZzMhnmZDJ8PJKf7PA3j4dlLvegZ7gNhggEwpBcHk+wwukq2yd+YbL3NQyPuj3DUt8qp4Ox8RwmcFd1DSucQ5vv/x+xeOFJ4K7qarb0md+fkiRQFFzW4LuLErLMk243UUXm1lC+q+miZJIa0+Ib1dUlYyfD4b+DQf67n24x4Y0vYFlMy2ZZkElzbirFzd3dvCcW4/vBKjYOYv3MYIjpo0K/gpbFKdkMU7I55vYs4KqxTMYYObZrOilJwpIkqkyTs9JpPh6NIAMxWeabVdVYkoRq20zO5ZiYy9FqmpyZSqGRf/Tdo2q0GEbhvwbTJKrI5PpcTLdoOuekUnhtm1PTadpVlaQsk5ElbCQ02yZgWdRaFq09XVKmJJHoGTw+P5Wktucp5VWHk05VxZAk6kyTedkMN4a7mZPtfbHeDk3Db1lEegaQZ+ayjMsZnJ1KoQLtqsoTbjf7VZWVTicXpJKoQJNpcFY6RZui0mwYJGW537EUQRiKjCSxT1VZ5XTyiNcHSMzNZrgkmSQuy2wZhmAgNTa3DOp26OCXFxD8350414SOuVLh5HBjuLv07ZuU7/M8JCnJfLG2tvCq6om5HP/dM4g7GA97ffzO7y/aNjWb5etdnfkpp4OwVndwa21+IHqsYfDdjvZ+B4nTksQGXS95y+rPAwHW6w5+cFjb1zgcfKHPIPdv2w4WAk1f//R4+HFA3MULI6PJMPhqqIsmw+Ahn4/7ff6y618GS0wfFfr1otNF9rC72h8Gg+ztp/9/je7gk/X1RX+voEtRWF1mtW85UVnmxTJdP5t1nQ81NPK0y10mV7Gtmsav+/y9gN2qym01tYSU0kG29brORxoa2H7Y6yC6FIXXHU46FIU9Rxjr+IPXV3KOgJLV1YIwnA6oKtfV1bNJ17kyFmNqNntM5YknAmHItJ75+EErv8o4LUlEZZluRRnisO7QSECVaeKzLDw9d/hWT/1JWSYpScT7WdHrsG0aTLPw9xQ6FYWuEW6vIIy0GtPkd20HSUoS19c30FbmhmcwxGCxMGS5niltg5vMOXxsIKQoZe/ujyQjSewepplMgnCi6FIUPltbx7c7O7gkkeDew7pVB0t0DQmCIJzEtug6B1WVKxLxwvu4hkoEAkEQhJOYBfzSH0C3bc5JDW49zOFEIBAEQTjJrXI6CSkK8w6b/TZYIhAIgiC8AbQrylHPHhKBQBAE4Q1gk64TtCwmHMV7vkQgEARBeANY17PCWAQCQRCEChXqeTPp0cwcEoFAEAThDSCi5C/nfhEIBEEQKlOk54lABAJBEIQKdegV6E5bBAJBEARhiEQgEARBqHAiEAiCIFQ4EQgEQRAqnAgEgiAIFU4EAkEQhAonAoEgCEKFE4FAEAShwolAIAiCUOFEIBAEQahwIhAIgiBUOBEIBEEQKpwIBIIgCBVOBALhuMsFJpKtnjkqdduyRqrlXGzFMSr1n8xsWSXVei626hztpgjDTAQCoYTlCJCY+DZMZ82IlJ+Y8m7iM94/ImUfieUIEpl/I5ajalTqP5nZup/IvBsxXfVDypeYcDm5wMQRapUwHEQgEPqQSLWeR/tFvyM15kKQ1RGpxZYd2JI2ImUfkSQX/18YNLtwuZCGlM9019N11ncJL/gcSEPLKxwfI/MvXTjp5ILTCM//DLbqpvbpT6EmDoBtjnazhDcA/7pf4dn2JyLzP0P7Rffi2fEXPFseGe1mCX2IQFDhLEcV0dkfJ1s1A/fOv+Pe9ShyNnrEfLngFDINp2J4mgFQkgdxdLyCnI2RGnMhvvW/AexCetPTRGzae/N5AxNA1ggvuLmkXMk28Wx9GDW2Z8D6Uy3nkauagqUHkIwkevcGnPueRbKMsunj067G8LRgK/n+7egpH0YyUiXp1MQ+vJseGPjYq6aTbjgV092QzxPbiaNtFVp0R2k7x15MpnYuAN7ND2K66kk3nwGSgmv3v9FD67E0H8nxl2L4xqJFt+PZ9ucBg3Cq5Wxy1adgaV4kM4MW2YFz31PIuXjZ9ImJl5MLTgNs/Gt/iZyNkGo5j2ztLGzFgZLqwLX3KdTY7vLnbupVGN4xhXGV2MxrkXLJMuduP95N95ctQ0l3Ub38DjJ184nO+gip5nPwbfgtjvaX+z1O4fgRgaBC2YqT5Lg3EZ96JY62VdQ8dzNKqm1QeSNzbyDdtAQtvA29ewMAucAkUmMuQjJS2Job34bfFV/MzCxqYn8+bXAytm0XPhc3zEIys2XrtXQ/4YWfJxecjJyNo0a3o0V3YnhbiE1/P8lxl1K18k7kTLgkr5zqREXC0jwAKKl25GysbLr+WI4qInOuI1u3AC20AS2yFUvzkmlcQmLKlTj3PUNg9Y+hz58KlDNhlGQbyYlXYDlryPnH42h/BUv30L3kqwRX3kVs1kfAtnC0v0xi0jvI1M6jauXXSs5DLjiVyNxPY2ke9O5NqPE9GL6xJCZeTnzKO/FtvA/XnidK2q2kuzGzEZLjL8W153ESk9+F6WlG71yNkuogWzOL5IS34l/9I1x7ny6TvwskBUt195y7DuRMZEjnDgDbxNG+ironVxGfejWRuZ/G0fEanm2PHDHwCyNLBIIKY8sa2br5RGf+J5KVJfjKd4Z0Vxab/j4yjadStfJO9K51RfssRxXdp96GqblL8inprsLdYi4wGUv393v32C9JQc7FCbz+I5z7l5Xs7jz3x8Smv4/A6z8s2efe/W8ATHcDyfFvwbP9ryjlAlE/LM1D96m3g5Wj5tnPoMb3Fu3PNJxKZO71hBd4CLx6N5KVA8DR9hJ652skx7+FXGASgde+j/PA8yCpdJ7z33Sf9mUcB1cQeP0HyLkEzr1P03XW3ZjuJtTYrkL5hm8soaVfx7XnMXwbf49kFN+Rx6a/j+isj2LLGu5djxbtc+5fhta9ieT4txBe9AW07i3UPPdZ5HR3b/4ZHyQ6+xM4Ol4rCaSu3Y/lz52zluSEy3Dv+EdR246Gd/MDuPY8Rmzmf9J1+rfxbvsfXLv+iZxLHFO5wtERI2YVxHIE6V7yFSJzr8e981Fqn/n0kB/Nc8Ep6J1rSoIAgJzpxrf+HrTItqK74uEiZ7oJrvpG2SAA4Ny3jGztnGGvFyA284NYqpOa528pCQKQv+DXPv0pMg2LyVXPKFuGd9Pv80EAwDbQQhvAMvCv+0XhAqik2pFss/DkAmCrLrrO+DauvU/hX/uLkiAA4Nt4H95NDxKf/j7sAQb55WyMqlVfLwoCAL4Nv8l3GTWfdcRzMVyUVAfBl79FzXOfJTn2Ijou+DXZqhkDtl8YGSIQVIhUy3m0X/gbbEmn7vEP4tnx56MqR43tIlM/n2z1KWX3611rqVpxB33HB94IMnUL8W38/YBp5GwER/tK4lOvLrtfC28p2aYmD6KU61LpM6vJdDdgKzrejfcNWL9nx18ASI67rJ8UNtXLbys7NgIgmTmQj/9sLjWxn7qnrsO192lCZ3yDyNxPH/c2VDoReiuEa99TaJHNRObeQOd5P8ez5WHcux89csbD+DY9iOGfQGjJV5GzUZRUB0o6hJLYj6PjVfSuNSPQ+l7xKVeRGnMBlu7DVl35jbaJZGbAtpGNkelasBxB4lOvIjHxioHTOasxndXDWne6YQlIMt2nffmIT1q2JJOtm9t/oD8BZ4KZ7ga6F92K6W6m6qU70btWj3aTKo4IBBVEje+jevltpBuXEp9+Dakx5+PbeN+QLt6SkaTqpa+Rq5qG4RtLNjAVy1VLLjiZxOR3okZ34l9/D3rn68Pe/sjc60m1no936yM42laixvfkB6dlDdPbSmLi28jWjNCKZUnG0fYSanJwA+rDyVacYFm49jyONIguNznddRxadexMZw3xqe8h3XQ67t2P4tl2B3K2dBBaGHkiEFQYyczg2vc0zrYVxCe/i+7F/w/XvqfxbPljfnbIIMvQO1ejd66m77BwtmY28alX0b3oVur//b5+p3IejWztXNIt51C14qs4Ol8tbo+VQ43uQEkcgBEKBFIuiRbZ3tvHfxzpXWtITLoc54Hny850OhklJl5BYuLb0cKbqV5+W35cSRg1YoygQklGCt/G+6h9+pMY3ma6zv4eyfGXYZeZ8XOIpftpe9NDWI7yXR961xoCr34PW3WTqxrogjz0gWTD04Sc6ioJAkVGcLWwmmwjOfbiESt/wLoTe0FSyNQvHpX6ex3juI+kkK2eQee5PyE5/jL8635B1aq7RBA4AYhAUOGUdCfVL95GcNW3iE95Nx3n/BhL95d9FUCmfjG26sLwNPVfoJz/lZL6WdwEoCQOMvBrCiTskkFLe8DXE9iqm8SE/gZJ+5RspPPpB5qZIiklQcWz5SGytXNIjb1owPJtWcXSvEdsx1AoyTZce58kMu+GwgK+futXnL1jJ8Ps0LqG0u+mb6LScwf5mU/di79E92lfwdH2InVPfgTngRdGpJ3C0IlAIACgh9ZR98SH8W57hPaLfkdo6TcwXXVl04YXfI5sVekUSUv3EZ5/E3I2hjbAPHO9cw25wATSTUtL9pmuOsLzbqTz3J8UXay1yE5MVz2J8W8tyROfciXtF9+L3M9smL7kbBQ1tpvuxbeVvWCmm86g89wfkRz35qLtzoPLce/8J5HZ1xGf+p6yZWcaFtNx4W/ouOBXR2zHUPlX/xQl2UbojG+SrZlVNk1s2vtov/hewvM+M+z1A8i5OGpsF+FFn8dWS58c041L6TznhyQmFH9HsZnX0n7RvWAZ1D92Lb4NA89+Eo4/qbG5ZVDPewe/vIDg/+7EuSY00m0SRpnpbiDVegGu3f9GSfdObbQcQTrO/QmOjpdJN56OkmovDJ6arlpMZw1Ksp2qlV9HSbUPWEd86pUkJr8bJXkAJdWJpXmwHFVYjirU8Bb86+9BC28uypNuPpPwgs+hxvejpNqxVHf+NQ+SjG/DvRjuRhJT3gXk1xzUP3Zt+eNz1RJaehe24kRJHkA2UpiuuvxMJEnFtf8ZvJseLHnVhi1rZJqWEpn1cSQri5JsRzaSmD3ttjUPrt2P4d3yUGFRVnT2J0iOu6RQhhrdQe2z+Qt1ZM71pMZeCEDg1btx7XsWS/PScdFvsWUNNbab2meu7z3/mpf41PeQGnsxciaUfx8UYLrqMZ3VyLk4nq0P4971r6J2t1/4Wyxn79tWJTND7bM35MdUgOSYi4nOua5wJy9n/z979x1nV13nf/x1hgVfGAAAIABJREFUyu11+iSZTJJJryQECKEYpKMIqNhw10UUFexlVXRV7Lrq+nMFdbHh6mJZRV11FVl6CS0B0kN6nX7n9nrK7487ucll7p3GTAa4n+fjwYOZe7/tnsyc9znf8z1nYjT/vfLTYS13Pf1rv4Lt8KKlnrftVAeeIw/i33lH2UXf5Lw34hzYhrN/S8U2xcT589EjPODx8I26sa1ckyAQ42IEZ1EIzi1OIwGqkUZLdY5pBVIhOAcj1IHlCADFG4z0xIGKN2wdr9OBEZyD5Qyg2AZaugdHZOu47kjNtZyB6W3GVnQUM4OW7sUZ2VL1ERfH2JqLXNOpmN4mQEUxc2iZXhwDO6o+72ciGb4Zg89ZCgOgFhJo6a6KN/lNllzL6cX7G8q23dbiMl4xZcYbBLJqSIyLHj+AHn9hjxlwxPdVfFDb8HX24ojvfUH9HuPqfmJc9RQzh7tr/YSMYTz01BH01JEp6x/A1f3klPYvJpZcIxBCiBonQSCEEDVOgkAIIWqcBIEQQtQ4CQIhhKhxEgRCCFHjJAiEEKLGSRAIIUSNkyAQQogaJ0EghBA1ToJACCFqnASBEELUOAkCIYSocRIEQghR4yQIhBCixkkQiJMu13I6mbbzpqRvW3ORWPJ2bIdvSvp/KbM1J4kl12E5A1M9FDHBJAjEEEZgFvGl7xrxD6WPV3rmRUP+JvDJYjlDpDquKv1lNTF6liNAquNKLFfdyIVPkFh8LbmWNZM0KjER5C+UiRLL4SM953JS896Is2fD5P3ZQdUByhT96CnKsS+mpv+XtPFtOzUfJbbyAziiuwhuuhUt0zvxQxMviASBAEUh17iS6Gk3oeaitPz1DWBbUz0q8TLh2/MHfHv+QHT1J+g9/z/wHryL4JYfys/Yi4gEQY0zPc1ET78J091IcNP3cXc9Mqpf0FzTSjLtF2ME5wCgJw7iPnwfWjZCcsGbqXvii4BdKm8EZxNd/Ylin+4GUFT6Xvn9oQ1bBUKbbsEx8Nyw/afmXk2ueSWWuwEln8DV8yS+PX9AsQoVy0dP/RhGaC62ogEQWfN5FNsYUk6P7SG88ZvDf/bm00i3X4QZaAfAEdmO59A9OCND/3h8cuE1ZKefC0Bo47cw/G2kO16DrWgEnrsDV9cTWK46EouvpVC3AEf/VoJbfoBiDR1b6bN3XEWudQ2WK4xiZHD2b8W353eouWjF8vGl15NvPhVsm7rHPoOW7Sc192qy09Zi6x605GH8u3+HI7qzYv3Yqo9QCM8vbbuBM/6l4vj02F7CG79Rddzhjd/A8E0nuvrj9Fz0nwS2/wTPoXurlhcnj9I6fYY9cjHo+typhO/cj3tzZLLHJE4Cy+EjseQdZKefi3ff/+Db+0fUfHxUdSNnfpFCaC6ung24ux4FIN+0ilzzamzFAYpC893Xgm2e0J+ffONyAFLz3oilewjs+NnQxm0bZ2RbxbGY7gYGzvwiprcZLd2Ns+9ZnP2bKYQXkJ12FqBQv/5f0DI9Q+rmG5ZhOQNYzjDx5e8huOU21NzQn2U1n8DZv6Xi5za9LURP/WeMQDvurvU4ezZiucLkm1aSazwFZ/8W6h//fNnnLoQ6MH1txFZ+AC3dg+kK4z3wNyx3mMz0dYSevYXE4rehZXrxHryLxKK3oeYGaHj0kyhGtqz/XPPpxFbciGLlcHc+jiO6g0L9EnKNp2C6m/Dt/QP+Xb8eMu5CeAGFUAfx5e8hvOFfSc5/E7bmxHP4frR0F9np55JvWoV/x3/i2/vHCttuKZYziOUIEl9xI4FtP644vaPmkzj7N1fcds+XaTuf5KJ/QEt14d/5c5yR7aOqJ4b356NHeMDj4Rt19WOqJ2cENcbWPWTaLiA173XoiYPUr/8UjuiuUdePL70e0z+DhkdvQk8cKL3u7lyP5fATXf1JjOCsIfXUQhJ353oAMjMvBtsqfT9aipnHfeQBnJGtZTtrd+d6Att/Rv853ySx5J8Ibxh6VHqsvOltAcDV+zRa6uio+7bc9UTW3IyeOETjhq+hZfpK7/n2/pFC3UKiqz5KZO2XqXv8ZhSzuBN3xPaiJw+D9V5Mdz11T30FZ98mUDQMfzuxVR/Cc/Buglt/hGJmcQzspG/dv2N6W9Hj+0t95BtXED3tE/h33oF3/19K12/cnesJAOlZl5FY/DZQFPzP/aps7I7oc4NnCwqxlR/G1fUYwa23oeYTAHiOPEBq7mtJLvpHXN1Poj9vuzj7i2c6prtxcNs9W/ZvPx6ew/fi6t1IquNKBk7/DO7OR/E/dwdaVg40p4KsGqohhbpFRM76CunZlxHYdjt1j988phAAMAIz0aO7K+4I1EKSwPaf4D7ywKTM/6qFBP5dv656xO7qfopCeMGE9wsQX/IOVCND3VNfKQuBYxwDO2l46CMUQh3kmldXbCOw7afFEACwTfT4ARQjQ2Dnz0vBoeaiKLaFpXtL9SyHn4HT/wXfrv/Gt+fOihfxvQf+SnDrT0h1XIWte6p+Dj2xn9CmW0ohcIxvz+9RsxFyLaeNuC0mipqLEtj+Mxof+ACmr4W+V36fTNsrhx2/mBwSBDUi23oWkTM/D7ZC/aOfwn30wXG14xzYQb55FZnpr6i4BNMR20tw64848frARLMcfkxPI4ZvOoZvOqa3FdPTiK05J63PfMOyIUfaz3fsrCc193UV39eTh4a8pmX7UXOxoYWV47+apm8atqLh3f/nYfv3HLobxciQmnNFlRI24Y3fqLoaTLGMKVnNpWX7qHvyy7iPPkp8xftILL72pI+h1snUUI1wdz2K+2+PM3DGZ+m94Ef4dt+Jf9cvx9yO/7lfUgjOJnbqR8G2UGwTLd2DHt+H++hDuLsem4TRHxdb8X6ybedhqxplyxjtYvBo2clZmmi5woMXu4cPOFtRYfCi6kTJtp4Fqk7vRRWuqQzpXyffsBTGdqI3pQz/TCJnfxVb0Wh44ANDpqbE5JMgqCW2Sd0TXyRft5D4ihvJtF9AYPtPcR99ZAxt2NQ99XVMTxOmp5Fc06mYvunFVUHTz0HNRghu++m4zziGM3DGZ8g1rSL07K04+55BzceLq4QUFcsZIjnvanKtZ0x4v8cEN92Knjg4ae1Xp6BYBerXfxosc+TSRvokjOmFM33TiK14L4XQXALbf4rn8AOTd++KGJYEQa2xDZyRrTQ89GGyrWuJL7+RTNuFBLb+CD11ZJRtmGjpLrR0V9l8vRFoJzn/TcRWvBdX1/qqSznHI9d8GvmG5TQ+9JGyi6jF8ViouYEh894TSS0kUWwDR2z3pPVRjat3A6m5V6ClOke9suvFLr7s3WSnn4P7yEOEnv0uWrp7qodU0+QaQY1SzDyeIw/QeN+NqLkIkbO+SmLJdcU1/lUYvul0X/YbTE9zxff1xEGCW27D1t3km1ZV77zC+v2RmJ5G1OzA0BA4kTqKKRl7fNcu9MQhUrNePa66L5SW7gRFI9N2/pT0f9wLu+5jqw4yba+k94IfUwh1EN7wNYJbb5MQeBGQIKhxaj5G6NnvUvf4zeTrF9P/iv9HvmE5tjr0ZLFQtxhbc2EEhi4PPcZy+sG2h12aqac6K7ZfoqhDnmej2Gb1Hb2iUAjNJTXnNdXbPFZ0cHWO6QpXLWM7vNiau+w1/85fYIQ6SM5/w7DtW64w+YZlI45jLLRMH749d5JYci35+kXDljX8baWb/CbasWkba7htpw/ddgBGYDaRtV8iufAafHt+R8MjnygtSxVTT4JAAOCI76Xh4X8muPn7DJz+KfrWfRfTN6280ODRdPTUj5JtPbPsF97WXBi+GURP+xRaphc91Vm1L1fPBoxAO+nZl2FrrmJ9VcfWPRTC84is+Tx9r/hOWVjo0d2Y7noSC99WqoOiYzl8xJe+i/5zvjW4Br0YIpYzVLFvNR/HEdlO9LSbMD2NpQu7tubCcvhJz7mc3vN/SLr94rJ6zv4t+Hb/juSCtxBbcWPx6aXH6qrO4nOa2i+m58KfEl31kePbRfcWd5yKgu0MDFlpZQ+G3vNXPFmO8rKBHT/HEdvLwJovkJ1+TtkSS1tzYTkDxE75AH3rvjskEC1nqNSW5QwNjkctr++qw1Y0bN2D5aqy7QpJnJFtRE/9Z0xP09BtN/tV9J5/G+nZryqrF1v5IfrP/SaO+H6a7rke7/7/rdi+mDpyZ7EYwtZcZKedi6vnibI5aVt10HvhT/AcuZ/UnNegmDkUIzdYx4mtOXEOPEfd458b8aJfuv1i4stvRDGzKGYeVA1bdWCrTly9Gwg9/W3UQrKsTqFuIf1n/yuKkS22r2rYmgslnyC88ZvkG08hueBNAKi5geLdzVU+X/+538L0thbbsU1s1QWqjmJm8O35Pd69fxz6GAVFoRBeyMDp/4Ktu4vjtg1s1VF8kB7g2/krfPv+WLo+El9+I+lZl5Sa0OP7aHzwQ0BxBVSm/UIAQk9/C8+RB7Ecfnovuh1bdaAnDtL4wPuP969qpOZcSXLhNcUVW4NnN7bmKpZPdxPc/P3j9yoM6rnwdiz38TMsxczR+OAH0QbDOj3zYuIrbiiFg5qP0fz3t1XedqqD/nO+ielvK/Zftu2yePf+Ad+e35dtu0zbhTgjm2UK6CQY753FEgRiXCx3Paa7EVsvnhUoZh4lHx/T0j/T3YDlaSwd4SuFJFo2UvWZOcU6jVju+mK/toWaT6Clu8a12sQIzCo+W19RwSqg5pPo6aMjrsyxVR3TPxPL4S8+zdQyUAtJtHT3SVn1YrnCmJ6m0lmBYmaL22GYs7CJVmnbaenOYZ+RJCafPGJCnFRqNoL6Ah8HoGX70bL9Y6zTh5YdemfveIz3MQmKZaDH903IGMZDzUWHDcuT4YU+YkK8uMg1AiGEqHESBEIIUeMkCIQQosZJEAghRI2TIBBCiBonQSCEEDVOgkAIIWqcBIEQQtQ4CQIhhKhxEgRCCFHjJAiEEKLGSRAIIUSNkyAQQogaJ0EghBA1ToJACCFqnASBEELUOAkCIYSocRIEQghR4yQIhBCixo0+CCwbyyG5IYQQLzej3rMrlo3tk791L4QQLzejP8Q3bSyPBIEQQrzcjP6MwLSx/BIEQgjxcjP6IMib5Nt8kzkWIYQQU2DUh/iOrgzZRWHMsBMtmp/MMQkx6cw6F9j2uH+WY5fPIrO6AQDXrjh1d+yeyOEJcVKN+ozAvTUCQGGGnBWIlzZbV+h93xJ6P7iM/KzAVA9HiCk36jMC144YSt4iu6wO99aByRyTEJOqMMMHqgKAWe+CA4kxt+F/sBPfUz0AKDlrQscnxMk26iBQDBvX7hi5BWGMBhd6f24yxyXEpDGaPaWv7XHeGqPF8xCfoAEJMcXG9Gvge7gbW1dInj99ssYjhBDiJBvTelBHZxr3lgjZZfVkTonieVamiGqRrSnkZ/vJrG6iMMOHGXSgGBZ6bxb3s/249ifpf/sCPJsiBP/30JD6ll8nuzBMZlVD6ZqTFs3j3hHF83Q/ek9mSJ3Y62aTWV5f+j70p4NYbo3MKfWlI3zH4RS+9d24dsZQTLt8zA6VgTfPJd9Rfk0gfnk78cvby15TTAvPk30E7zpc9nrqzGaSF07H1sqPn9RkgeZvba66vbKLwkSvngNacTrK0ZnGf+9RUme3kJ/pB01Bi+TwbI7gfbIXNWWU6hame4m8bT62Syu95r+/E/8DncUxnd1C8pXTsQfbBlByJs3f2oxSGDplZbR4SK1pJj/Hjxl2gQ16bwbPpgjurQOyEKRGjfnGgOBfDpGfEyB++Syc+1LFU2RRM4o71A7yHcHy13WVwjQvhWlejs24p09vGhIEhRleIv+4ANtVvjM1w05SZzaTOrMZ/4NdxR2ddXxnXpjmLSsfe035zhug0OYj+oYOvE/0Evxreb+W30Fh5ugWOtiqilFhUURhlh9bHftcUn52oBQCUPwsA2+dV1bGrHeRXDeNzKoGGm/dhpK3SuO2nRrV5DqCZSFQlaoQu7ydzKqG8teV4lRZ4sIZJC6cQfDPh/Bu6B39hxMvC0rr9Bn2yMXKGc0e+m5YDKZN6H/249kkZwa1ov/diym0Fo/AlZyJ79EuvBv6sbw6mVMbyZzSgOU5vuNq/fzG0teFaR4i1y3C1os7LteuON7HenB0pkidO4306Y3YenFH694WJfzfe0t1bUcxaCJvX1B6Te/P4l3fjXtrlPzsAImLZwwuC4Xwb/fh3lb+c2k7VGxNIXNqI4mLZgAQuOswnmf6h3xOxbBQjOedVWgK9gnP24q8cyFGg3vEMwJUBcup0n/DEsygo9S+97FevE/2YrtUkutayS4tnvG4t0cJ/2bwsysKtkvF1lV6P7QMW1PKzghOHFP/jUswA46KZwQD18wlNz9U+t7zbD+Bvx3GaPWQuKiNwvTBoLUh9OeDeDb2Vf884kXrz0eP8IDHwzfq6kcufIJx3Sqs92Ro/N42Im9fQOy1c8guqSNw9xG5gPwyl1rbUgoB184YoT/sR82aAKgpg8Bdh/E90kXPR1cMqWs7NQb+cX4pBEJ37sezOVJ6P/D3w/jWdxP5x/kYTW6yi0IYTW703iwASsFCzZnHy991GO9TfShGcWfn3hHFeSBB74eWYztVsotCQ4JAKVgoBcp2kErBKn2GkSimjWKeUHa0i4Usu9iHXQwWvTdL/e3PoaaPTwGF7zxAf52bwnQv2YUhLLdWqqNkTdBtqHDIVjamKod02UXhshCo//kunHuL523O/UkafriD5HnTSa5rBQWS61olCGrMuB8nqvdmafrOVtybI+QWhul/zxIG3jKXzCn1mGHnRI5RvBioCukzm4HiXebBvxysuANVkwbex4vLKj2bju/ojSZX6VlVvvXdZSFQqpsoEPzb4VJ/8ctmVh2OPpArhUCpfsZEMYuv2d4X7+NQlLxVFgJAMSyOXRtQFZjAJ/0e+3cDCPzfkVIInMh//1Ech1MAmEEn6TOah5QRL18v6LdFyZmE79xPYX0P6TObyS4MkVtQPPLQBnI4OtOoaRM1Y6CkjYoXr8TkcG+LomaMkQuOku1QS1M+jsNptEShatng3w4f36EPOjbtAeDeXH0q0bk3jpooYAUc5OcEsHV1yA5fjM2xs7hjZwzp1Y0Vy2nRHIXBx8hkTqnH+0TPyRieeBGYkMMmR2ea0O/3E9RVcguCZBeHMVq85NuLKyJsTS1OCaijuKglJoTzUGpCgwCAwX++F9ru81f0DHn/hAMG2yVB8IINXndBgcSFM0ZVxax3TeKAxIvNhJ4/K4aFe1sU97boRDYrXgxsuzQnboZG3knYmgKaUtyp26CesLrMDDgqLhEFsHx6aSekZoyypZRifLRIFqNp8AJ/3qLqxYQTKPnRXTcRLw8v3olU8aKi5Iv3CRRmeCnM8JJdXId7e+UpHtuh0vvBZVgejeDfD+N9vBf3zhiJS9qA4j0BDT/eiRYZurgg/urjy0J9j3RPymdxbx0g/qrq1x9e7E5clXVMYYYPy115mal78wDJ84tBEPj7Ybwb5EKwKKf5A8Gbp3oQ4qXBtTdeXIeuq+Tmh7BCTrBstEQexSo+0TOzsoHYle3F9xQFvTuLa28CNWti6wqFmf7iqp6lddi6ipoyUDMG2cVhYlfNLt3wpcXyhO/cDzZYbo3kuulkVjeWFiKYdW4KM33o/TnUtEG+3UfikpnFm8tUBdulYTS7ce1OoFjPOwK2bNJntRTLuTX03gxaooAZdJBbGCZ1bivxV7WTPH86asrA0ZkeXJ7aRmZFPdnlxf+MVm/x/gBVpdDmK72eXV6P5XfgHLz4mlnRQPKV04tj0xRsp4rR5gPLQu/LYXk04pfNLF4TcRancQotHrREoXSDl6IUL/rauooZcuA8mETNGOSW1BO/pI3UutbjS1tVBbPRjeNwGjVn4ujJkF3RgO3SyM0LYrR4iv82gyuyzKCDQpuf3MIQ2ZUNxX9jC/S+7GT/SIkJdk0iwQGHg0c9npELn2Bc9xGI2pVdFCZ+Rfuo/lqd40iaul/vQT12YVlRiF82g8ypTcPeBOU4kiJ05370wTOGfLu/7P6BE/ke7iZwzxH637mIwgzvkPebv7Fp6AodBaKvm0N2Wd2w41cMi9Cd+3FvjzLwD/PIzQ0OW/75jt1D0fW5U4ctk1nZSOzKoTfIubcMEP7dvtL3qbUtJC6aXkyFUfA+1lO6O9podBN9UwdGo3tUdfWeDI3f3z6qsuLF46TeRyBql3tHFL0nQ+rsVvKz/dgevTRVoZjFNe9aLId7WxTvE73lK8Vsm+D/Hsa9OUrq3BYKrV6swOANVlkTfSCH59l+vI+X39mq92Tw3985ZCemZgw8zxSnOYJ/O0T6tPKAUbNG5bluG8K/20cikSe7KFy8e9ehgmmjpQqoSQPn3jjurVEcXWkAfA92oaYM7FEueHAePL5EM/zbfWQXhsp24Ipllx7t7to5gPdxN5bPUdaG96ny7eBb341i2aTWNGEOnnGpWRO9N4N78wBGkxtrcNmsUrDwPXp8ak3vy9L4vW0kz2klu6weM+Q4/tgK00bNWygZAy1RwHkgOaRv8fImZwRCCPEyMd4zgom7a0UIIcRLkgSBEELUOAkCIYSocRIEQghR4yQIhBCixkkQCCFEjZMgEEKIGidBIIQQNU6CQAghapwEgRBC1DgJAiGEqHESBEIIUeMkCIQQosZJEAghRI2TIBBCiBonQSCEEDVOgkAIIWqcBIEQQtQ4CQIhhKhxEgRCCFHjJAiEEKLGSRAIIUSNkyAQQogaJ0EghBA1ToJACCFqnASBEELUOAkCIYSocRIEQghR4yQIhBCixkkQiJMuOe9q4svePSV9Ww4/vRf8CMtVNyX9v5TZupfeC3+C6Wma6qGICSZBIIbITjuL/nO+RaFu4aS0X6hbRCE0b1LaHont8GJ6mrB195T0/1Jm6R5MdwO27h1TvYE1nye58JpJGpWYCBIEosQItDNwxmeInfIB3EceQE8enpyOFA2UqfrRU573fzF649tmvj13km1ZQ995t5JtXTPBYxITQZ/qAYipZ7nCpNsvIdVxJa7eDbTc9Raw7akelniZcPY9S+ODHyQ197XEl99AZtZlBLbdjp7YP9VDE4OU1ukz5De+Zinkmk8ltvKDaOlegltuwxHdOWIty+Ej03YBmfYLMAKzAdCTh3AfeRA91Uli4TU03X9jWZgUwvPpP+ebI4/IKlD3+M04+7dU7ttVh+UMkJr7enKNK7Dc9aiFJM7ejQR2/BdauqtivcjZXyNft3jE/p2R7dQ/+smq71vOIJn2i8i0nY/hbwPAMbATz6F78XQ+iFJIl5WPL7+R9KxLAKh78kvk6xaRnv1qUDT8u36Fb8/vKYQXEF96PYXwPByR7YSf/je0TE/F/k1vC8n5byLXfBqWK4RiZHFGtuHb/d84B3aCbQ6pE139cbLTzgZsmu59F1gGyUX/RLb1DGzdg548im/P73EfuR/FKgzddmu/TL5h2YjbzjGwk4ZHPj5sGVt3E1v+XnLT1uLd9yd8u3+LWkiN2LYYnT8fPcIDHg/fqKsfUz0Jghpluerpe8W3sZwhwhu+hrvrsVHWVOi55BdgW/j2/BHfnt8CkJ51Cek5V2D421DzcZrvvrbiTglg4IzPYTmDNDz80TGN2fDPpO+8WwAbZ2QbnoN34zl8H9nWNaTmvYFCeD4ND34YR3xv1TZMbwu9599G0303oKWOjqn/QngekbVfQbEMfLt/i/fA/2J6W0m3X0x69qtQCmma774WxcqX1bM1Jz0X/Rxbc6Dmk4Q23YLhbSGx9J34n/sNqXmvw9X1OMEtP6D/7H/FcoVouuddqIVEWTupOVeSWHodjuhz+Hb/HnfXo2RnnEt65kXkG1fg6nqCuqe+Cgz9lTY9zfRecBvBrT8msfCt6PEDBHb+J47YHpIL3kJqzmvwHryb4ObvV9927kZ6L/wxjQ98AD1xYEzbbkhb3lYGzvgspqeB0KZbcR95qOK4xdiMNwhkaqjGWM4QiSXvINt6Bt4Df8W3+3eoheSo60dXfQQ100fDozehGMePfr0H7sJz6B5iKz5AvnnVZAwdLd1J4/3vQ83HUfOx0uvursdxdz3OwOmfJrH07dSv/8yE920E2hlY83m8+/6Ef9dvUMwcAHp8P8Ett+F/7pcMnPHZ4o7y/vei5uND2lDzCRoe+SRauhMXCvnGFSQXvBH/jl/g33Mn2CYNj95E7wU/wvQ2ocaOB0F69mUkllxL/frP4IxsAdsqfvYjD+E+8hCF0HwG1nyO6KkfI7zxG1U+hUJ8yXX4d96Bb+/vUSwDgMC2n+Ls38zAaZ/GfeShYvuTTEt30fDgB8k3riS26kMk57+Z8Iavv+CAEeMjF4trSGrua+lb9x0sp5eGRz5BYPvPxhQCAJYrhJbpKwuBYxTLILj9p4Se+XbVs4EXQrEM9OShshA4kSO6B9PbOuH9AsSXXo9jYDuBHT8vhcCJ1HyiGECKSmbmhRXbCG7+Plq6c/A7GzUXR83249v3p+PbyyoANrbuKdWzXHXEl7yTuqe+hrN/UykETuSI7SL09LfJta7Bclc/GvQcvg//njtLIXCMq/sptHQ3hbqTt5pLsQq4ep6k6Z7rcXU/Rv853yS24n3Djl9MDgmCGlEIzSXTfjGKZeLd9+dxH3m5u9aTbzqF+NLryTeuGPK+mhvA1bPxhQ53GAqFukVk2s4nOf+NJOe/kVTHlWTazsP0NE5ar0aoA+++vww/MjOL5/C9VYOg4lmCkUExs5VaO953oB0FcPZvHrZ/V+8GtHQXqTlXVSlh49/1q6ohrdgWU7FLUIw0nkP34IjtJjdtLdnWM0/6GGqdTA3VCEdsD4333UBi0duIrfwQzv6tBHb+Ai3VOXLlE3j3/xXLGSbTfhHpOZcDoOaiaOlunP1b8Bx5YNJO7y1XHdFVHyVfvxgt04uW6SnuRBUd09uM6WmquLOdkL4dfgbW3DyPNk/uAAAgAElEQVQpbY8k17gKW9XpvvSXoyqvZiOTPKKJY+teMtPPJbHk7Tgj24vTarnoVA+r5kgQ1JjAjv/Et+9PxE55P73rbsG/+zf49vyxylFpZf7nfon/uV9i6x6yzWdgBtooBGaTab+YVMeV+Hf9Fv+u0e20RstWHUTWfgHLGaLhkU/giO0eUiY5/81k2i+Y0H5PGAENj3wSx8COSWq/OsUqoFgFmv/2loqrel6SFI18wzKiKz+EYuWpf/xzOAZGXrEmJocEQQ1ScwPUPfFFbIeX3nXfJT3nCsJPfhlnZNuY2lGMDJ6jD5zwgkZy/htIzb8a357fTuhOK9eyBsvVQNPdbxsyv30yqPkEhn/GlASBq/txkvOvxnb4UF4mR8t9534b09dKcNP38Rx9cFKuKYnRk2sENctGKaRouvc9BLbfTnT1J4ic9VWM4JyqNfKNy+l69Z2l9fNDmzTx7b4TW3WQnb6uajvPX145GpbTj5JPDBsCtjaK45oKF1pHwzGwk9Tc14+r7gulZXpAUUnOf9OU9H+Mwvi23TG25ia+4ka6L/s1joGdNN37bjxH7pMQeBGQIKhxipXHc/BuGh/6MHpsL/1nf43EkusqPk/GdDeDolEY5sYsIzATbBNXb/ULxlryCJaj+vNqbNVBIVz+nCPFzGHrriofQiPVcRXpjmoXSU8oamQAyIfnVy1jeluGPJQuuPVHWM4AsZUfHrb9QngeiSXXjTiOsVDzcULPfpf0rEvJzDx/2LKZGeeRnn3ZhPZ/jGIUV0sN95wo09tccdVPuv0S+s77LoZ3GvWPfY7Q5ltRcwOTMk4xdpo/EJyaK2DiRUUxMrh6N+Lqe4bMzItILngTrt6ny5ZqGoF2ctPWkm9eia37UAtJtFxk8L1Z5FrOIHbK+3BGtuM99Heq3SCkZQdId7wGy9uClulFzUWx3PUUgh1kZ7yC+LL3kJ1+Nr4Dfy21oRZSZGZdSr5+KXryMFpuAMsVJt+wjPjy95CdeQGOgZ1YnkYUK48RnIUjNvTGMsXKY3qbSc19HXrqKGo+hmLmKATnYITnk5r/JuLLrkdPdZbdmKYWkmiZftJzLifXvBo1N4BqZlHMLIZvOoW6haTmXU182bvQ8lHcRx8GIN+wnFzLGvJNK4th5vSXLqbnWtZgBGej2AaKkULNJ7A1J+m5V6GYOSxnAMdgWUdiH5arjtS8q7FcYVQjhZbtB6AQ6qDQsGzw8Q2X4O55quyzZ2ZeRL5hKfmG5aiFNIZ/Jnq6szR1Z/jbyc44l1zTKlAU0D04YnsqbLsCpqeR1NzXoqc6S9vOCM6hEJ5Pav4biC99N1q6t+wazsCam8m1noH/uV8R3PYTtGzf8D+MYtyuSSQ44HDwqMczcuETyJ3FoqJ8/VIcsT1DLiJHT7sJV/eTpOa+FtPTiK0Vn+KpmHnUQhz30UcJbPvxyO03riC+/Ibi0yy14pG+WkiiZgdwdz6K/7k7htQxPU1EzvwClru+2K9toRYSOAaeI7j1h+Trl5aOmNV8gvCGr1fuXFGIrXgfuZbTsRwBUNTiBdl8Ekd8D56Dd1e909r0thBf9m4K4QVYDj8oCoploBSS6KmjePf+D+6u9aXyqY4rybWcXvpeS3UR2nTL4HuvJdeyGgD/rt/g7NuErXuIrv4ktqqhpXsIPfvvZf1nW84kueDNmL7W0r0GiplFzSdw9m3Gt+e36MkjZXWiqz+B5Qwc//hmgeCmW0pBkms+jVTHFaUHAaqFFOGnvlp52wHxFTeSbT2zfNsVkjhie/Ecuht35/qy8vn65TgSe1HkURKTTh4xIYQQNW68QSDXCIQQosZJEAghRI2TIBBCiBonQSCEEDVOgkAIIWqcBIEQQtQ4CQIhhKhxEgRCCFHjJAiEEKLGSRAIIUSNkyAQQogaJ0EghBA1ToJACCFqnASBEELUOAkCIYSocRIEQghR4yQIREW26gCUSWk7seTtRFf/86S0PRLLGaTr1X/AdDdOSf8vZZbDT9flf8T0to6p3mT+LImJIUEghkjPfhW9F/6EfOPySWnf8M/E9LRMStsjsXVP8e/yao4p6f+l7NifFD32/9HqP/ffiJ3y/skYkpggEgSiJF+3mL513yW58BpCz3wHx8COSepJYeqPEKe6/5ei8W2z8IavYXpb6bnodtKzXzXBYxITQZ/qAYipZ/paSc57A7nWNXgO3EVgxy8A+VPWYmLoySPUr/8U2ennkFj4D2TaL8K/7T9x9T091UMTg+SP19cyRSU961UkF7wZZ98m/Lt+hZ44OGI109tCas5ryLWcXpov1jI9uHqeRkseIj3nNTTd9x6wrVKdQng+/ed8c+QhWQXqHr8ZZ/+Wiu8XQnMxfdPJtF1AITwXyxlEMTI4ojvxP/cbnJGtFetFzv4a+brFI/bvjGyn/tFPVn3fCMwkPftycs2rMT1NAOiJg7i6n8R74K9omd6y8vHlN5KedQkAoWe+Tb5xJdlpZ4Gi4jl4N4FtPybXupbkgjdj+NvQE/sJbfp+1bOxfMMKUnOvIl+3CNvhQzHz6PH9eA/+FffRh1HM/JA60dUfJzvtbMCm6d53YTlDJBe+lXz9EmzNiZbpw334fvx77kQx0kO33dovk29YNuK2cwzspOGRjw9bxtacpOa+jlTHlbi7n8C/8w60dPeIbYvRGe8fr5cgqEG2qlMILyB62k0oZo7QM9/B2b95VHUtV5jeV/4APdWJd9+f8Ry+B4DstLVkZl5IrnElqpGm+e5rwTYrtjFwxuewnEEaHv7omMZt+NvoO+8W1OwArp4NuLsfw9X9FPmG5WRmXkhmxrnUP3Yzzv5NVdswvS30nn8bTffdgJY6Oqb+cy1nED31o+jJw3j3/QV358OY7kZyrWeSnv1qLIePxgc/OGTHZmtOei76ObbmRE8cIrj1PzDdjcRWfhDPoXvJTj8b78G78e36NdHVn6RQt4Cme9+Nmoue0IpCYtE/kZ59aTF0Dv4fzv5nyTWtItd6JpkZr8AR203dk19BMTJDP7enmd4LbsO3507S7Zfi6tmIb+/v0ZOHSc+6hNS8N+Lse5bwxm9U33buRnov/DGND3wAPXFgTNtuaFsNxFe8j3z9Ivy7/hvvgb9WHLcYm/EGgUwN1RjT00Rs5YcohBfg3/FzfPv+Z0z1YytuRE8couGR8lU/7s71uDvXE1/2HrLTz5rIIZfoycO0/vmqIa87+zfj7N+MrSgkFv8DDQ8Pf1Q6HoXwAqKrP05g+8/w7vvT8TGljqLvuRPfnjsZWHMzveffRvPd16LmBoa0oWX7qX/sX1DzcQByzavJtF9EcNP38R78GwDhDV+n96LbMd2NZUGQXPBmUnOvpPGB96MnD5ded/U+jav3aXy7fk3/Of/GwGmfov6xz1T5FAqpua8n9OwteA7dXXrVt/d/cEa203/ON8gdvh9Xz5MvZFONipbtp+6Jz2MEZhM58/MkF7yF+sc+g2NgJzItefLJxeIaEl9+A33n3YqW6abpnneMOQQAbM2NWkhWfT+w/ac0PPSxqmcDk0lPHsVy1U1K2/Fl1+PqXF8WAs8XfvIrqLkYqY4rKr4f3HRLKQQAFLOAlu7Ce8JO+Rhbd5e+Nt2NJOe/kYaH/7ksBE6kZSOEN3yNfMOyYZd3+nb/tnQWdyJHdBd6shMj0Fa17mTQE/tpuucdBLb/hMjaLxFZ+8UxL08VL5ycEdQI09NMITQXxczj7N9atkMaC8+he4if8n4GTv807qOP4Dlyf9n7iplDy/RMxJCrUMi2rKFQNx/TN6P4ipFGy/ZheKdNWq+GbwaB7T8ffmRWHu/Bv5NpW0dg+8+Gvl9h/l6xjBFD0wjOQbEt9NSRYcs5B3bgiO8j1XEVwS0/qFDCxnvwrrJrN89/fypWUymWgSO2By3djeFvoxCcg5buOunjqGUSBDVCy/TQ8PDHSM+6lOS8N5CZ8UoCO38x5iWiniMPgOYkNec1xFZ9mNiqD6MWUqjZAfTEfjyH78XVs2FSPoPhbyN66j9j+megx3bjiO5GLSSxVSf5ukUYwQ4Uc3LmmW2Hj8jaL05K2yPJ1y/FVnW6L/3VqMorw5yxvdhYrjCpua8lPetSPIfuwb/zjmHPOMXkkCCoMd4Df8Pd+QjJBW8hcuYXcR+5H/9zv0TLRkbdhufg3XgO3o2tucjXLcH0NmP6ppFrWkX0tJvwHLqH4OYfMJFzvZbDz8AZn0UxMjQ8+KGKUyTJ+W8m037BhPVZxraoX/9pnJFtk9P+MBQjhWIVaL7rmopnFS9FtuYmM+MVJBf+A3ryUHHaaxQr1sTkkGsENUjNJwhuuY2Wu96CEZhF33nfIzv9FaO6Y9T0toJS/LFRzByuvqfxHryLwPbbaXzwgwS2305m5oXFO3gnUK55NbbuofHBD1adJ59Maj6OEew46f0CuHo3YCsaljM0Jf1PKEXB9DTRt+67pOa/idCz36F+/aclBKaYBEEtswwaHvkEdU99lfjS6+g773vk66uvtc9OO5Pe8/8Dw99etYx331+wVZ1M2/lVyyhmdsxDtXUPSmHoGveyMqN5bETV+fHhOfs3k5r72nHVfaG0dDcoKolF105J/8cojG/bHWPrXiJrPk/vBT/Ec/g+mu69ftKmEcXYSBDUPBtn37M03XcD3n1/YuDMLzGw5mYsZ2BoSc0HQK5xRdXWCnULUSwD9/MuIp9ITx7Bcgarj0hzkWtaXfaaYmSwHd7K5VWd+PIbSM19XdU2j7dTDJNc06qqZYzALExvc9lrwc0/AEVhYM3Nw7afa1pJ5MwvjDiOsVALKeqe+CLZ6WtJzR26fPZEqXlXk1jy9gnt/xjFKAZ4rnFl1TJGYGbFVT+JRW+j54IfoeYTNN1zPf7n7hh3KIuJp/kDweF/skVNUCwD58AOPEcfJF+3hMTSd+DsewbthPXwpr+N7LSzyDeuKK5kMfPogzdl5RuWk551CYml78Dd+Qieow9X7UtLHSU959XkG5ai5aJo6W5M3zTyTaeS6riSxJJ3km9Yivfg3zl2nUHLDZCZeSHZGevQMr3o6S5MbwvZGecRX/Fe8g3LcfU8gxFox/RNp9C4DFfv0EcYKFYBW3OTmv8GFCuPlu1HNdLkGleSbzmdxOJ/IrnwGhzRPWU3TSlWHkd8P5n2i8m0XwhYqIUkaiFFIbyAXOtaEovfRmr+G3F3PVHqO9N2Puk5l1MIdWC56zH9M0o37+Va1lAIz8f0z0DLR9Gy/diak/Tcq7DcDZj+tlJZPdUJtklq/psGw7ZQmiLLNa0i2/ZK4stvINe8Gv+u35Td1BZf8g5y08/CCLRjuRvIN56CI7ardGaWr19KcsFbKITnY7nrMALtuHo3Vt52qoPU/KtRbKO07fKNp5BrOYPE4reRXPhW9PgBHPF9pXr9Z38d0z+D0LP/jm/vH1Ar3L0sJsY1iQQHHA4e9YxtalbuLBYVGYHZaOmjQy5OJhdeg2NgJ+k5VxR3boNH9oqRRk914jl4N94Dfx2x/UKog8Tit2OE5mA5imcfWqYXPXGwGCSHhq51t1xhoqs+hhGcjeUMoFgGaqYHd/eT+Pb8nkJwNvnBI33FyOB/7pdVeldIzb2KdPvFWJ5mbFVHMTJomV5cPRtxdT9e9aKw5aojNfcqsq1ri4+YUNTBJbO9OCLb8By+r6xudtrZFOoWlr5XcxF8e/4w+N45FOoWAOA+cj+O2F5szUlywTWgqKi5KL49d5b1n69bTGruaynULcRyhYtt5hNo6W7cnY/gPvogWqavrE5ywVvKr9lYRnGHPLiEuBBeOHgTYHHpqGJm8e+8o8q2g1THlWRmXYpZtu36cPUObrv+8sd8FIJz0FOd45oSFGMjj5gQQogaN94gkGsEQghR4yQIhBCixkkQCCFEjZMgEEKIGidBIIQQNU6CQAghapwEgRBC1DgJAiGEqHESBEIIUeMkCIQQosZJEAghRI2TIBBCiBonQSCEEDVOgkAIIWqcBIEQQtQ4CQIhhKhxEgRCCFHjJAiEEKLGSRAIIUSNkyAQQogaJ0EghBA1ToJACCFqnASBEELUOAkCIYSocRIEQghR4yQIhBCixkkQCCFEjZMgEEKIGidBIIQQNU6CQAghapwEgRBC1DgJAiGEqHESBEIIUeMkCIQQosZJEAghRI2TIBBCiBonQSCEEDVOgkAIIWqcBIEQQtQ4CQIhhKhxEgRCCFHjJAiEEKLGSRAIIUSNkyAQQogaJ0EghBAvA9rg/01FGXNdCQIhhHgZCJkmADF17Lt1CQIhhHgZCFsWAHEJAiGEqE0SBEIIUeNmFQoAdGv6mOtKEAghxMvAKbkceUVhh9M55roSBC8y0VM/RvdlvybfeMpJ79sItNN96S+JnPUVbNVx0vt/KTP8bXRfcgf9Z30NWxv7L6IQL9Q002Cvw0FWVg1NIkWjEJpH33m30nferdgO3yT0oZJrOhVbc5Nuv2ji2x+BEZyDrXvJ1y/F8jSe9P5fyoxAO7bDR6F+Maa3ZcTylsNP37p/p2/dd8jXLQJFG7GOENW4bZsW02T7OM4GAMY+mVSDjEA7sZUfohDsgMG0NbzTcMR2T3xnWvFI3NYnIWhGkKtfWvralh3TmOQbVhz/Rhn518py12MEZgEQOeurOOJ7CT/5VbRs32QNUbyMfTISQbdtHnJ7xlVfgmAEA6f/C/nGFdiaq/Saq/cZ9OShKRzVZBn7KaU4ZmzbTsv04RjYQaFuEShq8Wzzld/H1f0EoWf+H4pVmKRxHue2bXyWRb8mof9S5rJtludzbHS5eG6cZwRK6/QZ9gSP6yXPcoZIdVxBes5rygJAj+8nsOM/cfVuBLvyZjP8M8k3nYLhbQVVRzHzaKkjOCPbycxYhzOyFVfPxrI6+bpFZKefDaqTdPvFoKhomV5cPU8NaV+P78d74G9DXrc1J4XwYgqhWViuemzdDbaFlu7G2b8JR2xf1c+bmvMaTP8M8vXLMAIzAXAffQi1kCwrp5gFPIfvRY9Xbsv0tpJrWoURLB7pqrkojugeXD1PVu3zGM/h+8g1rsByN6BmI7iPPozlDJJvWI7laUAppHF1P4lzYHvVz5FvWEEhPB/T2wS2XdyGvRvR4/srlk/PuhQjOLv0fXDLD8nXLSTfsAzLXQ+WgSO2F8/RB8EyKrcx+3KMQBv5+qUYgfbitut8BDUfH7Lt3EfuwxHbW/Z6ruV0Ekuuw/BNL72m5hN4Dv4N354/DPk3mAg+y+K1qSQdhQJfqG+Y8PbFyeO0bb7U38eSfJ6bGhrZ7HKNXKkCCYIT2LqHTNv5pOa+DvOEOXIt049vz+/w7v9L9cqKSuyUD5CZ8Yph53u1VCdN972n7LW+V/w/jOCcUY1RsQxa/vf1Za9lZ7yC2LIbsB3eypVsC8/hewlu+Q8UM1/2Vr5hKZG1XxlV3wDurvWEn/pa2WuWu47kvDeRab+w4kVmPXmYwLbbywKh6/I/Pn+QlB1V29bgNNzx1xSrQGDrj4YEYSG8kMSS68jXLSxN3Z3I1bOBwPafoScOlL3efckdZdd6XN1PkGs+DZTyS2dauou6J78ypH6+fjGRs8q3xXBc3U9Q9+SXK76Xmvd60rMuw/Q0lV5TsxH8z/0Sz9GHUYz0qPupxmdZXJpO8/pkgqBl8ZX6eh4d51SCeHG4KpnknfEYf/b5+EEoPO52NH8gePMEjuslSqEQmktk7ZfIzlhX2qGqhSTefX8hvPHrwx6JomhEzvw8udYzQVFRCym09FH0VGfxSFJ3l8JBsQr49pbvBLVMH5YzhJYbwHQ3gqKgFpI4YnvQMn1l/7mPPoyr79my+rmmleRaVqPYJmo+gZaLoCcPo+ZjoGjYugcj1IGCjbN/8/P67sVyBFBsE1t1FM8kAEdsD3q6u6xvPXkY35470TK9pfqWq47+c75JvukUUDQUM4eeOoKe6sRWNGzdjeUMkZ1+DoqVwzmws1jPEcB2+rCcwdK/QbGfHixXuBQCilXAEd8PqgNb95BvWoV3//+iWMVAyzWvJrL2S8XgVhTUXAw9eRAtG8HW3KA5MX3Tyc44F2fv02i5aGnstsOL5arDdgYAMP0zUMwMeqoTPXUUxcxjOfzYzgC51jPwHry7bMpGy/Rh6T4U28JWdWzdM7jt9qKnuypsuz+gZXoq/gg5I9vxHr4HW3dh+GeWPm+u5Qyy087GObANLR+jGJhj47csLkin+df+Plblcrhsm30OB7e9gB2HmFoO2+bV6RTvisc4out8ub4BaxyrhY6p7TMCRcH0tDBw+qdKF+4AsE1cPRuoe/IrjOYXz/S20Hv+bQA4ortoePhj5e97Woic9SVMTzNqNkLz/729ynhUui/7NbbqxNWzkbonPj/eT1ZiuevoueAngwGVpPmut1YtG1v+XjKzLgag8f73oicPD9+4otBz4e3FHTegp45Qt/6zZRc8E4uvIzX3Coo7dYOme65DzcUAyMw4j9iqDwPgjGyj/tGbgPKzhfCTX8Xd/RjpWZcSX34DYNN0z/VomV4Mfxt9591aKus+8hDhp79Z+t7WnPSt+y6mtxUohlvDQx8p+wjp9kuIr7ixNIa6J75YdvSdab+I2Ir3Fcey8Zu4jz5UcVPEl91AevalxW334IeqTp+NVuTML5BvWFZ2dqknD1P3xBfQ0j2M5ufSYdtckEnzvmh0yHtfravnEY+cDbwUOW2bL/b3sTSf54iu8+7mkVepjaSml4/Gl76bvvNuLQsBNRel+f+uGzyFH2VGWmbpS9PbSnba2rK3tUw3/h3/hWJk8B74+0QMfdTU7EDpwrbl8E9o24a/vRQCipknvOHrQ1a9BHbcjufwvQDYqk5sxXsrthXcdGvF193djz/vlePTRal5ryu9qqW6CD/z7fKSZp7GBz6AlimOqRDqIDN9XdXPU/fY54ZMwbg6HwW7+O9ruk/efHr9Y5+lfv2nUYxM6bVi8H2PxKJ/GLauAlyZSvLz7q6KIbDP4eAxCYGXHJdtc9NAhDu6Olmaz/NXn4/3NzVPSNs1vWoosP0nuHo3El/6ztLab8sVpu+8W/Hs/yuBnb8YVTtaLoLn0D1kZl6A5QwQXf1JFDOHmk+gGGkc0V04BnbQ8rc3T9pnybSdR3rOFZjeZizdX5orV4x02QXvie3z+E7Vu+9P6PEDQwvZFr49fyDTdgEAuZY1WM5QcdrqBEqVi7HDhXEh2DFYxKT+8c+Wdthl7Zo5vPv/QmLxPwEKmfaL8Bx9YNjP9WKQWHIdmbbzS9NNUJzGC275Ac7eZyrW0W2bK1MpXpVK0mIO3RbH/FcgSPV3xVRz2DZhyyJsmXQUCpyazdFmGLSaBi7bZrPTxa8DAZ4Z54XhSmo6CBQzj6v7CZp6niI980KSC9+K5QpjOfyk5r+BbNt5+Hb/Fs+he0tz0hXZFqFnv4tzYDvpWZcVby7SXJie4j+UEWgnM/MCUvNeT2jTLTj7NldvaxziK24k3X5J5aHpVS4gTwDDN7P0dWre60nNe/0wpY+zXEODYDyOnY2gaKWpuZGY3ok5gpoMtuYi03Y+yflvwDrh7EPNDhDY+V+4j9xfcVmpZtu8Kp3iimSKaWa1QD3u9GyWU3JZTrwUX/q/Xf5a8Wu79HVZ+SFl7Qp1y8tWa69Up6xNu2Jbzx/rsTbh+BRHWXm7fIyjaXPY9srK2hXfH1LeHkV7FP8t3c9bkWgB+x0O/s/r5QGPl+1O5ziuFA2vpoOgxLbwHvw77q7HSC54M9kZ67AcfkxPE/HlN5Ce/Wr8O/8Ld9djlavrbnJNq9Fj+2h46COlu3NNTyOmt4V8/RKMUAemt5XoqR+n6d53T8gqEIDkvDeWQkDNxfDt/T3ursfRUkcxPc0UwvOJL7sey1U3If2dSE8fJTeumhNzv4Kai43jc70475XItq4lueAtpaW3AGohgefQfQS2/bhqPYdtc208znmZNKHBp08OxwbOz6RLOxIbyr6m7GsFWxlajgp1jv9/cNeojLb88XpAWX/D/b+srzHUO/a5rOeNcWg7x39O7BPHV+WzVft+SDtVxnnsawuFtKoQU1Wiqka3rrHJ6SI5jieKjoUEwQnUfJzgltvw7/4tseU3kms+FRQNI9BO9LSbcER2EH7m22jpbk78J0zOewOpeVejmDma/u8dqIXEkLXzqXlXk1j0j1jOIOlZl+Db8/vKg6hyf0I12ZmvBIpTIA0PfRQte3xFj5bpQc0NoC5866h2mKqZHVPfnkP3kuq4CgD/c7/E/9yvxlT/hXLEdmEEZ6NYBRrvfTdatv+k9n+i8Qa76W0huvoTFEJzj7dl5nH2biS05Qeo2YFh6xcUhR+GQvw0GOTaeJwLMmkCwwSCAry3qZmjuvzqi+Nq+mJxNWo2Qt2TX6L1L69DS3WWXi/UL6L3/P8getoniksTBxn+4lGcrbmInfK+im0WQh2lr4e9a3RwrvzE9o9TSCy5ju5X/Y5UxxXFcseWpRqZshCA4hx637rvYpxw49bQE/LjHAM7jn+jDt1RGP624vNxzrsF092Alu5EzRV3VMkFbyE1d7ipoYqTCye8Xe1IvcLrg2V9+4r3ddiqg94Lf1K2Br96/8977cR+lUr9nfh+9W134vJiu9K2882g7xXfoe+872G6G7FVB5G1X6L3/NvKQkBPHaX5rrdS99RXRwyBsvYVhR+FQlzTOo3/CgQZ7tzgNamJv0lNvLTV9vLRUbBVnUJoPrFVHy57mFjDQx/BEdsDQHT1x8lOO7v0nmJkUPNxFDNXXEfv8Jfm6rVMP433vbtqGERXf4LstLMAGzUfLy21tJwBbN1XerKlluml6Z53klj0VlLz3ljqV8v0gvr/27l72DbKOI7j3+fO9+KcEzskjWXUig60MFFQQYIUgdKRpRMDA6wsSJWQEHuRmFqpQySQgBkxMKBKIJQBkSC1UNFCaFBDaVqRxA6Jk9SOHZ99bwx3eTHuCz6Ev1AAAAOvSURBVETpAPf/jPbZ53tsPT/f3f//ZAiNfkLDQYU+Wqfe1SCnQo/B79/DXO3uRwicEitjH25vo7WqqNAj0q245t7IsTURFq6ew16cJDTzrIx9kDRmRWjeJsproIL4olFoOHFNvG4R6RYqaDM8eZrqS+d7wi5Tv83w5OnuZrMoJD89TqQZSflobKsU1i2Ncuf4u9vbap0NNG8jbkhDxfvXTSLdJtJ0jNocQ1Nv4xafp3b8nZ5JW4UehcvvY61cYfXFs3iFI93PBx2KX73a870FfSOsnPzoH41d/qfzGLXfqb48vnPszTIDP49jrs30vPde9IchJ1ubvF6v91xz9pXirQMjLMhZgUhIQ9kDqChEd6v0/TFBplnGzz+O5jdx5r5AJZdSNG8Dt3QCe+kSkRE3SUVGjtDKxxNk0m1rL12kcPVsz/IDu1krV/BzhwhyB4l0m9DKx++TyYKmo/wWduUi+elxtM4GVvUXUDre4BNEuhVvb/YT6RZG/RaDP5yhXXx258Yqyb2Em5+j/e1yhuY1MFdncB8djScwsz85hlxSeaTINBbIzX6KXZ5CRQEqaJMtTxJaBfzcIaKMtX3s8efui1+rZVC+i710CbsyhVs6QWjlu/Zvrl3HrnxH4+hrO+MfuGTnJ4iMHO3ic9uPG+vXyS58Q6Yxj7l6DX/gMKE9lDSwDXSNW6SbxMt2rNJ3+0uMOzeIDAe39EJPRZXWrtE3P4HeXscbPIq/6986gO5WcW5d6PneNK+JWZ3GLY3GoXPXsVsk99tnZBe/RUUhbmkUzWswMPMxA79+QqZZvufv4t/qKMWsafK141DVdZ70PMxdNyz1CC7bdzvrFGkkZwT7LMo4tA8cI3BKhMlZQKZZxliffXCD1i6d4afwBg4TmvFkqbeWyTQqGLUbXbXlW+I1jp4msAqowMWozWEt/7inYwjNAu2RZwiyI0S6iea30Dcr6M1Kz1o5XZ+h/zG8whF8p7T9mN5eR3Ua6K0/Mdfu0529DzrDx/BzBwnsR4A4xLX2etJtvNCzRMTDEJr5ZOyKu8ZuKRm7mw99//diRxGvNJucajYYCgI8pXhzpMiyLDgnkCAQInXeqNcZa21yzbQ4N7j/1WTiv0eCQIiUOtVscMHJ3ffGskgHCQIhUkyxl2XsxP+NlI8KkWISAgIkCIQQIvUkCIQQIuUkCIQQIuUkCIQQIuUkCIQQIuUkCIQQIuUkCIQQIuUkCIQQIuUkCIQQIuUkCIQQIuUkCIQQIuX+ArxWkQk4973OAAAAAElFTkSuQmCC)"
      ]
    },
    {
      "cell_type": "code",
      "execution_count": null,
      "metadata": {
        "colab": {
          "base_uri": "https://localhost:8080/"
        },
        "executionInfo": {
          "elapsed": 22,
          "status": "ok",
          "timestamp": 1654112429562,
          "user": {
            "displayName": "Zahra Dafer",
            "userId": "13379319153431271957"
          },
          "user_tz": -180
        },
        "id": "41PfvjdNx7Bk",
        "outputId": "d9b832fe-6d6d-4c7c-e4f7-2d5df13eb929"
      },
      "outputs": [
        {
          "name": "stdout",
          "output_type": "stream",
          "text": [
            "num =  1\n",
            "num =  2\n",
            "num =  3\n"
          ]
        }
      ],
      "source": [
        "num = 0\n",
        "\n",
        "while num < 5:\n",
        "    num += 1   # num += 1 is same as num = num + 1\n",
        "    print('num = ', num)\n",
        "    if num == 3: # condition before exiting a loop\n",
        "        break"
      ]
    },
    {
      "cell_type": "code",
      "execution_count": null,
      "metadata": {
        "colab": {
          "base_uri": "https://localhost:8080/"
        },
        "executionInfo": {
          "elapsed": 341,
          "status": "ok",
          "timestamp": 1654112867174,
          "user": {
            "displayName": "Zahra Dafer",
            "userId": "13379319153431271957"
          },
          "user_tz": -180
        },
        "id": "iRpkmVpuy5sA",
        "outputId": "4d525d8f-d217-4232-9de1-02c8b907d4f1"
      },
      "outputs": [
        {
          "name": "stdout",
          "output_type": "stream",
          "text": [
            "num =  1\n",
            "num =  2\n",
            "num =  3\n"
          ]
        }
      ],
      "source": [
        "num = 0\n",
        "\n",
        "while num < 5:\n",
        "\tnum += 1   \n",
        "\tif num > 3: # condition before exiting a loop\n",
        "\t\tcontinue\n",
        "\tprint('num = ', num)   # the statement after 'continue' statement is skipped"
      ]
    },
    {
      "cell_type": "markdown",
      "metadata": {
        "id": "Gdii7KMK0CoQ"
      },
      "source": [
        "While Loop with else Block\n"
      ]
    },
    {
      "cell_type": "code",
      "execution_count": null,
      "metadata": {
        "colab": {
          "base_uri": "https://localhost:8080/"
        },
        "executionInfo": {
          "elapsed": 391,
          "status": "ok",
          "timestamp": 1654112871519,
          "user": {
            "displayName": "Zahra Dafer",
            "userId": "13379319153431271957"
          },
          "user_tz": -180
        },
        "id": "_G3YJlIEzomw",
        "outputId": "b961add3-e987-457b-edb0-63b16ccacb8e"
      },
      "outputs": [
        {
          "name": "stdout",
          "output_type": "stream",
          "text": [
            "num =  1\n",
            "num =  2\n",
            "num =  3\n",
            "else block executed\n"
          ]
        }
      ],
      "source": [
        "num = 0\n",
        "\n",
        "while num < 3:\n",
        "\tnum += 1   \n",
        "\tprint('num = ', num)\n",
        "else:\n",
        "    print('else block executed')"
      ]
    },
    {
      "cell_type": "code",
      "execution_count": null,
      "metadata": {
        "colab": {
          "base_uri": "https://localhost:8080/"
        },
        "executionInfo": {
          "elapsed": 297,
          "status": "ok",
          "timestamp": 1654113643717,
          "user": {
            "displayName": "Zahra Dafer",
            "userId": "13379319153431271957"
          },
          "user_tz": -180
        },
        "id": "RfUeERY914Od",
        "outputId": "cc35ae90-a745-4c0a-fd8e-43213de9b5a7"
      },
      "outputs": [
        {
          "name": "stdout",
          "output_type": "stream",
          "text": [
            "d not found in list\n"
          ]
        }
      ],
      "source": [
        "a = ['A', 'B', 'C', 'D']\n",
        "s = 'd'\n",
        "\n",
        "i = 0\n",
        "while i < len(a):\n",
        "  if a[i] == s:\n",
        "    # Processing for item found\n",
        "    break\n",
        "  i += 1\n",
        "else:\n",
        "  # Processing for item not found\n",
        "  print(s, 'not found in list')"
      ]
    },
    {
      "cell_type": "markdown",
      "metadata": {
        "id": "qn1b52XekzMB"
      },
      "source": [
        "Below we sort a string, identifying its unique members. Then we use a `while` loop together with the previously defined `count` function to count the occurrences of each character. "
      ]
    },
    {
      "cell_type": "code",
      "execution_count": null,
      "metadata": {
        "colab": {
          "base_uri": "https://localhost:8080/"
        },
        "executionInfo": {
          "elapsed": 308,
          "status": "ok",
          "timestamp": 1654113892017,
          "user": {
            "displayName": "Zahra Dafer",
            "userId": "13379319153431271957"
          },
          "user_tz": -180
        },
        "id": "u7yMNq3J3Goi",
        "outputId": "f80cfdf0-a327-4da9-cdc2-5ebf0a6ed3e0"
      },
      "outputs": [
        {
          "name": "stdout",
          "output_type": "stream",
          "text": [
            "['H', 'e', 'l', 'o']\n"
          ]
        }
      ],
      "source": [
        "# unique characters\n",
        "\n",
        "raw_string = 'Hello'\n",
        "\n",
        "result = set()\n",
        "i = 0\n",
        "length = len(raw_string)\n",
        "\n",
        "while i < length:\n",
        "  result.add(raw_string[i])\n",
        "  i = i + 1\n",
        "print(sorted(list(result)))\n",
        "\n"
      ]
    },
    {
      "cell_type": "markdown",
      "metadata": {},
      "source": [
        "Here is the explanation for the code above: \n",
        "1. We create an empty set called result and assign it to an empty set. \n",
        "2. We create a variable called i and assign it to 0. \n",
        "3. We create a variable called length and assign it to the length of the raw_string. \n",
        "4. We create a while loop that will go on forever until i is equal to the length of the raw_string. \n",
        "5. We add the character at index i of the raw_string to the set result. 6. We increment i by 1. \n",
        "7. We print the sorted list of the set result."
      ]
    },
    {
      "cell_type": "markdown",
      "metadata": {
        "id": "ZVTHSM4kkzMC"
      },
      "source": [
        "It turns out that as far as loops and evaluating the truth of conditional statements are concerned, a great many values and not just `True` and `False` will suffice. E.g., nonzero numbers, or nonempty strings or lists will be taken as `True`, and 0 and empty lists, etc., will be taken as `False`. "
      ]
    },
    {
      "cell_type": "code",
      "execution_count": null,
      "metadata": {
        "colab": {
          "base_uri": "https://localhost:8080/"
        },
        "executionInfo": {
          "elapsed": 340,
          "status": "ok",
          "timestamp": 1654114528385,
          "user": {
            "displayName": "Zahra Dafer",
            "userId": "13379319153431271957"
          },
          "user_tz": -180
        },
        "id": "AoLMJ21F5R4l",
        "outputId": "d88eb944-21b6-42f6-9970-5c4df0bbe20d"
      },
      "outputs": [
        {
          "name": "stdout",
          "output_type": "stream",
          "text": [
            "[] :\n"
          ]
        }
      ],
      "source": [
        "\n",
        "x = []\n",
        "s = \"a\"\n",
        "\n",
        "count = 0\n",
        "print(x, \":\", end=\"\")\n",
        "while x:\n",
        "  print(s, end=\"\")\n",
        "  count = count + 1\n",
        "  if count > 3:\n",
        "    break\n",
        "print(\"\")\n"
      ]
    },
    {
      "cell_type": "markdown",
      "metadata": {
        "id": "o6s2x1_FkzMD"
      },
      "source": [
        "### For Loops and the Range function\n",
        "\n",
        "In Python, `for` statements iterate over sequences and utilize the `in` keyword. Like `while` loops, `for` loops can contain `break` and `continue`. They can also contain `else` statements; these are executed when the loop ends via something other than `break`)."
      ]
    },
    {
      "cell_type": "code",
      "execution_count": null,
      "metadata": {
        "colab": {
          "base_uri": "https://localhost:8080/"
        },
        "executionInfo": {
          "elapsed": 1199,
          "status": "ok",
          "timestamp": 1621106826224,
          "user": {
            "displayName": "muntadher alkaabi",
            "photoUrl": "https://lh3.googleusercontent.com/a-/AOh14Gj1adaCWpR-cnwQQK4viQZvo0gyRf1A0y9AkvnPMt0=s64",
            "userId": "00221067971932357642"
          },
          "user_tz": -180
        },
        "id": "u3oKEbmDkzME",
        "outputId": "d1de42fe-237a-42f7-935c-551c51b74fc1"
      },
      "outputs": [
        {
          "name": "stdout",
          "output_type": "stream",
          "text": [
            "l , 3\n",
            "r , 1\n",
            "w , 1\n",
            "e , 1\n",
            "d , 1\n",
            "h , 1\n",
            "  , 1\n",
            "o , 2\n"
          ]
        }
      ],
      "source": [
        "raw_string = \"hello world\"\n",
        "characters = set(raw_string)\n",
        "for w in characters:\n",
        "    print(w, \",\", raw_string.count(w))"
      ]
    },
    {
      "cell_type": "markdown",
      "metadata": {
        "id": "AknjJNLCkzME"
      },
      "source": [
        "The `range()` function can be used to generate a sequence of numbers, which can then be used in a loop. "
      ]
    },
    {
      "cell_type": "code",
      "execution_count": null,
      "metadata": {
        "colab": {
          "base_uri": "https://localhost:8080/"
        },
        "executionInfo": {
          "elapsed": 509,
          "status": "ok",
          "timestamp": 1621106826226,
          "user": {
            "displayName": "muntadher alkaabi",
            "photoUrl": "https://lh3.googleusercontent.com/a-/AOh14Gj1adaCWpR-cnwQQK4viQZvo0gyRf1A0y9AkvnPMt0=s64",
            "userId": "00221067971932357642"
          },
          "user_tz": -180
        },
        "id": "8NrBd138kzME",
        "outputId": "39d16d16-f468-4aac-da5f-b6fddb95e672"
      },
      "outputs": [
        {
          "name": "stdout",
          "output_type": "stream",
          "text": [
            "0 0\n",
            "1 1\n",
            "2 4\n",
            "3 9\n",
            "4 16\n",
            "5 25\n",
            "6 36\n",
            "7 49\n",
            "8 64\n",
            "9 81\n",
            "10 100\n"
          ]
        }
      ],
      "source": [
        "x = range(11)\n",
        "for i in x:\n",
        "    print(i, i * i)"
      ]
    },
    {
      "cell_type": "markdown",
      "metadata": {
        "id": "_Mn-MisakzMF"
      },
      "source": [
        "Minimum and maximum (exlcusive) values can also be specified, as can an integer step-size."
      ]
    },
    {
      "cell_type": "code",
      "execution_count": null,
      "metadata": {
        "colab": {
          "base_uri": "https://localhost:8080/"
        },
        "executionInfo": {
          "elapsed": 532,
          "status": "ok",
          "timestamp": 1621106827177,
          "user": {
            "displayName": "muntadher alkaabi",
            "photoUrl": "https://lh3.googleusercontent.com/a-/AOh14Gj1adaCWpR-cnwQQK4viQZvo0gyRf1A0y9AkvnPMt0=s64",
            "userId": "00221067971932357642"
          },
          "user_tz": -180
        },
        "id": "kv_Ow0JFkzMF",
        "outputId": "be91fd81-f370-4101-f306-7733adf1142f"
      },
      "outputs": [
        {
          "name": "stdout",
          "output_type": "stream",
          "text": [
            "20\n",
            "22\n",
            "24\n",
            "26\n",
            "28\n",
            "30\n"
          ]
        }
      ],
      "source": [
        "x = range(20, 31, 2)\n",
        "for i in x:\n",
        "    print(i)"
      ]
    }
  ],
  "metadata": {
    "colab": {
      "collapsed_sections": [],
      "name": "Python I.ipynb",
      "provenance": []
    },
    "kernelspec": {
      "display_name": "Python 3",
      "language": "python",
      "name": "python3"
    },
    "language_info": {
      "codemirror_mode": {
        "name": "ipython",
        "version": 3
      },
      "file_extension": ".py",
      "mimetype": "text/x-python",
      "name": "python",
      "nbconvert_exporter": "python",
      "pygments_lexer": "ipython3",
      "version": "3.8.7"
    }
  },
  "nbformat": 4,
  "nbformat_minor": 0
}
