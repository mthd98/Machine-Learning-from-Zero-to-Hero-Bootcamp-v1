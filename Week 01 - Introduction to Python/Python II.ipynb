{
  "cells": [
    {
      "attachments": {},
      "cell_type": "markdown",
      "metadata": {
        "id": "tSnpF-DBPsvW"
      },
      "source": [
        "# Python II\n",
        "\n",
        "{{ badge }}"
      ]
    },
    {
      "cell_type": "markdown",
      "metadata": {
        "id": "sZWrcBudkxTl"
      },
      "source": [
        "## Functions\n"
      ]
    },
    {
      "cell_type": "markdown",
      "metadata": {
        "id": "6YkB94OJkxTm"
      },
      "source": [
        "<a id='basic'></a>\n",
        "### General Syntax of Functions\n",
        "\n",
        "Below is the definition of a small Python **function** that takes two numbers as arguments and returns their squared difference. \n",
        "\n",
        "A function declaration begins with the `def` keyword, followed by the function name and a list of 0 or more arguments enclosed in parentheses. Note a colon `:` follows the argument list.  There is also an optional string that can be used for generating documentation (a *docstring*) This function returns a value (using `return`), but not all functions have explicit return statements.  "
      ]
    },
    {
      "cell_type": "code",
      "execution_count": null,
      "metadata": {
        "id": "Sn_aVvxkkxTn"
      },
      "outputs": [],
      "source": [
        "# Create function \n",
        "def squared_diff(a, b):\n",
        "    \"\"\"A trivial arithmetic function\"\"\"\n",
        "\n",
        "    #  Do what preprocessing you want to do\n",
        "    temp = a - b\n",
        "    # Return the results using return \n",
        "    return temp * temp"
      ]
    },
    {
      "cell_type": "markdown",
      "metadata": {
        "id": "rgGhK0HakxTn"
      },
      "source": [
        "Once defined, the function can be invoked any number of times. "
      ]
    },
    {
      "cell_type": "code",
      "execution_count": null,
      "metadata": {
        "colab": {
          "base_uri": "https://localhost:8080/"
        },
        "executionInfo": {
          "elapsed": 1128,
          "status": "ok",
          "timestamp": 1621106811979,
          "user": {
            "displayName": "muntadher alkaabi",
            "photoUrl": "https://lh3.googleusercontent.com/a-/AOh14Gj1adaCWpR-cnwQQK4viQZvo0gyRf1A0y9AkvnPMt0=s64",
            "userId": "00221067971932357642"
          },
          "user_tz": -180
        },
        "id": "BJWqUZkEkxTn",
        "outputId": "03880915-b30d-43af-b4c4-ea05694c12a4"
      },
      "outputs": [
        {
          "name": "stdout",
          "output_type": "stream",
          "text": [
            "16\n",
            "9\n"
          ]
        }
      ],
      "source": [
        "# Call the funtion\n",
        "print(squared_diff(5, 1))\n",
        "# Call the funtion\n",
        "print(squared_diff(3, 6))"
      ]
    },
    {
      "cell_type": "markdown",
      "metadata": {
        "id": "9dAwWBS3kxTo"
      },
      "source": [
        "**Indenting the Function Body**\n",
        "\n",
        "Note that the body of the function is indented. This is what separates the function from the rest of the program in which it is defined. More generally, indentation is used to delineate blocks of code. The exact amount of indentation is not important (4 spaces is typical), but it must be the same amount for each line of the block."
      ]
    },
    {
      "cell_type": "markdown",
      "metadata": {
        "id": "crAGKbEgkxTo"
      },
      "source": [
        "Note that a variable (such as `temp` in the above example) first used in the body of a function cannot be accessed outside the scope of the function body. The memory used for `temp` is reclaimed after the function invocation is complete. The same holds for the variables used as arguments. They are *local* to the function invocation. \n",
        "\n",
        "Once defined, the function's name can be used to assign the function to a variable. The variable serves as an alias. "
      ]
    },
    {
      "cell_type": "code",
      "execution_count": null,
      "metadata": {
        "colab": {
          "base_uri": "https://localhost:8080/"
        },
        "executionInfo": {
          "elapsed": 694,
          "status": "ok",
          "timestamp": 1621106812802,
          "user": {
            "displayName": "muntadher alkaabi",
            "photoUrl": "https://lh3.googleusercontent.com/a-/AOh14Gj1adaCWpR-cnwQQK4viQZvo0gyRf1A0y9AkvnPMt0=s64",
            "userId": "00221067971932357642"
          },
          "user_tz": -180
        },
        "id": "PxsnFSKgkxTp",
        "outputId": "defc836b-309f-42a6-f4d5-f1c78d89617b"
      },
      "outputs": [
        {
          "name": "stdout",
          "output_type": "stream",
          "text": [
            "16\n"
          ]
        }
      ],
      "source": [
        "# Assign the function to variable \n",
        "sd = squared_diff\n",
        "# Then call the variable that assigned to the function \n",
        "print(sd(5, 1))"
      ]
    },
    {
      "cell_type": "markdown",
      "metadata": {
        "id": "-4JNR7uzkxTq"
      },
      "source": [
        "A function without a return statement (or an empty one) does in fact return a value, `None`. "
      ]
    },
    {
      "cell_type": "code",
      "execution_count": null,
      "metadata": {
        "colab": {
          "base_uri": "https://localhost:8080/"
        },
        "executionInfo": {
          "elapsed": 1173,
          "status": "ok",
          "timestamp": 1621106814062,
          "user": {
            "displayName": "muntadher alkaabi",
            "photoUrl": "https://lh3.googleusercontent.com/a-/AOh14Gj1adaCWpR-cnwQQK4viQZvo0gyRf1A0y9AkvnPMt0=s64",
            "userId": "00221067971932357642"
          },
          "user_tz": -180
        },
        "id": "nAyyN14WkxTq",
        "outputId": "0f89a673-003e-44c8-c700-fa7c2bc4e6d6"
      },
      "outputs": [
        {
          "name": "stdout",
          "output_type": "stream",
          "text": [
            "How Many?\n",
            "None\n"
          ]
        }
      ],
      "source": [
        "# Create the function\n",
        "def trivial():\n",
        "    # print what we want to print \n",
        "    print(\"How Many?\")\n",
        "\n",
        "\n",
        "print(trivial())"
      ]
    },
    {
      "cell_type": "markdown",
      "metadata": {
        "id": "DMGz5_YEkxTr"
      },
      "source": [
        "<a id='nesting'></a>\n",
        "### Nested Functions\n",
        "\n",
        "It's possible to define functions within other functions, and even assign the function to a variable (thereby creating an alias for it). In the below example, `outer` actually returns a new function, created from argument `a`. The new function is assigned to `y` and then invoked. "
      ]
    },
    {
      "cell_type": "code",
      "execution_count": null,
      "metadata": {
        "colab": {
          "base_uri": "https://localhost:8080/"
        },
        "executionInfo": {
          "elapsed": 544,
          "status": "ok",
          "timestamp": 1621106814405,
          "user": {
            "displayName": "muntadher alkaabi",
            "photoUrl": "https://lh3.googleusercontent.com/a-/AOh14Gj1adaCWpR-cnwQQK4viQZvo0gyRf1A0y9AkvnPMt0=s64",
            "userId": "00221067971932357642"
          },
          "user_tz": -180
        },
        "id": "Lx2DzNRhkxTr",
        "outputId": "2cd89f9d-5469-4c0b-9e9b-a9e34015cdea"
      },
      "outputs": [
        {
          "name": "stdout",
          "output_type": "stream",
          "text": [
            "5\n"
          ]
        }
      ],
      "source": [
        "def outer(a): # Main function \n",
        "    def inner(b): # Inner function or Nested function\n",
        "        return a + b\n",
        "        \n",
        "    # Call the inner function\n",
        "    x = inner\n",
        "    return x\n",
        "\n",
        "\n",
        "y = outer(2)\n",
        "print(y(3))"
      ]
    },
    {
      "cell_type": "markdown",
      "metadata": {
        "id": "uN4ZrQfDkxTr"
      },
      "source": [
        "<a id='defaults'></a>\n",
        "### Default Values\n",
        "\n",
        "Functions can be defined to allow a variable number of arguments. One way of doing this is to use default values as indicated below "
      ]
    },
    {
      "cell_type": "code",
      "execution_count": null,
      "metadata": {
        "colab": {
          "base_uri": "https://localhost:8080/"
        },
        "executionInfo": {
          "elapsed": 716,
          "status": "ok",
          "timestamp": 1621106815377,
          "user": {
            "displayName": "muntadher alkaabi",
            "photoUrl": "https://lh3.googleusercontent.com/a-/AOh14Gj1adaCWpR-cnwQQK4viQZvo0gyRf1A0y9AkvnPMt0=s64",
            "userId": "00221067971932357642"
          },
          "user_tz": -180
        },
        "id": "PFhiNxBikxTs",
        "outputId": "cd7b42ee-9b10-410f-eb20-31560e0ad2b5"
      },
      "outputs": [
        {
          "name": "stdout",
          "output_type": "stream",
          "text": [
            "6\n",
            "7\n",
            "8\n",
            "9\n"
          ]
        }
      ],
      "source": [
        "def f1(a=1, b=2, c=3):\n",
        "    return a + b + c\n",
        "\n",
        "\n",
        "print(f1())  # returns 6\n",
        "print(f1(2))  # returns 7\n",
        "print(f1(1, 4))  # returns 8\n",
        "print(f1(3, 4, 2))  # returns 9"
      ]
    },
    {
      "cell_type": "markdown",
      "metadata": {
        "id": "kxLL73fMkxTs"
      },
      "source": [
        "The use of compound objects as default values requires special attention. The default value is only evaluated once, at the time the function is defined rather than invoked. And so, it is possible to change the state of the object with successive function invocations.  "
      ]
    },
    {
      "cell_type": "code",
      "execution_count": null,
      "metadata": {
        "colab": {
          "base_uri": "https://localhost:8080/"
        },
        "executionInfo": {
          "elapsed": 576,
          "status": "ok",
          "timestamp": 1621106815843,
          "user": {
            "displayName": "muntadher alkaabi",
            "photoUrl": "https://lh3.googleusercontent.com/a-/AOh14Gj1adaCWpR-cnwQQK4viQZvo0gyRf1A0y9AkvnPMt0=s64",
            "userId": "00221067971932357642"
          },
          "user_tz": -180
        },
        "id": "YJSi00_zkxTt",
        "outputId": "d07d01f3-2a23-4a5e-8a20-5b687b35bc5c"
      },
      "outputs": [
        {
          "name": "stdout",
          "output_type": "stream",
          "text": [
            "[1, 2, 3]\n",
            "[4]\n"
          ]
        }
      ],
      "source": [
        "def f2(ele, thelist=[]):\n",
        "    thelist.append(ele)\n",
        "    return thelist\n",
        "\n",
        "\n",
        "f2(1)\n",
        "f2(2)\n",
        "result = f2(3)\n",
        "print(result)\n",
        "print(f2(4, []))"
      ]
    },
    {
      "cell_type": "markdown",
      "metadata": {
        "id": "2_cwAK9KkxTt"
      },
      "source": [
        "<a id='keywords'></a>\n",
        "### Keyword Arguments\n",
        "\n",
        "Key value pairs can also be used as arguments, both in the definition of the function *and its invocation*. This permits arguments to be referenced by name. When invoked in this fashion, the order of the arguments does not matter. \n",
        "\n",
        "Note that if key-value pairs are only used for some arguments, they must appear *after* all positional arguments. "
      ]
    },
    {
      "cell_type": "code",
      "execution_count": null,
      "metadata": {
        "colab": {
          "base_uri": "https://localhost:8080/"
        },
        "executionInfo": {
          "elapsed": 988,
          "status": "ok",
          "timestamp": 1621106816764,
          "user": {
            "displayName": "muntadher alkaabi",
            "photoUrl": "https://lh3.googleusercontent.com/a-/AOh14Gj1adaCWpR-cnwQQK4viQZvo0gyRf1A0y9AkvnPMt0=s64",
            "userId": "00221067971932357642"
          },
          "user_tz": -180
        },
        "id": "pnwBgk7mkxTt",
        "outputId": "65f7aafc-fddd-48c3-a8e2-6551062721e5"
      },
      "outputs": [
        {
          "name": "stdout",
          "output_type": "stream",
          "text": [
            " a = 0 b = 2 c = 3\n",
            " a = 3 b = 2 c = 1\n",
            " a = 1 b = 2 c = 3\n",
            " a = 4 b = 5 c = 6\n"
          ]
        }
      ],
      "source": [
        "def f3(a, b=2, c=3):\n",
        "    print(\" a = \" + str(a) + \" b = \" + str(b) + \" c = \" + str(c))\n",
        "\n",
        "\n",
        "f3(0)\n",
        "f3(3, 2, 1)\n",
        "f3(b=2, a=1, c=3)\n",
        "f3(4, c=6, b=5)"
      ]
    },
    {
      "cell_type": "markdown",
      "metadata": {
        "id": "FAS0crhykxTu"
      },
      "source": [
        "<a id='variable_arguments'></a>\n",
        "### Variable Argument Lists\n",
        "\n",
        "In a function definition, a formal argument of the form `*variablename` will collect all optional positional arguments and put them into a list. Similarly, a formal argument of the form `**variablename` will collect all optional keyword arguments and put them into a dictionary. "
      ]
    },
    {
      "cell_type": "code",
      "execution_count": null,
      "metadata": {
        "colab": {
          "base_uri": "https://localhost:8080/"
        },
        "executionInfo": {
          "elapsed": 385,
          "status": "ok",
          "timestamp": 1654268856726,
          "user": {
            "displayName": "Zahra Dafer",
            "userId": "13379319153431271957"
          },
          "user_tz": -180
        },
        "id": "LMPIHfZQkxTu",
        "outputId": "96246910-361a-4942-afbb-d9c382107376"
      },
      "outputs": [
        {
          "name": "stdout",
          "output_type": "stream",
          "text": [
            "1\n",
            "2\n",
            "(3, 4)\n",
            "7\n",
            "{'a': 5, 'b': 6}\n",
            "********************\n",
            "1\n",
            "2\n",
            "(3, 4)\n",
            "d\n",
            "{'a': 'b'}\n"
          ]
        }
      ],
      "source": [
        "def f4(arg1, arg2, *more_positional_args, c=10, **keyword_args):\n",
        "    print(arg1)\n",
        "    print(arg2)\n",
        "    print(more_positional_args)\n",
        "    print(c)\n",
        "    print(keyword_args)\n",
        "\n",
        "\n",
        "\n",
        "f4(1, 2, 3, 4, a=5, b=6, c=7)\n",
        "\n",
        "print(\"*\" * 20)\n",
        "x = (1, 2, 3, 4)\n",
        "y = {\"a\": \"b\", \"c\": \"d\"}\n",
        "f4(*x, **y)"
      ]
    },
    {
      "cell_type": "markdown",
      "metadata": {
        "id": "ezyM_eyEkxTv"
      },
      "source": [
        "<a id='anonymous'></a>\n",
        "### Anonymous functions\n",
        "\n",
        "An anoymous function can be created with a `lambda` expression. Note that a function defined via a lambda expression does not have a return statement. Instead, it contains a single statement (written on the same line) whose evaluated value is used as the return statement. "
      ]
    },
    {
      "cell_type": "code",
      "execution_count": null,
      "metadata": {
        "colab": {
          "base_uri": "https://localhost:8080/"
        },
        "executionInfo": {
          "elapsed": 971,
          "status": "ok",
          "timestamp": 1621106817861,
          "user": {
            "displayName": "muntadher alkaabi",
            "photoUrl": "https://lh3.googleusercontent.com/a-/AOh14Gj1adaCWpR-cnwQQK4viQZvo0gyRf1A0y9AkvnPMt0=s64",
            "userId": "00221067971932357642"
          },
          "user_tz": -180
        },
        "id": "iChEZX9zkxTv",
        "outputId": "05104bd1-4eef-4f80-f5ab-cffca4c6aaf3"
      },
      "outputs": [
        {
          "name": "stdout",
          "output_type": "stream",
          "text": [
            "9\n",
            "64\n"
          ]
        }
      ],
      "source": [
        "def f5(a):\n",
        "    x = lambda b: b**a\n",
        "    return x\n",
        "\n",
        "\n",
        "sq = f5(2)\n",
        "print(sq(3))\n",
        "cu = f5(3)\n",
        "print(cu(4))"
      ]
    },
    {
      "cell_type": "markdown",
      "metadata": {
        "id": "nhLmcx_LkxTv"
      },
      "source": [
        "<a id='scope'></a>\n",
        "### Note about scope\n",
        "\n",
        "In the written program, where a variable is defined plays an important role when creating functions, particulaly when anonymous functions are created. Below, the variable `a` is defined `outside` of the function definition but is referenced inside of it. \n",
        "\n",
        "Below, in the body of `f6`, local variable `b` is assigned the value of `a`, which again is defined outside of the function. When `f6()` is invoked, the current value of `a` (20) is used, *not* the value of `a` that existed when the function was originally defined. "
      ]
    },
    {
      "cell_type": "code",
      "execution_count": null,
      "metadata": {
        "colab": {
          "base_uri": "https://localhost:8080/"
        },
        "executionInfo": {
          "elapsed": 1320,
          "status": "ok",
          "timestamp": 1621106818896,
          "user": {
            "displayName": "muntadher alkaabi",
            "photoUrl": "https://lh3.googleusercontent.com/a-/AOh14Gj1adaCWpR-cnwQQK4viQZvo0gyRf1A0y9AkvnPMt0=s64",
            "userId": "00221067971932357642"
          },
          "user_tz": -180
        },
        "id": "bsuWhMz5kxTw",
        "outputId": "d724cf15-f167-473e-895c-d84388aa8fbd"
      },
      "outputs": [
        {
          "name": "stdout",
          "output_type": "stream",
          "text": [
            "20\n",
            "20\n"
          ]
        }
      ],
      "source": [
        "a = 10\n",
        "\n",
        "\n",
        "def f6():\n",
        "    b = a\n",
        "    print(a)\n",
        "    print(b)\n",
        "\n",
        "\n",
        "a = 20\n",
        "f6()"
      ]
    },
    {
      "cell_type": "markdown",
      "metadata": {
        "id": "FWoWE83XkxTw"
      },
      "source": [
        "Something similar happes in the definition of the anymous function created by `f7`. Below, `e` is referenced in the anonymous function, but it is defined elsewhere. Whenever the anonymous function is invoked, the current value of `e` is used. "
      ]
    },
    {
      "cell_type": "code",
      "execution_count": null,
      "metadata": {
        "colab": {
          "base_uri": "https://localhost:8080/"
        },
        "executionInfo": {
          "elapsed": 648,
          "status": "ok",
          "timestamp": 1621106819374,
          "user": {
            "displayName": "muntadher alkaabi",
            "photoUrl": "https://lh3.googleusercontent.com/a-/AOh14Gj1adaCWpR-cnwQQK4viQZvo0gyRf1A0y9AkvnPMt0=s64",
            "userId": "00221067971932357642"
          },
          "user_tz": -180
        },
        "id": "x4B0J0rzkxTw",
        "outputId": "726ec792-8f8c-46b0-d421-b29af053aaae"
      },
      "outputs": [
        {
          "name": "stdout",
          "output_type": "stream",
          "text": [
            "25\n",
            "125\n"
          ]
        }
      ],
      "source": [
        "e = 2\n",
        "\n",
        "def f7():\n",
        "    x = lambda b: b**e\n",
        "    return x\n",
        "\n",
        "exp = f7()\n",
        "print(exp(5))\n",
        "e = 3\n",
        "print(exp(5))"
      ]
    },
    {
      "cell_type": "code",
      "execution_count": null,
      "metadata": {
        "colab": {
          "base_uri": "https://localhost:8080/"
        },
        "executionInfo": {
          "elapsed": 817,
          "status": "ok",
          "timestamp": 1621106819899,
          "user": {
            "displayName": "muntadher alkaabi",
            "photoUrl": "https://lh3.googleusercontent.com/a-/AOh14Gj1adaCWpR-cnwQQK4viQZvo0gyRf1A0y9AkvnPMt0=s64",
            "userId": "00221067971932357642"
          },
          "user_tz": -180
        },
        "id": "mXUwK8vkkxTx",
        "outputId": "01cde5f8-a709-4f24-ffcf-b2f4b9d5a9f0"
      },
      "outputs": [
        {
          "name": "stdout",
          "output_type": "stream",
          "text": [
            "25\n",
            "25\n"
          ]
        }
      ],
      "source": [
        "e = 2\n",
        "\n",
        "def f8():\n",
        "    temp = e\n",
        "    x = lambda b: b**temp\n",
        "    return x\n",
        "\n",
        "exp = f8()\n",
        "print(exp(5))\n",
        "e = 3\n",
        "print(exp(5))"
      ]
    },
    {
      "cell_type": "markdown",
      "metadata": {
        "id": "CX2gM2aljWOX"
      },
      "source": [
        "## Namespaces and Scope\n"
      ]
    },
    {
      "cell_type": "markdown",
      "metadata": {
        "id": "wzYe7lMDjWOY"
      },
      "source": [
        "<a id='namespaces'></a>\n",
        "### Namespaces\n",
        "\n",
        "When we define a function, the the variables used as arguments to the function (the so-called *formal parameters*) and variables that are defined within the body of the function are all local to that function. Each time the function is invoked, a new **namespace** with associated **symbol table** is created. It is local to that function invocation and maps variable names to values. The same indentifier might be written elsewhere in the program (e.g., in another function definition), but the two occurrences are completely separate. They denote separate variables, for instance, and so changing the value of one does not affect the other. \n",
        "\n",
        "Note that functions are defined within a larger program context, and so namespaces can be nested. When a variable is referenced in the body of a function,  the local symbol table is first examined. If the variable name is not found, then the enclosing namespace is examined. This is repeated until the **global namespace** is reached. \n",
        "\n",
        "In contrast, if an assignment to a variable appears in the function body, the variable is inferred to be local. This can potentially cause problems, as indicated in `f3` below."
      ]
    },
    {
      "cell_type": "code",
      "execution_count": null,
      "metadata": {
        "colab": {
          "base_uri": "https://localhost:8080/"
        },
        "executionInfo": {
          "elapsed": 787,
          "status": "ok",
          "timestamp": 1621106820610,
          "user": {
            "displayName": "muntadher alkaabi",
            "photoUrl": "https://lh3.googleusercontent.com/a-/AOh14Gj1adaCWpR-cnwQQK4viQZvo0gyRf1A0y9AkvnPMt0=s64",
            "userId": "00221067971932357642"
          },
          "user_tz": -180
        },
        "id": "liWTk-LejWOY",
        "outputId": "c31fe83e-5ec2-4fea-d8da-29342d58f769"
      },
      "outputs": [
        {
          "name": "stdout",
          "output_type": "stream",
          "text": [
            "f1 a:  2\n",
            "f2 a:  1\n",
            "non-function a:  1\n",
            "f1 a:  2\n",
            "f2 a:  10\n",
            "non-function a:  10\n"
          ]
        }
      ],
      "source": [
        "a = \"1\"\n",
        "\n",
        "\n",
        "def f1():\n",
        "    a = \"2\"\n",
        "    print(\"f1 a: \", a)\n",
        "\n",
        "\n",
        "def f2():\n",
        "    print(\"f2 a: \", a)\n",
        "\n",
        "\n",
        "f1()\n",
        "f2()\n",
        "print(\"non-function a: \", a)\n",
        "\n",
        "a = \"10\"\n",
        "\n",
        "f1()\n",
        "f2()\n",
        "print(\"non-function a: \", a)"
      ]
    },
    {
      "cell_type": "code",
      "execution_count": null,
      "metadata": {
        "id": "d6Fi3YYTjWOZ"
      },
      "outputs": [],
      "source": [
        "# Why is this problematic?\n",
        "def f3():\n",
        "    print(\"first f3 a: \" + a)\n",
        "    a = \"3\"\n",
        "    print(\"second f3 a: \" + a)\n",
        "\n",
        "\n",
        "# f3()"
      ]
    },
    {
      "cell_type": "markdown",
      "metadata": {
        "id": "9wWWsXSVjWOZ"
      },
      "source": [
        "In the above definition of `f3`, an assignment for `a` appears within the function body, and so the variable is inferred to be local. However, it is actually referenced in the print line before the assignment occurs. This will raise an exception, as would attempting to use a variable before it is assigned.  "
      ]
    },
    {
      "cell_type": "markdown",
      "metadata": {
        "id": "FwQ67SGPjWOa"
      },
      "source": [
        "**Examples of namespaces**\n",
        "\n",
        "Several namespaces exist, not just the ones user create when defining functions. \n",
        "\n",
        "*  `builtins`: for builtin Python functions, created at start-up of the interpreter. \n",
        "*  `__main__`: the top-level namespace for the interpreter. \n",
        "*  global namespace for each module: created when the module is first read in. \n",
        "*  function invocation namespaces: created when the function is invoked and deleted upon exit.  \n"
      ]
    },
    {
      "cell_type": "markdown",
      "metadata": {
        "id": "WQB1tXp7jWOa"
      },
      "source": [
        "<a id='scope'></a>\n",
        "### Scope\n",
        "\n",
        "**Scope** refers to the textual area of a program where a variable can be directly accessed. Using  the keywords `global` or `nonlocal`, it's possible to access variables existing in a different scope. \n",
        "\n",
        "Below is a slightly modified example taken from the [Python Tutorial](https://docs.python.org/3/tutorial/classes.html#scopes-and-namespaces-example)"
      ]
    },
    {
      "cell_type": "code",
      "execution_count": null,
      "metadata": {
        "colab": {
          "base_uri": "https://localhost:8080/"
        },
        "executionInfo": {
          "elapsed": 530,
          "status": "ok",
          "timestamp": 1621106821597,
          "user": {
            "displayName": "muntadher alkaabi",
            "photoUrl": "https://lh3.googleusercontent.com/a-/AOh14Gj1adaCWpR-cnwQQK4viQZvo0gyRf1A0y9AkvnPMt0=s64",
            "userId": "00221067971932357642"
          },
          "user_tz": -180
        },
        "id": "GlaQDAkHjWOa",
        "outputId": "7fd78fc9-9196-4896-f16f-4acafff02efa"
      },
      "outputs": [
        {
          "name": "stdout",
          "output_type": "stream",
          "text": [
            "After local assignment: scope_test spam\n",
            "After nonlocal assignment: scope_test spam modified\n",
            "After global assignment: scope_test spam modified\n",
            "In global scope: global spam modified\n"
          ]
        }
      ],
      "source": [
        "# Level 1\n",
        "spam = \"global spam\"  # global space\n",
        "\n",
        "\n",
        "def scope_test():\n",
        "\n",
        "    # Level 2\n",
        "    spam = \"scope_test spam\"  # local to scope_test\n",
        "\n",
        "    def do_local():\n",
        "        # Level 3\n",
        "        spam = \"do_local spam\"  # local to do_local\n",
        "\n",
        "    def do_nonlocal():\n",
        "        nonlocal spam  # spam refers to enclosing scope (scope_test)\n",
        "        spam = \"scope_test spam modified\"\n",
        "\n",
        "    def do_global():\n",
        "        global spam  # spam refers to global scope\n",
        "        spam = \"global spam modified\"\n",
        "\n",
        "    do_local()\n",
        "    print(\"After local assignment:\", spam)\n",
        "    do_nonlocal()\n",
        "    print(\"After nonlocal assignment:\", spam)\n",
        "    do_global()\n",
        "    print(\"After global assignment:\", spam)\n",
        "\n",
        "\n",
        "scope_test()\n",
        "print(\"In global scope:\", spam)"
      ]
    },
    {
      "cell_type": "markdown",
      "metadata": {
        "id": "A-Pf85lljWOb"
      },
      "source": [
        "Above, the call to `do_local()` changes the value of `spam` local to that function (denoted here, *Level 3*). The call to `do_nonlocal()`, however, changes that value at *Level 2*. And the call to `do_global()` changes it at the outermost level (*Level 1*). \n",
        "\n",
        "`global` allows one to change the values of variables not defined in any function, while `nonlocal` permits one to change values of variables in the enclosing context. "
      ]
    },
    {
      "cell_type": "code",
      "execution_count": null,
      "metadata": {
        "colab": {
          "base_uri": "https://localhost:8080/"
        },
        "executionInfo": {
          "elapsed": 19,
          "status": "ok",
          "timestamp": 1654267561435,
          "user": {
            "displayName": "Zahra Dafer",
            "userId": "13379319153431271957"
          },
          "user_tz": -180
        },
        "id": "ChXSrEH-kzL-",
        "outputId": "af301474-152d-402c-f2cc-ae89a3e1fad5"
      },
      "outputs": [
        {
          "name": "stdout",
          "output_type": "stream",
          "text": [
            "value 3 is less than 5\n",
            "value 5 is in range [5,7)\n",
            "value 8 is in range [7,10)\n",
            "value 13 is greater than 10\n"
          ]
        }
      ],
      "source": [
        "# Let's create function to test number \n",
        "def number_test(x):\n",
        "    # Test the number if it bigger than 10\n",
        "    if x > 10:\n",
        "        print(\"value \" + str(x) + \" is greater than 10\")\n",
        "    # Test the number if it bigger than or equal to 7 and less than 10\n",
        "    elif x >= 7 and x < 10:\n",
        "        print(\"value \" + str(x) + \" is in range [7,10)\")\n",
        "    # Test the number if it bigger than or equal to 5 and less than 7\n",
        "    elif x >= 5 and x < 7:\n",
        "        print(\"value \" + str(x) + \" is in range [5,7)\")\n",
        "    # Test the number if it's less than 5\n",
        "    else:\n",
        "        print(\"value \" + str(x) + \" is less than 5\")\n",
        "\n",
        "number_test(3)\n",
        "number_test(5)\n",
        "number_test(8)\n",
        "number_test(13)"
      ]
    },
    {
      "cell_type": "code",
      "execution_count": null,
      "metadata": {
        "colab": {
          "base_uri": "https://localhost:8080/"
        },
        "executionInfo": {
          "elapsed": 527,
          "status": "ok",
          "timestamp": 1654268766826,
          "user": {
            "displayName": "Zahra Dafer",
            "userId": "13379319153431271957"
          },
          "user_tz": -180
        },
        "id": "_LKmclDYkzMA",
        "outputId": "5b4d07a4-325f-4bf6-d3b8-76c378e9d93a"
      },
      "outputs": [
        {
          "name": "stdout",
          "output_type": "stream",
          "text": [
            "found 'r' in 'hello world!'\n",
            "could not find 'z' in 'hello world!'\n",
            "occurrences of 'l': 1\n"
          ]
        }
      ],
      "source": [
        "# Let's create function to check if element is a member of strin \n",
        "def member(string, element):\n",
        "    length = len(string) # Get the length of the string\n",
        "    i = 0 # Set a counter to 0\n",
        "    while i < length: # Make sure to stop the while loop when the counter less than the lenght of the string \n",
        "        # Create condition to check if the element is part of the string\n",
        "        if(string[i] == element):\n",
        "            # if the element is part of the string break the loop and return true\n",
        "            break\n",
        "        i = i + 1\n",
        "    # Make sure the counter isn't equal to the length of the string\n",
        "    if(i != length):\n",
        "        print(\"found '\" + element + \"' in '\" + string + \"'\")\n",
        "        return True\n",
        "    \n",
        "    else:\n",
        "        print(\"could not find '\" + element + \"' in '\" + string + \"'\")\n",
        "        return False \n",
        "# Create function to count the frequency of element in string \n",
        "def count(string, element):\n",
        "    length = len(string)# Get the length of the string\n",
        "    i = 0 \n",
        "    counter = 0; # Set a counter to 0\n",
        "    while i < length:\n",
        "        # Create condition to check if the element is not equal to the value that in the index from the string\n",
        "        if(string[i] != element):\n",
        "            i = i + 1\n",
        "            # Back to the start of the loop\n",
        "            continue\n",
        "        \n",
        "        # Add one to the counter\n",
        "        counter = counter + 1\n",
        "        i = i + 1\n",
        "    \n",
        "    # return the counter\n",
        "    return counter \n",
        "    \n",
        "member(\"hello world!\", \"r\")\n",
        "member(\"hello world!\", \"z\")\n",
        "print(\"occurrences of 'l': \" + str(count(\"hello world!\", \"!\")))"
      ]
    },
    {
      "cell_type": "code",
      "execution_count": null,
      "metadata": {
        "colab": {
          "base_uri": "https://localhost:8080/"
        },
        "executionInfo": {
          "elapsed": 491,
          "status": "ok",
          "timestamp": 1654267698659,
          "user": {
            "displayName": "Zahra Dafer",
            "userId": "13379319153431271957"
          },
          "user_tz": -180
        },
        "id": "P-k5RA2HkzMC",
        "outputId": "3a004824-2913-4ffd-bf0d-9db0657e1b15"
      },
      "outputs": [
        {
          "name": "stdout",
          "output_type": "stream",
          "text": [
            "[(' ', 1), ('d', 1), ('e', 1), ('h', 1), ('l', 3), ('o', 2), ('r', 1), ('w', 1)]\n"
          ]
        }
      ],
      "source": [
        "# create a function to return the unique elements of a string\n",
        "def unique_characters(raw_string):\n",
        "    # instead of set(raw_string), we'll create the set iteratively\n",
        "    # returning its characters as a sorted list\n",
        "    result = set(); \n",
        "    i = 0\n",
        "    # get the length of the string\n",
        "    length = len(raw_string)\n",
        "    # loop through the string\n",
        "    while i < length:\n",
        "        # add the character to the set\n",
        "        result.add(raw_string[i])\n",
        "        # increment the counter\n",
        "        i = i + 1\n",
        "    # return the sorted list of characters\n",
        "    return sorted(list(result))\n",
        "# create a function to that counts the number of times each character occurs in a string\n",
        "def character_count(raw_string):\n",
        "    # get the unique characters in the string\n",
        "    sorted_string = unique_characters(raw_string)\n",
        "    # get the length of the unique characters\n",
        "    length = len(sorted_string)\n",
        "    i = 0\n",
        "    result = []; \n",
        "    # loop through the unique characters\n",
        "    while i < length:\n",
        "        # creat a counter to count the number of times the character occurs\n",
        "        result.append((sorted_string[i], count(raw_string, sorted_string[i])))\n",
        "        i = i + 1\n",
        "    return result\n",
        "\n",
        "print(character_count(\"hello world\"))"
      ]
    },
    {
      "cell_type": "markdown",
      "metadata": {
        "id": "lzfLpS5wHHuK"
      },
      "source": [
        "## Python Classes/Objects\n",
        "Python is an object oriented programming language.\n",
        "\n",
        "Almost everything in Python is an object, with its properties and methods.\n",
        "\n",
        "A Class is like an object constructor, or a \"blueprint\" for creating objects.\n",
        "\n"
      ]
    },
    {
      "cell_type": "markdown",
      "metadata": {
        "id": "d8rAz2rPHOnr"
      },
      "source": [
        "### Create a Class\n",
        "To create a class, use the keyword class:\n",
        "\n"
      ]
    },
    {
      "cell_type": "code",
      "execution_count": null,
      "metadata": {
        "id": "3KGcrs-GHMk2"
      },
      "outputs": [],
      "source": [
        "class MyClass:\n",
        "    x = 5"
      ]
    },
    {
      "cell_type": "markdown",
      "metadata": {
        "id": "VPhNka58HW8P"
      },
      "source": [
        "### Create Object\n",
        "Now we can use the class named MyClass to create objects:\n",
        "\n"
      ]
    },
    {
      "cell_type": "code",
      "execution_count": null,
      "metadata": {
        "colab": {
          "base_uri": "https://localhost:8080/"
        },
        "executionInfo": {
          "elapsed": 2105,
          "status": "ok",
          "timestamp": 1621106830821,
          "user": {
            "displayName": "muntadher alkaabi",
            "photoUrl": "https://lh3.googleusercontent.com/a-/AOh14Gj1adaCWpR-cnwQQK4viQZvo0gyRf1A0y9AkvnPMt0=s64",
            "userId": "00221067971932357642"
          },
          "user_tz": -180
        },
        "id": "laNJI79ZHMp1",
        "outputId": "c2169175-e3b5-430e-9b77-a6716085b5e0"
      },
      "outputs": [
        {
          "name": "stdout",
          "output_type": "stream",
          "text": [
            "5\n"
          ]
        }
      ],
      "source": [
        "# Create an object named p1, and print the value of x:\n",
        "\n",
        "p1 = MyClass()\n",
        "print(p1.x)"
      ]
    },
    {
      "cell_type": "markdown",
      "metadata": {
        "id": "V0eK1YW-HfGU"
      },
      "source": [
        "### The __init__() Function\n",
        "The examples above are classes and objects in their simplest form, and are not really useful in real life applications.\n",
        "\n",
        "To understand the meaning of classes we have to understand the built-in __init__() function.\n",
        "\n",
        "All classes have a function called __init__(), which is always executed when the class is being initiated.\n",
        "\n",
        "Use the __init__() function to assign values to object properties, or other operations that are necessary to do when the object is being created:"
      ]
    },
    {
      "cell_type": "code",
      "execution_count": null,
      "metadata": {
        "colab": {
          "base_uri": "https://localhost:8080/"
        },
        "executionInfo": {
          "elapsed": 1947,
          "status": "ok",
          "timestamp": 1621106831284,
          "user": {
            "displayName": "muntadher alkaabi",
            "photoUrl": "https://lh3.googleusercontent.com/a-/AOh14Gj1adaCWpR-cnwQQK4viQZvo0gyRf1A0y9AkvnPMt0=s64",
            "userId": "00221067971932357642"
          },
          "user_tz": -180
        },
        "id": "0dNCZLpJHeV2",
        "outputId": "41a4a361-e416-4152-f375-8e2202e2ee97"
      },
      "outputs": [
        {
          "name": "stdout",
          "output_type": "stream",
          "text": [
            "John\n",
            "36\n",
            "****************************************\n",
            "ali\n",
            "40\n"
          ]
        }
      ],
      "source": [
        "# Create a class named Person, use the __init__() function to assign values for name and age:\n",
        "\n",
        "\n",
        "class Person:\n",
        "    def __init__(self, name, age):\n",
        "        self.name = name\n",
        "        self.age = age\n",
        "\n",
        "\n",
        "p1 = Person(\"John\", 36)\n",
        "p2 = Person(\"ali\", 40)\n",
        "\n",
        "print(p1.name)\n",
        "print(p1.age)\n",
        "print(\"*\" * 40)\n",
        "print(p2.name)\n",
        "print(p2.age)\n",
        "\n",
        "# Note: The __init__() function is called automatically every time the class is being used to create a new object."
      ]
    },
    {
      "cell_type": "markdown",
      "metadata": {
        "id": "ZIgJYfZAIJ_T"
      },
      "source": [
        "### Object Methods\n",
        "Objects can also contain methods. Methods in objects are functions that belong to the object.\n",
        "\n",
        "Let us create a method in the Person class:"
      ]
    },
    {
      "cell_type": "code",
      "execution_count": null,
      "metadata": {
        "colab": {
          "base_uri": "https://localhost:8080/"
        },
        "executionInfo": {
          "elapsed": 828,
          "status": "ok",
          "timestamp": 1621106831285,
          "user": {
            "displayName": "muntadher alkaabi",
            "photoUrl": "https://lh3.googleusercontent.com/a-/AOh14Gj1adaCWpR-cnwQQK4viQZvo0gyRf1A0y9AkvnPMt0=s64",
            "userId": "00221067971932357642"
          },
          "user_tz": -180
        },
        "id": "m_7AMj4yHeZf",
        "outputId": "e2e094ec-d92f-4448-f822-3a8d0fc14aba"
      },
      "outputs": [
        {
          "name": "stdout",
          "output_type": "stream",
          "text": [
            "Hello my name is John\n"
          ]
        }
      ],
      "source": [
        "class Person:\n",
        "    def __init__(self, name, age):\n",
        "        self.name = name\n",
        "        self.age = age\n",
        "\n",
        "    def myfunc(self):\n",
        "        print(\"Hello my name is \" + self.name)\n",
        "\n",
        "\n",
        "p1 = Person(\"John\", 36)\n",
        "p1.myfunc()\n",
        "# Note: The self parameter is a reference to the current instance of the class, \n",
        "# and is used to access variables that belong to the class."
      ]
    },
    {
      "cell_type": "markdown",
      "metadata": {
        "id": "Ch5apAO8IV9Y"
      },
      "source": [
        "### The self Parameter\n",
        "The self parameter is a reference to the current instance of the class, and is used to access variables that belongs to the class.\n",
        "\n",
        "It does not have to be named self , you can call it whatever you like, but it has to be the first parameter of any function in the class:"
      ]
    },
    {
      "cell_type": "code",
      "execution_count": null,
      "metadata": {
        "colab": {
          "base_uri": "https://localhost:8080/"
        },
        "executionInfo": {
          "elapsed": 853,
          "status": "ok",
          "timestamp": 1621106833255,
          "user": {
            "displayName": "muntadher alkaabi",
            "photoUrl": "https://lh3.googleusercontent.com/a-/AOh14Gj1adaCWpR-cnwQQK4viQZvo0gyRf1A0y9AkvnPMt0=s64",
            "userId": "00221067971932357642"
          },
          "user_tz": -180
        },
        "id": "Uci2rpoUIVJU",
        "outputId": "f0fde283-fa54-4285-fe06-9a9c855605ee"
      },
      "outputs": [
        {
          "name": "stdout",
          "output_type": "stream",
          "text": [
            "Hello my name is John\n"
          ]
        }
      ],
      "source": [
        "class Person:\n",
        "    def __init__(mysillyobject, name, age):\n",
        "        mysillyobject.name = name\n",
        "        mysillyobject.age = age\n",
        "\n",
        "    def myfunc(abc):\n",
        "        print(\"Hello my name is \" + abc.name)\n",
        "\n",
        "\n",
        "p1 = Person(\"John\", 36)\n",
        "p1.myfunc()"
      ]
    },
    {
      "cell_type": "markdown",
      "metadata": {
        "id": "RuEYylyyIykE"
      },
      "source": [
        "### Modify Object Properties\n",
        "You can modify properties on objects like this:"
      ]
    },
    {
      "cell_type": "code",
      "execution_count": null,
      "metadata": {
        "id": "lObR5zAUIVNC"
      },
      "outputs": [],
      "source": [
        "p1.age = 40"
      ]
    },
    {
      "cell_type": "markdown",
      "metadata": {
        "id": "DZ3usOtgI5c0"
      },
      "source": [
        "### Delete Object Properties\n",
        "You can delete properties on objects by using the del keyword:"
      ]
    },
    {
      "cell_type": "code",
      "execution_count": null,
      "metadata": {
        "id": "nctDwQVDIVQ9"
      },
      "outputs": [],
      "source": [
        "del p1.age"
      ]
    },
    {
      "cell_type": "code",
      "execution_count": null,
      "metadata": {
        "colab": {
          "base_uri": "https://localhost:8080/",
          "height": 162
        },
        "executionInfo": {
          "elapsed": 902,
          "status": "error",
          "timestamp": 1621106835434,
          "user": {
            "displayName": "muntadher alkaabi",
            "photoUrl": "https://lh3.googleusercontent.com/a-/AOh14Gj1adaCWpR-cnwQQK4viQZvo0gyRf1A0y9AkvnPMt0=s64",
            "userId": "00221067971932357642"
          },
          "user_tz": -180
        },
        "id": "XY3K4GHjIVUd",
        "outputId": "bd024d24-90a0-48d1-dd8d-4d8b3805c63d"
      },
      "outputs": [
        {
          "ename": "AttributeError",
          "evalue": "ignored",
          "output_type": "error",
          "traceback": [
            "\u001b[0;31m---------------------------------------------------------------------------\u001b[0m",
            "\u001b[0;31mAttributeError\u001b[0m                            Traceback (most recent call last)",
            "\u001b[0;32m<ipython-input-76-bdf2744a45d7>\u001b[0m in \u001b[0;36m<module>\u001b[0;34m()\u001b[0m\n\u001b[0;32m----> 1\u001b[0;31m \u001b[0mp1\u001b[0m\u001b[0;34m.\u001b[0m\u001b[0mage\u001b[0m\u001b[0;34m\u001b[0m\u001b[0;34m\u001b[0m\u001b[0m\n\u001b[0m",
            "\u001b[0;31mAttributeError\u001b[0m: 'Person' object has no attribute 'age'"
          ]
        }
      ],
      "source": [
        "p1.age"
      ]
    },
    {
      "cell_type": "markdown",
      "metadata": {
        "id": "ELbUMKIVJDQu"
      },
      "source": [
        "**Delete Objects:**\n",
        "You can delete objects by using the del keyword:"
      ]
    },
    {
      "cell_type": "code",
      "execution_count": null,
      "metadata": {
        "id": "LbZOFYLiI-jX"
      },
      "outputs": [],
      "source": [
        "del p1"
      ]
    },
    {
      "cell_type": "markdown",
      "metadata": {
        "id": "y2FlhfK6JIaE"
      },
      "source": [
        "### The pass Statement\n",
        "class definitions cannot be empty, but if you for some reason have a class definition with no content, put in the pass statement to avoid getting an error."
      ]
    },
    {
      "cell_type": "code",
      "execution_count": null,
      "metadata": {
        "id": "26T-MhIBJJzp"
      },
      "outputs": [],
      "source": [
        "class Person:\n",
        "    pass"
      ]
    },
    {
      "cell_type": "markdown",
      "metadata": {
        "id": "eaffTYX5lReR"
      },
      "source": [
        "### Inheritance\n",
        "\n",
        "**Inheritance** allows us to define a class that inherits all the methods and properties from another class.\n",
        "\n",
        "**Parent class** is the class being inherited from, also called base class.\n",
        "\n",
        "**Child class** is the class that inherits from another class, also called derived class.\n",
        "\n"
      ]
    },
    {
      "cell_type": "markdown",
      "metadata": {
        "id": "SRr5n4uumYqQ"
      },
      "source": [
        "#### Create a Parent Class\n",
        "Any class can be a parent class, so the syntax is the same as creating any other class:\n",
        "\n"
      ]
    },
    {
      "cell_type": "code",
      "execution_count": null,
      "metadata": {
        "colab": {
          "base_uri": "https://localhost:8080/"
        },
        "executionInfo": {
          "elapsed": 522,
          "status": "ok",
          "timestamp": 1654277434220,
          "user": {
            "displayName": "Muntadher Al-kaabi",
            "userId": "00221067971932357642"
          },
          "user_tz": -180
        },
        "id": "TC2HuE-Pl_8C",
        "outputId": "18716c43-373c-40dc-ad4a-a756d227cc35"
      },
      "outputs": [
        {
          "name": "stdout",
          "output_type": "stream",
          "text": [
            "full name: John Doe\n"
          ]
        }
      ],
      "source": [
        "#Create a class named Person, with firstname and lastname properties, and a printname method\n",
        "class Person():\n",
        "  def __init__(self, fname, lname):\n",
        "    self.firstname = fname\n",
        "    self.lastname = lname\n",
        "\n",
        "  def printname(self):\n",
        "    print(f\"full name: {self.firstname} { self.lastname}\")\n",
        "\n",
        "#Use the Person class to create an object, and then execute the printname method\n",
        "x = Person(\"John\", \"Doe\")\n",
        "x.printname()"
      ]
    },
    {
      "cell_type": "markdown",
      "metadata": {
        "id": "K0jfAaQAnKNg"
      },
      "source": [
        "#### Create a Child Class\n",
        "To create a class that inherits the functionality from another class, send the parent class as a parameter when creating the child class:"
      ]
    },
    {
      "cell_type": "code",
      "execution_count": null,
      "metadata": {
        "colab": {
          "base_uri": "https://localhost:8080/"
        },
        "executionInfo": {
          "elapsed": 8,
          "status": "ok",
          "timestamp": 1654277434221,
          "user": {
            "displayName": "Muntadher Al-kaabi",
            "userId": "00221067971932357642"
          },
          "user_tz": -180
        },
        "id": "JjInEz9pnOzH",
        "outputId": "30709f99-f766-44ea-90d3-c7425775cd11"
      },
      "outputs": [
        {
          "name": "stdout",
          "output_type": "stream",
          "text": [
            "full name: Mike Olsen\n"
          ]
        }
      ],
      "source": [
        "class Student(Person):\n",
        "  pass\n",
        "# Note: Use the pass keyword when you do not want to add any other properties or methods to the class.\n",
        "\n",
        "# Use the Student class to create an object, and then execute the printname method\n",
        "x = Student(\"Mike\", \"Olsen\")\n",
        "x.printname()\n"
      ]
    },
    {
      "cell_type": "markdown",
      "metadata": {
        "id": "jE4dwkERnpRj"
      },
      "source": [
        "#### Add the __init__() Function\n",
        "So far we have created a child class that inherits the properties and methods from its parent.\n",
        "\n",
        "We want to add the __init__() function to the child class (instead of the pass keyword)."
      ]
    },
    {
      "cell_type": "code",
      "execution_count": null,
      "metadata": {
        "colab": {
          "base_uri": "https://localhost:8080/"
        },
        "executionInfo": {
          "elapsed": 443,
          "status": "ok",
          "timestamp": 1654277575126,
          "user": {
            "displayName": "Muntadher Al-kaabi",
            "userId": "00221067971932357642"
          },
          "user_tz": -180
        },
        "id": "Cl2aLaDKnvBA",
        "outputId": "057a606c-90bf-4132-c184-db4690718527"
      },
      "outputs": [
        {
          "name": "stdout",
          "output_type": "stream",
          "text": [
            "full name: Mike Olsen\n"
          ]
        }
      ],
      "source": [
        "# Note: The __init__() function is called automatically every time the class is being used to create a new object.\n",
        "\n",
        "class Student(Person):\n",
        "  def __init__(self, fname, lname):\n",
        "    # Add properties etc.\n",
        "    Person.__init__(self, fname, lname)\n",
        "# Now we have successfully added the __init__() function, and kept the inheritance of the parent class, and we are ready to add functionality in the __init__() function.\n",
        "x = Student(\"Mike\", \"Olsen\")\n",
        "x.printname()\n"
      ]
    },
    {
      "cell_type": "markdown",
      "metadata": {
        "id": "7XC0c1uhoNrY"
      },
      "source": [
        "#### Use the super() Function\n",
        "Python also has a super() function that will make the child class inherit all the methods and properties from its parent\n",
        "\n"
      ]
    },
    {
      "cell_type": "code",
      "execution_count": null,
      "metadata": {
        "colab": {
          "base_uri": "https://localhost:8080/"
        },
        "executionInfo": {
          "elapsed": 5,
          "status": "ok",
          "timestamp": 1654277642255,
          "user": {
            "displayName": "Muntadher Al-kaabi",
            "userId": "00221067971932357642"
          },
          "user_tz": -180
        },
        "id": "XfZsaXdZoUzF",
        "outputId": "94416212-36dd-41f8-e40e-9c83e88a3aa9"
      },
      "outputs": [
        {
          "name": "stdout",
          "output_type": "stream",
          "text": [
            "full name: Mike Olsen\n"
          ]
        }
      ],
      "source": [
        "# Create the class named Student, with the following properties:\n",
        "# firstname, lastname, and year.\n",
        "class Student(Person):\n",
        "  def __init__(self, fname, lname):\n",
        "    super().__init__(fname, lname)\n",
        "\n",
        "# By using the super() function, \n",
        "# you do not have to use the name of the parent element, \n",
        "# it will automatically inherit the methods and properties from its parent.\n",
        "x = Student(\"Mike\", \"Olsen\")\n",
        "x.printname() "
      ]
    },
    {
      "cell_type": "markdown",
      "metadata": {
        "id": "ARrIkT-boo0E"
      },
      "source": [
        "#### Add Properties\n"
      ]
    },
    {
      "cell_type": "code",
      "execution_count": null,
      "metadata": {
        "colab": {
          "base_uri": "https://localhost:8080/"
        },
        "executionInfo": {
          "elapsed": 5,
          "status": "ok",
          "timestamp": 1654277771912,
          "user": {
            "displayName": "Muntadher Al-kaabi",
            "userId": "00221067971932357642"
          },
          "user_tz": -180
        },
        "id": "yq9hxq6Roohv",
        "outputId": "6e1e494a-ccec-4d3a-a7a1-b0453da0e66d"
      },
      "outputs": [
        {
          "name": "stdout",
          "output_type": "stream",
          "text": [
            "full name: Mike Olsen\n"
          ]
        }
      ],
      "source": [
        "# Create the class named Student, with the following properties:\n",
        "# firstname, lastname, and year.\n",
        "\n",
        "class Student(Person):\n",
        "  def __init__(self, fname, lname,year):\n",
        "    super().__init__(fname, lname)\n",
        "    self.graduationyear = year\n",
        "x = Student(\"Mike\", \"Olsen\",2022)\n",
        "x.printname() "
      ]
    },
    {
      "cell_type": "code",
      "execution_count": null,
      "metadata": {
        "colab": {
          "base_uri": "https://localhost:8080/"
        },
        "executionInfo": {
          "elapsed": 5,
          "status": "ok",
          "timestamp": 1654277785765,
          "user": {
            "displayName": "Muntadher Al-kaabi",
            "userId": "00221067971932357642"
          },
          "user_tz": -180
        },
        "id": "hBNqh9p4o6X1",
        "outputId": "de2c7c19-ab9b-44b2-9861-db9fdd11654a"
      },
      "outputs": [
        {
          "data": {
            "text/plain": [
              "2022"
            ]
          },
          "execution_count": 17,
          "metadata": {},
          "output_type": "execute_result"
        }
      ],
      "source": [
        "x.graduationyear # returns 2022"
      ]
    },
    {
      "cell_type": "markdown",
      "metadata": {
        "id": "HE1uLz8xpAj2"
      },
      "source": [
        "#### Add Methods\n",
        "Add a method called welcome to the Student class"
      ]
    },
    {
      "cell_type": "code",
      "execution_count": null,
      "metadata": {
        "colab": {
          "base_uri": "https://localhost:8080/"
        },
        "executionInfo": {
          "elapsed": 498,
          "status": "ok",
          "timestamp": 1654277863883,
          "user": {
            "displayName": "Muntadher Al-kaabi",
            "userId": "00221067971932357642"
          },
          "user_tz": -180
        },
        "id": "Hy9mHDOfpFlZ",
        "outputId": "c7ebeb59-ae94-467d-c275-bc5c91c1ae3b"
      },
      "outputs": [
        {
          "name": "stdout",
          "output_type": "stream",
          "text": [
            "Welcome Mike Olsen to the class of 2022\n"
          ]
        }
      ],
      "source": [
        "# Create the class named Student, with the following properties:\n",
        "# firstname, lastname, and year.\n",
        "class Student(Person):\n",
        "  def __init__(self, fname, lname, year):\n",
        "    super().__init__(fname, lname)\n",
        "    self.graduationyear = year\n",
        "\n",
        "\n",
        "  # Add a method named  welcome, which will print a welcome message to the screen.\n",
        "  def welcome(self):\n",
        "    print(\"Welcome\", self.firstname, self.lastname, \"to the class of\", self.graduationyear)\n",
        "\n",
        "x = Student(\"Mike\", \"Olsen\",2022)\n",
        "x.welcome() "
      ]
    },
    {
      "cell_type": "markdown",
      "metadata": {
        "id": "kBSoaJaOp9lg"
      },
      "source": [
        "#### Let's Create Student info Class with Inheritance "
      ]
    },
    {
      "cell_type": "code",
      "execution_count": null,
      "metadata": {
        "id": "4-5DMBdvqJOm"
      },
      "outputs": [],
      "source": [
        "# Create the class named person, with the following properties:\n",
        "# firstname, lastname, age, address, and gander.\n",
        "class Person():\n",
        "  def __init__(self, fname, lname,age, address, gander):\n",
        "    self.firstname = fname\n",
        "    self.lastname = lname\n",
        "    self.address = address\n",
        "    self.gander = gander\n",
        "    self.age = age\n",
        "\n",
        "  # Add a method named  get_person_info, which will return a dictionary of the person's information.\n",
        "  def get_personal_info(self):\n",
        "    return {'full name': f\"{self.firstname} { self.lastname}\",\n",
        "          'gander': self.gander,\n",
        "          'age': self.age,\n",
        "          'address': self.address}"
      ]
    },
    {
      "cell_type": "code",
      "execution_count": null,
      "metadata": {
        "id": "2Mazh0-4qjgQ"
      },
      "outputs": [],
      "source": [
        "# Create a class named Student that inherits from the Person class.\n",
        "# the Student class should have the following properties:\n",
        "# firstname, lastname, age, address, gander, graduationyear, math_score, english_score, and science_score.\n",
        "class Student(Person):\n",
        "    def __init__(self,fname,lname,age,address,gander,graduation_year,\n",
        "                 math_score,english_score,science_score):\n",
        "        super().__init__(fname, lname,age, address, gander)\n",
        "        self.graduation_year=graduation_year\n",
        "        self.math_score=math_score\n",
        "        self.english_score=english_score\n",
        "        self.science_score=science_score\n",
        "\n",
        "    # Add a method named get_mean_score, which will return the average of the student's scores.\n",
        "    def get_mean_of_score(self):\n",
        "        mean=(self.math_score+self.english_score+self.science_score)/3\n",
        "        return mean\n",
        "    # Add a method named get_student_info, which will return a dictionary of the student's information.\n",
        "    def get_student_info(self):\n",
        "        mean_score =self.get_mean_of_score() \n",
        "        info=self.get_personal_info()\n",
        "\n",
        "        info['math socre']=self.math_score\n",
        "        info['english socre']=self.english_score\n",
        "        info['science socre']=self.science_score\n",
        "        info['mean score']=mean_score\n",
        "        info['graduation year']=self.graduation_year\n",
        "\n",
        "        return info\n"
      ]
    },
    {
      "cell_type": "code",
      "execution_count": null,
      "metadata": {
        "colab": {
          "base_uri": "https://localhost:8080/"
        },
        "executionInfo": {
          "elapsed": 4,
          "status": "ok",
          "timestamp": 1654279262294,
          "user": {
            "displayName": "Muntadher Al-kaabi",
            "userId": "00221067971932357642"
          },
          "user_tz": -180
        },
        "id": "0mwVronWtyIh",
        "outputId": "8bfb751e-514e-46c9-c416-eb878b012cd3"
      },
      "outputs": [
        {
          "data": {
            "text/plain": [
              "{'address': 'Baghdad/karada',\n",
              " 'age': 23,\n",
              " 'english socre': 70,\n",
              " 'full name': 'Ali Hussein',\n",
              " 'gander': 'Male',\n",
              " 'graduation year': 2021,\n",
              " 'math socre': 90,\n",
              " 'mean score': 81.66666666666667,\n",
              " 'science socre': 85}"
            ]
          },
          "execution_count": 27,
          "metadata": {},
          "output_type": "execute_result"
        }
      ],
      "source": [
        "#  Create an object of the Student class, and then execute the get_student_info method.\n",
        "ali = Student(fname='Ali',\n",
        "              lname='Hussein',\n",
        "              age=23,\n",
        "              address='Baghdad/karada',\n",
        "              gander='Male',\n",
        "              graduation_year=2021,\n",
        "              math_score=90,\n",
        "              english_score=70,\n",
        "              science_score=85)\n",
        "ali.get_student_info()"
      ]
    },
    {
      "cell_type": "markdown",
      "metadata": {
        "id": "tfS6HDtnGbed"
      },
      "source": [
        "## Iterators\n",
        "Python Iterators\n",
        "An iterator is an object that contains a countable number of values.\n",
        "\n",
        "An iterator is an object that can be iterated upon, meaning that you can traverse through all the values.\n",
        "\n",
        "Technically, in Python, an iterator is an object which implements the iterator protocol, which consist of the methods __iter__() and __next__().\n",
        "\n"
      ]
    },
    {
      "cell_type": "markdown",
      "metadata": {
        "id": "ujbqpdMTGiXX"
      },
      "source": [
        "### Iterator vs Iterable\n",
        "Lists, tuples, dictionaries, and sets are all iterable objects. They are iterable containers which you can get an iterator from.\n",
        "\n",
        "All these objects have a iter() method which is used to get an iterator:"
      ]
    },
    {
      "cell_type": "code",
      "execution_count": null,
      "metadata": {
        "colab": {
          "base_uri": "https://localhost:8080/"
        },
        "executionInfo": {
          "elapsed": 868,
          "status": "ok",
          "timestamp": 1621106838536,
          "user": {
            "displayName": "muntadher alkaabi",
            "photoUrl": "https://lh3.googleusercontent.com/a-/AOh14Gj1adaCWpR-cnwQQK4viQZvo0gyRf1A0y9AkvnPMt0=s64",
            "userId": "00221067971932357642"
          },
          "user_tz": -180
        },
        "id": "OQxACz7hGhnO",
        "outputId": "a5c68d31-8409-47c6-bf6a-d8ca8ec6f71d"
      },
      "outputs": [
        {
          "name": "stdout",
          "output_type": "stream",
          "text": [
            "apple\n",
            "banana\n",
            "cherry\n"
          ]
        }
      ],
      "source": [
        "mytuple = (\"apple\", \"banana\", \"cherry\")\n",
        "myit = iter(mytuple)\n",
        "\n",
        "print(next(myit))\n",
        "print(next(myit))\n",
        "print(next(myit))"
      ]
    },
    {
      "cell_type": "markdown",
      "metadata": {
        "id": "gk9i3DtbGpf4"
      },
      "source": [
        "Even strings are iterable objects, and can return an iterator:\n",
        "\n"
      ]
    },
    {
      "cell_type": "code",
      "execution_count": null,
      "metadata": {
        "colab": {
          "base_uri": "https://localhost:8080/"
        },
        "executionInfo": {
          "elapsed": 504,
          "status": "ok",
          "timestamp": 1621106838971,
          "user": {
            "displayName": "muntadher alkaabi",
            "photoUrl": "https://lh3.googleusercontent.com/a-/AOh14Gj1adaCWpR-cnwQQK4viQZvo0gyRf1A0y9AkvnPMt0=s64",
            "userId": "00221067971932357642"
          },
          "user_tz": -180
        },
        "id": "JtCT6n4QGecM",
        "outputId": "5ea5e389-3594-403c-8f26-91ef8a71dd40"
      },
      "outputs": [
        {
          "name": "stdout",
          "output_type": "stream",
          "text": [
            "b\n",
            "a\n",
            "n\n",
            "a\n",
            "n\n",
            "a\n"
          ]
        }
      ],
      "source": [
        "mystr = \"banana\"\n",
        "myit = iter(mystr)\n",
        "\n",
        "print(next(myit))\n",
        "print(next(myit))\n",
        "print(next(myit))\n",
        "print(next(myit))\n",
        "print(next(myit))\n",
        "print(next(myit))"
      ]
    },
    {
      "cell_type": "markdown",
      "metadata": {
        "id": "a_PRi4_oGwVA"
      },
      "source": [
        "### Looping Through an Iterator\n",
        "We can also use a for loop to iterate through an iterable object:\n",
        "\n"
      ]
    },
    {
      "cell_type": "code",
      "execution_count": null,
      "metadata": {
        "colab": {
          "base_uri": "https://localhost:8080/"
        },
        "executionInfo": {
          "elapsed": 1017,
          "status": "ok",
          "timestamp": 1621106840259,
          "user": {
            "displayName": "muntadher alkaabi",
            "photoUrl": "https://lh3.googleusercontent.com/a-/AOh14Gj1adaCWpR-cnwQQK4viQZvo0gyRf1A0y9AkvnPMt0=s64",
            "userId": "00221067971932357642"
          },
          "user_tz": -180
        },
        "id": "eta_n_1PGsml",
        "outputId": "63a01a67-fa18-466f-bd9e-80b311cc72ba"
      },
      "outputs": [
        {
          "name": "stdout",
          "output_type": "stream",
          "text": [
            "apple\n",
            "banana\n",
            "cherry\n"
          ]
        }
      ],
      "source": [
        "mytuple = (\"apple\", \"banana\", \"cherry\")\n",
        "\n",
        "for x in mytuple:\n",
        "    print(x)\n",
        "\n",
        "# The for loop actually creates an iterator object and executes the next() method for each loop."
      ]
    },
    {
      "cell_type": "markdown",
      "metadata": {
        "id": "cAw4y1XwJnaU"
      },
      "source": [
        "### Create an Iterator\n",
        "To create an object/class as an iterator you have to implement the methods __iter__() and __next__() to your object.\n",
        "\n",
        "As you have learned in the Python Classes/Objects chapter, all classes have a function called __init__(), which allows you to do some initializing when the object is being created.\n",
        "\n",
        "The __iter__() method acts similar, you can do operations (initializing etc.), but must always return the iterator object itself.\n",
        "\n",
        "The __next__() method also allows you to do operations, and must return the next item in the sequence."
      ]
    },
    {
      "cell_type": "code",
      "execution_count": null,
      "metadata": {
        "colab": {
          "base_uri": "https://localhost:8080/"
        },
        "executionInfo": {
          "elapsed": 1189,
          "status": "ok",
          "timestamp": 1621106841249,
          "user": {
            "displayName": "muntadher alkaabi",
            "photoUrl": "https://lh3.googleusercontent.com/a-/AOh14Gj1adaCWpR-cnwQQK4viQZvo0gyRf1A0y9AkvnPMt0=s64",
            "userId": "00221067971932357642"
          },
          "user_tz": -180
        },
        "id": "CoOZviE1G1Cx",
        "outputId": "eaff5823-d1c3-4550-d552-b70cdee783bc"
      },
      "outputs": [
        {
          "name": "stdout",
          "output_type": "stream",
          "text": [
            "1\n",
            "2\n",
            "3\n",
            "4\n",
            "5\n"
          ]
        }
      ],
      "source": [
        "class MyNumbers:\n",
        "    def __iter__(self):\n",
        "        self.a = 1\n",
        "        return self\n",
        "\n",
        "    def __next__(self):\n",
        "        x = self.a\n",
        "        self.a += 1\n",
        "        return x\n",
        "\n",
        "\n",
        "myclass = MyNumbers()\n",
        "myiter = iter(myclass)\n",
        "\n",
        "print(next(myiter))\n",
        "print(next(myiter))\n",
        "print(next(myiter))\n",
        "print(next(myiter))\n",
        "print(next(myiter))"
      ]
    }
  ],
  "metadata": {
    "colab": {
      "collapsed_sections": [],
      "name": "Python II.ipynb",
      "provenance": []
    },
    "interpreter": {
      "hash": "b667cebad148e7b094a58ee81f940c685de1dd70a003a9ccdca4a5792431bee5"
    },
    "kernelspec": {
      "display_name": "Python 3.9.13 64-bit",
      "language": "python",
      "name": "python3"
    },
    "language_info": {
      "codemirror_mode": {
        "name": "ipython",
        "version": 3
      },
      "file_extension": ".py",
      "mimetype": "text/x-python",
      "name": "python",
      "nbconvert_exporter": "python",
      "pygments_lexer": "ipython3",
      "version": "3.9.13"
    }
  },
  "nbformat": 4,
  "nbformat_minor": 0
}
