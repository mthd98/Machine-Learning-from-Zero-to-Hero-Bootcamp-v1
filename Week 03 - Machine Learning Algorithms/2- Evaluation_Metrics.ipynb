{
  "cells": [
    {
      "attachments": {},
      "cell_type": "markdown",
      "metadata": {
        "id": "-mh4fYe9vvuk"
      },
      "source": [
        "# Model Evaluation\n",
        "\n",
        "{{ badge }}\n",
        "\n",
        "\n"
      ]
    },
    {
      "cell_type": "markdown",
      "metadata": {
        "id": "NrP6gOUsaVsy"
      },
      "source": [
        "## Classifier Evaluation\n",
        "\n",
        "### True Positive (TP) \n",
        "\n",
        "The predicted value matches the actual value\n",
        "The actual value was positive and the model predicted a positive value\n",
        "\n",
        "### True Negative (TN) \n",
        "\n",
        "The predicted value matches the actual value\n",
        "The actual value was negative and the model predicted a negative value\n",
        "\n",
        "### False Positive (FP) – Type 1 error\n",
        "\n",
        "The predicted value was falsely predicted\n",
        "The actual value was negative but the model predicted a positive value\n",
        "Also known as the Type 1 error\n",
        "\n",
        "### False Negative (FN) – Type 2 error\n",
        "\n",
        "The predicted value was falsely predicted\n",
        "The actual value was positive but the model predicted a negative value\n",
        "Also known as the Type 2 error\n",
        "\n",
        "### Precision\n",
        "Precision is a good measure to determine, when the costs of False Positive is high. For instance, email spam detection. In email spam detection, a false positive means that an email that is non-spam (actual negative) has been identified as spam (predicted spam). The email user might lose important emails if the precision is not high for the spam detection model.\n",
        "\n",
        "$$Precision = \\dfrac{TP}{TP + FP}$$\n",
        "\n",
        "### Recall\n",
        "Recall shall be the model metric we use to select our best model when there is a high cost associated with False Negative.\n",
        "in sick patient detection. If a sick patient (Actual Positive) goes through the test and predicted as not sick (Predicted Negative). The cost associated with False Negative will be extremely high if the sickness is contagious.\n",
        "\n",
        "$$Recall = \\dfrac{TP}{TP + FN}$$\n",
        "\n",
        "### F1 score\n",
        "F1 Score might be a better measure to use if we need to seek a balance between Precision and Recall AND there is an uneven class distribution (large number of Actual Negatives).\n",
        "\n",
        "$$F1 = 2 \\cdot \\dfrac{Precision \\cdot Recall}{Precision + Recall}$$\n",
        "\n",
        "### Confusion Matrix\n",
        "A Confusion matrix is an N x N matrix used for evaluating the performance of a classification model, where N is the number of target classes. The matrix compares the actual target values with those predicted by the machine learning model. This gives us a holistic view of how well our classification model is performing and what kinds of errors it is making."
      ]
    },
    {
      "cell_type": "code",
      "execution_count": 6,
      "metadata": {
        "id": "WVfD0etJidZq",
        "vscode": {
          "languageId": "python"
        }
      },
      "outputs": [],
      "source": [
        "from sklearn import linear_model, metrics, datasets, model_selection, pipeline, preprocessing"
      ]
    },
    {
      "cell_type": "code",
      "execution_count": 7,
      "metadata": {
        "id": "1LqNVHlaikt4",
        "vscode": {
          "languageId": "python"
        }
      },
      "outputs": [],
      "source": [
        "x, y = datasets.load_breast_cancer(return_X_y=True)\n",
        "x_train, x_test, y_train, y_test = model_selection.train_test_split(\n",
        "    x, y, test_size=0.1, random_state=42, stratify=y\n",
        ")"
      ]
    },
    {
      "cell_type": "code",
      "execution_count": 8,
      "metadata": {
        "id": "510UXIxaB5zV",
        "vscode": {
          "languageId": "python"
        }
      },
      "outputs": [],
      "source": [
        "# Create the pipeline from the scaler and the estimator \n",
        "# Scaler \n",
        "scaler = preprocessing.StandardScaler()\n",
        "# Estimator \n",
        "estimator = linear_model.LogisticRegression(solver=\"liblinear\", random_state=42)\n",
        "# Create the pipeline \n",
        "pipe = pipeline.Pipeline([('scaler',scaler),\n",
        "                          ('estimator',estimator)]\n",
        "                             \n",
        "                             )"
      ]
    },
    {
      "cell_type": "code",
      "execution_count": 9,
      "metadata": {
        "colab": {
          "base_uri": "https://localhost:8080/"
        },
        "id": "ti3WlBgD40JL",
        "outputId": "b20ca8c4-4c5a-467d-acc4-e4644e663b42",
        "vscode": {
          "languageId": "python"
        }
      },
      "outputs": [
        {
          "data": {
            "text/plain": [
              "Pipeline(steps=[('scaler', StandardScaler()),\n",
              "                ('estimator',\n",
              "                 LogisticRegression(random_state=42, solver='liblinear'))])"
            ]
          },
          "execution_count": 9,
          "metadata": {},
          "output_type": "execute_result"
        }
      ],
      "source": [
        "# fit the pipeline of the x_train and y_train\n",
        "pipe.fit(x_train,y_train)"
      ]
    },
    {
      "cell_type": "code",
      "execution_count": 10,
      "metadata": {
        "colab": {
          "base_uri": "https://localhost:8080/",
          "height": 511
        },
        "id": "nevs86s-i-t0",
        "outputId": "a13d6cb1-56b2-4eec-e9d3-7fe3df8ec492",
        "vscode": {
          "languageId": "python"
        }
      },
      "outputs": [
        {
          "name": "stdout",
          "output_type": "stream",
          "text": [
            "Accuracy Score: 0.9649122807017544\n",
            "True Positive: 35\n",
            "True Negative: 20\n",
            "False Positive: 1\n",
            "False Negative: 1\n",
            "Precision Score: 0.9722222222222222\n",
            "Precision Score Manual: 0.9722222222222222\n",
            "Recall Score: 0.9722222222222222\n",
            "Recall Score Manual: 0.9722222222222222\n"
          ]
        },
        {
          "name": "stderr",
          "output_type": "stream",
          "text": [
            "/usr/local/lib/python3.7/dist-packages/sklearn/utils/deprecation.py:87: FutureWarning: Function plot_confusion_matrix is deprecated; Function `plot_confusion_matrix` is deprecated in 1.0 and will be removed in 1.2. Use one of the class methods: ConfusionMatrixDisplay.from_predictions or ConfusionMatrixDisplay.from_estimator.\n",
            "  warnings.warn(msg, category=FutureWarning)\n"
          ]
        },
        {
          "data": {
            "text/plain": [
              "<sklearn.metrics._plot.confusion_matrix.ConfusionMatrixDisplay at 0x7f58bc6ddc50>"
            ]
          },
          "execution_count": 10,
          "metadata": {},
          "output_type": "execute_result"
        },
        {
          "data": {
            "image/png": "[encoded data removed]",
            "text/plain": [
              "<Figure size 432x288 with 2 Axes>"
            ]
          },
          "metadata": {
            "needs_background": "light"
          },
          "output_type": "display_data"
        }
      ],
      "source": [
        "y_pred = pipe.predict(x_test)\n",
        "print(\"Accuracy Score:\", metrics.accuracy_score(y_test, y_pred))\n",
        "\n",
        "cf_matrix = metrics.confusion_matrix(y_test, y_pred)\n",
        "tp, tn, fp, fn = cf_matrix[1, 1], cf_matrix[0, 0], cf_matrix[0, 1], cf_matrix[1, 0]\n",
        "print(\"True Positive:\", tp)\n",
        "print(\"True Negative:\", tn)\n",
        "print(\"False Positive:\", fp)\n",
        "print(\"False Negative:\", fn)\n",
        "\n",
        "precision1 = metrics.precision_score(y_test, y_pred)\n",
        "precision2 = tp / (tp + fp)\n",
        "\n",
        "print(\"Precision Score:\", precision1)\n",
        "print(\"Precision Score Manual:\", precision2)\n",
        "\n",
        "recall1 = metrics.recall_score(y_test, y_pred)\n",
        "recall2 = tp / (tp + fn)\n",
        "print(\"Recall Score:\", recall1)\n",
        "print(\"Recall Score Manual:\", recall2)\n",
        "\n",
        "\n",
        "metrics.plot_confusion_matrix(pipe, x_test, y_test)"
      ]
    },
    {
      "cell_type": "markdown",
      "metadata": {
        "id": "49Zi7e-89fwb"
      },
      "source": [
        "## Regression Metrics\n",
        "\n",
        "### Mean Squared Error\n",
        "\n",
        "MSE is the average of the squared error that is used as the loss function for least squares regression: It is the sum, over all the data points, of the square of the difference between the predicted and actual target variables, divided by the number of data points.\n",
        "\n",
        "$$mse = 1/m \\sum_{i=0}^{m} (\\hat{y_i} - y_i)^2$$\n",
        "\n",
        "Where m is the total number of examples being tested, and $\\hat{y}$ is the predicted label while $y$ is the actual label\n",
        "\n",
        "### Mean Absolute Error\n",
        "\n",
        "MAE is the average of the absolue errors that is used as the loss function for  regression: It is the sum, over all the data points, of the absolute of the difference between the predicted and actual target variables, divided by the number of data points.\n",
        "\n",
        "$$mae = 1/m \\sum_{i=0}^{m} |\\hat{y_i} - y_i|$$\n",
        "\n",
        "Where m is the total number of examples being tested, and $\\hat{y}$ is the predicted label while $y$ is the actual label\n",
        "\n",
        "\n",
        "### $R^2$ score\n",
        "the $R^2$ score varies between 0 and 100%. It is closely related to the MSE .\n",
        "\n",
        "if it is 100%, the two variables are perfectly correlated, i.e., with no variance at all. A low value would show a low level of correlation, meaning a regression model that is not valid, but not in all cases.\n"
      ]
    },
    {
      "cell_type": "code",
      "execution_count": 12,
      "metadata": {
        "colab": {
          "base_uri": "https://localhost:8080/"
        },
        "id": "92KHMKxH6n72",
        "outputId": "dc6c4066-f8b2-4dd0-bfba-659d4590ecd9",
        "vscode": {
          "languageId": "python"
        }
      },
      "outputs": [
        {
          "name": "stderr",
          "output_type": "stream",
          "text": [
            "/usr/local/lib/python3.7/dist-packages/sklearn/utils/deprecation.py:87: FutureWarning: Function load_boston is deprecated; `load_boston` is deprecated in 1.0 and will be removed in 1.2.\n",
            "\n",
            "    The Boston housing prices dataset has an ethical problem. You can refer to\n",
            "    the documentation of this function for further details.\n",
            "\n",
            "    The scikit-learn maintainers therefore strongly discourage the use of this\n",
            "    dataset unless the purpose of the code is to study and educate about\n",
            "    ethical issues in data science and machine learning.\n",
            "\n",
            "    In this special case, you can fetch the dataset from the original\n",
            "    source::\n",
            "\n",
            "        import pandas as pd\n",
            "        import numpy as np\n",
            "\n",
            "\n",
            "        data_url = \"http://lib.stat.cmu.edu/datasets/boston\"\n",
            "        raw_df = pd.read_csv(data_url, sep=\"\\s+\", skiprows=22, header=None)\n",
            "        data = np.hstack([raw_df.values[::2, :], raw_df.values[1::2, :2]])\n",
            "        target = raw_df.values[1::2, 2]\n",
            "\n",
            "    Alternative datasets include the California housing dataset (i.e.\n",
            "    :func:`~sklearn.datasets.fetch_california_housing`) and the Ames housing\n",
            "    dataset. You can load the datasets as follows::\n",
            "\n",
            "        from sklearn.datasets import fetch_california_housing\n",
            "        housing = fetch_california_housing()\n",
            "\n",
            "    for the California housing dataset and::\n",
            "\n",
            "        from sklearn.datasets import fetch_openml\n",
            "        housing = fetch_openml(name=\"house_prices\", as_frame=True)\n",
            "\n",
            "    for the Ames housing dataset.\n",
            "    \n",
            "  warnings.warn(msg, category=FutureWarning)\n"
          ]
        }
      ],
      "source": [
        "x, y = datasets.load_boston(return_X_y=True)\n",
        "x_train, x_test, y_train, y_test = model_selection.train_test_split(\n",
        "    x, y, test_size=0.1, random_state=42\n",
        ")"
      ]
    },
    {
      "cell_type": "code",
      "execution_count": 16,
      "metadata": {
        "id": "BdT4cQBsDd-x",
        "vscode": {
          "languageId": "python"
        }
      },
      "outputs": [],
      "source": [
        "# Create the pipeline from the scaler and the estimator \n",
        "# Scaler \n",
        "scaler = preprocessing.MinMaxScaler()\n",
        "# Estimator \n",
        "estimator = linear_model.LinearRegression()\n",
        "# Create the pipeline \n",
        "pipe = pipeline.Pipeline([('scaler',scaler),\n",
        "                          ('estimator',estimator)]\n",
        "                             \n",
        "                             )"
      ]
    },
    {
      "cell_type": "code",
      "execution_count": 17,
      "metadata": {
        "colab": {
          "base_uri": "https://localhost:8080/"
        },
        "id": "GOOfCGA3nH_e",
        "outputId": "d15d42f7-9ad1-4d83-85bf-7946b8dd580f",
        "vscode": {
          "languageId": "python"
        }
      },
      "outputs": [
        {
          "data": {
            "text/plain": [
              "Pipeline(steps=[('scaler', MinMaxScaler()), ('estimator', LinearRegression())])"
            ]
          },
          "execution_count": 17,
          "metadata": {},
          "output_type": "execute_result"
        }
      ],
      "source": [
        "# fit the pipeline onf the x_train and y_train\n",
        "pipe.fit(x_train, y_train)"
      ]
    },
    {
      "cell_type": "code",
      "execution_count": 18,
      "metadata": {
        "colab": {
          "base_uri": "https://localhost:8080/"
        },
        "id": "PxpRftWOnMoV",
        "outputId": "7e71e2d9-ca8f-42d1-adfd-fa49481505fc",
        "vscode": {
          "languageId": "python"
        }
      },
      "outputs": [
        {
          "name": "stdout",
          "output_type": "stream",
          "text": [
            "Mean Squared Error: 14.995852876582648\n",
            "Mean Absolute Error: 2.8342104578589598\n",
            "R2 Score: 0.7598135533532474\n"
          ]
        }
      ],
      "source": [
        "y_pred = pipe.predict(x_test)\n",
        "print(\"Mean Squared Error:\", metrics.mean_squared_error(y_test, y_pred))\n",
        "print(\"Mean Absolute Error:\", metrics.mean_absolute_error(y_test, y_pred))\n",
        "print(\"R2 Score:\", metrics.r2_score(y_test, y_pred))"
      ]
    },
    {
      "cell_type": "code",
      "execution_count": null,
      "metadata": {
        "id": "wM1uMdwJDwLF",
        "vscode": {
          "languageId": "python"
        }
      },
      "outputs": [],
      "source": []
    }
  ],
  "metadata": {
    "colab": {
      "name": "2- Evaluation_Metrics.ipynb",
      "provenance": []
    },
    "kernelspec": {
      "display_name": "Python 3",
      "name": "python3"
    }
  },
  "nbformat": 4,
  "nbformat_minor": 0
}
