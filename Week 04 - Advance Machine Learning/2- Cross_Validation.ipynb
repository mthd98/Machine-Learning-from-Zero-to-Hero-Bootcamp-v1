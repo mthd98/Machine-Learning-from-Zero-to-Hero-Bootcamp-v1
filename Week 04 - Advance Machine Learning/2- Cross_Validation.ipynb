{
  "cells": [
    {
      "attachments": {},
      "cell_type": "markdown",
      "metadata": {
        "id": "1TKyqk7qoR8Z"
      },
      "source": [
        "# Cross Validation\n",
        "\n",
        "<!--<badge>--><a href=\"https://colab.research.google.com/github/mthd98/Machine-Learning-from-Zero-to-Hero-Bootcamp-v1/blob/main/Week 04 - Advance Machine Learning/2- Cross_Validation.ipynb\" target=\"_parent\"><img src=\"https://colab.research.google.com/assets/colab-badge.svg\" alt=\"Open In Colab\"/></a><!--</badge>-->\n",
        "\n",
        "\n",
        "\n",
        "Splitting our datasetes into train/test sets allows us to test our model on unseen examples. However, it might be the case that we got a lucky (or unlucky) split that doesn't represent the model's actual performance. To solve this problem, we'll use a technique called cross-validation, where we use the entire dataset for training and for testing and evaluate the model accordingly.\n",
        "\n",
        "There are several ways of performing cross-validation, and there are several corresponding iterators defined in scikit-learn. Each defines a `split` method, which will generate arrays of indices from the data set, each array indicating the instances to go into the training or testing set. \n"
      ]
    },
    {
      "cell_type": "code",
      "execution_count": null,
      "metadata": {
        "id": "U-L8w5RMoR8c",
        "scrolled": true
      },
      "outputs": [],
      "source": [
        "import pandas as pd\n",
        "import numpy as np\n",
        "from sklearn import datasets, svm, metrics, model_selection"
      ]
    },
    {
      "cell_type": "code",
      "execution_count": null,
      "metadata": {
        "id": "3H2-Cv3uqIG8"
      },
      "outputs": [],
      "source": [
        "x, y = datasets.load_breast_cancer(return_X_y=True)"
      ]
    },
    {
      "cell_type": "code",
      "execution_count": null,
      "metadata": {
        "id": "jAHUC3xpqkJX"
      },
      "outputs": [],
      "source": [
        "# Define a function to split our dataset into train/test splits using indices\n",
        "\n",
        "\n",
        "def kfold_train_test_split(x, y, train_indices, test_indices):\n",
        "    return x[train_indices], x[test_indices], y[train_indices], y[test_indices]"
      ]
    },
    {
      "cell_type": "markdown",
      "metadata": {
        "id": "TNI8exLPp61j"
      },
      "source": [
        "### `KFold`\n",
        "\n",
        "`KFold` is arguably the simplest. It partitions the data into $k$ folds. It does not attempt to keep the proportions of classes. \n"
      ]
    },
    {
      "cell_type": "code",
      "execution_count": null,
      "metadata": {
        "id": "QqNihPfzoR8f"
      },
      "outputs": [],
      "source": [
        "k_fold = model_selection.KFold(\n",
        "    n_splits=10\n",
        ")  # splits the data into 10 splits, using 9 for training and 1 for testing in each iteration\n",
        "\n",
        "# Empty array to store the scores\n",
        "scores = []\n",
        "\n",
        "for train_indices, test_indices in k_fold.split(x):\n",
        "    # Split data using our predefined function\n",
        "    x_train, x_test, y_train, y_test = kfold_train_test_split(\n",
        "        x, y, train_indices, test_indices\n",
        "    )\n",
        "\n",
        "    # Train model\n",
        "    svc = svm.SVC()\n",
        "    svc.fit(x_train, y_train)\n",
        "\n",
        "    # Predict using test set\n",
        "    y_pred = svc.predict(x_test)\n",
        "\n",
        "    # Calculate scores\n",
        "    accuracy = metrics.accuracy_score(y_test, y_pred)\n",
        "    precision = metrics.precision_score(y_test, y_pred)\n",
        "    recall = metrics.recall_score(y_test, y_pred)\n",
        "\n",
        "    # Create scores dictionary\n",
        "    scores_dict = {\"accuracy\": accuracy, \"precision\": precision, \"recall\": recall}\n",
        "\n",
        "    # Append to scores array\n",
        "    scores.append(scores_dict)"
      ]
    },
    {
      "cell_type": "code",
      "execution_count": null,
      "metadata": {
        "colab": {
          "base_uri": "https://localhost:8080/",
          "height": 357
        },
        "executionInfo": {
          "elapsed": 793,
          "status": "ok",
          "timestamp": 1631624726269,
          "user": {
            "displayName": "muntadher alkaabi",
            "photoUrl": "https://lh3.googleusercontent.com/a-/AOh14Gj1adaCWpR-cnwQQK4viQZvo0gyRf1A0y9AkvnPMt0=s64",
            "userId": "00221067971932357642"
          },
          "user_tz": -180
        },
        "id": "ILHzsRYEr-N3",
        "outputId": "fa0cb867-e76c-48d2-cba1-0336886ab8d0"
      },
      "outputs": [
        {
          "data": {
            "text/html": [
              "<div>\n",
              "<style scoped>\n",
              "    .dataframe tbody tr th:only-of-type {\n",
              "        vertical-align: middle;\n",
              "    }\n",
              "\n",
              "    .dataframe tbody tr th {\n",
              "        vertical-align: top;\n",
              "    }\n",
              "\n",
              "    .dataframe thead th {\n",
              "        text-align: right;\n",
              "    }\n",
              "</style>\n",
              "<table border=\"1\" class=\"dataframe\">\n",
              "  <thead>\n",
              "    <tr style=\"text-align: right;\">\n",
              "      <th></th>\n",
              "      <th>accuracy</th>\n",
              "      <th>precision</th>\n",
              "      <th>recall</th>\n",
              "    </tr>\n",
              "  </thead>\n",
              "  <tbody>\n",
              "    <tr>\n",
              "      <th>0</th>\n",
              "      <td>0.701754</td>\n",
              "      <td>0.392857</td>\n",
              "      <td>1.000000</td>\n",
              "    </tr>\n",
              "    <tr>\n",
              "      <th>1</th>\n",
              "      <td>0.912281</td>\n",
              "      <td>0.875000</td>\n",
              "      <td>1.000000</td>\n",
              "    </tr>\n",
              "    <tr>\n",
              "      <th>2</th>\n",
              "      <td>0.912281</td>\n",
              "      <td>0.918919</td>\n",
              "      <td>0.944444</td>\n",
              "    </tr>\n",
              "    <tr>\n",
              "      <th>3</th>\n",
              "      <td>0.894737</td>\n",
              "      <td>0.828571</td>\n",
              "      <td>1.000000</td>\n",
              "    </tr>\n",
              "    <tr>\n",
              "      <th>4</th>\n",
              "      <td>0.964912</td>\n",
              "      <td>0.935484</td>\n",
              "      <td>1.000000</td>\n",
              "    </tr>\n",
              "    <tr>\n",
              "      <th>5</th>\n",
              "      <td>0.982456</td>\n",
              "      <td>0.978261</td>\n",
              "      <td>1.000000</td>\n",
              "    </tr>\n",
              "    <tr>\n",
              "      <th>6</th>\n",
              "      <td>0.947368</td>\n",
              "      <td>0.952381</td>\n",
              "      <td>0.975610</td>\n",
              "    </tr>\n",
              "    <tr>\n",
              "      <th>7</th>\n",
              "      <td>0.947368</td>\n",
              "      <td>0.955556</td>\n",
              "      <td>0.977273</td>\n",
              "    </tr>\n",
              "    <tr>\n",
              "      <th>8</th>\n",
              "      <td>0.912281</td>\n",
              "      <td>0.953488</td>\n",
              "      <td>0.931818</td>\n",
              "    </tr>\n",
              "    <tr>\n",
              "      <th>9</th>\n",
              "      <td>0.982143</td>\n",
              "      <td>0.977273</td>\n",
              "      <td>1.000000</td>\n",
              "    </tr>\n",
              "  </tbody>\n",
              "</table>\n",
              "</div>"
            ],
            "text/plain": [
              "   accuracy  precision    recall\n",
              "0  0.701754   0.392857  1.000000\n",
              "1  0.912281   0.875000  1.000000\n",
              "2  0.912281   0.918919  0.944444\n",
              "3  0.894737   0.828571  1.000000\n",
              "4  0.964912   0.935484  1.000000\n",
              "5  0.982456   0.978261  1.000000\n",
              "6  0.947368   0.952381  0.975610\n",
              "7  0.947368   0.955556  0.977273\n",
              "8  0.912281   0.953488  0.931818\n",
              "9  0.982143   0.977273  1.000000"
            ]
          },
          "execution_count": 9,
          "metadata": {},
          "output_type": "execute_result"
        }
      ],
      "source": [
        "# Conver scores array to dataframe\n",
        "scores_df = pd.DataFrame(scores)\n",
        "scores_df"
      ]
    },
    {
      "cell_type": "code",
      "execution_count": null,
      "metadata": {
        "colab": {
          "base_uri": "https://localhost:8080/"
        },
        "executionInfo": {
          "elapsed": 412,
          "status": "ok",
          "timestamp": 1631624737680,
          "user": {
            "displayName": "muntadher alkaabi",
            "photoUrl": "https://lh3.googleusercontent.com/a-/AOh14Gj1adaCWpR-cnwQQK4viQZvo0gyRf1A0y9AkvnPMt0=s64",
            "userId": "00221067971932357642"
          },
          "user_tz": -180
        },
        "id": "YSI7d7KhsEM5",
        "outputId": "2552c148-c99f-4e06-a569-1c6e51b1fb9f"
      },
      "outputs": [
        {
          "data": {
            "text/plain": [
              "accuracy     0.915758\n",
              "precision    0.876779\n",
              "recall       0.982915\n",
              "dtype: float64"
            ]
          },
          "execution_count": 11,
          "metadata": {},
          "output_type": "execute_result"
        }
      ],
      "source": [
        "# Calculate the mean of the scores\n",
        "scores_df.mean()"
      ]
    },
    {
      "cell_type": "markdown",
      "metadata": {
        "id": "cPGvwCGMoR8f"
      },
      "source": [
        "### `StratifiedKFold`\n",
        "\n",
        "`StratifiedKFold` ensures that the proportion of classes are preserved in each training/testing set. "
      ]
    },
    {
      "cell_type": "code",
      "execution_count": null,
      "metadata": {
        "id": "BzN78eZvsTiG"
      },
      "outputs": [],
      "source": [
        "stratified_k_fold = model_selection.StratifiedKFold(\n",
        "    n_splits=10\n",
        ")  # splits the data into 10 splits, using 9 for training and 1 for testing in each iteration\n",
        "\n",
        "# Empty array to store the scores\n",
        "scores = []\n",
        "\n",
        "for train_indices, test_indices in stratified_k_fold.split(\n",
        "    x, y\n",
        "):  # y is needed here for stratification, similar to stratify = y.\n",
        "    # Split data using our predefined function\n",
        "    x_train, x_test, y_train, y_test = kfold_train_test_split(\n",
        "        x, y, train_indices, test_indices\n",
        "    )\n",
        "\n",
        "    # Train model\n",
        "    svc = svm.SVC()\n",
        "    svc.fit(x_train, y_train)\n",
        "\n",
        "    # Predict using test set\n",
        "    y_pred = svc.predict(x_test)\n",
        "\n",
        "    # Calculate scores\n",
        "    accuracy = metrics.accuracy_score(y_test, y_pred)\n",
        "    precision = metrics.precision_score(y_test, y_pred)\n",
        "    recall = metrics.recall_score(y_test, y_pred)\n",
        "\n",
        "    # Create scores dictionary\n",
        "    scores_dict = {\"accuracy\": accuracy, \"precision\": precision, \"recall\": recall}\n",
        "\n",
        "    # Append to scores array\n",
        "    scores.append(scores_dict)"
      ]
    },
    {
      "cell_type": "code",
      "execution_count": null,
      "metadata": {
        "colab": {
          "base_uri": "https://localhost:8080/",
          "height": 357
        },
        "executionInfo": {
          "elapsed": 5,
          "status": "ok",
          "timestamp": 1631624768035,
          "user": {
            "displayName": "muntadher alkaabi",
            "photoUrl": "https://lh3.googleusercontent.com/a-/AOh14Gj1adaCWpR-cnwQQK4viQZvo0gyRf1A0y9AkvnPMt0=s64",
            "userId": "00221067971932357642"
          },
          "user_tz": -180
        },
        "id": "EWRz5B5wsTiI",
        "outputId": "9aa1b4e9-8194-41d7-8996-3c713d60827f"
      },
      "outputs": [
        {
          "data": {
            "text/html": [
              "<div>\n",
              "<style scoped>\n",
              "    .dataframe tbody tr th:only-of-type {\n",
              "        vertical-align: middle;\n",
              "    }\n",
              "\n",
              "    .dataframe tbody tr th {\n",
              "        vertical-align: top;\n",
              "    }\n",
              "\n",
              "    .dataframe thead th {\n",
              "        text-align: right;\n",
              "    }\n",
              "</style>\n",
              "<table border=\"1\" class=\"dataframe\">\n",
              "  <thead>\n",
              "    <tr style=\"text-align: right;\">\n",
              "      <th></th>\n",
              "      <th>accuracy</th>\n",
              "      <th>precision</th>\n",
              "      <th>recall</th>\n",
              "    </tr>\n",
              "  </thead>\n",
              "  <tbody>\n",
              "    <tr>\n",
              "      <th>0</th>\n",
              "      <td>0.894737</td>\n",
              "      <td>0.853659</td>\n",
              "      <td>1.000000</td>\n",
              "    </tr>\n",
              "    <tr>\n",
              "      <th>1</th>\n",
              "      <td>0.842105</td>\n",
              "      <td>0.809524</td>\n",
              "      <td>0.971429</td>\n",
              "    </tr>\n",
              "    <tr>\n",
              "      <th>2</th>\n",
              "      <td>0.894737</td>\n",
              "      <td>0.894737</td>\n",
              "      <td>0.944444</td>\n",
              "    </tr>\n",
              "    <tr>\n",
              "      <th>3</th>\n",
              "      <td>0.929825</td>\n",
              "      <td>0.900000</td>\n",
              "      <td>1.000000</td>\n",
              "    </tr>\n",
              "    <tr>\n",
              "      <th>4</th>\n",
              "      <td>0.929825</td>\n",
              "      <td>0.900000</td>\n",
              "      <td>1.000000</td>\n",
              "    </tr>\n",
              "    <tr>\n",
              "      <th>5</th>\n",
              "      <td>0.929825</td>\n",
              "      <td>0.921053</td>\n",
              "      <td>0.972222</td>\n",
              "    </tr>\n",
              "    <tr>\n",
              "      <th>6</th>\n",
              "      <td>0.947368</td>\n",
              "      <td>0.945946</td>\n",
              "      <td>0.972222</td>\n",
              "    </tr>\n",
              "    <tr>\n",
              "      <th>7</th>\n",
              "      <td>0.929825</td>\n",
              "      <td>0.921053</td>\n",
              "      <td>0.972222</td>\n",
              "    </tr>\n",
              "    <tr>\n",
              "      <th>8</th>\n",
              "      <td>0.929825</td>\n",
              "      <td>0.944444</td>\n",
              "      <td>0.944444</td>\n",
              "    </tr>\n",
              "    <tr>\n",
              "      <th>9</th>\n",
              "      <td>0.910714</td>\n",
              "      <td>0.875000</td>\n",
              "      <td>1.000000</td>\n",
              "    </tr>\n",
              "  </tbody>\n",
              "</table>\n",
              "</div>"
            ],
            "text/plain": [
              "   accuracy  precision    recall\n",
              "0  0.894737   0.853659  1.000000\n",
              "1  0.842105   0.809524  0.971429\n",
              "2  0.894737   0.894737  0.944444\n",
              "3  0.929825   0.900000  1.000000\n",
              "4  0.929825   0.900000  1.000000\n",
              "5  0.929825   0.921053  0.972222\n",
              "6  0.947368   0.945946  0.972222\n",
              "7  0.929825   0.921053  0.972222\n",
              "8  0.929825   0.944444  0.944444\n",
              "9  0.910714   0.875000  1.000000"
            ]
          },
          "execution_count": 13,
          "metadata": {},
          "output_type": "execute_result"
        }
      ],
      "source": [
        "# Conver scores array to dataframe\n",
        "scores_df = pd.DataFrame(scores)\n",
        "scores_df"
      ]
    },
    {
      "cell_type": "code",
      "execution_count": null,
      "metadata": {
        "colab": {
          "base_uri": "https://localhost:8080/"
        },
        "executionInfo": {
          "elapsed": 336,
          "status": "ok",
          "timestamp": 1631624786970,
          "user": {
            "displayName": "muntadher alkaabi",
            "photoUrl": "https://lh3.googleusercontent.com/a-/AOh14Gj1adaCWpR-cnwQQK4viQZvo0gyRf1A0y9AkvnPMt0=s64",
            "userId": "00221067971932357642"
          },
          "user_tz": -180
        },
        "id": "7kdBMEeMsTiK",
        "outputId": "f6feecb3-e4b0-4254-dbeb-4d85d923b060"
      },
      "outputs": [
        {
          "data": {
            "text/plain": [
              "accuracy     0.913878\n",
              "precision    0.896541\n",
              "recall       0.977698\n",
              "dtype: float64"
            ]
          },
          "execution_count": 14,
          "metadata": {},
          "output_type": "execute_result"
        }
      ],
      "source": [
        "# Calculate the mean of the scores\n",
        "scores_df.mean()"
      ]
    },
    {
      "cell_type": "markdown",
      "metadata": {
        "id": "QIUkAfuioR8g"
      },
      "source": [
        "### `ShuffleSplit`\n",
        "\n",
        "`ShuffleSplit` will generate indepedent pairs of randomly shuffled training and testing sets.  "
      ]
    },
    {
      "cell_type": "code",
      "execution_count": null,
      "metadata": {
        "id": "eKEl76iBsoBW"
      },
      "outputs": [],
      "source": [
        "shuffle_k_fold = model_selection.ShuffleSplit(\n",
        "    n_splits=10, random_state=42\n",
        ")  # splits the data into 10 splits, using 9 for training and 1 for testing in each iteration\n",
        "\n",
        "# Empty array to store the scores\n",
        "scores = []\n",
        "\n",
        "for train_indices, test_indices in shuffle_k_fold.split(x):\n",
        "    # Split data using our predefined function\n",
        "    x_train, x_test, y_train, y_test = kfold_train_test_split(\n",
        "        x, y, train_indices, test_indices\n",
        "    )\n",
        "\n",
        "    # Train model\n",
        "    svc = svm.SVC()\n",
        "    svc.fit(x_train, y_train)\n",
        "\n",
        "    # Predict using test set\n",
        "    y_pred = svc.predict(x_test)\n",
        "\n",
        "    # Calculate scores\n",
        "    accuracy = metrics.accuracy_score(y_test, y_pred)\n",
        "    precision = metrics.precision_score(y_test, y_pred)\n",
        "    recall = metrics.recall_score(y_test, y_pred)\n",
        "\n",
        "    # Create scores dictionary\n",
        "    scores_dict = {\"accuracy\": accuracy, \"precision\": precision, \"recall\": recall}\n",
        "\n",
        "    # Append to scores array\n",
        "    scores.append(scores_dict)"
      ]
    },
    {
      "cell_type": "code",
      "execution_count": null,
      "metadata": {
        "colab": {
          "base_uri": "https://localhost:8080/",
          "height": 357
        },
        "executionInfo": {
          "elapsed": 3,
          "status": "ok",
          "timestamp": 1631624798202,
          "user": {
            "displayName": "muntadher alkaabi",
            "photoUrl": "https://lh3.googleusercontent.com/a-/AOh14Gj1adaCWpR-cnwQQK4viQZvo0gyRf1A0y9AkvnPMt0=s64",
            "userId": "00221067971932357642"
          },
          "user_tz": -180
        },
        "id": "0RI8O92esoBX",
        "outputId": "1b35d3d8-bfe7-43f1-80f8-d8acfa8567a7"
      },
      "outputs": [
        {
          "data": {
            "text/html": [
              "<div>\n",
              "<style scoped>\n",
              "    .dataframe tbody tr th:only-of-type {\n",
              "        vertical-align: middle;\n",
              "    }\n",
              "\n",
              "    .dataframe tbody tr th {\n",
              "        vertical-align: top;\n",
              "    }\n",
              "\n",
              "    .dataframe thead th {\n",
              "        text-align: right;\n",
              "    }\n",
              "</style>\n",
              "<table border=\"1\" class=\"dataframe\">\n",
              "  <thead>\n",
              "    <tr style=\"text-align: right;\">\n",
              "      <th></th>\n",
              "      <th>accuracy</th>\n",
              "      <th>precision</th>\n",
              "      <th>recall</th>\n",
              "    </tr>\n",
              "  </thead>\n",
              "  <tbody>\n",
              "    <tr>\n",
              "      <th>0</th>\n",
              "      <td>0.982456</td>\n",
              "      <td>0.975610</td>\n",
              "      <td>1.000000</td>\n",
              "    </tr>\n",
              "    <tr>\n",
              "      <th>1</th>\n",
              "      <td>0.894737</td>\n",
              "      <td>0.857143</td>\n",
              "      <td>1.000000</td>\n",
              "    </tr>\n",
              "    <tr>\n",
              "      <th>2</th>\n",
              "      <td>0.912281</td>\n",
              "      <td>0.868421</td>\n",
              "      <td>1.000000</td>\n",
              "    </tr>\n",
              "    <tr>\n",
              "      <th>3</th>\n",
              "      <td>0.842105</td>\n",
              "      <td>0.857143</td>\n",
              "      <td>0.923077</td>\n",
              "    </tr>\n",
              "    <tr>\n",
              "      <th>4</th>\n",
              "      <td>0.894737</td>\n",
              "      <td>0.860465</td>\n",
              "      <td>1.000000</td>\n",
              "    </tr>\n",
              "    <tr>\n",
              "      <th>5</th>\n",
              "      <td>0.947368</td>\n",
              "      <td>0.918919</td>\n",
              "      <td>1.000000</td>\n",
              "    </tr>\n",
              "    <tr>\n",
              "      <th>6</th>\n",
              "      <td>0.912281</td>\n",
              "      <td>0.894737</td>\n",
              "      <td>0.971429</td>\n",
              "    </tr>\n",
              "    <tr>\n",
              "      <th>7</th>\n",
              "      <td>0.947368</td>\n",
              "      <td>0.928571</td>\n",
              "      <td>1.000000</td>\n",
              "    </tr>\n",
              "    <tr>\n",
              "      <th>8</th>\n",
              "      <td>0.947368</td>\n",
              "      <td>0.944444</td>\n",
              "      <td>0.971429</td>\n",
              "    </tr>\n",
              "    <tr>\n",
              "      <th>9</th>\n",
              "      <td>0.894737</td>\n",
              "      <td>0.853659</td>\n",
              "      <td>1.000000</td>\n",
              "    </tr>\n",
              "  </tbody>\n",
              "</table>\n",
              "</div>"
            ],
            "text/plain": [
              "   accuracy  precision    recall\n",
              "0  0.982456   0.975610  1.000000\n",
              "1  0.894737   0.857143  1.000000\n",
              "2  0.912281   0.868421  1.000000\n",
              "3  0.842105   0.857143  0.923077\n",
              "4  0.894737   0.860465  1.000000\n",
              "5  0.947368   0.918919  1.000000\n",
              "6  0.912281   0.894737  0.971429\n",
              "7  0.947368   0.928571  1.000000\n",
              "8  0.947368   0.944444  0.971429\n",
              "9  0.894737   0.853659  1.000000"
            ]
          },
          "execution_count": 16,
          "metadata": {},
          "output_type": "execute_result"
        }
      ],
      "source": [
        "# Conver scores array to dataframe\n",
        "scores_df = pd.DataFrame(scores)\n",
        "scores_df"
      ]
    },
    {
      "cell_type": "code",
      "execution_count": null,
      "metadata": {
        "colab": {
          "base_uri": "https://localhost:8080/"
        },
        "executionInfo": {
          "elapsed": 4,
          "status": "ok",
          "timestamp": 1631624799400,
          "user": {
            "displayName": "muntadher alkaabi",
            "photoUrl": "https://lh3.googleusercontent.com/a-/AOh14Gj1adaCWpR-cnwQQK4viQZvo0gyRf1A0y9AkvnPMt0=s64",
            "userId": "00221067971932357642"
          },
          "user_tz": -180
        },
        "id": "SsLzjCddsoBY",
        "outputId": "ed481898-2aa6-4db3-b40c-e77969b4d6c4"
      },
      "outputs": [
        {
          "data": {
            "text/plain": [
              "accuracy     0.917544\n",
              "precision    0.895911\n",
              "recall       0.986593\n",
              "dtype: float64"
            ]
          },
          "execution_count": 17,
          "metadata": {},
          "output_type": "execute_result"
        }
      ],
      "source": [
        "# Calculate the mean of the scores\n",
        "scores_df.mean()"
      ]
    },
    {
      "cell_type": "markdown",
      "metadata": {
        "id": "B8XrAKF-oR8h"
      },
      "source": [
        "### `StratifiedShuffleSplit`\n",
        "\n",
        "`StratifiedShuffleSplit` will generate indepedent pairs of shuffled training and testing sets. Here, however, it will ensure the training and test sets are stratified.   "
      ]
    },
    {
      "cell_type": "code",
      "execution_count": null,
      "metadata": {
        "id": "piVPY6RXs521"
      },
      "outputs": [],
      "source": [
        "stratified_shuffled_k_fold = model_selection.StratifiedShuffleSplit(\n",
        "    n_splits=10\n",
        ")  # splits the data into 10 splits, using 9 for training and 1 for testing in each iteration\n",
        "\n",
        "# Empty array to store the scores\n",
        "scores = []\n",
        "\n",
        "for train_indices, test_indices in stratified_shuffled_k_fold.split(\n",
        "    x, y\n",
        "):  # y is needed here for stratification, similar to stratify = y.\n",
        "    # Split data using our predefined function\n",
        "    x_train, x_test, y_train, y_test = kfold_train_test_split(\n",
        "        x, y, train_indices, test_indices\n",
        "    )\n",
        "\n",
        "    # Train model\n",
        "    svc = svm.SVC()\n",
        "    svc.fit(x_train, y_train)\n",
        "\n",
        "    # Predict using test set\n",
        "    y_pred = svc.predict(x_test)\n",
        "\n",
        "    # Calculate scores\n",
        "    accuracy = metrics.accuracy_score(y_test, y_pred)\n",
        "    precision = metrics.precision_score(y_test, y_pred)\n",
        "    recall = metrics.recall_score(y_test, y_pred)\n",
        "\n",
        "    # Create scores dictionary\n",
        "    scores_dict = {\"accuracy\": accuracy, \"precision\": precision, \"recall\": recall}\n",
        "\n",
        "    # Append to scores array\n",
        "    scores.append(scores_dict)"
      ]
    },
    {
      "cell_type": "code",
      "execution_count": null,
      "metadata": {
        "colab": {
          "base_uri": "https://localhost:8080/",
          "height": 357
        },
        "executionInfo": {
          "elapsed": 297,
          "status": "ok",
          "timestamp": 1631624817060,
          "user": {
            "displayName": "muntadher alkaabi",
            "photoUrl": "https://lh3.googleusercontent.com/a-/AOh14Gj1adaCWpR-cnwQQK4viQZvo0gyRf1A0y9AkvnPMt0=s64",
            "userId": "00221067971932357642"
          },
          "user_tz": -180
        },
        "id": "EWCm4_pSs526",
        "outputId": "abf05b16-a5ba-4532-aaa2-c0f48df5c573"
      },
      "outputs": [
        {
          "data": {
            "text/html": [
              "<div>\n",
              "<style scoped>\n",
              "    .dataframe tbody tr th:only-of-type {\n",
              "        vertical-align: middle;\n",
              "    }\n",
              "\n",
              "    .dataframe tbody tr th {\n",
              "        vertical-align: top;\n",
              "    }\n",
              "\n",
              "    .dataframe thead th {\n",
              "        text-align: right;\n",
              "    }\n",
              "</style>\n",
              "<table border=\"1\" class=\"dataframe\">\n",
              "  <thead>\n",
              "    <tr style=\"text-align: right;\">\n",
              "      <th></th>\n",
              "      <th>accuracy</th>\n",
              "      <th>precision</th>\n",
              "      <th>recall</th>\n",
              "    </tr>\n",
              "  </thead>\n",
              "  <tbody>\n",
              "    <tr>\n",
              "      <th>0</th>\n",
              "      <td>0.947368</td>\n",
              "      <td>0.945946</td>\n",
              "      <td>0.972222</td>\n",
              "    </tr>\n",
              "    <tr>\n",
              "      <th>1</th>\n",
              "      <td>0.964912</td>\n",
              "      <td>0.972222</td>\n",
              "      <td>0.972222</td>\n",
              "    </tr>\n",
              "    <tr>\n",
              "      <th>2</th>\n",
              "      <td>0.947368</td>\n",
              "      <td>0.971429</td>\n",
              "      <td>0.944444</td>\n",
              "    </tr>\n",
              "    <tr>\n",
              "      <th>3</th>\n",
              "      <td>0.894737</td>\n",
              "      <td>0.894737</td>\n",
              "      <td>0.944444</td>\n",
              "    </tr>\n",
              "    <tr>\n",
              "      <th>4</th>\n",
              "      <td>0.929825</td>\n",
              "      <td>0.900000</td>\n",
              "      <td>1.000000</td>\n",
              "    </tr>\n",
              "    <tr>\n",
              "      <th>5</th>\n",
              "      <td>0.947368</td>\n",
              "      <td>0.923077</td>\n",
              "      <td>1.000000</td>\n",
              "    </tr>\n",
              "    <tr>\n",
              "      <th>6</th>\n",
              "      <td>1.000000</td>\n",
              "      <td>1.000000</td>\n",
              "      <td>1.000000</td>\n",
              "    </tr>\n",
              "    <tr>\n",
              "      <th>7</th>\n",
              "      <td>0.947368</td>\n",
              "      <td>0.945946</td>\n",
              "      <td>0.972222</td>\n",
              "    </tr>\n",
              "    <tr>\n",
              "      <th>8</th>\n",
              "      <td>0.912281</td>\n",
              "      <td>0.878049</td>\n",
              "      <td>1.000000</td>\n",
              "    </tr>\n",
              "    <tr>\n",
              "      <th>9</th>\n",
              "      <td>0.929825</td>\n",
              "      <td>0.900000</td>\n",
              "      <td>1.000000</td>\n",
              "    </tr>\n",
              "  </tbody>\n",
              "</table>\n",
              "</div>"
            ],
            "text/plain": [
              "   accuracy  precision    recall\n",
              "0  0.947368   0.945946  0.972222\n",
              "1  0.964912   0.972222  0.972222\n",
              "2  0.947368   0.971429  0.944444\n",
              "3  0.894737   0.894737  0.944444\n",
              "4  0.929825   0.900000  1.000000\n",
              "5  0.947368   0.923077  1.000000\n",
              "6  1.000000   1.000000  1.000000\n",
              "7  0.947368   0.945946  0.972222\n",
              "8  0.912281   0.878049  1.000000\n",
              "9  0.929825   0.900000  1.000000"
            ]
          },
          "execution_count": 19,
          "metadata": {},
          "output_type": "execute_result"
        }
      ],
      "source": [
        "# Conver scores array to dataframe\n",
        "scores_df = pd.DataFrame(scores)\n",
        "scores_df"
      ]
    },
    {
      "cell_type": "code",
      "execution_count": null,
      "metadata": {
        "colab": {
          "base_uri": "https://localhost:8080/"
        },
        "executionInfo": {
          "elapsed": 319,
          "status": "ok",
          "timestamp": 1631624818825,
          "user": {
            "displayName": "muntadher alkaabi",
            "photoUrl": "https://lh3.googleusercontent.com/a-/AOh14Gj1adaCWpR-cnwQQK4viQZvo0gyRf1A0y9AkvnPMt0=s64",
            "userId": "00221067971932357642"
          },
          "user_tz": -180
        },
        "id": "29NqkTl4s527",
        "outputId": "d5bf37a0-f8bc-4297-c180-9fac8140af6f"
      },
      "outputs": [
        {
          "data": {
            "text/plain": [
              "accuracy     0.942105\n",
              "precision    0.933141\n",
              "recall       0.980556\n",
              "dtype: float64"
            ]
          },
          "execution_count": 20,
          "metadata": {},
          "output_type": "execute_result"
        }
      ],
      "source": [
        "# Calculate the mean of the scores\n",
        "scores_df.mean()"
      ]
    },
    {
      "cell_type": "code",
      "execution_count": null,
      "metadata": {
        "id": "wgvpAk5yau22"
      },
      "outputs": [],
      "source": []
    }
  ],
  "metadata": {
    "anaconda-cloud": {},
    "colab": {
      "name": "Cross_Validation.ipynb",
      "provenance": []
    },
    "kernelspec": {
      "display_name": "Python 3",
      "language": "python",
      "name": "python3"
    },
    "language_info": {
      "codemirror_mode": {
        "name": "ipython",
        "version": 3
      },
      "file_extension": ".py",
      "mimetype": "text/x-python",
      "name": "python",
      "nbconvert_exporter": "python",
      "pygments_lexer": "ipython3",
      "version": "3.7.3"
    },
    "toc": {
      "nav_menu": {},
      "number_sections": true,
      "sideBar": true,
      "skip_h1_title": false,
      "title_cell": "Table of Contents",
      "title_sidebar": "Contents",
      "toc_cell": false,
      "toc_position": {},
      "toc_section_display": true,
      "toc_window_display": false
    }
  },
  "nbformat": 4,
  "nbformat_minor": 0
}