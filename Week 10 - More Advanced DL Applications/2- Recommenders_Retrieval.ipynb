{
  "cells": [
    {
      "attachments": {},
      "cell_type": "markdown",
      "metadata": {
        "id": "kCeYA79m1DEX"
      },
      "source": [
        "# Recommendation Systems\n",
        "<!--<badge>--><a href=\"https://colab.research.google.com/github/mthd98/Machine-Learning-from-Zero-to-Hero-Bootcamp-v1/blob/main/Week 10 - More Advanced DL Applications/2- Recommenders_Retrieval.ipynb\" target=\"_parent\"><img src=\"https://colab.research.google.com/assets/colab-badge.svg\" alt=\"Open In Colab\"/></a><!--</badge>-->\n",
        "\n",
        "\n",
        "\n",
        "\n",
        "\n",
        "Real-world recommender systems are often composed of two stages:\n",
        "\n",
        "1. The retrieval stage is responsible for selecting an initial set of hundreds of candidates from all possible candidates. The main objective of this model is to efficiently weed out all candidates that the user is not interested in. Because the retrieval model may be dealing with millions of candidates, it has to be computationally efficient.\n",
        "2. The ranking stage takes the outputs of the retrieval model and fine-tunes them to select the best possible handful of recommendations. Its task is to narrow down the set of items the user may be interested in to a shortlist of likely candidates.\n",
        "\n",
        "\n",
        "\n",
        "Retrieval models are often composed of two sub-models:\n",
        "\n",
        "1. A query model computing the query representation (normally a fixed-dimensionality embedding vector) using query features.\n",
        "2. A candidate model computing the candidate representation (an equally-sized vector) using the candidate features\n",
        "\n",
        "The outputs of the two models are then multiplied together to give a query-candidate affinity score, with higher scores expressing a better match between the candidate and the query.\n",
        "\n",
        "In this tutorial, we're going to build and train such a two-tower model using the Movielens dataset.\n",
        "\n",
        "We're going to:\n",
        "\n",
        "1. Get our data and split it into a training and test set.\n",
        "2. Implement a retrieval model.\n",
        "3. Fit and evaluate it.\n",
        "\n",
        "\n"
      ]
    },
    {
      "cell_type": "markdown",
      "metadata": {
        "id": "32BaMClyuCWu"
      },
      "source": [
        "# TensorFlow Recommenders\n",
        "\n",
        "{{badge}}\n",
        "\n",
        "TensorFlow Recommenders (TFRS) is a library for building recommender system models.\n",
        "\n",
        "It helps with the full workflow of building a recommender system: data preparation, model formulation, training, evaluation, and deployment.\n",
        "\n",
        "It's built on Keras and aims to have a gentle learning curve while still giving you the flexibility to build complex models.\n",
        "\n",
        "TFRS makes it possible to:\n",
        "* Build and evaluate flexible recommendation retrieval models.\n",
        "* Freely incorporate item, user, and context information into recommendation models.\n",
        "* Train multi-task models that jointly optimize multiple recommendation objectives.\n",
        "* TFRS is open source and available on Github.\n"
      ]
    },
    {
      "cell_type": "code",
      "execution_count": null,
      "metadata": {
        "colab": {
          "base_uri": "https://localhost:8080/"
        },
        "id": "3JgIJR8-jWNm",
        "outputId": "8268055a-3c06-4181-f2e0-c93a1d3be7d7"
      },
      "outputs": [
        {
          "name": "stdout",
          "output_type": "stream",
          "text": [
            "\u001b[K     |\u2588\u2588\u2588\u2588\u2588\u2588\u2588\u2588\u2588\u2588\u2588\u2588\u2588\u2588\u2588\u2588\u2588\u2588\u2588\u2588\u2588\u2588\u2588\u2588\u2588\u2588\u2588\u2588\u2588\u2588\u2588\u2588| 85 kB 2.4 MB/s \n",
            "\u001b[K     |\u2588\u2588\u2588\u2588\u2588\u2588\u2588\u2588\u2588\u2588\u2588\u2588\u2588\u2588\u2588\u2588\u2588\u2588\u2588\u2588\u2588\u2588\u2588\u2588\u2588\u2588\u2588\u2588\u2588\u2588\u2588\u2588| 462 kB 4.8 MB/s \n",
            "\u001b[?25h"
          ]
        }
      ],
      "source": [
        "# install the tensorflow recommender library\n",
        "!pip install -q tensorflow-recommenders"
      ]
    },
    {
      "cell_type": "markdown",
      "metadata": {
        "id": "sawo1x8kQk9b"
      },
      "source": [
        "## Imports\n",
        "\n",
        "\n",
        "Let's first get our imports out of the way."
      ]
    },
    {
      "cell_type": "code",
      "execution_count": 1,
      "metadata": {
        "id": "1wkTQ0LoivEA"
      },
      "outputs": [],
      "source": [
        "import tensorflow as tf\n",
        "import pandas as pd\n",
        "import numpy as np\n",
        "from sklearn import model_selection\n",
        "import tensorflow_recommenders as tfrs"
      ]
    },
    {
      "cell_type": "markdown",
      "metadata": {
        "id": "H7QZ3kkMQo48"
      },
      "source": [
        "## The dataset\n",
        "\n",
        "The Movielens dataset is a classic dataset from the [GroupLens](https://grouplens.org/datasets/movielens/) research group at the University of Minnesota. It contains a set of ratings given to movies by a set of users, and is a workhorse of recommender system research.\n",
        "\n",
        "The data can be treated in two ways:\n",
        "\n",
        "1. It can be interpreted as expressesing which movies the users watched (and rated), and which they did not. This is a form of implicit feedback, where users' watches tell us which things they prefer to see and which they'd rather not see.\n",
        "2. It can also be seen as expressesing how much the users liked the movies they did watch. This is a form of explicit feedback: given that a user watched a movie, we can tell roughly how much they liked by looking at the rating they have given.\n",
        "\n",
        "In this tutorial, we are focusing on a retrieval system: a model that predicts a set of movies from the catalogue that the user is likely to watch. Often, implicit data is more useful here, and so we are going to treat Movielens as an implicit system. This means that every movie a user watched is a positive example, and every movie they have not seen is an implicit negative example."
      ]
    },
    {
      "cell_type": "markdown",
      "metadata": {},
      "source": [
        "## Load the data"
      ]
    },
    {
      "cell_type": "code",
      "execution_count": null,
      "metadata": {
        "id": "RLpKmEvRkfQV"
      },
      "outputs": [],
      "source": [
        "ratings = pd.read_csv(\"/content/100k-ratings.csv\")\n",
        "movies = pd.read_csv(\"/content/100k-movies.csv\")"
      ]
    },
    {
      "cell_type": "markdown",
      "metadata": {},
      "source": [
        "The movies dataset returns a pandas dataframe with the following columns: movie_genre, movie_id, and movie_title."
      ]
    },
    {
      "cell_type": "code",
      "execution_count": null,
      "metadata": {
        "colab": {
          "base_uri": "https://localhost:8080/",
          "height": 423
        },
        "id": "0V0rc65CFARL",
        "outputId": "ace51311-e0fd-46e4-c5a3-f8a57c42be51"
      },
      "outputs": [
        {
          "data": {
            "text/html": [
              "\n",
              "  <div id=\"df-f303f397-84a0-4765-b5b9-da8a1bdcb71b\">\n",
              "    <div class=\"colab-df-container\">\n",
              "      <div>\n",
              "<style scoped>\n",
              "    .dataframe tbody tr th:only-of-type {\n",
              "        vertical-align: middle;\n",
              "    }\n",
              "\n",
              "    .dataframe tbody tr th {\n",
              "        vertical-align: top;\n",
              "    }\n",
              "\n",
              "    .dataframe thead th {\n",
              "        text-align: right;\n",
              "    }\n",
              "</style>\n",
              "<table border=\"1\" class=\"dataframe\">\n",
              "  <thead>\n",
              "    <tr style=\"text-align: right;\">\n",
              "      <th></th>\n",
              "      <th>movie_genres</th>\n",
              "      <th>movie_id</th>\n",
              "      <th>movie_title</th>\n",
              "    </tr>\n",
              "  </thead>\n",
              "  <tbody>\n",
              "    <tr>\n",
              "      <th>0</th>\n",
              "      <td>[4]</td>\n",
              "      <td>b'1681'</td>\n",
              "      <td>b'You So Crazy (1994)'</td>\n",
              "    </tr>\n",
              "    <tr>\n",
              "      <th>1</th>\n",
              "      <td>[4 7]</td>\n",
              "      <td>b'1457'</td>\n",
              "      <td>b'Love Is All There Is (1996)'</td>\n",
              "    </tr>\n",
              "    <tr>\n",
              "      <th>2</th>\n",
              "      <td>[1 3]</td>\n",
              "      <td>b'500'</td>\n",
              "      <td>b'Fly Away Home (1996)'</td>\n",
              "    </tr>\n",
              "    <tr>\n",
              "      <th>3</th>\n",
              "      <td>[0]</td>\n",
              "      <td>b'838'</td>\n",
              "      <td>b'In the Line of Duty 2 (1987)'</td>\n",
              "    </tr>\n",
              "    <tr>\n",
              "      <th>4</th>\n",
              "      <td>[7]</td>\n",
              "      <td>b'1648'</td>\n",
              "      <td>b'Niagara, Niagara (1997)'</td>\n",
              "    </tr>\n",
              "    <tr>\n",
              "      <th>...</th>\n",
              "      <td>...</td>\n",
              "      <td>...</td>\n",
              "      <td>...</td>\n",
              "    </tr>\n",
              "    <tr>\n",
              "      <th>1677</th>\n",
              "      <td>[4]</td>\n",
              "      <td>b'1611'</td>\n",
              "      <td>b'Intimate Relations (1996)'</td>\n",
              "    </tr>\n",
              "    <tr>\n",
              "      <th>1678</th>\n",
              "      <td>[16]</td>\n",
              "      <td>b'1125'</td>\n",
              "      <td>b'Innocents, The (1961)'</td>\n",
              "    </tr>\n",
              "    <tr>\n",
              "      <th>1679</th>\n",
              "      <td>[4]</td>\n",
              "      <td>b'824'</td>\n",
              "      <td>b'Great White Hype, The (1996)'</td>\n",
              "    </tr>\n",
              "    <tr>\n",
              "      <th>1680</th>\n",
              "      <td>[7]</td>\n",
              "      <td>b'1354'</td>\n",
              "      <td>b'Venice/Venice (1992)'</td>\n",
              "    </tr>\n",
              "    <tr>\n",
              "      <th>1681</th>\n",
              "      <td>[18]</td>\n",
              "      <td>b'593'</td>\n",
              "      <td>b'Stalingrad (1993)'</td>\n",
              "    </tr>\n",
              "  </tbody>\n",
              "</table>\n",
              "<p>1682 rows \u00d7 3 columns</p>\n",
              "</div>\n",
              "      <button class=\"colab-df-convert\" onclick=\"convertToInteractive('df-f303f397-84a0-4765-b5b9-da8a1bdcb71b')\"\n",
              "              title=\"Convert this dataframe to an interactive table.\"\n",
              "              style=\"display:none;\">\n",
              "        \n",
              "  <svg xmlns=\"http://www.w3.org/2000/svg\" height=\"24px\"viewBox=\"0 0 24 24\"\n",
              "       width=\"24px\">\n",
              "    <path d=\"M0 0h24v24H0V0z\" fill=\"none\"/>\n",
              "    <path d=\"M18.56 5.44l.94 2.06.94-2.06 2.06-.94-2.06-.94-.94-2.06-.94 2.06-2.06.94zm-11 1L8.5 8.5l.94-2.06 2.06-.94-2.06-.94L8.5 2.5l-.94 2.06-2.06.94zm10 10l.94 2.06.94-2.06 2.06-.94-2.06-.94-.94-2.06-.94 2.06-2.06.94z\"/><path d=\"M17.41 7.96l-1.37-1.37c-.4-.4-.92-.59-1.43-.59-.52 0-1.04.2-1.43.59L10.3 9.45l-7.72 7.72c-.78.78-.78 2.05 0 2.83L4 21.41c.39.39.9.59 1.41.59.51 0 1.02-.2 1.41-.59l7.78-7.78 2.81-2.81c.8-.78.8-2.07 0-2.86zM5.41 20L4 18.59l7.72-7.72 1.47 1.35L5.41 20z\"/>\n",
              "  </svg>\n",
              "      </button>\n",
              "      \n",
              "  <style>\n",
              "    .colab-df-container {\n",
              "      display:flex;\n",
              "      flex-wrap:wrap;\n",
              "      gap: 12px;\n",
              "    }\n",
              "\n",
              "    .colab-df-convert {\n",
              "      background-color: #E8F0FE;\n",
              "      border: none;\n",
              "      border-radius: 50%;\n",
              "      cursor: pointer;\n",
              "      display: none;\n",
              "      fill: #1967D2;\n",
              "      height: 32px;\n",
              "      padding: 0 0 0 0;\n",
              "      width: 32px;\n",
              "    }\n",
              "\n",
              "    .colab-df-convert:hover {\n",
              "      background-color: #E2EBFA;\n",
              "      box-shadow: 0px 1px 2px rgba(60, 64, 67, 0.3), 0px 1px 3px 1px rgba(60, 64, 67, 0.15);\n",
              "      fill: #174EA6;\n",
              "    }\n",
              "\n",
              "    [theme=dark] .colab-df-convert {\n",
              "      background-color: #3B4455;\n",
              "      fill: #D2E3FC;\n",
              "    }\n",
              "\n",
              "    [theme=dark] .colab-df-convert:hover {\n",
              "      background-color: #434B5C;\n",
              "      box-shadow: 0px 1px 3px 1px rgba(0, 0, 0, 0.15);\n",
              "      filter: drop-shadow(0px 1px 2px rgba(0, 0, 0, 0.3));\n",
              "      fill: #FFFFFF;\n",
              "    }\n",
              "  </style>\n",
              "\n",
              "      <script>\n",
              "        const buttonEl =\n",
              "          document.querySelector('#df-f303f397-84a0-4765-b5b9-da8a1bdcb71b button.colab-df-convert');\n",
              "        buttonEl.style.display =\n",
              "          google.colab.kernel.accessAllowed ? 'block' : 'none';\n",
              "\n",
              "        async function convertToInteractive(key) {\n",
              "          const element = document.querySelector('#df-f303f397-84a0-4765-b5b9-da8a1bdcb71b');\n",
              "          const dataTable =\n",
              "            await google.colab.kernel.invokeFunction('convertToInteractive',\n",
              "                                                     [key], {});\n",
              "          if (!dataTable) return;\n",
              "\n",
              "          const docLinkHtml = 'Like what you see? Visit the ' +\n",
              "            '<a target=\"_blank\" href=https://colab.research.google.com/notebooks/data_table.ipynb>data table notebook</a>'\n",
              "            + ' to learn more about interactive tables.';\n",
              "          element.innerHTML = '';\n",
              "          dataTable['output_type'] = 'display_data';\n",
              "          await google.colab.output.renderOutput(dataTable, element);\n",
              "          const docLink = document.createElement('div');\n",
              "          docLink.innerHTML = docLinkHtml;\n",
              "          element.appendChild(docLink);\n",
              "        }\n",
              "      </script>\n",
              "    </div>\n",
              "  </div>\n",
              "  "
            ],
            "text/plain": [
              "     movie_genres movie_id                      movie_title\n",
              "0             [4]  b'1681'           b'You So Crazy (1994)'\n",
              "1           [4 7]  b'1457'   b'Love Is All There Is (1996)'\n",
              "2           [1 3]   b'500'          b'Fly Away Home (1996)'\n",
              "3             [0]   b'838'  b'In the Line of Duty 2 (1987)'\n",
              "4             [7]  b'1648'       b'Niagara, Niagara (1997)'\n",
              "...           ...      ...                              ...\n",
              "1677          [4]  b'1611'     b'Intimate Relations (1996)'\n",
              "1678         [16]  b'1125'         b'Innocents, The (1961)'\n",
              "1679          [4]   b'824'  b'Great White Hype, The (1996)'\n",
              "1680          [7]  b'1354'          b'Venice/Venice (1992)'\n",
              "1681         [18]   b'593'             b'Stalingrad (1993)'\n",
              "\n",
              "[1682 rows x 3 columns]"
            ]
          },
          "execution_count": 11,
          "metadata": {},
          "output_type": "execute_result"
        }
      ],
      "source": [
        "movies"
      ]
    },
    {
      "cell_type": "markdown",
      "metadata": {
        "id": "JRHorm8W1yf3"
      },
      "source": [
        "The ratings dataset returns a DataFrame of movie id, user id, the assigned rating, timestamp, movie information, and user information:"
      ]
    },
    {
      "cell_type": "code",
      "execution_count": null,
      "metadata": {
        "colab": {
          "base_uri": "https://localhost:8080/",
          "height": 818
        },
        "id": "iMhj8OuUkuIr",
        "outputId": "bd5d79cc-3f46-410f-ade7-5d5d93900df7"
      },
      "outputs": [
        {
          "data": {
            "text/html": [
              "\n",
              "  <div id=\"df-0a57fb45-b900-41ce-ab04-b353113fd513\">\n",
              "    <div class=\"colab-df-container\">\n",
              "      <div>\n",
              "<style scoped>\n",
              "    .dataframe tbody tr th:only-of-type {\n",
              "        vertical-align: middle;\n",
              "    }\n",
              "\n",
              "    .dataframe tbody tr th {\n",
              "        vertical-align: top;\n",
              "    }\n",
              "\n",
              "    .dataframe thead th {\n",
              "        text-align: right;\n",
              "    }\n",
              "</style>\n",
              "<table border=\"1\" class=\"dataframe\">\n",
              "  <thead>\n",
              "    <tr style=\"text-align: right;\">\n",
              "      <th></th>\n",
              "      <th>bucketized_user_age</th>\n",
              "      <th>movie_genres</th>\n",
              "      <th>movie_id</th>\n",
              "      <th>movie_title</th>\n",
              "      <th>raw_user_age</th>\n",
              "      <th>timestamp</th>\n",
              "      <th>user_gender</th>\n",
              "      <th>user_id</th>\n",
              "      <th>user_occupation_label</th>\n",
              "      <th>user_occupation_text</th>\n",
              "      <th>user_rating</th>\n",
              "      <th>user_zip_code</th>\n",
              "    </tr>\n",
              "  </thead>\n",
              "  <tbody>\n",
              "    <tr>\n",
              "      <th>0</th>\n",
              "      <td>45.0</td>\n",
              "      <td>[7]</td>\n",
              "      <td>b'357'</td>\n",
              "      <td>b\"One Flew Over the Cuckoo's Nest (1975)\"</td>\n",
              "      <td>46.0</td>\n",
              "      <td>879024327</td>\n",
              "      <td>True</td>\n",
              "      <td>b'138'</td>\n",
              "      <td>4</td>\n",
              "      <td>b'doctor'</td>\n",
              "      <td>4.0</td>\n",
              "      <td>b'53211'</td>\n",
              "    </tr>\n",
              "    <tr>\n",
              "      <th>1</th>\n",
              "      <td>25.0</td>\n",
              "      <td>[ 4 14]</td>\n",
              "      <td>b'709'</td>\n",
              "      <td>b'Strictly Ballroom (1992)'</td>\n",
              "      <td>32.0</td>\n",
              "      <td>875654590</td>\n",
              "      <td>True</td>\n",
              "      <td>b'92'</td>\n",
              "      <td>5</td>\n",
              "      <td>b'entertainment'</td>\n",
              "      <td>2.0</td>\n",
              "      <td>b'80525'</td>\n",
              "    </tr>\n",
              "    <tr>\n",
              "      <th>2</th>\n",
              "      <td>18.0</td>\n",
              "      <td>[4]</td>\n",
              "      <td>b'412'</td>\n",
              "      <td>b'Very Brady Sequel, A (1996)'</td>\n",
              "      <td>24.0</td>\n",
              "      <td>882075110</td>\n",
              "      <td>True</td>\n",
              "      <td>b'301'</td>\n",
              "      <td>17</td>\n",
              "      <td>b'student'</td>\n",
              "      <td>4.0</td>\n",
              "      <td>b'55439'</td>\n",
              "    </tr>\n",
              "    <tr>\n",
              "      <th>3</th>\n",
              "      <td>50.0</td>\n",
              "      <td>[5 7]</td>\n",
              "      <td>b'56'</td>\n",
              "      <td>b'Pulp Fiction (1994)'</td>\n",
              "      <td>50.0</td>\n",
              "      <td>883326919</td>\n",
              "      <td>True</td>\n",
              "      <td>b'60'</td>\n",
              "      <td>4</td>\n",
              "      <td>b'healthcare'</td>\n",
              "      <td>4.0</td>\n",
              "      <td>b'06472'</td>\n",
              "    </tr>\n",
              "    <tr>\n",
              "      <th>4</th>\n",
              "      <td>50.0</td>\n",
              "      <td>[10 16]</td>\n",
              "      <td>b'895'</td>\n",
              "      <td>b'Scream 2 (1997)'</td>\n",
              "      <td>55.0</td>\n",
              "      <td>891409199</td>\n",
              "      <td>True</td>\n",
              "      <td>b'197'</td>\n",
              "      <td>18</td>\n",
              "      <td>b'technician'</td>\n",
              "      <td>3.0</td>\n",
              "      <td>b'75094'</td>\n",
              "    </tr>\n",
              "    <tr>\n",
              "      <th>...</th>\n",
              "      <td>...</td>\n",
              "      <td>...</td>\n",
              "      <td>...</td>\n",
              "      <td>...</td>\n",
              "      <td>...</td>\n",
              "      <td>...</td>\n",
              "      <td>...</td>\n",
              "      <td>...</td>\n",
              "      <td>...</td>\n",
              "      <td>...</td>\n",
              "      <td>...</td>\n",
              "      <td>...</td>\n",
              "    </tr>\n",
              "    <tr>\n",
              "      <th>99995</th>\n",
              "      <td>25.0</td>\n",
              "      <td>[ 0  1 15]</td>\n",
              "      <td>b'228'</td>\n",
              "      <td>b'Star Trek: The Wrath of Khan (1982)'</td>\n",
              "      <td>30.0</td>\n",
              "      <td>888557237</td>\n",
              "      <td>True</td>\n",
              "      <td>b'774'</td>\n",
              "      <td>17</td>\n",
              "      <td>b'student'</td>\n",
              "      <td>4.0</td>\n",
              "      <td>b'80027'</td>\n",
              "    </tr>\n",
              "    <tr>\n",
              "      <th>99996</th>\n",
              "      <td>35.0</td>\n",
              "      <td>[13 16]</td>\n",
              "      <td>b'333'</td>\n",
              "      <td>b'Game, The (1997)'</td>\n",
              "      <td>41.0</td>\n",
              "      <td>891012877</td>\n",
              "      <td>True</td>\n",
              "      <td>b'313'</td>\n",
              "      <td>14</td>\n",
              "      <td>b'marketing'</td>\n",
              "      <td>4.0</td>\n",
              "      <td>b'60035'</td>\n",
              "    </tr>\n",
              "    <tr>\n",
              "      <th>99997</th>\n",
              "      <td>18.0</td>\n",
              "      <td>[10]</td>\n",
              "      <td>b'567'</td>\n",
              "      <td>b\"Wes Craven's New Nightmare (1994)\"</td>\n",
              "      <td>19.0</td>\n",
              "      <td>879795430</td>\n",
              "      <td>False</td>\n",
              "      <td>b'262'</td>\n",
              "      <td>17</td>\n",
              "      <td>b'student'</td>\n",
              "      <td>1.0</td>\n",
              "      <td>b'78264'</td>\n",
              "    </tr>\n",
              "    <tr>\n",
              "      <th>99998</th>\n",
              "      <td>35.0</td>\n",
              "      <td>[ 0 10 15 16]</td>\n",
              "      <td>b'183'</td>\n",
              "      <td>b'Alien (1979)'</td>\n",
              "      <td>37.0</td>\n",
              "      <td>892839492</td>\n",
              "      <td>False</td>\n",
              "      <td>b'911'</td>\n",
              "      <td>21</td>\n",
              "      <td>b'writer'</td>\n",
              "      <td>4.0</td>\n",
              "      <td>b'53210'</td>\n",
              "    </tr>\n",
              "    <tr>\n",
              "      <th>99999</th>\n",
              "      <td>18.0</td>\n",
              "      <td>[4]</td>\n",
              "      <td>b'1140'</td>\n",
              "      <td>b'Road to Wellville, The (1994)'</td>\n",
              "      <td>21.0</td>\n",
              "      <td>874791894</td>\n",
              "      <td>True</td>\n",
              "      <td>b'276'</td>\n",
              "      <td>17</td>\n",
              "      <td>b'student'</td>\n",
              "      <td>2.0</td>\n",
              "      <td>b'95064'</td>\n",
              "    </tr>\n",
              "  </tbody>\n",
              "</table>\n",
              "<p>100000 rows \u00d7 12 columns</p>\n",
              "</div>\n",
              "      <button class=\"colab-df-convert\" onclick=\"convertToInteractive('df-0a57fb45-b900-41ce-ab04-b353113fd513')\"\n",
              "              title=\"Convert this dataframe to an interactive table.\"\n",
              "              style=\"display:none;\">\n",
              "        \n",
              "  <svg xmlns=\"http://www.w3.org/2000/svg\" height=\"24px\"viewBox=\"0 0 24 24\"\n",
              "       width=\"24px\">\n",
              "    <path d=\"M0 0h24v24H0V0z\" fill=\"none\"/>\n",
              "    <path d=\"M18.56 5.44l.94 2.06.94-2.06 2.06-.94-2.06-.94-.94-2.06-.94 2.06-2.06.94zm-11 1L8.5 8.5l.94-2.06 2.06-.94-2.06-.94L8.5 2.5l-.94 2.06-2.06.94zm10 10l.94 2.06.94-2.06 2.06-.94-2.06-.94-.94-2.06-.94 2.06-2.06.94z\"/><path d=\"M17.41 7.96l-1.37-1.37c-.4-.4-.92-.59-1.43-.59-.52 0-1.04.2-1.43.59L10.3 9.45l-7.72 7.72c-.78.78-.78 2.05 0 2.83L4 21.41c.39.39.9.59 1.41.59.51 0 1.02-.2 1.41-.59l7.78-7.78 2.81-2.81c.8-.78.8-2.07 0-2.86zM5.41 20L4 18.59l7.72-7.72 1.47 1.35L5.41 20z\"/>\n",
              "  </svg>\n",
              "      </button>\n",
              "      \n",
              "  <style>\n",
              "    .colab-df-container {\n",
              "      display:flex;\n",
              "      flex-wrap:wrap;\n",
              "      gap: 12px;\n",
              "    }\n",
              "\n",
              "    .colab-df-convert {\n",
              "      background-color: #E8F0FE;\n",
              "      border: none;\n",
              "      border-radius: 50%;\n",
              "      cursor: pointer;\n",
              "      display: none;\n",
              "      fill: #1967D2;\n",
              "      height: 32px;\n",
              "      padding: 0 0 0 0;\n",
              "      width: 32px;\n",
              "    }\n",
              "\n",
              "    .colab-df-convert:hover {\n",
              "      background-color: #E2EBFA;\n",
              "      box-shadow: 0px 1px 2px rgba(60, 64, 67, 0.3), 0px 1px 3px 1px rgba(60, 64, 67, 0.15);\n",
              "      fill: #174EA6;\n",
              "    }\n",
              "\n",
              "    [theme=dark] .colab-df-convert {\n",
              "      background-color: #3B4455;\n",
              "      fill: #D2E3FC;\n",
              "    }\n",
              "\n",
              "    [theme=dark] .colab-df-convert:hover {\n",
              "      background-color: #434B5C;\n",
              "      box-shadow: 0px 1px 3px 1px rgba(0, 0, 0, 0.15);\n",
              "      filter: drop-shadow(0px 1px 2px rgba(0, 0, 0, 0.3));\n",
              "      fill: #FFFFFF;\n",
              "    }\n",
              "  </style>\n",
              "\n",
              "      <script>\n",
              "        const buttonEl =\n",
              "          document.querySelector('#df-0a57fb45-b900-41ce-ab04-b353113fd513 button.colab-df-convert');\n",
              "        buttonEl.style.display =\n",
              "          google.colab.kernel.accessAllowed ? 'block' : 'none';\n",
              "\n",
              "        async function convertToInteractive(key) {\n",
              "          const element = document.querySelector('#df-0a57fb45-b900-41ce-ab04-b353113fd513');\n",
              "          const dataTable =\n",
              "            await google.colab.kernel.invokeFunction('convertToInteractive',\n",
              "                                                     [key], {});\n",
              "          if (!dataTable) return;\n",
              "\n",
              "          const docLinkHtml = 'Like what you see? Visit the ' +\n",
              "            '<a target=\"_blank\" href=https://colab.research.google.com/notebooks/data_table.ipynb>data table notebook</a>'\n",
              "            + ' to learn more about interactive tables.';\n",
              "          element.innerHTML = '';\n",
              "          dataTable['output_type'] = 'display_data';\n",
              "          await google.colab.output.renderOutput(dataTable, element);\n",
              "          const docLink = document.createElement('div');\n",
              "          docLink.innerHTML = docLinkHtml;\n",
              "          element.appendChild(docLink);\n",
              "        }\n",
              "      </script>\n",
              "    </div>\n",
              "  </div>\n",
              "  "
            ],
            "text/plain": [
              "       bucketized_user_age   movie_genres movie_id  \\\n",
              "0                     45.0            [7]   b'357'   \n",
              "1                     25.0        [ 4 14]   b'709'   \n",
              "2                     18.0            [4]   b'412'   \n",
              "3                     50.0          [5 7]    b'56'   \n",
              "4                     50.0        [10 16]   b'895'   \n",
              "...                    ...            ...      ...   \n",
              "99995                 25.0     [ 0  1 15]   b'228'   \n",
              "99996                 35.0        [13 16]   b'333'   \n",
              "99997                 18.0           [10]   b'567'   \n",
              "99998                 35.0  [ 0 10 15 16]   b'183'   \n",
              "99999                 18.0            [4]  b'1140'   \n",
              "\n",
              "                                     movie_title  raw_user_age  timestamp  \\\n",
              "0      b\"One Flew Over the Cuckoo's Nest (1975)\"          46.0  879024327   \n",
              "1                    b'Strictly Ballroom (1992)'          32.0  875654590   \n",
              "2                 b'Very Brady Sequel, A (1996)'          24.0  882075110   \n",
              "3                         b'Pulp Fiction (1994)'          50.0  883326919   \n",
              "4                             b'Scream 2 (1997)'          55.0  891409199   \n",
              "...                                          ...           ...        ...   \n",
              "99995     b'Star Trek: The Wrath of Khan (1982)'          30.0  888557237   \n",
              "99996                        b'Game, The (1997)'          41.0  891012877   \n",
              "99997       b\"Wes Craven's New Nightmare (1994)\"          19.0  879795430   \n",
              "99998                            b'Alien (1979)'          37.0  892839492   \n",
              "99999           b'Road to Wellville, The (1994)'          21.0  874791894   \n",
              "\n",
              "       user_gender user_id  user_occupation_label user_occupation_text  \\\n",
              "0             True  b'138'                      4            b'doctor'   \n",
              "1             True   b'92'                      5     b'entertainment'   \n",
              "2             True  b'301'                     17           b'student'   \n",
              "3             True   b'60'                      4        b'healthcare'   \n",
              "4             True  b'197'                     18        b'technician'   \n",
              "...            ...     ...                    ...                  ...   \n",
              "99995         True  b'774'                     17           b'student'   \n",
              "99996         True  b'313'                     14         b'marketing'   \n",
              "99997        False  b'262'                     17           b'student'   \n",
              "99998        False  b'911'                     21            b'writer'   \n",
              "99999         True  b'276'                     17           b'student'   \n",
              "\n",
              "       user_rating user_zip_code  \n",
              "0              4.0      b'53211'  \n",
              "1              2.0      b'80525'  \n",
              "2              4.0      b'55439'  \n",
              "3              4.0      b'06472'  \n",
              "4              3.0      b'75094'  \n",
              "...            ...           ...  \n",
              "99995          4.0      b'80027'  \n",
              "99996          4.0      b'60035'  \n",
              "99997          1.0      b'78264'  \n",
              "99998          4.0      b'53210'  \n",
              "99999          2.0      b'95064'  \n",
              "\n",
              "[100000 rows x 12 columns]"
            ]
          },
          "execution_count": 12,
          "metadata": {},
          "output_type": "execute_result"
        }
      ],
      "source": [
        "ratings"
      ]
    },
    {
      "cell_type": "markdown",
      "metadata": {
        "id": "x4Y3uxH52KXQ"
      },
      "source": [
        "# Prepare the Dataset"
      ]
    },
    {
      "cell_type": "code",
      "execution_count": null,
      "metadata": {
        "id": "5-rpgjqkkvlv"
      },
      "outputs": [],
      "source": [
        "# create function to get the unique values of a column with there index\n",
        "def create_unique_to_id(data):\n",
        "    unique_id = {}\n",
        "    id_unique = {}\n",
        "    for i, x in enumerate(set(data)):\n",
        "        # make sure to add 1 to the index to avoid 0\n",
        "        unique_id[x] = i + 1\n",
        "        id_unique[i + 1] = x\n",
        "    return unique_id, id_unique"
      ]
    },
    {
      "cell_type": "code",
      "execution_count": null,
      "metadata": {
        "colab": {
          "base_uri": "https://localhost:8080/"
        },
        "id": "Ph5r0bi9sQ97",
        "outputId": "b0bcbadd-e66b-4bb5-b4dc-6ccba531d9b5"
      },
      "outputs": [
        {
          "data": {
            "text/plain": [
              "0        1248\n",
              "1          92\n",
              "2        1442\n",
              "3         702\n",
              "4        1414\n",
              "         ... \n",
              "99995     674\n",
              "99996    1647\n",
              "99997    1517\n",
              "99998     527\n",
              "99999     435\n",
              "Name: movie_title, Length: 100000, dtype: int64"
            ]
          },
          "execution_count": 14,
          "metadata": {},
          "output_type": "execute_result"
        }
      ],
      "source": [
        "# get the movie id and id movie dictionary\n",
        "movie_id, id_movie = create_unique_to_id(ratings.movie_title)\n",
        "# convert the movie title column to numeric values\n",
        "movies_ids = ratings.movie_title.replace(movie_id)\n",
        "movies_ids"
      ]
    },
    {
      "cell_type": "code",
      "execution_count": null,
      "metadata": {
        "colab": {
          "base_uri": "https://localhost:8080/"
        },
        "id": "XYZgSCl_-sTQ",
        "outputId": "dc1ceccb-2b39-4190-bda4-cdb3a975399d"
      },
      "outputs": [
        {
          "data": {
            "text/plain": [
              "0        747\n",
              "1        777\n",
              "2        827\n",
              "3        939\n",
              "4        171\n",
              "        ... \n",
              "99995    812\n",
              "99996    808\n",
              "99997    146\n",
              "99998    577\n",
              "99999    905\n",
              "Name: user_id, Length: 100000, dtype: int64"
            ]
          },
          "execution_count": 15,
          "metadata": {},
          "output_type": "execute_result"
        }
      ],
      "source": [
        "# get the user id and id user dictionary\n",
        "user_id, id_user = create_unique_to_id(ratings.user_id)\n",
        "# convert the user id column to numeric values\n",
        "users_ids = ratings.user_id.replace(user_id)\n",
        "users_ids"
      ]
    },
    {
      "cell_type": "code",
      "execution_count": null,
      "metadata": {
        "colab": {
          "base_uri": "https://localhost:8080/"
        },
        "id": "ouUgObsvF56b",
        "outputId": "613b9fee-e9e0-425f-92e5-2dff750276be"
      },
      "outputs": [
        {
          "data": {
            "text/plain": [
              "0       1409\n",
              "1        103\n",
              "2        499\n",
              "3         59\n",
              "4        906\n",
              "        ... \n",
              "1677    1567\n",
              "1678     571\n",
              "1679    1329\n",
              "1680    1556\n",
              "1681     554\n",
              "Name: movie_title, Length: 1682, dtype: int64"
            ]
          },
          "execution_count": 17,
          "metadata": {},
          "output_type": "execute_result"
        }
      ],
      "source": [
        "# convert the movie title column to numeric values\n",
        "movies_candidates = movies.movie_title.replace(movie_id)\n",
        "movies_candidates"
      ]
    },
    {
      "cell_type": "markdown",
      "metadata": {},
      "source": [
        "# Create the Data Pipeline"
      ]
    },
    {
      "cell_type": "code",
      "execution_count": null,
      "metadata": {
        "id": "sOH4H3-gGJi7"
      },
      "outputs": [],
      "source": [
        "# create the function of data pipeline\n",
        "def create_datapipelline(x1=None, x2=None, batch_size=64):\n",
        "    # if we have two inputs\n",
        "    if type(x2) != type(None):\n",
        "        data = tf.data.Dataset.from_tensor_slices(((x1, x2)))\n",
        "        data = data.shuffle(10000)\n",
        "        data = data.batch(batch_size)\n",
        "    # if we have one input\n",
        "    # note we don't need to shuffle the data for the candidate movies\n",
        "    else:\n",
        "        data = tf.data.Dataset.from_tensor_slices((x1))\n",
        "        data = data.batch(batch_size)\n",
        "\n",
        "    data = data.prefetch(tf.data.AUTOTUNE)\n",
        "    # return the data pipeline\n",
        "    return data\n",
        "\n",
        "\n",
        "# create the data pipeline for the input data with the batch size of 8192\n",
        "inputs_pipeline = create_datapipelline(users_ids, movies_ids, batch_size=8192)\n",
        "# create the data pipeline for the candidate movies with the batch size of 128\n",
        "movies_candidates_pipeline = create_datapipelline(movies_candidates, batch_size=128)"
      ]
    },
    {
      "cell_type": "code",
      "execution_count": null,
      "metadata": {
        "colab": {
          "base_uri": "https://localhost:8080/"
        },
        "id": "60aP7erQIDOR",
        "outputId": "3abb38a3-64f3-45b0-96a3-640774706250"
      },
      "outputs": [
        {
          "name": "stdout",
          "output_type": "stream",
          "text": [
            "(<tf.Tensor: shape=(8192,), dtype=int64, numpy=array([290, 641, 504, ..., 858, 750, 918])>, <tf.Tensor: shape=(8192,), dtype=int64, numpy=array([   7,  227,  563, ..., 1578,  818, 1525])>)\n"
          ]
        }
      ],
      "source": [
        "# read the first batch of data from the inputs data pipeline\n",
        "for x in inputs_pipeline.take(1):\n",
        "    print(x)"
      ]
    },
    {
      "cell_type": "code",
      "execution_count": null,
      "metadata": {
        "colab": {
          "base_uri": "https://localhost:8080/"
        },
        "id": "kSLeEeY7IRSu",
        "outputId": "7889f406-1449-4fe3-c727-98880d32b14c"
      },
      "outputs": [
        {
          "name": "stdout",
          "output_type": "stream",
          "text": [
            "tf.Tensor(\n",
            "[1409  103  499   59  906 1320  167 1391   47 1440 1260 1083  611  923\n",
            "  426  140  396  628  294 1337  897 1087 1045  958  467   15  466 1425\n",
            "   49  676  845 1461 1015  391 1349  448   74  820 1516  415 1277  491\n",
            "  276   45  739  727 1540 1047  603  941  291  916  393  585 1275 1400\n",
            " 1152  194  702 1100  627  881    8  121 1505 1266 1044  758 1271  275\n",
            "  784  507 1127 1106  618 1486  268 1586  369  452  370 1037 1368  764\n",
            "  791  106 1249  875  846  474  264  505 1163  690 1343 1580  213  379\n",
            " 1254  460  580  927 1094  726  684 1528    1 1426  385  425  814  350\n",
            " 1239  513 1503  547  973 1003  476  126 1535  643 1121 1570  318 1022\n",
            " 1394  481], shape=(128,), dtype=int64)\n"
          ]
        }
      ],
      "source": [
        "# read the first batch of data from the candidate movies data pipeline\n",
        "for x in movies_candidates_pipeline.take(1):\n",
        "    print(x)"
      ]
    },
    {
      "cell_type": "markdown",
      "metadata": {},
      "source": [
        "# Create the Model\n",
        "\n",
        "Choosing the architecture of our model is a key part of modelling.\n",
        "\n",
        "Because we are building a two-tower retrieval model, we can build each tower separately and then combine them in the final model."
      ]
    },
    {
      "cell_type": "markdown",
      "metadata": {},
      "source": [
        "## Retrieval Model \n",
        "\n",
        "A simple model like this corresponds exactly to a classic matrix factorization approach. While defining a subclass of tf.keras.Model for this simple model might be overkill, we can easily extend it to an arbitrarily complex model using standard Keras components, as long as we return an embedding_dimension-wide output at the end.\n",
        "\n",
        "Note: higher values of embedding vector will correspond to models that may be more accurate, but will also be slower to fit and more prone to overfitting.\n"
      ]
    },
    {
      "cell_type": "markdown",
      "metadata": {
        "id": "E7UvyVyx2bsT"
      },
      "source": [
        "![image.png](data:image/png;base64,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)"
      ]
    },
    {
      "cell_type": "code",
      "execution_count": null,
      "metadata": {
        "id": "g0RYfL4dDVEd"
      },
      "outputs": [],
      "source": [
        "# get the length of the user ids\n",
        "users_unique_length = len(set(users_ids))\n",
        "# create the user id model\n",
        "# the model will contain one embedding layer with the size of the user id\n",
        "class UserModel(tf.keras.Model):\n",
        "    def __init__(self, users_unique_length, **kargs):\n",
        "        super(UserModel, self).__init__(**kargs)\n",
        "        # user embedding layer\n",
        "        self.embedding = tf.keras.layers.Embedding(\n",
        "            users_unique_length + 1, 64, input_length=1, mask_zero=True\n",
        "        )\n",
        "\n",
        "    def call(self, x):\n",
        "        x = self.embedding(x)\n",
        "        return x\n",
        "\n",
        "\n",
        "# get the length of the movie ids\n",
        "movies_unique_length = len(set(movies_ids))\n",
        "# create the movie id model\n",
        "# the model will contain one embedding layer with the size of the movie id\n",
        "class MovieModel(tf.keras.Model):\n",
        "    def __init__(self, movies_unique_length, **kargs):\n",
        "        super(MovieModel, self).__init__(**kargs)\n",
        "        # movie embedding layer\n",
        "        self.embedding = tf.keras.layers.Embedding(\n",
        "            movies_unique_length + 1, 64, input_length=1, mask_zero=True\n",
        "        )\n",
        "\n",
        "    def call(self, x):\n",
        "        x = self.embedding(x)\n",
        "        return x"
      ]
    },
    {
      "cell_type": "code",
      "execution_count": null,
      "metadata": {
        "id": "CpUhJ8MTEUG7"
      },
      "outputs": [],
      "source": [
        "# create the user model & movie model\n",
        "movie_model = MovieModel(movies_unique_length, name=\"Movies_Model\")\n",
        "\n",
        "user_model = UserModel(users_unique_length, name=\"Users_Model\")"
      ]
    },
    {
      "cell_type": "markdown",
      "metadata": {},
      "source": [
        "## Metrics\n",
        "\n",
        "In our training data we have positive (user, movie) pairs. To figure out how good our model is, we need to compare the affinity score that the model calculates for this pair to the scores of all the other possible candidates: if the score for the positive pair is higher than for all other candidates, our model is highly accurate.\n",
        "\n",
        "To do this, we can use the `tfrs.metrics.FactorizedTopK` metric. The metric has one required argument: the dataset of candidates that are used as implicit negatives for evaluation.\n",
        "\n",
        "In our case, that's the `movies` dataset, converted into embeddings via our movie model:"
      ]
    },
    {
      "cell_type": "code",
      "execution_count": null,
      "metadata": {
        "id": "cGWSlQEbJv3s"
      },
      "outputs": [],
      "source": [
        "metrics = tfrs.metrics.FactorizedTopK(\n",
        "    candidates=movies_candidates_pipeline.map(movie_model)\n",
        ")"
      ]
    },
    {
      "cell_type": "markdown",
      "metadata": {},
      "source": [
        "## Loss\n",
        "\n",
        "The next component is the loss used to train our model. TFRS has several loss layers and tasks to make this easy.\n",
        "\n",
        "In this instance, we'll make use of the `Retrieval` task object: a convenience wrapper that bundles together the loss function and metric computation:"
      ]
    },
    {
      "cell_type": "code",
      "execution_count": null,
      "metadata": {
        "id": "V-CWe62PJxti"
      },
      "outputs": [],
      "source": [
        "task = tfrs.tasks.Retrieval(metrics=metrics)"
      ]
    },
    {
      "cell_type": "markdown",
      "metadata": {},
      "source": [
        "The task itself is a Keras layer that takes the query and candidate embeddings as arguments, and returns the computed loss: we'll use that to implement the model's training loop."
      ]
    },
    {
      "cell_type": "markdown",
      "metadata": {},
      "source": [
        "## The Full Model\n",
        "\n",
        "We can now put it all together into a model. TFRS exposes a base model class (`tfrs.models.Model`) which streamlines building models: all we need to do is to set up the components in the `__init__` method, and implement the `compute_loss` method, taking in the raw features and returning a loss value.\n",
        "\n",
        "The base model will then take care of creating the appropriate training loop to fit our model."
      ]
    },
    {
      "cell_type": "code",
      "execution_count": null,
      "metadata": {
        "id": "ruCmNNh9_DOF"
      },
      "outputs": [],
      "source": [
        "class MovielensModel(tfrs.Model):\n",
        "    def __init__(self, user_model, movie_model, task):\n",
        "        super().__init__()\n",
        "\n",
        "        self.movie_model = movie_model\n",
        "        self.user_model = user_model\n",
        "        self.task = task\n",
        "\n",
        "    def compute_loss(self, features, training=False):\n",
        "        user_ids = features[0]\n",
        "        movie_ids = features[1]\n",
        "        # We pick out the user features and pass them into the user model.\n",
        "        user_embeddings = self.user_model(user_ids)\n",
        "        # And pick out the movie features and pass them into the movie model,\n",
        "        # getting embeddings back.\n",
        "        positive_movie_embeddings = self.movie_model(movie_ids)\n",
        "\n",
        "        # The task computes the loss and the metrics.\n",
        "        return self.task(user_embeddings, positive_movie_embeddings)"
      ]
    },
    {
      "cell_type": "code",
      "execution_count": null,
      "metadata": {
        "id": "8mlv9HYWJ2F7"
      },
      "outputs": [],
      "source": [
        "# create the movielens model\n",
        "model = MovielensModel(user_model, movie_model, task)\n",
        "# compile the model with the adam optimizer with learning rate of 0.1\n",
        "model.compile(optimizer=tf.keras.optimizers.Adam(learning_rate=0.1))"
      ]
    },
    {
      "cell_type": "code",
      "execution_count": null,
      "metadata": {
        "colab": {
          "base_uri": "https://localhost:8080/"
        },
        "id": "T1l63oYLKChc",
        "outputId": "59d94acb-65f2-451d-e9b6-9ae69e141a10"
      },
      "outputs": [
        {
          "name": "stdout",
          "output_type": "stream",
          "text": [
            "Epoch 1/50\n",
            "13/13 [==============================] - 21s 1s/step - factorized_top_k/top_1_categorical_accuracy: 0.0000e+00 - factorized_top_k/top_5_categorical_accuracy: 6.0000e-04 - factorized_top_k/top_10_categorical_accuracy: 0.0023 - factorized_top_k/top_50_categorical_accuracy: 0.0290 - factorized_top_k/top_100_categorical_accuracy: 0.0730 - loss: 64674.2028 - regularization_loss: 0.0000e+00 - total_loss: 64674.2028\n",
            "Epoch 2/50\n",
            "13/13 [==============================] - 12s 924ms/step - factorized_top_k/top_1_categorical_accuracy: 7.7000e-04 - factorized_top_k/top_5_categorical_accuracy: 0.0109 - factorized_top_k/top_10_categorical_accuracy: 0.0251 - factorized_top_k/top_50_categorical_accuracy: 0.1300 - factorized_top_k/top_100_categorical_accuracy: 0.2384 - loss: 61713.6557 - regularization_loss: 0.0000e+00 - total_loss: 61713.6557\n",
            "Epoch 3/50\n",
            "13/13 [==============================] - 12s 893ms/step - factorized_top_k/top_1_categorical_accuracy: 0.0013 - factorized_top_k/top_5_categorical_accuracy: 0.0165 - factorized_top_k/top_10_categorical_accuracy: 0.0381 - factorized_top_k/top_50_categorical_accuracy: 0.2010 - factorized_top_k/top_100_categorical_accuracy: 0.3462 - loss: 59831.0004 - regularization_loss: 0.0000e+00 - total_loss: 59831.0004\n",
            "Epoch 4/50\n",
            "13/13 [==============================] - 12s 909ms/step - factorized_top_k/top_1_categorical_accuracy: 7.8000e-04 - factorized_top_k/top_5_categorical_accuracy: 0.0171 - factorized_top_k/top_10_categorical_accuracy: 0.0428 - factorized_top_k/top_50_categorical_accuracy: 0.2457 - factorized_top_k/top_100_categorical_accuracy: 0.4127 - loss: 59042.8885 - regularization_loss: 0.0000e+00 - total_loss: 59042.8885\n",
            "Epoch 5/50\n",
            "13/13 [==============================] - 12s 899ms/step - factorized_top_k/top_1_categorical_accuracy: 6.3000e-04 - factorized_top_k/top_5_categorical_accuracy: 0.0158 - factorized_top_k/top_10_categorical_accuracy: 0.0425 - factorized_top_k/top_50_categorical_accuracy: 0.2609 - factorized_top_k/top_100_categorical_accuracy: 0.4382 - loss: 58682.6479 - regularization_loss: 0.0000e+00 - total_loss: 58682.6479\n",
            "Epoch 6/50\n",
            "13/13 [==============================] - 12s 902ms/step - factorized_top_k/top_1_categorical_accuracy: 7.3000e-04 - factorized_top_k/top_5_categorical_accuracy: 0.0161 - factorized_top_k/top_10_categorical_accuracy: 0.0417 - factorized_top_k/top_50_categorical_accuracy: 0.2700 - factorized_top_k/top_100_categorical_accuracy: 0.4503 - loss: 58441.6320 - regularization_loss: 0.0000e+00 - total_loss: 58441.6320\n",
            "Epoch 7/50\n",
            "13/13 [==============================] - 12s 934ms/step - factorized_top_k/top_1_categorical_accuracy: 7.4000e-04 - factorized_top_k/top_5_categorical_accuracy: 0.0155 - factorized_top_k/top_10_categorical_accuracy: 0.0414 - factorized_top_k/top_50_categorical_accuracy: 0.2758 - factorized_top_k/top_100_categorical_accuracy: 0.4614 - loss: 58271.3253 - regularization_loss: 0.0000e+00 - total_loss: 58271.3253\n",
            "Epoch 8/50\n",
            "13/13 [==============================] - 12s 910ms/step - factorized_top_k/top_1_categorical_accuracy: 8.1000e-04 - factorized_top_k/top_5_categorical_accuracy: 0.0155 - factorized_top_k/top_10_categorical_accuracy: 0.0411 - factorized_top_k/top_50_categorical_accuracy: 0.2794 - factorized_top_k/top_100_categorical_accuracy: 0.4671 - loss: 58165.3158 - regularization_loss: 0.0000e+00 - total_loss: 58165.3158\n",
            "Epoch 9/50\n",
            "13/13 [==============================] - 12s 946ms/step - factorized_top_k/top_1_categorical_accuracy: 8.4000e-04 - factorized_top_k/top_5_categorical_accuracy: 0.0159 - factorized_top_k/top_10_categorical_accuracy: 0.0414 - factorized_top_k/top_50_categorical_accuracy: 0.2816 - factorized_top_k/top_100_categorical_accuracy: 0.4725 - loss: 58079.8996 - regularization_loss: 0.0000e+00 - total_loss: 58079.8996\n",
            "Epoch 10/50\n",
            "13/13 [==============================] - 12s 901ms/step - factorized_top_k/top_1_categorical_accuracy: 7.8000e-04 - factorized_top_k/top_5_categorical_accuracy: 0.0160 - factorized_top_k/top_10_categorical_accuracy: 0.0409 - factorized_top_k/top_50_categorical_accuracy: 0.2835 - factorized_top_k/top_100_categorical_accuracy: 0.4770 - loss: 58033.3524 - regularization_loss: 0.0000e+00 - total_loss: 58033.3524\n",
            "Epoch 11/50\n",
            "13/13 [==============================] - 12s 908ms/step - factorized_top_k/top_1_categorical_accuracy: 8.7000e-04 - factorized_top_k/top_5_categorical_accuracy: 0.0154 - factorized_top_k/top_10_categorical_accuracy: 0.0411 - factorized_top_k/top_50_categorical_accuracy: 0.2868 - factorized_top_k/top_100_categorical_accuracy: 0.4796 - loss: 57970.7289 - regularization_loss: 0.0000e+00 - total_loss: 57970.7289\n",
            "Epoch 12/50\n",
            "13/13 [==============================] - 12s 904ms/step - factorized_top_k/top_1_categorical_accuracy: 9.7000e-04 - factorized_top_k/top_5_categorical_accuracy: 0.0160 - factorized_top_k/top_10_categorical_accuracy: 0.0408 - factorized_top_k/top_50_categorical_accuracy: 0.2870 - factorized_top_k/top_100_categorical_accuracy: 0.4832 - loss: 57922.0167 - regularization_loss: 0.0000e+00 - total_loss: 57922.0167\n",
            "Epoch 13/50\n",
            "13/13 [==============================] - 12s 909ms/step - factorized_top_k/top_1_categorical_accuracy: 8.7000e-04 - factorized_top_k/top_5_categorical_accuracy: 0.0158 - factorized_top_k/top_10_categorical_accuracy: 0.0414 - factorized_top_k/top_50_categorical_accuracy: 0.2883 - factorized_top_k/top_100_categorical_accuracy: 0.4850 - loss: 57893.8884 - regularization_loss: 0.0000e+00 - total_loss: 57893.8884\n",
            "Epoch 14/50\n",
            "13/13 [==============================] - 12s 910ms/step - factorized_top_k/top_1_categorical_accuracy: 8.2000e-04 - factorized_top_k/top_5_categorical_accuracy: 0.0155 - factorized_top_k/top_10_categorical_accuracy: 0.0411 - factorized_top_k/top_50_categorical_accuracy: 0.2891 - factorized_top_k/top_100_categorical_accuracy: 0.4873 - loss: 57853.3996 - regularization_loss: 0.0000e+00 - total_loss: 57853.3996\n",
            "Epoch 15/50\n",
            "13/13 [==============================] - 12s 912ms/step - factorized_top_k/top_1_categorical_accuracy: 9.0000e-04 - factorized_top_k/top_5_categorical_accuracy: 0.0165 - factorized_top_k/top_10_categorical_accuracy: 0.0417 - factorized_top_k/top_50_categorical_accuracy: 0.2904 - factorized_top_k/top_100_categorical_accuracy: 0.4886 - loss: 57815.5197 - regularization_loss: 0.0000e+00 - total_loss: 57815.5197\n",
            "Epoch 16/50\n",
            "13/13 [==============================] - 12s 918ms/step - factorized_top_k/top_1_categorical_accuracy: 8.1000e-04 - factorized_top_k/top_5_categorical_accuracy: 0.0152 - factorized_top_k/top_10_categorical_accuracy: 0.0405 - factorized_top_k/top_50_categorical_accuracy: 0.2911 - factorized_top_k/top_100_categorical_accuracy: 0.4893 - loss: 57795.6074 - regularization_loss: 0.0000e+00 - total_loss: 57795.6074\n",
            "Epoch 17/50\n",
            "13/13 [==============================] - 12s 925ms/step - factorized_top_k/top_1_categorical_accuracy: 9.7000e-04 - factorized_top_k/top_5_categorical_accuracy: 0.0160 - factorized_top_k/top_10_categorical_accuracy: 0.0420 - factorized_top_k/top_50_categorical_accuracy: 0.2917 - factorized_top_k/top_100_categorical_accuracy: 0.4922 - loss: 57757.7176 - regularization_loss: 0.0000e+00 - total_loss: 57757.7176\n",
            "Epoch 18/50\n",
            "13/13 [==============================] - 12s 917ms/step - factorized_top_k/top_1_categorical_accuracy: 9.8000e-04 - factorized_top_k/top_5_categorical_accuracy: 0.0156 - factorized_top_k/top_10_categorical_accuracy: 0.0415 - factorized_top_k/top_50_categorical_accuracy: 0.2936 - factorized_top_k/top_100_categorical_accuracy: 0.4927 - loss: 57735.3820 - regularization_loss: 0.0000e+00 - total_loss: 57735.3820\n",
            "Epoch 19/50\n",
            "13/13 [==============================] - 12s 920ms/step - factorized_top_k/top_1_categorical_accuracy: 8.4000e-04 - factorized_top_k/top_5_categorical_accuracy: 0.0161 - factorized_top_k/top_10_categorical_accuracy: 0.0426 - factorized_top_k/top_50_categorical_accuracy: 0.2948 - factorized_top_k/top_100_categorical_accuracy: 0.4939 - loss: 57717.3577 - regularization_loss: 0.0000e+00 - total_loss: 57717.3577\n",
            "Epoch 20/50\n",
            "13/13 [==============================] - 12s 909ms/step - factorized_top_k/top_1_categorical_accuracy: 8.4000e-04 - factorized_top_k/top_5_categorical_accuracy: 0.0156 - factorized_top_k/top_10_categorical_accuracy: 0.0415 - factorized_top_k/top_50_categorical_accuracy: 0.2957 - factorized_top_k/top_100_categorical_accuracy: 0.4961 - loss: 57694.6503 - regularization_loss: 0.0000e+00 - total_loss: 57694.6503\n",
            "Epoch 21/50\n",
            "13/13 [==============================] - 12s 906ms/step - factorized_top_k/top_1_categorical_accuracy: 7.2000e-04 - factorized_top_k/top_5_categorical_accuracy: 0.0157 - factorized_top_k/top_10_categorical_accuracy: 0.0416 - factorized_top_k/top_50_categorical_accuracy: 0.2946 - factorized_top_k/top_100_categorical_accuracy: 0.4977 - loss: 57680.9862 - regularization_loss: 0.0000e+00 - total_loss: 57680.9862\n",
            "Epoch 22/50\n",
            "13/13 [==============================] - 12s 930ms/step - factorized_top_k/top_1_categorical_accuracy: 8.7000e-04 - factorized_top_k/top_5_categorical_accuracy: 0.0160 - factorized_top_k/top_10_categorical_accuracy: 0.0409 - factorized_top_k/top_50_categorical_accuracy: 0.2952 - factorized_top_k/top_100_categorical_accuracy: 0.4981 - loss: 57657.9272 - regularization_loss: 0.0000e+00 - total_loss: 57657.9272\n",
            "Epoch 23/50\n",
            "13/13 [==============================] - 12s 926ms/step - factorized_top_k/top_1_categorical_accuracy: 8.4000e-04 - factorized_top_k/top_5_categorical_accuracy: 0.0159 - factorized_top_k/top_10_categorical_accuracy: 0.0421 - factorized_top_k/top_50_categorical_accuracy: 0.2956 - factorized_top_k/top_100_categorical_accuracy: 0.4987 - loss: 57658.2623 - regularization_loss: 0.0000e+00 - total_loss: 57658.2623\n",
            "Epoch 24/50\n",
            "13/13 [==============================] - 12s 926ms/step - factorized_top_k/top_1_categorical_accuracy: 8.4000e-04 - factorized_top_k/top_5_categorical_accuracy: 0.0158 - factorized_top_k/top_10_categorical_accuracy: 0.0418 - factorized_top_k/top_50_categorical_accuracy: 0.2959 - factorized_top_k/top_100_categorical_accuracy: 0.4994 - loss: 57645.4114 - regularization_loss: 0.0000e+00 - total_loss: 57645.4114\n",
            "Epoch 25/50\n",
            "13/13 [==============================] - 12s 916ms/step - factorized_top_k/top_1_categorical_accuracy: 9.2000e-04 - factorized_top_k/top_5_categorical_accuracy: 0.0159 - factorized_top_k/top_10_categorical_accuracy: 0.0420 - factorized_top_k/top_50_categorical_accuracy: 0.2961 - factorized_top_k/top_100_categorical_accuracy: 0.4997 - loss: 57632.4841 - regularization_loss: 0.0000e+00 - total_loss: 57632.4841\n",
            "Epoch 26/50\n",
            "13/13 [==============================] - 12s 911ms/step - factorized_top_k/top_1_categorical_accuracy: 9.6000e-04 - factorized_top_k/top_5_categorical_accuracy: 0.0160 - factorized_top_k/top_10_categorical_accuracy: 0.0418 - factorized_top_k/top_50_categorical_accuracy: 0.2959 - factorized_top_k/top_100_categorical_accuracy: 0.5008 - loss: 57619.7354 - regularization_loss: 0.0000e+00 - total_loss: 57619.7354\n",
            "Epoch 27/50\n",
            "13/13 [==============================] - 12s 905ms/step - factorized_top_k/top_1_categorical_accuracy: 7.8000e-04 - factorized_top_k/top_5_categorical_accuracy: 0.0157 - factorized_top_k/top_10_categorical_accuracy: 0.0414 - factorized_top_k/top_50_categorical_accuracy: 0.2974 - factorized_top_k/top_100_categorical_accuracy: 0.5012 - loss: 57627.6123 - regularization_loss: 0.0000e+00 - total_loss: 57627.6123\n",
            "Epoch 28/50\n",
            "13/13 [==============================] - 12s 905ms/step - factorized_top_k/top_1_categorical_accuracy: 7.9000e-04 - factorized_top_k/top_5_categorical_accuracy: 0.0158 - factorized_top_k/top_10_categorical_accuracy: 0.0413 - factorized_top_k/top_50_categorical_accuracy: 0.2972 - factorized_top_k/top_100_categorical_accuracy: 0.4998 - loss: 57590.4583 - regularization_loss: 0.0000e+00 - total_loss: 57590.4583\n",
            "Epoch 29/50\n",
            "13/13 [==============================] - 12s 899ms/step - factorized_top_k/top_1_categorical_accuracy: 0.0010 - factorized_top_k/top_5_categorical_accuracy: 0.0156 - factorized_top_k/top_10_categorical_accuracy: 0.0420 - factorized_top_k/top_50_categorical_accuracy: 0.2976 - factorized_top_k/top_100_categorical_accuracy: 0.5026 - loss: 57578.5792 - regularization_loss: 0.0000e+00 - total_loss: 57578.5792\n",
            "Epoch 30/50\n",
            "13/13 [==============================] - 12s 903ms/step - factorized_top_k/top_1_categorical_accuracy: 7.9000e-04 - factorized_top_k/top_5_categorical_accuracy: 0.0159 - factorized_top_k/top_10_categorical_accuracy: 0.0416 - factorized_top_k/top_50_categorical_accuracy: 0.2979 - factorized_top_k/top_100_categorical_accuracy: 0.5036 - loss: 57559.6776 - regularization_loss: 0.0000e+00 - total_loss: 57559.6776\n",
            "Epoch 31/50\n",
            "13/13 [==============================] - 12s 894ms/step - factorized_top_k/top_1_categorical_accuracy: 8.0000e-04 - factorized_top_k/top_5_categorical_accuracy: 0.0160 - factorized_top_k/top_10_categorical_accuracy: 0.0415 - factorized_top_k/top_50_categorical_accuracy: 0.2979 - factorized_top_k/top_100_categorical_accuracy: 0.5039 - loss: 57565.7765 - regularization_loss: 0.0000e+00 - total_loss: 57565.7765\n",
            "Epoch 32/50\n",
            "13/13 [==============================] - 12s 918ms/step - factorized_top_k/top_1_categorical_accuracy: 9.9000e-04 - factorized_top_k/top_5_categorical_accuracy: 0.0159 - factorized_top_k/top_10_categorical_accuracy: 0.0414 - factorized_top_k/top_50_categorical_accuracy: 0.2978 - factorized_top_k/top_100_categorical_accuracy: 0.5024 - loss: 57555.6166 - regularization_loss: 0.0000e+00 - total_loss: 57555.6166\n",
            "Epoch 33/50\n",
            "13/13 [==============================] - 12s 955ms/step - factorized_top_k/top_1_categorical_accuracy: 9.8000e-04 - factorized_top_k/top_5_categorical_accuracy: 0.0159 - factorized_top_k/top_10_categorical_accuracy: 0.0413 - factorized_top_k/top_50_categorical_accuracy: 0.2981 - factorized_top_k/top_100_categorical_accuracy: 0.5047 - loss: 57539.2521 - regularization_loss: 0.0000e+00 - total_loss: 57539.2521\n",
            "Epoch 34/50\n",
            "13/13 [==============================] - 12s 925ms/step - factorized_top_k/top_1_categorical_accuracy: 9.3000e-04 - factorized_top_k/top_5_categorical_accuracy: 0.0162 - factorized_top_k/top_10_categorical_accuracy: 0.0414 - factorized_top_k/top_50_categorical_accuracy: 0.2995 - factorized_top_k/top_100_categorical_accuracy: 0.5057 - loss: 57521.3350 - regularization_loss: 0.0000e+00 - total_loss: 57521.3350\n",
            "Epoch 35/50\n",
            "13/13 [==============================] - 12s 902ms/step - factorized_top_k/top_1_categorical_accuracy: 8.8000e-04 - factorized_top_k/top_5_categorical_accuracy: 0.0161 - factorized_top_k/top_10_categorical_accuracy: 0.0422 - factorized_top_k/top_50_categorical_accuracy: 0.2993 - factorized_top_k/top_100_categorical_accuracy: 0.5050 - loss: 57520.4210 - regularization_loss: 0.0000e+00 - total_loss: 57520.4210\n",
            "Epoch 36/50\n",
            "13/13 [==============================] - 12s 909ms/step - factorized_top_k/top_1_categorical_accuracy: 8.9000e-04 - factorized_top_k/top_5_categorical_accuracy: 0.0154 - factorized_top_k/top_10_categorical_accuracy: 0.0418 - factorized_top_k/top_50_categorical_accuracy: 0.2999 - factorized_top_k/top_100_categorical_accuracy: 0.5065 - loss: 57512.3117 - regularization_loss: 0.0000e+00 - total_loss: 57512.3117\n",
            "Epoch 37/50\n",
            "13/13 [==============================] - 12s 915ms/step - factorized_top_k/top_1_categorical_accuracy: 8.8000e-04 - factorized_top_k/top_5_categorical_accuracy: 0.0159 - factorized_top_k/top_10_categorical_accuracy: 0.0414 - factorized_top_k/top_50_categorical_accuracy: 0.2985 - factorized_top_k/top_100_categorical_accuracy: 0.5071 - loss: 57510.1038 - regularization_loss: 0.0000e+00 - total_loss: 57510.1038\n",
            "Epoch 38/50\n",
            "13/13 [==============================] - 12s 911ms/step - factorized_top_k/top_1_categorical_accuracy: 8.7000e-04 - factorized_top_k/top_5_categorical_accuracy: 0.0160 - factorized_top_k/top_10_categorical_accuracy: 0.0420 - factorized_top_k/top_50_categorical_accuracy: 0.3007 - factorized_top_k/top_100_categorical_accuracy: 0.5054 - loss: 57503.0360 - regularization_loss: 0.0000e+00 - total_loss: 57503.0360\n",
            "Epoch 39/50\n",
            "13/13 [==============================] - 12s 914ms/step - factorized_top_k/top_1_categorical_accuracy: 9.3000e-04 - factorized_top_k/top_5_categorical_accuracy: 0.0165 - factorized_top_k/top_10_categorical_accuracy: 0.0415 - factorized_top_k/top_50_categorical_accuracy: 0.2997 - factorized_top_k/top_100_categorical_accuracy: 0.5067 - loss: 57510.2454 - regularization_loss: 0.0000e+00 - total_loss: 57510.2454\n",
            "Epoch 40/50\n",
            "13/13 [==============================] - 12s 910ms/step - factorized_top_k/top_1_categorical_accuracy: 9.0000e-04 - factorized_top_k/top_5_categorical_accuracy: 0.0164 - factorized_top_k/top_10_categorical_accuracy: 0.0420 - factorized_top_k/top_50_categorical_accuracy: 0.3009 - factorized_top_k/top_100_categorical_accuracy: 0.5075 - loss: 57497.8862 - regularization_loss: 0.0000e+00 - total_loss: 57497.8862\n",
            "Epoch 41/50\n",
            "13/13 [==============================] - 12s 914ms/step - factorized_top_k/top_1_categorical_accuracy: 8.4000e-04 - factorized_top_k/top_5_categorical_accuracy: 0.0155 - factorized_top_k/top_10_categorical_accuracy: 0.0410 - factorized_top_k/top_50_categorical_accuracy: 0.3006 - factorized_top_k/top_100_categorical_accuracy: 0.5078 - loss: 57500.6717 - regularization_loss: 0.0000e+00 - total_loss: 57500.6717\n",
            "Epoch 42/50\n",
            "13/13 [==============================] - 12s 931ms/step - factorized_top_k/top_1_categorical_accuracy: 8.6000e-04 - factorized_top_k/top_5_categorical_accuracy: 0.0161 - factorized_top_k/top_10_categorical_accuracy: 0.0416 - factorized_top_k/top_50_categorical_accuracy: 0.3005 - factorized_top_k/top_100_categorical_accuracy: 0.5075 - loss: 57506.7811 - regularization_loss: 0.0000e+00 - total_loss: 57506.7811\n",
            "Epoch 43/50\n",
            "13/13 [==============================] - 12s 906ms/step - factorized_top_k/top_1_categorical_accuracy: 8.3000e-04 - factorized_top_k/top_5_categorical_accuracy: 0.0159 - factorized_top_k/top_10_categorical_accuracy: 0.0409 - factorized_top_k/top_50_categorical_accuracy: 0.3006 - factorized_top_k/top_100_categorical_accuracy: 0.5082 - loss: 57478.1853 - regularization_loss: 0.0000e+00 - total_loss: 57478.1853\n",
            "Epoch 44/50\n",
            "13/13 [==============================] - 12s 915ms/step - factorized_top_k/top_1_categorical_accuracy: 9.0000e-04 - factorized_top_k/top_5_categorical_accuracy: 0.0164 - factorized_top_k/top_10_categorical_accuracy: 0.0419 - factorized_top_k/top_50_categorical_accuracy: 0.3002 - factorized_top_k/top_100_categorical_accuracy: 0.5074 - loss: 57469.0052 - regularization_loss: 0.0000e+00 - total_loss: 57469.0052\n",
            "Epoch 45/50\n",
            "13/13 [==============================] - 12s 913ms/step - factorized_top_k/top_1_categorical_accuracy: 7.2000e-04 - factorized_top_k/top_5_categorical_accuracy: 0.0158 - factorized_top_k/top_10_categorical_accuracy: 0.0413 - factorized_top_k/top_50_categorical_accuracy: 0.3009 - factorized_top_k/top_100_categorical_accuracy: 0.5078 - loss: 57481.8092 - regularization_loss: 0.0000e+00 - total_loss: 57481.8092\n",
            "Epoch 46/50\n",
            "13/13 [==============================] - 12s 913ms/step - factorized_top_k/top_1_categorical_accuracy: 8.2000e-04 - factorized_top_k/top_5_categorical_accuracy: 0.0161 - factorized_top_k/top_10_categorical_accuracy: 0.0415 - factorized_top_k/top_50_categorical_accuracy: 0.3019 - factorized_top_k/top_100_categorical_accuracy: 0.5096 - loss: 57461.2256 - regularization_loss: 0.0000e+00 - total_loss: 57461.2256\n",
            "Epoch 47/50\n",
            "13/13 [==============================] - 12s 909ms/step - factorized_top_k/top_1_categorical_accuracy: 0.0011 - factorized_top_k/top_5_categorical_accuracy: 0.0158 - factorized_top_k/top_10_categorical_accuracy: 0.0413 - factorized_top_k/top_50_categorical_accuracy: 0.3006 - factorized_top_k/top_100_categorical_accuracy: 0.5079 - loss: 57467.4568 - regularization_loss: 0.0000e+00 - total_loss: 57467.4568\n",
            "Epoch 48/50\n",
            "13/13 [==============================] - 12s 906ms/step - factorized_top_k/top_1_categorical_accuracy: 7.8000e-04 - factorized_top_k/top_5_categorical_accuracy: 0.0159 - factorized_top_k/top_10_categorical_accuracy: 0.0420 - factorized_top_k/top_50_categorical_accuracy: 0.3008 - factorized_top_k/top_100_categorical_accuracy: 0.5096 - loss: 57464.6791 - regularization_loss: 0.0000e+00 - total_loss: 57464.6791\n",
            "Epoch 49/50\n",
            "13/13 [==============================] - 12s 917ms/step - factorized_top_k/top_1_categorical_accuracy: 9.3000e-04 - factorized_top_k/top_5_categorical_accuracy: 0.0161 - factorized_top_k/top_10_categorical_accuracy: 0.0419 - factorized_top_k/top_50_categorical_accuracy: 0.3000 - factorized_top_k/top_100_categorical_accuracy: 0.5103 - loss: 57442.1055 - regularization_loss: 0.0000e+00 - total_loss: 57442.1055\n",
            "Epoch 50/50\n",
            "13/13 [==============================] - 12s 910ms/step - factorized_top_k/top_1_categorical_accuracy: 8.2000e-04 - factorized_top_k/top_5_categorical_accuracy: 0.0157 - factorized_top_k/top_10_categorical_accuracy: 0.0414 - factorized_top_k/top_50_categorical_accuracy: 0.3007 - factorized_top_k/top_100_categorical_accuracy: 0.5094 - loss: 57456.5502 - regularization_loss: 0.0000e+00 - total_loss: 57456.5502\n"
          ]
        },
        {
          "data": {
            "text/plain": [
              "<keras.callbacks.History at 0x7f958c115110>"
            ]
          },
          "execution_count": 27,
          "metadata": {},
          "output_type": "execute_result"
        }
      ],
      "source": [
        "# train the model with 50 epochs\n",
        "model.fit(inputs_pipeline, epochs=50)"
      ]
    },
    {
      "cell_type": "markdown",
      "metadata": {},
      "source": [
        "# Making predictions\n",
        "\n",
        "Now that we have a model, we would like to be able to make predictions. We can use the `tfrs.layers.factorized_top_k.BruteForce` layer to do this."
      ]
    },
    {
      "cell_type": "markdown",
      "metadata": {},
      "source": [
        "![image.png](data:image/png;base64,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)"
      ]
    },
    {
      "cell_type": "code",
      "execution_count": null,
      "metadata": {
        "colab": {
          "base_uri": "https://localhost:8080/"
        },
        "id": "xDTNQdPkKLDB",
        "outputId": "b3bcf6de-24ff-4c93-bc52-0cf10e3396fd"
      },
      "outputs": [
        {
          "name": "stdout",
          "output_type": "stream",
          "text": [
            "Recommendations:\n",
            "b'Time to Kill, A (1996)'\n",
            "b'Daylight (1996)'\n",
            "b'Michael Collins (1996)'\n",
            "b'Phenomenon (1996)'\n",
            "b'Boot, Das (1981)'\n",
            "b'Twister (1996)'\n",
            "b'Jerry Maguire (1996)'\n",
            "b'Ghost and the Darkness, The (1996)'\n",
            "b'White Squall (1996)'\n",
            "b'Dead Man Walking (1995)'\n"
          ]
        }
      ],
      "source": [
        "# Create a model that takes in raw query features, and\n",
        "index = tfrs.layers.factorized_top_k.BruteForce(model.user_model)\n",
        "# recommends movies out of the entire movies dataset.\n",
        "index.index_from_dataset(\n",
        "    tf.data.Dataset.zip(\n",
        "        (movies_candidates_pipeline, movies_candidates_pipeline.map(model.movie_model))\n",
        "    )\n",
        ")\n",
        "\n",
        "# Get recommendations.\n",
        "_, titles = index(tf.constant([42]))\n",
        "print(\"Recommendations:\")\n",
        "for id in titles.numpy()[0]:\n",
        "\n",
        "    print(id_movie[id])"
      ]
    },
    {
      "cell_type": "code",
      "execution_count": null,
      "metadata": {
        "id": "26HKNtqVO8j4"
      },
      "outputs": [],
      "source": []
    },
    {
      "cell_type": "code",
      "execution_count": null,
      "metadata": {
        "id": "w6nWRD1JPAcy"
      },
      "outputs": [],
      "source": []
    }
  ],
  "metadata": {
    "accelerator": "GPU",
    "colab": {
      "collapsed_sections": [],
      "name": "Recommenders_retrieval.ipynb",
      "provenance": []
    },
    "kernelspec": {
      "display_name": "Python 3.9.13 64-bit",
      "language": "python",
      "name": "python3"
    },
    "language_info": {
      "codemirror_mode": {
        "name": "ipython",
        "version": 3
      },
      "file_extension": ".py",
      "mimetype": "text/x-python",
      "name": "python",
      "nbconvert_exporter": "python",
      "pygments_lexer": "ipython3",
      "version": "3.9.13"
    },
    "vscode": {
      "interpreter": {
        "hash": "b667cebad148e7b094a58ee81f940c685de1dd70a003a9ccdca4a5792431bee5"
      }
    }
  },
  "nbformat": 4,
  "nbformat_minor": 0
}